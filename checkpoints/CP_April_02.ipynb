{
 "cells": [
  {
   "cell_type": "markdown",
   "metadata": {},
   "source": [
    "<table align=\"left\" style=\"border-style: hidden\" class=\"table\"> <tr><td class=\"col-md-2\"><img style=\"float\" src=\"http://prob140.org/assets/icon256.png\" alt=\"Prob140 Logo\" style=\"width: 120px;\"/></td><td><div align=\"left\"><h3 style=\"margin-top: 0;\">Probability for Data Science</h3><h4 style=\"margin-top: 20px;\">UC Berkeley, Spring 2020</h4><p>Ani Adhikari and Jim Pitman</p>CC BY-NC 4.0</div></td></tr></table><!-- not in pdf -->"
   ]
  },
  {
   "cell_type": "markdown",
   "metadata": {
    "#solution": false,
    "#staff": false,
    "#student": false
   },
   "source": [
    "# Checkpoint Thursday April 2 #"
   ]
  },
  {
   "cell_type": "markdown",
   "metadata": {
    "#solution": false,
    "#staff": false,
    "#student": false
   },
   "source": [
    "**1.** For a constant $c$, the random variables $X$ and $Y$ have joint density given by\n",
    "\n",
    "$$\n",
    "f(x, y) ~ = ~ \n",
    "\\begin{cases}\n",
    "cx(1-xy), ~~~ 0 < x < y < 1 \\\\\n",
    "0 ~~~~~~~~~~~~~~ \\text{ otherwise }\n",
    "\\end{cases}\n",
    "$$\n",
    "\n",
    "In all parts except Part **c**, please do the calculus or algebra and show your work. No `SymPy`.\n",
    "\n",
    "**a)** Find $c$.\n",
    "\n",
    "**b)** True or false (explain without calculation): $X$ and $Y$ are independent.\n",
    "\n",
    "**c)** Fill in the blanks: \n",
    "\n",
    "$$\n",
    "P(X+Y < 0.6) ~ = ~ \\int_{\\underline{~~~}}^{\\underline{~~~}} \\int_{\\underline{~~~}}^{\\underline{~~~}} f(x, y)dydx\n",
    "$$ \n",
    "\n",
    "You don't have to work out the integral, but please make sure that the region of integration doesn't include any point $(x, y)$ for which $f(x, y) = 0$. \n",
    "\n",
    "**d)** Find $E\\big{(}\\frac{Y}{X})$. \n",
    "\n",
    "**e)** Find the density of $Y$. Remember to specify the possible values.\n",
    "\n",
    "**f)** Fix $y$ in the interval $(0, 1)$. Find the conditional density of $X$ given $Y = y$, and remember to specify the possible values."
   ]
  },
  {
   "cell_type": "markdown",
   "metadata": {
    "#solution": false,
    "#staff": false,
    "#student": false
   },
   "source": [
    "**2.** Let $X$ and $Y$ be independent random variables. As in [Section 17.2](http://prob140.org/textbook/Chapter_17/02_Independence.html#The-Larger-of-Two-Independent-Exponential-Random-Variables), suppose $X$ has the exponential $(\\lambda)$ distribution and $Y$ has the exponential $(\\mu)$ distribution.\n",
    "\n",
    "**a)** What is the distribution of $X/10$? Week 9 Part 5 Reading 4 and Vitamins will be helpful.\n",
    "\n",
    "**b)** Apply the relevant result of [Section 17.2](http://prob140.org/textbook/Chapter_17/02_Independence.html#The-Larger-of-Two-Independent-Exponential-Random-Variables) to find $P(10Y > X)$. No calculus is needed."
   ]
  }
 ],
 "metadata": {
  "checksums": [
   "aa2e7c3af3f1e128978a7970cb014c83",
   "33c483e7dac1aa984245f90256633442",
   "5d720fe9f4917a3888b0bbdeaecbaab7",
   "8c7d00b171e37e1e1c6ec6ccfe0d71df"
  ],
  "kernelspec": {
   "display_name": "Python 3",
   "language": "python",
   "name": "python3"
  },
  "language_info": {
   "codemirror_mode": {
    "name": "ipython",
    "version": 3
   },
   "file_extension": ".py",
   "mimetype": "text/x-python",
   "name": "python",
   "nbconvert_exporter": "python",
   "pygments_lexer": "ipython3",
   "version": "3.6.9"
  },
  "number_of_pagebreaks": 0
 },
 "nbformat": 4,
 "nbformat_minor": 2
}
