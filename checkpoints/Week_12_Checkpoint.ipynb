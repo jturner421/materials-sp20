{
 "cells": [
  {
   "cell_type": "markdown",
   "metadata": {},
   "source": [
    "<table align=\"left\" style=\"border-style: hidden\" class=\"table\"> <tr><td class=\"col-md-2\"><img style=\"float\" src=\"http://prob140.org/assets/icon256.png\" alt=\"Prob140 Logo\" style=\"width: 120px;\"/></td><td><div align=\"left\"><h3 style=\"margin-top: 0;\">Probability for Data Science</h3><h4 style=\"margin-top: 20px;\">UC Berkeley, Spring 2020</h4><p>Ani Adhikari and Jim Pitman</p>CC BY-NC 4.0</div></td></tr></table><!-- not in pdf -->"
   ]
  },
  {
   "cell_type": "markdown",
   "metadata": {
    "#solution": false,
    "#staff": false,
    "#student": false
   },
   "source": [
    "# Week 12 Checkpoint #\n",
    "\n",
    "## <font color=\"red\"> Please submit handwritten work for this assignment. We will not grade your submission if it is typed up in Latex.</font>"
   ]
  },
  {
   "cell_type": "markdown",
   "metadata": {
    "#solution": false,
    "#staff": false,
    "#student": false
   },
   "source": [
    "**1.** The chance of heads of a random coin is picked according to the beta (1,1) distribution. For each part, you must show work or reference a relevant section of the textbook. \n",
    "\n",
    "**a)** Find P(first toss is heads).\n",
    "\n",
    "**b)** Find P(first toss is heads, second toss is tails). \n",
    "\n",
    "**c)** Compare your answer in part b to the chance of $\\{\\text{first toss is heads, second toss is tails}\\}$ given that you are tossing a fair coin twice. Is it larger or smaller? Give an intuitive explanation.\n",
    "\n",
    "**d)** Find the posterior density of the chance of heads given that you've seen one head and one tail."
   ]
  },
  {
   "cell_type": "markdown",
   "metadata": {
    "#solution": false,
    "#staff": false,
    "#student": false
   },
   "source": [
    "**2.** A random probability $X$ is chosen according to the prior density $f$, not necessarily beta. Then a coin with that probability of heads is created and tossed $n$ times. \n",
    "\n",
    "Suppose there are $k$ heads in those $n$ tosses.\n",
    "\n",
    "**a)** For $p \\in (0, 1)$, find the posterior density of $X$ at $p$, given that there are $k$ heads in $n$ tosses. You don’t have to evaluate the constant of integration.\n",
    "\n",
    "**b)** Suppose that the same coin will be tossed once more (that is, for the (n+1)st time). What is the chance that the toss lands heads, given that there are $k$ heads in the first n tosses? Pick one of the options below and explain your answer.\n",
    "\n",
    "(i) prior mean of X\n",
    "\n",
    "(ii) prior mode of X\n",
    "\n",
    "(iii) posterior mean of X\n",
    "\n",
    "(iv) posterior mode of X\n",
    "\n",
    "(v) other (specify)\n"
   ]
  },
  {
   "cell_type": "markdown",
   "metadata": {
    "#solution": false,
    "#staff": false,
    "#student": false
   },
   "source": [
    "## Submission Instructions ##\n",
    "\n",
    "### Please submit handwritten work. We will not grade your submission if it is typed up in Latex. \n",
    "\n",
    "### Submitting Written Work ###\n",
    "*  Scan all the pages into a PDF. You can use any scanner or a phone using an application. Please **DO NOT** simply take pictures using your phone. \n",
    "* Please start a new page for each question. If you have already written multiple questions on the same page, you can crop the image or fold your page over (the old-fashioned way). This helps expedite grading.\n",
    "* It is your responsibility to check that all the work on all the scanned pages is legible."
   ]
  }
 ],
 "metadata": {
  "checksums": [
   "aa2e7c3af3f1e128978a7970cb014c83",
   "c2fb01dfb3041d7f88fbc3d7d9511a45",
   "a9b8b6e40020b18b73dd7ef422f4f5a7",
   "bfc2d007244f091b775edf7a7de45862",
   "e2921ebe13cf34038770f8333ed1a8a3"
  ],
  "kernelspec": {
   "display_name": "Python 3",
   "language": "python",
   "name": "python3"
  },
  "language_info": {
   "codemirror_mode": {
    "name": "ipython",
    "version": 3
   },
   "file_extension": ".py",
   "mimetype": "text/x-python",
   "name": "python",
   "nbconvert_exporter": "python",
   "pygments_lexer": "ipython3",
   "version": "3.8.1"
  },
  "number_of_pagebreaks": 0
 },
 "nbformat": 4,
 "nbformat_minor": 4
}
