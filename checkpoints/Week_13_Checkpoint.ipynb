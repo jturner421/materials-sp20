{
 "cells": [
  {
   "cell_type": "markdown",
   "metadata": {},
   "source": [
    "<table align=\"left\" style=\"border-style: hidden\" class=\"table\"> <tr><td class=\"col-md-2\"><img style=\"float\" src=\"http://prob140.org/assets/icon256.png\" alt=\"Prob140 Logo\" style=\"width: 120px;\"/></td><td><div align=\"left\"><h3 style=\"margin-top: 0;\">Probability for Data Science</h3><h4 style=\"margin-top: 20px;\">UC Berkeley, Spring 2020</h4><p>Ani Adhikari and Jim Pitman</p>CC BY-NC 4.0</div></td></tr></table><!-- not in pdf -->"
   ]
  },
  {
   "cell_type": "markdown",
   "metadata": {
    "#solution": false,
    "#staff": false,
    "#student": false
   },
   "source": [
    "# Week 13 Checkpoint\n",
    "\n",
    "## Please submit handwritten work for this assignment. We will not grade your submission if it is typed up in Latex."
   ]
  },
  {
   "cell_type": "markdown",
   "metadata": {
    "#solution": false,
    "#staff": false,
    "#student": false
   },
   "source": [
    "**1.** A random vector $\\mathbf{Y} = [Y_1 ~~ Y_2 ~~ \\cdots ~~ Y_n]^T$ has mean vector $\\boldsymbol{\\mu}$ and covariance matrix $\\sigma^2 \\mathbf{I}_n$ where $\\sigma > 0$ is a number and $\\mathbf{I}_n$ is the $n \\times n$ identity matrix. \n",
    "\n",
    "**a)** Pick one option and explain: $Y_1$ and $Y_2$ are\n",
    "\n",
    "$~~~~~$ (i) independent. $~~~~~~~~$ (ii) uncorrelated but might not be independent. $~~~~~~~~$ (iii) not uncorrelated.\n",
    "\n",
    "**b)** Pick one option and explain: $Var(Y_1)$ and $Var(Y_2)$ are\n",
    "\n",
    "$~~~~~$ (i) equal. $~~~~~~~~$ (ii) possibly equal, but might not be. $~~~~~~~~$ (iii) not equal.\n",
    "\n",
    "**c)** For $m \\le n$ let $\\mathbf{A}$ be an $m \\times n$ matrix of real numbers, and let $\\mathbf{b}$ be an $m \\times 1$ vector of real numbers. Let $\\mathbf{V} = \\mathbf{AY} + \\mathbf{b}$. Find the mean vector $\\boldsymbol{\\mu}_\\mathbf{V}$ and covariance matrix $\\boldsymbol{\\Sigma}_\\mathbf{V}$ of $\\mathbf{V}$.\n",
    "\n",
    "**d)** Let $\\mathbf{c}$ be an $m \\times 1$ vector of real numbers and let $W = \\mathbf{c}^T\\mathbf{V}$ for $\\mathbf{V}$ defined in Part (c). In terms of $\\mathbf{c}$, $\\boldsymbol{\\mu}_\\mathbf{V}$ and $\\boldsymbol{\\Sigma}_\\mathbf{V}$, find $E(W)$ and $Var(W)$."
   ]
  },
  {
   "cell_type": "markdown",
   "metadata": {
    "#solution": false,
    "#staff": false,
    "#student": false
   },
   "source": [
    "**2.** Let $\\mathbf{X} = [X_1 ~~ X_2 ~~ \\cdots ~~ X_n]^T$ be multivariate normal with mean vector $\\boldsymbol{\\mu}$ and covariance matrix $\\mathbf{\\Sigma}$. Assume $n > 3$ and $\\mathbf{\\Sigma}$ has at least one non-zero off-diagonal element. State whether each statement is true or false. Justify each answer briefly.\n",
    "\n",
    "(i) Each $X_i$ is a linear combination of independent standard normals.\n",
    "\n",
    "(ii) Each $X_i$ has a normal distribution.\n",
    "\n",
    "(iii) Each $X_i$ is independent of $X_j$ for all $j \\neq i$.\n",
    "\n",
    "(iv) Let $a$, $b$, and $c$ be constants. $aX_1 + bX_2 + c$ is normally distributed.\n",
    "\n",
    "(v) Let $a$, $b$, and $c$ be constants. The joint distribution of $aX_1 + bX_2 + c$ and $X_3$ is multivariate normal.\n"
   ]
  },
  {
   "cell_type": "markdown",
   "metadata": {
    "#solution": false,
    "#staff": false,
    "#student": false
   },
   "source": [
    "**3.** Let $\\mathbf{X} = [X_1 ~~ X_2 ]^T$ be multivariate normal with mean vector $\\boldsymbol{\\mu}$ and covariance matrix $\\mathbf{\\Sigma}$.\n",
    "\n",
    "$\\boldsymbol{\\mu} = [4~~10]^T$\n",
    "\n",
    "$\\mathbf{\\Sigma} = \\begin{bmatrix}1 & 0.5\\\\0.5 & 1\\end{bmatrix}$\n",
    "\n",
    "**a)** Let $Y = 2X_1 + 3X_2$. Find the distribution of $Y$.\n",
    "\n",
    "**b)** Let $S = X_1 + X_2$. Find the joint distribution of $Y$ and $S$.\n"
   ]
  },
  {
   "cell_type": "markdown",
   "metadata": {
    "#solution": false,
    "#staff": false,
    "#student": false
   },
   "source": [
    "## Submission Instructions ##\n",
    "\n",
    "### Please submit handwritten work. We will not grade your submission if it is typed up in Latex. \n",
    "\n",
    "### Submitting Written Work ###\n",
    "*  Scan all the pages into a PDF. You can use any scanner or a phone using an application. Please **DO NOT** simply take pictures using your phone. \n",
    "* Please start a new page for each question. If you have already written multiple questions on the same page, you can crop the image or fold your page over (the old-fashioned way). This helps expedite grading.\n",
    "* It is your responsibility to check that all the work on all the scanned pages is legible."
   ]
  }
 ],
 "metadata": {
  "checksums": [
   "aa2e7c3af3f1e128978a7970cb014c83",
   "2d33e6b257dba3ba4adf5abd06843ca4",
   "13330db3810b05c02827ac40157c34df",
   "b59627d241564eec72d4ad415ac005ed",
   "bc86cb541d71b6046f52cdeb9b3cf05a",
   "e2921ebe13cf34038770f8333ed1a8a3"
  ],
  "kernelspec": {
   "display_name": "Python 3",
   "language": "python",
   "name": "python3"
  },
  "language_info": {
   "codemirror_mode": {
    "name": "ipython",
    "version": 3
   },
   "file_extension": ".py",
   "mimetype": "text/x-python",
   "name": "python",
   "nbconvert_exporter": "python",
   "pygments_lexer": "ipython3",
   "version": "3.8.1"
  },
  "number_of_pagebreaks": 0
 },
 "nbformat": 4,
 "nbformat_minor": 4
}
