{
 "cells": [
  {
   "cell_type": "code",
   "execution_count": 1,
   "metadata": {},
   "outputs": [],
   "source": [
    "# Run this cell to set up your notebook\n",
    "\n",
    "import numpy as np\n",
    "from scipy import stats\n",
    "from datascience import *\n",
    "from prob140 import *\n",
    "\n",
    "# These lines do some fancy plotting magic\n",
    "import matplotlib\n",
    "%matplotlib inline\n",
    "import matplotlib.pyplot as plt\n",
    "plt.style.use('fivethirtyeight')\n",
    "\n",
    "# These lines make warnings look nicer\n",
    "import warnings\n",
    "warnings.simplefilter('ignore', FutureWarning)"
   ]
  },
  {
   "cell_type": "markdown",
   "metadata": {},
   "source": [
    "# Week 8 Part 2 #"
   ]
  },
  {
   "cell_type": "markdown",
   "metadata": {},
   "source": [
    "## Covariance and Sums ##\n",
    "\n",
    "You know that $(x+y)w = xw + yw$. So also\n",
    "\n",
    "$Cov(X+Y, W) = Cov(X, W) + Cov(Y, W)$.\n",
    "\n",
    "The proof is routine algebra: just apply definition, expand products, and collect terms."
   ]
  },
  {
   "cell_type": "markdown",
   "metadata": {},
   "source": [
    "## Main Property of Covariance: Bilinearity ##\n",
    "Covariance works just like a product, but remember that additive constants (shifts) don't affect it.\n",
    "\n",
    "$Cov(aX+bY+c, dW+g) = Cov(aX+bY, dW) = adCov(X, W) + bdCov(Y, W)$.\n",
    "\n",
    "This makes calculations easy. **Try it out (don't forget properties from Part 1):**\n",
    "\n",
    "Suppose $Var(X) = 10$, $Var(Y) = 4$, and $Cov(X, Y) = -3$. Find $Cov(5X-Y, X+2Y-6)$."
   ]
  },
  {
   "cell_type": "code",
   "execution_count": 5,
   "metadata": {},
   "outputs": [],
   "source": [
    "# Cov(5X-Y, X+2Y-6)\n",
    "\n"
   ]
  },
  {
   "cell_type": "markdown",
   "metadata": {},
   "source": [
    "You should get 15."
   ]
  },
  {
   "cell_type": "markdown",
   "metadata": {},
   "source": [
    "## Reading 1: Formal Statement of Bilinearity ##\n",
    "Look carefully at the [formal result](http://prob140.org/textbook/Chapter_13/01_Properties_of_Covariance.html#The-Main-Property:-Bilinearity). "
   ]
  },
  {
   "cell_type": "markdown",
   "metadata": {},
   "source": [
    "## Exercises To Do Now ##\n",
    "Before you proceed, you should do Exercises 2, 3, and 4 of [Review Set 3](http://prob140.org/textbook/Chapter_15/06_Review_Problems_Set_3.html). They are quick, and the results of 3 and 4 are interesting."
   ]
  },
  {
   "cell_type": "markdown",
   "metadata": {},
   "source": [
    "## Variance of a Sum ##\n",
    "\n",
    "The main consequence of bilinearity is a compact formula for the variance of a sum.\n",
    "\n",
    "You already know that $Var(X+Y) = Var(X) + Var(Y) + 2Cov(X,Y)$.\n",
    "\n",
    "But you can now see this formula in a whole new light:\n",
    "\n",
    "$$\n",
    "\\begin{align*}\n",
    "Var(X+Y) ~ &= ~ Cov(X+Y, X+Y) \\\\\n",
    "&= ~ Cov(X, X) + Cov(Y, Y) + Cov(X, Y) + Cov(Y, X)\n",
    "\\end{align*}\n",
    "$$\n",
    "\n",
    "Simply stated, the variance of a sum is the sum of all the covariances.\n",
    "\n",
    "A simplification:\n",
    "\n",
    "$$\n",
    "Var(X+Y) ~ = ~ Var(X) + Var(Y) + Cov(X, Y) + Cov(Y, X)\n",
    "$$\n",
    "\n",
    "This leads to the most useful statement about variances of sums:\n",
    "\n",
    "**The variance of a sum is the sum of all the variances as well as all the covariances.**\n",
    "\n",
    "By induction (which we won't slog through), the formal result is\n",
    "\n",
    "$$\n",
    "Var(\\sum_{i=1}^n X_i) ~ = ~ \\sum_{i=1}^n Var(X_i) ~ + ~ \\mathop{\\sum\\sum}_{1 \\le i\\ne j \\le n} Cov(X_i, X_j)\n",
    "$$\n",
    "\n",
    "**Important:** The double sum includes $Cov(X_i, X_j)$ as well as $Cov(X_j, X_i)$ as separate terms. Of course their numerical values are the same. So the result above is sometimes written as\n",
    "\n",
    "$$\n",
    "Var(\\sum_{i=1}^n X_i) ~ = ~ \\sum_{i=1}^n Var(X_i) ~ + ~ 2\\mathop{\\sum\\sum}_{1 \\le i < j \\le n} Cov(X_i, X_j)\n",
    "$$\n",
    "\n",
    "In this class we will invariably write it the first way."
   ]
  },
  {
   "cell_type": "markdown",
   "metadata": {},
   "source": [
    "## Reading 2: Huge Example #1 ##\n",
    "\n",
    "If $X_1, X_2, \\ldots, X_n$ are independent, then all the covariance terms are 0. So:\n",
    "\n",
    "If $X_1, X_2, \\ldots, X_n$ are independent, and $S_n = X_1 + X_2 + \\cdots + X_n$, then\n",
    "\n",
    "$$\n",
    "Var(S_n) ~ = ~ \\sum_{i=1}^n Var(X_i)\n",
    "$$\n",
    "\n",
    "Unlike the addition rule for expectation, **this addition rule for variance requires independence**.\n",
    "\n",
    "Further, if $X_1, X_2, \\ldots, X_n$ are i.i.d., then there is another simplification:\n",
    "\n",
    "- [Variance of IID Sample Sum](http://prob140.org/textbook/Chapter_13/02_Sums_of_IID_Samples.html#Sum-of-an-IID-Sample)\n",
    "\n",
    "The results for $E(S_n)$, $Var(S_n)$, and $SD(S_n)$ should be understood and not memorized. They will be used over and over again."
   ]
  },
  {
   "cell_type": "markdown",
   "metadata": {},
   "source": [
    "## Reading 2: Variance of Binomial (Huge Example #2) ##\n",
    "\n",
    "The most important application is to find the [variance of the binomial](http://prob140.org/textbook/Chapter_13/02_Sums_of_IID_Samples.html#Variance-of-the-Binomial).\n",
    "\n",
    "A couple of notes about the variance of the binomial being $\\sqrt{npq}$:\n",
    "\n",
    "- Here's a graph of the quadratic $p(1-p)$ as a function of $p$."
   ]
  },
  {
   "cell_type": "code",
   "execution_count": 7,
   "metadata": {},
   "outputs": [
    {
     "data": {
      "image/png": "[encoded data removed]",
      "text/plain": [
       "<Figure size 432x288 with 1 Axes>"
      ]
     },
     "metadata": {},
     "output_type": "display_data"
    }
   ],
   "source": [
    "p = np.arange(0, 1.01, 0.01)\n",
    "plt.plot(p, p*(1-p), lw=2)\n",
    "plt.xlabel('$p$')\n",
    "plt.title('Graph of $p(1-p)$');"
   ]
  },
  {
   "cell_type": "markdown",
   "metadata": {},
   "source": [
    "The maximum value is 0.25 is at $p=0.5$. That is, $\\sqrt{pq} \\le 0.5$ and is equal to 0.5 at $p=0.5$. We say that the fair coin is the most variable of all coins.\n",
    "\n",
    "- The variance of the Poisson $(\\mu)$ distribution is $\\sqrt{\\mu}$. We didn't show this in class because I was waiting till we got to the binomial, but it's [in the previous Chapter](http://prob140.org/textbook/Chapter_12/01_Definition.html#Poisson). Now that you know the variance of the binomial, the $\\sqrt{\\mu}$ makes sense:\n",
    "\n",
    "    - One way the Poisson $(\\mu)$ arises is as an approximation to binomial $(n, p)$ where $n$ is large, $p$ is small, and $np = \\mu$.\n",
    "    - In this situation, the mean of the binomial is $np = \\mu$ which is the mean of the approximating Poisson.\n",
    "    - The SD of the binomial is $\\sqrt{npq} \\approx \\sqrt{np}$ because $p \\approx 0$ and hence $q \\approx 1$.\n",
    "    - But $np = \\mu$, so $\\sqrt{np} = \\sqrt{\\mu}$ which is the SD of the approximating Poisson."
   ]
  },
  {
   "cell_type": "markdown",
   "metadata": {},
   "source": [
    "## Vitamins ##\n",
    "\n",
    "Use the code cell below as needed.\n",
    "\n",
    "**1.** Let $X$ be the number of sixes in 60 rolls of a die. Find $E(X)$ and $SD(X)$.\n",
    "\n",
    "**2.** True or false: $Var(X+Y+Z) = Var(X) + Var(Y) + Var(Z) + Cov(X,Y) + Cov(Y,Z) + Cov(X,Z)$.\n",
    "\n",
    "**3.** Suppose the weights of 7 people in an elevator are i.i.d. with mean 140 pounds and SD 20 pounds. Find the expectation and SD of the total weight of the 7 people (in pounds), from among the following options:\n",
    "\n",
    "- $140$\n",
    "- $7 \\times 140$\n",
    "- $7 \\times 20$\n",
    "- $\\sqrt{7} \\times 20$\n",
    "- $7 \\times \\sqrt{20}$\n",
    "- $7 \\times 20^2$"
   ]
  },
  {
   "cell_type": "code",
   "execution_count": null,
   "metadata": {},
   "outputs": [],
   "source": [
    "# scratch work for vitamins\n"
   ]
  },
  {
   "cell_type": "markdown",
   "metadata": {},
   "source": [
    "## Break time. Dependent indicators and the hypergeometric coming up. ##"
   ]
  },
  {
   "cell_type": "markdown",
   "metadata": {},
   "source": [
    "### Note on Review Set ###\n",
    "In [Review Set 3](http://prob140.org/textbook/Chapter_15/06_Review_Problems_Set_3.html) you can now do Exercises 14-21."
   ]
  },
  {
   "cell_type": "code",
   "execution_count": null,
   "metadata": {},
   "outputs": [],
   "source": []
  }
 ],
 "metadata": {
  "kernelspec": {
   "display_name": "Python 3",
   "language": "python",
   "name": "python3"
  },
  "language_info": {
   "codemirror_mode": {
    "name": "ipython",
    "version": 3
   },
   "file_extension": ".py",
   "mimetype": "text/x-python",
   "name": "python",
   "nbconvert_exporter": "python",
   "pygments_lexer": "ipython3",
   "version": "3.6.9"
  }
 },
 "nbformat": 4,
 "nbformat_minor": 2
}
