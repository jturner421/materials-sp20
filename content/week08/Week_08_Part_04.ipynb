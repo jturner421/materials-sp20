{
 "cells": [
  {
   "cell_type": "code",
   "execution_count": 1,
   "metadata": {},
   "outputs": [],
   "source": [
    "# Run this cell to set up your notebook\n",
    "\n",
    "import numpy as np\n",
    "from scipy import stats\n",
    "from datascience import *\n",
    "from prob140 import *\n",
    "\n",
    "# These lines do some fancy plotting magic\n",
    "import matplotlib\n",
    "%matplotlib inline\n",
    "import matplotlib.pyplot as plt\n",
    "plt.style.use('fivethirtyeight')\n",
    "\n",
    "# These lines make warnings look nicer\n",
    "import warnings\n",
    "warnings.simplefilter('ignore', FutureWarning)"
   ]
  },
  {
   "cell_type": "markdown",
   "metadata": {},
   "source": [
    "# Week 8 Part 4 #"
   ]
  },
  {
   "cell_type": "markdown",
   "metadata": {},
   "source": [
    "## \"Back-calculating\" Covariance ##\n",
    "We've been focusing on using covariance to find variance. Sometimes you can also \"work backwards\" and use variance to find covariance. Here's an example.\n",
    "\n",
    "A random number generator draws $n$ times at random with replacement from 0, 1, 2, 3, 4, 5, 6, 7, 8, and 9. Let $N_0$ be the number of 0s and let $N_9$ be the number of 9s. Find $r(N_0, N_9)$.\n",
    "\n",
    "First note that the answer should be negative. The number of draws is fixed at $n$, so the more 0s you get, the fewer 9s you will get.\n",
    "\n",
    "We know: \n",
    "\n",
    "- $r(N_0, N_9) = \\frac{Cov(N_0, N_9)}{SD(N_0)SD(N_9)}$\n",
    "\n",
    "- Each of $N_0$ and $N_9$ is binomial $(n, 0.1)$, so $Var(N_0) = Var(N_9) = n\\cdot0.1\\cdot0.9$\n",
    "\n",
    "All we need is the numerator, $Cov(N_0, N_9)$. You can write each one as a sum of indicators and use bilinearity (carefully: the same draw can't be both 0 and 9). But here's another way.\n",
    "\n",
    "$N_0 + N_9$ is the total number of 0s and 9s, and thus has the binomial $(n, 0.2)$ distribution. So in the formula\n",
    "\n",
    "$$\n",
    "Var(N_0 + N_9) ~ = ~ Var(N_0) + Var(N_9) + 2Cov(N_0, N_9)\n",
    "$$\n",
    "\n",
    "we know all the variance terms and can therefore solve for the covariance term:\n",
    "\n",
    "$$\n",
    "n\\cdot0.2\\cdot0.8 ~ = ~ n\\cdot0.1\\cdot0.9 + n\\cdot0.1\\cdot0.9 + 2Cov(N_0, N_9)\n",
    "$$\n",
    "\n",
    "so\n",
    "\n",
    "$$\n",
    "Cov(N_0, N_9) ~ = ~ \\frac{1}{2}(n\\cdot0.2\\cdot0.8 - 2n\\cdot0.1\\cdot0.9)\n",
    "$$\n",
    "\n",
    "This gives us the correlation:\n",
    "\n",
    "$$\n",
    "r(N_0, N_9) = \\frac{Cov(N_0, N_9)}{SD(N_0)SD(N_9)} = \\frac{\\frac{1}{2}(n\\cdot0.2\\cdot0.8 - 2n\\cdot0.1\\cdot0.9)}{n\\cdot0.1\\cdot0.9} = \\frac{0.8 - 0.9}{0.9} = -\\frac{1}{9}\n",
    "$$"
   ]
  },
  {
   "cell_type": "markdown",
   "metadata": {},
   "source": [
    "## Census ##\n",
    "To be able to apply the method above, you have to already know the variance of the sum as well as the individual variances. \n",
    "\n",
    "In the context of simple random sampling, there is one extreme case in which the variance of the sample sum is known, and that is when you have a census. That's when your simple random sample size $n$ equals the population size $N$.\n",
    "\n",
    "In this case, there is only one possible sample of that size. **For this sample size, there's no variation in any statistic from sample to sample, because there's only one possible sample.** \n",
    "\n",
    "So suppose $X_1, X_2, \\ldots, X_n$ is a simple random sample from a population of size $N$. Denote the mean of the popualation by $\\mu$ and the variance of the population by $\\sigma^2$. \n",
    "\n",
    "Now let $S_n = X_1 + X_2 + \\cdots + X_n$ be the sample sum.\n",
    "Then by an old symmetry argument, $X_1, X_2, \\ldots, X_n$ are identically distributed, each with the same distribution as the population. So $E(S_n) = n\\mu$.\n",
    "\n",
    "We don't yet have a formula for $Var(S_n)$, **but in the special case $n = N$**, we know that it's 0. That is, $Var(S_N) = 0$.\n",
    "\n",
    "A lovely piece of math shows us how to use this fact to find $Var(S_n)$ for any $n$."
   ]
  },
  {
   "cell_type": "markdown",
   "metadata": {},
   "source": [
    "## Reading: Variance of Simple Random Sample Sum ##\n",
    "\n",
    "You're all set. Work through [this](http://prob140.org/textbook/Chapter_13/03_Sums_of_Simple_Random_Samples.html#Variance-of-a-Simple-Random-Sample-Sum).\n",
    "\n",
    "It's just beautiful. It puts together\n",
    "\n",
    "$$\n",
    "Var(S_n) ~ = ~ n\\sigma^2 + n(n-1)Cov(X_1, X_2) ~~~ \\text{ for all } n\n",
    "$$\n",
    "\n",
    "and \n",
    "\n",
    "$$\n",
    "0 = Var(S_N) ~ = ~ N\\sigma^2 + N(N-1)Cov(X_1, X_2)\n",
    "$$\n",
    "\n",
    "to show that\n",
    "\n",
    "$$\n",
    "Var(S_n) ~ = ~ n\\sigma^2\\frac{N-n}{N-1}\n",
    "$$\n",
    "\n",
    "Hence\n",
    "\n",
    "$$\n",
    "SD(S_n) ~ = ~ \\sqrt{n}\\sigma\\sqrt{\\frac{N-n}{N-1}}\n",
    "$$\n",
    "\n",
    "Notes:\n",
    "\n",
    "- The formula is the SD of the sample sum when sampling **with** replacement ($\\sqrt{n}\\sigma$ from Part 2), times a factor that is less than 1. That factor is called the *finite population correction*. You are \"correcting\" the formula that based on with-replacement sampling for the case where you are sampling without replacement.\n",
    "- The variance of the hypergeometric in Part 3 is the special case when the population consists of $G$ 1s and $B = N-G$ 0s, and hence $\\sigma^2 = \\frac{G}{N}\\cdot\\frac{B}{N}$."
   ]
  },
  {
   "cell_type": "markdown",
   "metadata": {},
   "source": [
    "## Vitamins ##\n",
    "\n",
    "**1.** A die is rolled 20 times. Let $X$ be the number of threes and let $Y$ be the number of sixes. True or false: $r(X, Y) \\ge 0$.\n",
    "\n",
    "**2.** All 52 cards are dealt at random without replacement from a standard deck. Let $X$ be the number of aces dealt. Find $Var(X)$.\n",
    "\n",
    "**3.** A population consists of 1000 households. The number of people in these households has an average of 2.4 and an SD of 1.8. Let $X$ be the total number of people in a simple random sample of 30 households from this population. Find $E(X)$ and $SD(X)$. You should get 72 and roughly 9.71."
   ]
  },
  {
   "cell_type": "code",
   "execution_count": null,
   "metadata": {},
   "outputs": [],
   "source": [
    "# Vitamin 3\n",
    "\n"
   ]
  },
  {
   "cell_type": "markdown",
   "metadata": {},
   "source": [
    "## Congratulations! You're done with Chapter 13 ##\n",
    "We are skipping [Section 13.4](http://prob140.org/textbook/Chapter_13/04_Finite_Population_Correction.html) which takes a closer look at the finite population correction. But it's an easy read, and it has a very useful summary table of variances at the start, so you might want to glance through."
   ]
  },
  {
   "cell_type": "markdown",
   "metadata": {},
   "source": [
    "### Note on Lab ###\n",
    "Some of it can be done based on counting (and hypothesis testing from Data 8), but for the later sections you will need the formula for the variance of the simple random sum derived in this Part, applied to a simple random sample from the population of numbers $1, 2, \\ldots, N$. Its mean and variance are in [Chapter 12](http://prob140.org/textbook/Chapter_12/01_Definition.html#Uniform), but be careful about what $n$ and $N$ mean in all the different places."
   ]
  },
  {
   "cell_type": "code",
   "execution_count": null,
   "metadata": {},
   "outputs": [],
   "source": []
  }
 ],
 "metadata": {
  "kernelspec": {
   "display_name": "Python 3",
   "language": "python",
   "name": "python3"
  },
  "language_info": {
   "codemirror_mode": {
    "name": "ipython",
    "version": 3
   },
   "file_extension": ".py",
   "mimetype": "text/x-python",
   "name": "python",
   "nbconvert_exporter": "python",
   "pygments_lexer": "ipython3",
   "version": "3.6.0"
  }
 },
 "nbformat": 4,
 "nbformat_minor": 2
}
