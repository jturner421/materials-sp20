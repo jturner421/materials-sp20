{
 "cells": [
  {
   "cell_type": "code",
   "execution_count": 1,
   "metadata": {},
   "outputs": [],
   "source": [
    "# Run this cell to set up your notebook\n",
    "\n",
    "import numpy as np\n",
    "from scipy import stats\n",
    "from datascience import *\n",
    "from prob140 import *\n",
    "\n",
    "# These lines do some fancy plotting magic\n",
    "import matplotlib\n",
    "%matplotlib inline\n",
    "import matplotlib.pyplot as plt\n",
    "plt.style.use('fivethirtyeight')\n",
    "\n",
    "# These lines make warnings look nicer\n",
    "import warnings\n",
    "warnings.simplefilter('ignore', FutureWarning)"
   ]
  },
  {
   "cell_type": "markdown",
   "metadata": {},
   "source": [
    "# Week 8 Part 5 # \n",
    "\n",
    "We know how to find the mean and variance of a sum of random variables. Without more information, it's usually not possible to describe the shape of the distribution of the sum. However, there is one important situation in which we can figure out the distribution of the sum (and hence the mean) of a random sample. That's what this chapter is about.\n",
    "\n",
    "This Part is a series of short and light readings. You've seen all the ideas in Data 8. The hard work of the details was all done in Part 2. Now you get to reap the benefit."
   ]
  },
  {
   "cell_type": "markdown",
   "metadata": {},
   "source": [
    "## Reading 1: Distribution of $X+Y$ ##\n",
    "\n",
    "Let $X$ and $Y$ be jointly distributed random variables (that is, random variables on the same space), and let $S = X+Y$. Then we can find the distribution of $S$.\n",
    "\n",
    "Work through [this](http://prob140.org/textbook/Chapter_14/01_Exact_Distribution.html) to see how. It's very short; you don't have to go on to probability generating functions.\n",
    "\n",
    "It's a good idea to go back to Chapter 7 and recall that we used exactly this calculation to find the distribution of the [sum of two independent Poisson](http://prob140.org/textbook/Chapter_07/01_Poissonizing_the_Binomial.html#Sums-of-Independent-Poisson-Variables) random variables.\n",
    "\n",
    "In principle we could also find the distribution of $X+Y+Z$ or $X_1 + X_2 + \\cdot + X_n$, by applying the above method over and over again or using induction. However, such calculations often turn out to be intractable.\n",
    "\n",
    "Probability generating functions are a powerful technique for finding exact distributions of sums, but (with a heavy heart) I'm omitting them for now. They are a bit abstract for the current chaos. I hope to return to them right before we start moment generating functions later in the course.\n",
    "\n",
    "But, for some fun, take a look at the histograms [here](http://prob140.org/textbook/Chapter_14/02_PGFs_in_NumPy.html#The-Sum-of-the-Numbers-on-$n$-Rolls-of-a-Die) and especially [here](http://prob140.org/textbook/Chapter_14/02_PGFs_in_NumPy.html#Making-Waves). These are exact distributions of the sum $S_n = X_1 + X_2 + \\cdots + X_n$ where $X_1, X_2, \\ldots, X_n$ are i.i.d.\n",
    "\n",
    "It is clear that as $n$ increases, the distribution of $S_n$ is approximately normal."
   ]
  },
  {
   "cell_type": "markdown",
   "metadata": {},
   "source": [
    "## Reading 2: Normal Curves ##\n",
    "\n",
    "You've already proved the main facts about [standard units](http://prob140.org/textbook/Chapter_14/03_Central_Limit_Theorem.html#Standard-Units) in homework.\n",
    "\n",
    "Recall from Data 8 that the [standard normal curve](http://prob140.org/textbook/Chapter_14/03_Central_Limit_Theorem.html#Standard-Units) is centered at $0$ and has points of inflection at $-1$ and $1$. You also already know some areas under the curve.\n",
    "\n",
    "**Notation:** The standard normal curve is denoted by $\\phi$. That's the lower case Greek letter phi.\n",
    "\n",
    "Of course you can slide the bell along the horizontal axis, and change the units of measurement, and you'll still have a bell curve.\n",
    "\n",
    "So take a look at the general form of the [normal curve](http://prob140.org/textbook/Chapter_14/03_Central_Limit_Theorem.html#Normal-Curves). The graph looks the same as that of the standard normal curve, except now the center is at $\\mu$ instead of $0$, and the points of inflection are at $\\mu \\pm \\sigma$ instead of $0 \\pm 1$.\n",
    "\n",
    "Note the use of the same letters that are often used to denote expectation and SD. Later in the course we will give a precise reason for this. At the moment, think of the normal curve just as a math function that has two parameters $\\mu$ and $\\sigma$ (where $\\sigma > 0$)."
   ]
  },
  {
   "cell_type": "markdown",
   "metadata": {},
   "source": [
    "## Reading 3: Central Limit Theorem (CLT) ##\n",
    "The simplest version of the biggest theorem in the subject:\n",
    "\n",
    "The distribution of the sum of a large i.i.d. sample is approximately normal, *regardless of the underlying distribution of the population*.\n",
    "\n",
    "That is, let $X_1, X_2, \\ldots$ be i.i.d. and let $S_n = X_1 + X_2 + \\cdots + X_n$. If $n$ is large, the distribution of $S_n$ is approximately normal, *regardless of the distribution of each $X_i$.*\n",
    "\n",
    "**Question 1:** What's the big deal? What makes this so \"Central\"?\n",
    "\n",
    "**Answer:** If you understand sample sums then you also understand sample means. The theorem implies that the distribution of the mean of a large i.i.d. sample is roughly normal, *regardless of the distribution of the population*. That's gold for data scientists, because it allows us to make inferences based on the sample mean even when we don't know the distribution of the population (which is our typical situation).\n",
    "\n",
    "**Question 2:** Are we going to prove it?\n",
    "\n",
    "**Answer:** No; it helps to have some measure theory first. The section on probability generating functions, which we skipped, gives a method for calculating the distribution of $S_n$ exactly if $X_i$ has a finite number of non-negative integer values, and in those cases you can see the normality appearing as you increase $n$. Later in the course we will give more of a justification. But it will still have a huge hole. Take some measure theory (e.g. Math 105) and then Stat 205A.\n",
    "\n",
    "### Which Normal Curve? ###\n",
    "If the distribution of $S_n$ is roughly normal, all you need is the center and spread of the curve to calculate probabilities.\n",
    "\n",
    "The good news is that you already found the center and spread in Part 2 this week.\n",
    "\n",
    "So you are all set to work through some [crucial calculations](http://prob140.org/textbook/Chapter_14/03_Central_Limit_Theorem.html#The-Central-Limit-Theorem).\n",
    "\n",
    "Pay attention to every line in this short subsection. Go back to Part 2 and check that the right result is being used.\n",
    "\n",
    "Keep in mind that saying \"$S_n$ is approximately normal\" is the same as saying \"$S_n$ converted to standard units is approximately standard normal\". Then notice the conversion \n",
    "\n",
    "$$\n",
    "\\frac{S_n - E(S_n)}{SD(S_n)}\n",
    "$$\n",
    "\n",
    "Follow closely the example about the total weight of a group of people. Look at the distribution and notice where it is centered. Now think about where the points of inflection should be."
   ]
  },
  {
   "cell_type": "markdown",
   "metadata": {},
   "source": [
    "## Reading 4: Computation and the Standard Normal CDF ##\n",
    "\n",
    "Go through the code for how to translate all this into [computation](http://prob140.org/textbook/Chapter_14/03_Central_Limit_Theorem.html#Probabilities-Under-the-Normal-Curve). If you like, you can use copy the code over to the code cell below. The necessary libraries have been imported in the top cell of the notebook.\n",
    "\n",
    "Notice the use of \"cdf\" for \"all the area to the left\", just as you've see it used for the binomial and Poisson.\n",
    "\n",
    "The [standard normal cdf](http://prob140.org/textbook/Chapter_14/03_Central_Limit_Theorem.html#Probabilities-Under-the-Normal-Curve) is the function that returns all the area under the standard normal curve to the left of the point in the argument. It is called $\\Phi$, the upper case Greek letter phi, because by calculus it's the integral of the standard normal curve $\\phi$:\n",
    "\n",
    "$$\n",
    "\\Phi(x) ~ = ~ \\int_{-\\infty}^x \\phi(z)dz ~~~~~~ \\text{ for } -\\infty < x < \\infty\n",
    "$$"
   ]
  },
  {
   "cell_type": "code",
   "execution_count": null,
   "metadata": {},
   "outputs": [],
   "source": []
  },
  {
   "cell_type": "markdown",
   "metadata": {},
   "source": [
    "## Vitamins ##\n",
    "\n",
    "**1.** $X_1$ and $X_2$ are i.i.d, each with distribution given by\n",
    "\n",
    "|$x$        |  1    |   2   |   3  |\n",
    "|----------:|:-----:|:-----:|:----:|\n",
    "$P(X_i = x)$| $p_1$ | $p_2$ | $p_3$|\n",
    "\n",
    "where $p_1 + p_2 + p_3 = 1$. Find the distribution of $X_1+X_2$.\n",
    "\n",
    "**2.** In the histogram of weights at the end of [this subsection](http://prob140.org/textbook/Chapter_14/03_Central_Limit_Theorem.html#The-Central-Limit-Theorem), what are the numerical values of the points of inflection?\n",
    "\n",
    "**3.** $X_1, X_2, \\ldots, X_{100}$ are i.i.d with mean 60 and SD 2. Sketch the approximate distribution of $S_{100} = X_1 + X_2 + \\cdots + X_{100}$. Find the numerical values of $E(S_{100})$ and $SD(S_{100})$, and show them appropriately on your sketch.\n",
    "\n",
    "**4.** Continuing Vitamin 3, find an approximate numerical value of $P(S_{100} > 6020)$.\n",
    "\n",
    "**5.** True or false: The CLT says that the distribution of a large i.i.d. sample is approximately normal."
   ]
  },
  {
   "cell_type": "code",
   "execution_count": null,
   "metadata": {},
   "outputs": [],
   "source": []
  },
  {
   "cell_type": "markdown",
   "metadata": {},
   "source": [
    "## Break Time. Next, we will address the meaning of \"large\". ##"
   ]
  },
  {
   "cell_type": "markdown",
   "metadata": {},
   "source": [
    "### Brain-Teaser based on this Part ###\n",
    "[Review Set 3](http://prob140.org/textbook/Chapter_15/06_Review_Problems_Set_3.html) Exercise 32."
   ]
  }
 ],
 "metadata": {
  "kernelspec": {
   "display_name": "Python 3",
   "language": "python",
   "name": "python3"
  },
  "language_info": {
   "codemirror_mode": {
    "name": "ipython",
    "version": 3
   },
   "file_extension": ".py",
   "mimetype": "text/x-python",
   "name": "python",
   "nbconvert_exporter": "python",
   "pygments_lexer": "ipython3",
   "version": "3.6.0"
  }
 },
 "nbformat": 4,
 "nbformat_minor": 2
}
