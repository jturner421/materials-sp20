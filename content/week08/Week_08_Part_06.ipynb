{
 "cells": [
  {
   "cell_type": "code",
   "execution_count": 1,
   "metadata": {},
   "outputs": [],
   "source": [
    "# Run this cell to set up your notebook\n",
    "\n",
    "import numpy as np\n",
    "from scipy import stats\n",
    "from datascience import *\n",
    "from prob140 import *\n",
    "\n",
    "# These lines do some fancy plotting magic\n",
    "import matplotlib\n",
    "%matplotlib inline\n",
    "import matplotlib.pyplot as plt\n",
    "plt.style.use('fivethirtyeight')\n",
    "\n",
    "# These lines make warnings look nicer\n",
    "import warnings\n",
    "warnings.simplefilter('ignore', FutureWarning)"
   ]
  },
  {
   "cell_type": "markdown",
   "metadata": {},
   "source": [
    "# Week 8 Part 6 #"
   ]
  },
  {
   "cell_type": "markdown",
   "metadata": {},
   "source": [
    "Throughout, we are going to use the notation $S_n = X_1 + X_2 + \\cdots + X_n$ for i.i.d. $X_1, X_2, \\ldots, X_n$.\n",
    "\n",
    "The CLT says that \"if $n$ is large\" then the distribution of $S_n$ is roughly normal, regardless of the distribution of each $X_i$.\n",
    "\n",
    "How large is \"large\"? \n",
    "\n",
    "The answer to this does depend on the distribution of $X_i$. The more skew or weird that underlying distribution is, typically the larger $n$ has to be before the CLT kicks in.\n",
    "\n",
    "Some elementary classes tell students that 30 is some kind of magic sample size beyond which you can use the CLT. I regret to inform you that such is not the case. \n",
    "\n",
    "- Start by going back to the total number of spots on [$n$ rolls of a die](http://prob140.org/textbook/Chapter_14/02_PGFs_in_NumPy.html#The-Sum-of-the-Numbers-on-$n$-Rolls-of-a-Die). The distribution is pretty close to normal when $n$ is only 10.\n",
    "- Now recall what happened when we started with something just [a tad weird](http://prob140.org/textbook/Chapter_14/02_PGFs_in_NumPy.html#Making-Waves). The distribution of $S_{30}$ clearly isn't normal. It's trying to be, but it's got a way to go.\n",
    "\n",
    "So how do you know whether $n$ is large enough for the normal approximation to the sample sum, especially if you don't know the distribution of $X_i$?\n",
    "\n",
    "There's no clear answer. But one way to get a sense of the shape would be to construct a bootstrap approximation to the distribution of the sample sum. That is, bootstrap the sample and compute the sum, and then do that over and over again. If the resulting distribution is normal then go ahead and use the CLT.\n",
    "\n",
    "One way to know that you *shouldn't* use a normal approximation: if your normal curve covers impossible values. For example, if the interval \"mean $\\pm$ three SDs\" goes outside the possible range of your variable, the normal approximation might not be valid."
   ]
  },
  {
   "cell_type": "markdown",
   "metadata": {},
   "source": [
    "## Reading: Approximations to the Binomial ##\n",
    "We know two of these:\n",
    "\n",
    "- The Poisson approximation when $n$ is large and $p$ is small\n",
    "- The normal approximation when $n$ is large\n",
    "\n",
    "That seems contradictory, as the normal and Poisson distributions can look quite different. But there's actually no problem:\n",
    "\n",
    "The CLT says that whatever the value of $p$ (could be small; it just has to be fixed), eventually $n$ is going to be large enough that the binomial $(n, p)$ distribution will look normal.\n",
    "\n",
    "If $n$ is \"large\" in some absolute sense but the binomial $(n, p)$ histogram has a Poisson shape, that just means that $n$ isn't yet large enough for the normal approximation. Keep increasing $n$ (while keeping $p$ fixed), and eventually the shape will become normal.\n",
    "\n",
    "Now work through [an example](http://prob140.org/textbook/Chapter_14/03_Central_Limit_Theorem.html#Approximating-the-Binomial-$(n,-p)$-Distribution) and related discussion. \n",
    "\n",
    "The issue is whether the binomial histogram is all squished near 0 (or $n$), or whether it has some room on either side of the mean. That is, the issue is the SD $\\sqrt{npq}$."
   ]
  },
  {
   "cell_type": "markdown",
   "metadata": {},
   "source": [
    "## Vitamins ##\n",
    "\n",
    "**1.** Is the binomial $(100, 0.1)$ distribution approximately normal?\n",
    "\n",
    "**2.** Is the binomial $(10000, 0.1)$ distribution approximately normal?"
   ]
  },
  {
   "cell_type": "code",
   "execution_count": null,
   "metadata": {},
   "outputs": [],
   "source": []
  },
  {
   "cell_type": "markdown",
   "metadata": {},
   "source": [
    "## Break. Coming up: the sample mean. ##"
   ]
  },
  {
   "cell_type": "code",
   "execution_count": null,
   "metadata": {},
   "outputs": [],
   "source": []
  }
 ],
 "metadata": {
  "kernelspec": {
   "display_name": "Python 3",
   "language": "python",
   "name": "python3"
  },
  "language_info": {
   "codemirror_mode": {
    "name": "ipython",
    "version": 3
   },
   "file_extension": ".py",
   "mimetype": "text/x-python",
   "name": "python",
   "nbconvert_exporter": "python",
   "pygments_lexer": "ipython3",
   "version": "3.6.0"
  }
 },
 "nbformat": 4,
 "nbformat_minor": 2
}
