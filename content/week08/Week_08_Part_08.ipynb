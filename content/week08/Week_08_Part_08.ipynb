{
 "cells": [
  {
   "cell_type": "code",
   "execution_count": 1,
   "metadata": {},
   "outputs": [],
   "source": [
    "# Run this cell to set up your notebook\n",
    "\n",
    "import numpy as np\n",
    "from scipy import stats\n",
    "from datascience import *\n",
    "from prob140 import *\n",
    "\n",
    "# These lines do some fancy plotting magic\n",
    "import matplotlib\n",
    "%matplotlib inline\n",
    "import matplotlib.pyplot as plt\n",
    "plt.style.use('fivethirtyeight')\n",
    "\n",
    "# These lines make warnings look nicer\n",
    "import warnings\n",
    "warnings.simplefilter('ignore', FutureWarning)"
   ]
  },
  {
   "cell_type": "markdown",
   "metadata": {},
   "source": [
    "# Week 8 Part 8 #"
   ]
  },
  {
   "cell_type": "markdown",
   "metadata": {},
   "source": [
    "The notation used below is the same as that in Part 7. \n",
    "\n",
    "If we have a large i.i.d. sample, inference for the population mean can be done using the CLT as follows."
   ]
  },
  {
   "cell_type": "markdown",
   "metadata": {},
   "source": [
    "## Reading 1: Definition of a Confidence Interval ##\n",
    "\n",
    "A confidence interval is an interval of estimates of an unknown parameter. Such an interval has to be constructed from our sample, which is random. Hence the interval is random too.\n",
    "\n",
    "Go through the [definition](http://prob140.org/textbook/Chapter_14/05_Confidence_Intervals.html#Confidence-Intervals) of a 95% confidence interval, and the terminology. \n",
    "\n",
    "Note the confidence interval is trying to estimate the unknown population mean $\\mu$, by using the random sample mean $\\bar{X}_n$ as the center and then providing some wiggle room on either side.\n",
    "\n",
    "A general definition of a \"normal theory\" confidence interval for $\\mu$ is [here](http://prob140.org/textbook/Chapter_14/05_Confidence_Intervals.html#Confidence-Interval-for-Population-Mean). \"Normal theory\" just says we are using the CLT."
   ]
  },
  {
   "cell_type": "markdown",
   "metadata": {},
   "source": [
    "## Reading 2: Calculating the Interval ##\n",
    "This has three ingredients:\n",
    "\n",
    "- The sample mean, which you can calculate from the sample\n",
    "- The number of SDs you need to go on either side of the center, for your desired level of confidence; this is the appropriate $z$-value from the normal curve, which you can [find by using the `stats` module](http://prob140.org/textbook/Chapter_14/05_Confidence_Intervals.html#Confidence-Interval-for-Population-Mean)\n",
    "- $\\frac{\\sigma}{\\sqrt{n}}$, of which the denominator is easy and the numerator is unknown; see how to [estimate it](http://prob140.org/textbook/Chapter_14/05_Confidence_Intervals.html#Confidence-Interval-for-Population-Mean) instead.\n",
    "\n",
    "In Data 8 you used the bootstrap to find confidence intervals for the population mean. Carefully go through the [comparison](http://prob140.org/textbook/Chapter_14/05_Confidence_Intervals.html#A-Data-8-Example-Revisited) of our new calculation and the old one using the bootstrap."
   ]
  },
  {
   "cell_type": "markdown",
   "metadata": {},
   "source": [
    "# Vitamins #\n",
    "\n",
    "**1.** Which of the following are random and which are fixed?\n",
    "\n",
    "- sample mean, population mean, sample SD, population SD, 95% confidence interval for population mean\n",
    "\n",
    "**2.** True or false: Under the assumptions and notation used in this notebook, $\\bar{X}_n \\pm 2\\frac{\\sigma}{\\sqrt{n}}$ is an approximate 95% confidence interval for the sample mean."
   ]
  },
  {
   "cell_type": "markdown",
   "metadata": {},
   "source": [
    "## Done with Chapter 14! ##"
   ]
  }
 ],
 "metadata": {
  "kernelspec": {
   "display_name": "Python 3",
   "language": "python",
   "name": "python3"
  },
  "language_info": {
   "codemirror_mode": {
    "name": "ipython",
    "version": 3
   },
   "file_extension": ".py",
   "mimetype": "text/x-python",
   "name": "python",
   "nbconvert_exporter": "python",
   "pygments_lexer": "ipython3",
   "version": "3.6.9"
  }
 },
 "nbformat": 4,
 "nbformat_minor": 2
}
