{
 "cells": [
  {
   "cell_type": "code",
   "execution_count": 1,
   "metadata": {},
   "outputs": [],
   "source": [
    "import numpy as np\n",
    "from datascience import *\n",
    "from prob140 import *\n",
    "\n",
    "import matplotlib\n",
    "%matplotlib inline\n",
    "import matplotlib.pyplot as plt\n",
    "plt.style.use('fivethirtyeight')\n",
    "\n",
    "# Support embedding YouTube Videos in Notebooks\n",
    "from IPython.display import YouTubeVideo"
   ]
  },
  {
   "cell_type": "markdown",
   "metadata": {},
   "source": [
    "# Week 9 Part 1 #"
   ]
  },
  {
   "cell_type": "markdown",
   "metadata": {},
   "source": [
    "You've seen the normal curve as an approximation to discrete probability histograms. But it's tempting to see the curve as a distribution in its own right, not just as an approximation. This chapter formalizes what this means, not just for the normal curve but for other curves as well."
   ]
  },
  {
   "cell_type": "code",
   "execution_count": 2,
   "metadata": {},
   "outputs": [
    {
     "data": {
      "text/html": [
       "\n",
       "        <iframe\n",
       "            width=\"400\"\n",
       "            height=\"300\"\n",
       "            src=\"https://www.youtube.com/embed/lw7yRMYgM_o\"\n",
       "            frameborder=\"0\"\n",
       "            allowfullscreen\n",
       "        ></iframe>\n",
       "        "
      ],
      "text/plain": [
       "<IPython.lib.display.YouTubeVideo at 0x10e917470>"
      ]
     },
     "execution_count": 2,
     "metadata": {},
     "output_type": "execute_result"
    }
   ],
   "source": [
    "YouTubeVideo(\"lw7yRMYgM_o\")"
   ]
  },
  {
   "cell_type": "markdown",
   "metadata": {},
   "source": [
    "## Reading 1: Density Basics ##\n",
    "\n",
    "You'll find this section an easy read. \n",
    "\n",
    "- Start with the [definition](http://prob140.org/textbook/Chapter_15/01_Density_and_CDF.html#Density-and-CDF) of density (the cdf comes later).\n",
    "- Notice that density is [not the same as probability](http://prob140.org/textbook/Chapter_15/01_Density_and_CDF.html#Density-is-Not-the-Same-as-Probability); exactly what \"density\" means is covered in the next section.\n",
    "- Just as with histograms, [areas under the curve represent probability](http://prob140.org/textbook/Chapter_15/01_Density_and_CDF.html#Areas-are-Probabilities). Thus integrals represent probabilities."
   ]
  },
  {
   "cell_type": "code",
   "execution_count": 3,
   "metadata": {},
   "outputs": [
    {
     "data": {
      "text/html": [
       "\n",
       "        <iframe\n",
       "            width=\"400\"\n",
       "            height=\"300\"\n",
       "            src=\"https://www.youtube.com/embed/-ZwddWxIGXM\"\n",
       "            frameborder=\"0\"\n",
       "            allowfullscreen\n",
       "        ></iframe>\n",
       "        "
      ],
      "text/plain": [
       "<IPython.lib.display.YouTubeVideo at 0x10e917400>"
      ]
     },
     "execution_count": 3,
     "metadata": {},
     "output_type": "execute_result"
    }
   ],
   "source": [
    "YouTubeVideo(\"-ZwddWxIGXM\")"
   ]
  },
  {
   "cell_type": "markdown",
   "metadata": {},
   "source": [
    "## Reading 2: CDF ##\n",
    "Here's our old friend the [cdf](http://prob140.org/textbook/Chapter_15/01_Density_and_CDF.html#Cumulative-Distribution-Function-(CDF)), now applied to random variables that have densities. \n",
    "\n",
    "- The definition of the cdf is the same as in the discrete case.\n",
    "- But now since probabilities are integrals, the you can get the cdf by integrating the density.\n",
    "- As before, you can use the cdf to find probabilities of intervals. E.g $P(a < X \\le b) = P(X \\le b) - P(X \\le a) = F(b) - F(a)$.\n",
    "- Since you can get the cdf by integrating the density, you can get the density by differentiating the cdf."
   ]
  },
  {
   "cell_type": "markdown",
   "metadata": {},
   "source": [
    "## Vitamins ##\n",
    "\n",
    "**1.** Consider the function $f(x) = \\frac{1}{2}x$ for $0 < x < 2$ and $0$ elsewhere. Explain why it is a probability density. [It is quicker to use geometry than calculus.]\n",
    "\n",
    "**2.** Let $X$ have density given by $f$ defined in Vitamin 1 above. Find $P(X > 1)$. You should get $0.75$.\n",
    "\n",
    "**3.** Complete the cell below to plot the cdf of $X$ defined in Vitamin 2 above. Check that the graph is consistent with your answer to Vitamin 2."
   ]
  },
  {
   "cell_type": "code",
   "execution_count": null,
   "metadata": {},
   "outputs": [],
   "source": [
    "x = np.arange(0, 2.01, 0.01)\n",
    "cdf = ...\n",
    "plt.plot(x, cdf, lw=2, color='darkblue')\n",
    "plt.plot([-0.5, 0], [0, 0], lw=2, color='darkblue')\n",
    "plt.plot([2, 2.5], [1, 1], lw=2, color='darkblue')\n",
    "plt.xlabel('$x$')\n",
    "plt.ylabel('$F(x)$', rotation=0)\n",
    "plt.title('CDF of $X$');"
   ]
  },
  {
   "cell_type": "markdown",
   "metadata": {},
   "source": [
    "## Break. Then on to the meaning of \"density\". ##"
   ]
  }
 ],
 "metadata": {
  "kernelspec": {
   "display_name": "Python 3",
   "language": "python",
   "name": "python3"
  },
  "language_info": {
   "codemirror_mode": {
    "name": "ipython",
    "version": 3
   },
   "file_extension": ".py",
   "mimetype": "text/x-python",
   "name": "python",
   "nbconvert_exporter": "python",
   "pygments_lexer": "ipython3",
   "version": "3.6.0"
  }
 },
 "nbformat": 4,
 "nbformat_minor": 2
}
