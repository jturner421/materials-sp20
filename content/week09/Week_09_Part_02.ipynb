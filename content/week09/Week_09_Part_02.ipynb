{
 "cells": [
  {
   "cell_type": "code",
   "execution_count": 1,
   "metadata": {},
   "outputs": [],
   "source": [
    "import numpy as np\n",
    "from datascience import *\n",
    "from prob140 import *\n",
    "\n",
    "import matplotlib\n",
    "%matplotlib inline\n",
    "import matplotlib.pyplot as plt\n",
    "plt.style.use('fivethirtyeight')\n",
    "\n",
    "# Support embedding YouTube Videos in Notebooks\n",
    "from IPython.display import YouTubeVideo"
   ]
  },
  {
   "cell_type": "markdown",
   "metadata": {},
   "source": [
    "## Week 9 Part 2 ##"
   ]
  },
  {
   "cell_type": "markdown",
   "metadata": {},
   "source": [
    "Density isn't probability, because we saw an [example](http://prob140.org/textbook/Chapter_15/01_Density_and_CDF.html#Density-is-Not-the-Same-as-Probability) in which a probability density function evaluated at a point turned out to be bigger than 1.\n",
    "\n",
    "So then what is it? We will start with an interesting and important observation:"
   ]
  },
  {
   "cell_type": "markdown",
   "metadata": {},
   "source": [
    "## Reading 1: Single Points Don't Matter ##\n",
    "\n",
    "The [title](http://prob140.org/textbook/Chapter_15/02_The_Meaning_of_Density.html#If-$X$-Has-a-Density,-Each-Individual-Value-Has-Probability-0) of the subsection says it all:\n",
    "\n",
    "- If $X$ has a density, then $P(X = x) = 0$ for all $x$.\n",
    "\n",
    "$P(X = x)$ is the area under the density over the point $x$, and therefore is the area of a line segment. The area of a line is 0.\n",
    "\n",
    "If these seem counterintuitive, the text has an analogy with the number line, where each single point has width 0 but there are uncountably many such points and so intervals do have widths.\n",
    "\n",
    "One of the principal consequences is that we don't have to worry about whether we are writing $P(X > 10)$ or $P(X \\ge 10)$. The chance is the same. The intervals $(10, \\infty)$ and $[10, \\infty)$ differ by just the single point 10, and that has chance 0. \n",
    "\n",
    "Any finite number of points also have total chance 0.\n",
    "\n",
    "To understand density, therefore, it doesn't help to look at single points. Instead we need to look at very tiny intervals."
   ]
  },
  {
   "cell_type": "code",
   "execution_count": 2,
   "metadata": {},
   "outputs": [
    {
     "data": {
      "text/html": [
       "\n",
       "        <iframe\n",
       "            width=\"400\"\n",
       "            height=\"300\"\n",
       "            src=\"https://www.youtube.com/embed/Y0uidEPCxKw\"\n",
       "            frameborder=\"0\"\n",
       "            allowfullscreen\n",
       "        ></iframe>\n",
       "        "
      ],
      "text/plain": [
       "<IPython.lib.display.YouTubeVideo at 0x10e9216d8>"
      ]
     },
     "execution_count": 2,
     "metadata": {},
     "output_type": "execute_result"
    }
   ],
   "source": [
    "YouTubeVideo(\"Y0uidEPCxKw\")"
   ]
  },
  {
   "cell_type": "markdown",
   "metadata": {},
   "source": [
    "## Reading 2: Understanding Density ##\n",
    "\n",
    "- Internalize the [main diagram](http://prob140.org/textbook/Chapter_15/02_The_Meaning_of_Density.html#An-Infinitesimal-Calculation). The key is that the gold area is $P(X \\in dx)$; the shape of the gold region is almost a rectangle, with height $f(x)$ and width $dx$.\n",
    "- The height is the [density](http://prob140.org/textbook/Chapter_15/02_The_Meaning_of_Density.html#The-Meaning-of-Density). As a consequence, if you work out $P(X \\in dx)$ and the formula turns out to be $P(X \\in dx) \\sim 2xdx$ then $f(x) = 2x$ is the density of $X$ at the point $x$. We often loosely say, \"The density is everything but the $dx$.\"\n",
    "- Compare the relation \n",
    "\n",
    "$$\n",
    "f(x) \\sim \\frac{P(X \\in dx)}{dx}\n",
    "$$\n",
    "\n",
    "and the formula for the height of a histogram bar:\n",
    "\n",
    "$$\n",
    "\\text{height of bar} ~ = ~ \\frac{\\text{percent in bin}}{\\text{width of bin}}\n",
    "$$\n",
    "\n",
    "They are the same except that the continuous case is the limit of the discrete case as the number of data points tends to infinity and the bins get infinitesimally narrow."
   ]
  },
  {
   "cell_type": "markdown",
   "metadata": {},
   "source": [
    "## Vitamins ##\n",
    "\n",
    "**1.** A random variable $X$ has density $f$. Arrange the following from largest to smallest. If two entries are the same, put an $=$ sign between them; it doesn't matter in which order you write them.\n",
    "\n",
    "$~~~ P(a \\le X < b)$ $~~~ P(a < X < b)$ $~~~ P(a \\le X \\le b)$\n",
    "\n",
    "**2.** A random variable $X$ has density $f$ that is positive on the entire real number line. True or false: For all $x$, $f(x) = P(X=x)$.\n",
    "\n",
    "**3.** What does $P(X \\in dx)$ mean? What is the relation between $P(X \\in dx)$ and $f(x)$?"
   ]
  },
  {
   "cell_type": "markdown",
   "metadata": {},
   "source": [
    "## Take a break. Expectation coming up. ##"
   ]
  },
  {
   "cell_type": "code",
   "execution_count": null,
   "metadata": {},
   "outputs": [],
   "source": []
  }
 ],
 "metadata": {
  "kernelspec": {
   "display_name": "Python 3",
   "language": "python",
   "name": "python3"
  },
  "language_info": {
   "codemirror_mode": {
    "name": "ipython",
    "version": 3
   },
   "file_extension": ".py",
   "mimetype": "text/x-python",
   "name": "python",
   "nbconvert_exporter": "python",
   "pygments_lexer": "ipython3",
   "version": "3.6.0"
  }
 },
 "nbformat": 4,
 "nbformat_minor": 2
}
