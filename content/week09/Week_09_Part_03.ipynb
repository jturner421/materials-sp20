{
 "cells": [
  {
   "cell_type": "code",
   "execution_count": 1,
   "metadata": {},
   "outputs": [],
   "source": [
    "import numpy as np\n",
    "from datascience import *\n",
    "from prob140 import *\n",
    "\n",
    "import matplotlib\n",
    "%matplotlib inline\n",
    "import matplotlib.pyplot as plt\n",
    "plt.style.use('fivethirtyeight')\n",
    "\n",
    "# Support embedding YouTube Videos in Notebooks\n",
    "from IPython.display import YouTubeVideo"
   ]
  },
  {
   "cell_type": "markdown",
   "metadata": {},
   "source": [
    "# Week 9 Part 3 #"
   ]
  },
  {
   "cell_type": "markdown",
   "metadata": {},
   "source": [
    "We need a definition of the expectation in the density case. The definition is analogous to the familiar one in the discrete case. This section starts with the definition and then goes on to apply all our newfound knowledge to an important family of distributions."
   ]
  },
  {
   "cell_type": "code",
   "execution_count": 2,
   "metadata": {},
   "outputs": [
    {
     "data": {
      "text/html": [
       "\n",
       "        <iframe\n",
       "            width=\"400\"\n",
       "            height=\"300\"\n",
       "            src=\"https://www.youtube.com/embed/pVs2jm4EzYc\"\n",
       "            frameborder=\"0\"\n",
       "            allowfullscreen\n",
       "        ></iframe>\n",
       "        "
      ],
      "text/plain": [
       "<IPython.lib.display.YouTubeVideo at 0x10e91b400>"
      ]
     },
     "execution_count": 2,
     "metadata": {},
     "output_type": "execute_result"
    }
   ],
   "source": [
    "YouTubeVideo(\"pVs2jm4EzYc\")"
   ]
  },
  {
   "cell_type": "markdown",
   "metadata": {},
   "source": [
    "## Reading 1: Expectation ##\n",
    "\n",
    "Go through the [definition of expectation](http://prob140.org/textbook/Chapter_15/03_Expectation.html#Expectation) and notice that there could be a problem with lack of existence. However, that problem occurs infrequently in Prob 140, and when it does, we usually signal that you should look for it.\n",
    "\n",
    "It's important to note that the calculation is new only in that you use calculus instead of sums. Other than that, **all properties of expectation are the same as in the discrete case**. That means you can use additivity, linear transformation rules, etc, just as you have done all along.\n",
    "\n",
    "Since variance and covariance are also expectations, **all properties of variance and covariance remain the same as in the discrete case.**\n",
    "\n",
    "**The Central Limit Theorem holds just as it did in the discrete case.**\n",
    "\n",
    "The rest of the section consists of a sequence of applications. I have always asked students to go through these themselves – no change this term."
   ]
  },
  {
   "cell_type": "markdown",
   "metadata": {},
   "source": [
    "## Reading 2: The Uniform Family ##\n",
    "A *family* of distributions consists of all distributions of a particular type, labeled by the parameters. The term tends to be used more for distributions that have densities, rather than for discrete distributions. For example, the *normal family* is the collection of all normal curves; remember that there is one normal curve for each pair of $\\mu$ and $\\sigma$.\n",
    "\n",
    "Each member of the *uniform* family is the uniform distribution on an interval $(a, b)$. The most important one is the uniform on $(0, 1)$, as all other uniform distributions can be derived from it.\n",
    "\n",
    "- Go through **every single line** of calculation related to the [uniform $(0, 1)$](http://prob140.org/textbook/Chapter_15/03_Expectation.html#Uniform-$(0,-1)$) distribution, and **make a summary of the main results**.\n",
    "\n",
    "- Then, in the same way, go through the linear transformation that turns the uniform $(0, 1)$ into [uniform $(a, b)$](http://prob140.org/textbook/Chapter_15/03_Expectation.html#Uniform-$(a,-b)$). Notice how the old rules of expectation and variance are applied here.\n",
    "\n",
    "**Don't cut corners on this one. Go through every calculation, and then close the textbook and do the calculations by yourself.**\n",
    "\n",
    "The section ends with a [numerical example](http://prob140.org/textbook/Chapter_15/03_Expectation.html#Example:-Random-Discs)."
   ]
  },
  {
   "cell_type": "markdown",
   "metadata": {},
   "source": [
    "## Vitamins ##\n",
    "\n",
    "**1.** $X$ is a non-negative random variable that has density $f(x) = \\frac{1}{120}x^5e^{-x}$ for $x \\ge 0$. Write a math expression for $E(\\sqrt{X})$. You don't have to simplify it.\n",
    "\n",
    "[Yes, the density integrates to 1, and $E(\\sqrt{X})$ is finite. You don't have to check these facts now because the distribution is a member of a family that we will study in detail later.]\n",
    "\n",
    "**2.** Let $U$ be uniform on $(0, 1)$. Find $c_0$ and $c_1$ such that $Y = c_0 + c_1U$ is uniform on $(15, 20)$.\n",
    "\n",
    "**3.** Let $X$ be uniform on $(-2, 2)$. Find $c_0$ and $c_1$ such that $V = c_0 + c_1X$ is uniform on $(0, 1)$.\n",
    "\n",
    "**4.** Let $X_1, X_2, \\ldots, X_{100}$ be i.i.d. uniform on $(0, 1)$, and let $A_n = \\frac{1}{n}\\sum_{i=1}^n X_i$. Find or approximate the distribution of $A_n$. If it's a famous one, provide its name and parameters."
   ]
  },
  {
   "cell_type": "markdown",
   "metadata": {},
   "source": [
    "## Break Time. Hugely important distribution coming up. ##"
   ]
  },
  {
   "cell_type": "code",
   "execution_count": null,
   "metadata": {},
   "outputs": [],
   "source": []
  }
 ],
 "metadata": {
  "kernelspec": {
   "display_name": "Python 3",
   "language": "python",
   "name": "python3"
  },
  "language_info": {
   "codemirror_mode": {
    "name": "ipython",
    "version": 3
   },
   "file_extension": ".py",
   "mimetype": "text/x-python",
   "name": "python",
   "nbconvert_exporter": "python",
   "pygments_lexer": "ipython3",
   "version": "3.6.0"
  }
 },
 "nbformat": 4,
 "nbformat_minor": 2
}
