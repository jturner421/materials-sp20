{
 "cells": [
  {
   "cell_type": "code",
   "execution_count": 1,
   "metadata": {},
   "outputs": [],
   "source": [
    "import numpy as np\n",
    "from datascience import *\n",
    "from prob140 import *\n",
    "\n",
    "import matplotlib\n",
    "%matplotlib inline\n",
    "import matplotlib.pyplot as plt\n",
    "plt.style.use('fivethirtyeight')\n",
    "\n",
    "# Support embedding YouTube Videos in Notebooks\n",
    "from IPython.display import YouTubeVideo"
   ]
  },
  {
   "cell_type": "markdown",
   "metadata": {},
   "source": [
    "# Week 9 Part 4 #"
   ]
  },
  {
   "cell_type": "markdown",
   "metadata": {},
   "source": [
    "The *exponential distribution* is used to model lifetimes of certain kinds of objects, and is fundamentally important in the study of stochastic processes.\n",
    "\n",
    "**Pay careful attention to the graphs in this section: shapes, values on the two axes, relation to the expectation and SD, relation to the median, etc.**"
   ]
  },
  {
   "cell_type": "markdown",
   "metadata": {},
   "source": [
    "## Reading 1: Basic Properties ##\n",
    "Start by establishing the basic properties by calculus, and then we'll interpret them.\n",
    "\n",
    "- The [density](http://prob140.org/textbook/Chapter_15/04_Exponential_Distribution.html#Exponential-Distribution) and its shape; note that at 0, the value of the density is the parameter $\\lambda$.\n",
    "\n",
    "- The [cdf and the survival function](http://prob140.org/textbook/Chapter_15/04_Exponential_Distribution.html#CDF-and-Survival-Function); note that the survival function is our old friend the right hand tail.\n",
    "\n",
    "- The [mean, variance, and SD](http://prob140.org/textbook/Chapter_15/04_Exponential_Distribution.html#Mean-and-SD); note that the SD is equal to the mean, and look carefully at the horizontal axis of the graph of the density.\n",
    "\n",
    "- The [median](http://prob140.org/textbook/Chapter_15/04_Exponential_Distribution.html#Median), which is not the same as the mean, and has important applications in physics, such as the lifetimes of radioactive isotopes. Take a look at the application to [radiocarbon dating](http://stat88.org/textbook/notebooks/Chapter_10/03_The_Exponential_Distribution.html#Radiocarbon-Dating) in Stat 88 (reload the page if the math doesn't render)."
   ]
  },
  {
   "cell_type": "code",
   "execution_count": 2,
   "metadata": {},
   "outputs": [
    {
     "data": {
      "text/html": [
       "\n",
       "        <iframe\n",
       "            width=\"400\"\n",
       "            height=\"300\"\n",
       "            src=\"https://www.youtube.com/embed/ScHXjkd1IiQ\"\n",
       "            frameborder=\"0\"\n",
       "            allowfullscreen\n",
       "        ></iframe>\n",
       "        "
      ],
      "text/plain": [
       "<IPython.lib.display.YouTubeVideo at 0x10e924470>"
      ]
     },
     "execution_count": 2,
     "metadata": {},
     "output_type": "execute_result"
    }
   ],
   "source": [
    "YouTubeVideo(\"ScHXjkd1IiQ\")"
   ]
  },
  {
   "cell_type": "markdown",
   "metadata": {},
   "source": [
    "Now that you know a lot about the properties of the exponential distribution, it's worth noting that it is a good model for a very particular kind of lifetime."
   ]
  },
  {
   "cell_type": "code",
   "execution_count": 3,
   "metadata": {},
   "outputs": [
    {
     "data": {
      "text/html": [
       "\n",
       "        <iframe\n",
       "            width=\"400\"\n",
       "            height=\"300\"\n",
       "            src=\"https://www.youtube.com/embed/XT6tCld7o18\"\n",
       "            frameborder=\"0\"\n",
       "            allowfullscreen\n",
       "        ></iframe>\n",
       "        "
      ],
      "text/plain": [
       "<IPython.lib.display.YouTubeVideo at 0x10e9247f0>"
      ]
     },
     "execution_count": 3,
     "metadata": {},
     "output_type": "execute_result"
    }
   ],
   "source": [
    "YouTubeVideo(\"XT6tCld7o18\")"
   ]
  },
  {
   "cell_type": "markdown",
   "metadata": {},
   "source": [
    "## Reading 2: Memoryless Property ##\n",
    "[This property](http://prob140.org/textbook/Chapter_15/04_Exponential_Distribution.html#Memoryless-Property) is the reason not to use the exponential to model the lifetime of any individual whose condition changes with age."
   ]
  },
  {
   "cell_type": "markdown",
   "metadata": {},
   "source": [
    "## [Optional] Reading 3: The \"Rate\" ##\n",
    "\n",
    "The parameter $\\lambda$ is called the *rate* of the exponential. One way to understand that is to recall that the expectation of the exponential lifetime is $1/\\lambda$, so if $\\lambda$ is large then the object is expected to die early. In that sense, $\\lambda$ is a \"death rate\".\n",
    "\n",
    "A more precise interpretation of $\\lambda$ as an [instantaneous death rate](http://prob140.org/textbook/Chapter_15/04_Exponential_Distribution.html#The-Rate) follows from an application of the memoryless property and the Taylor approximation."
   ]
  },
  {
   "cell_type": "markdown",
   "metadata": {},
   "source": [
    "## Vitamins ##\n",
    "\n",
    "Use the code cell below, if needed. Use `np.e` for $e$.\n",
    "\n",
    "**1.** Let $X$ have the exponential distribution with rate 0.1. Find $P(X > 10)$. You should get about $0.368$.\n",
    "\n",
    "**2.** Let $X$ have the exponential distribution with rate 0.1. Which of the following is $E(X)$? Which is $SD(X)$?\n",
    "\n",
    "$100$ $~~~ 10$ $~~~ 0.1$ $~~~ 0.01$\n",
    "\n",
    "**3.** Let $T$ have the exponential $(\\lambda)$ distribution. If the median of the distribution of $T$ is 1000, what is the value of $\\lambda$?\n",
    "\n",
    "**4.** Let $T$ have the exponential $(\\lambda)$ distribution, and $t > 0$. Which of the following is the density of $T$ at the point $t$? Which is the survival function of $T$ at the point $t$?\n",
    "\n",
    "$e^{-\\lambda t}$ $~~~~~ 1 - e^{-\\lambda t}$ $~~~~~ \\lambda e^{-\\lambda t}$\n",
    "\n"
   ]
  },
  {
   "cell_type": "code",
   "execution_count": null,
   "metadata": {},
   "outputs": [],
   "source": [
    "#scratch work for vitamins\n"
   ]
  },
  {
   "cell_type": "markdown",
   "metadata": {},
   "source": [
    "## Congratulations – you're done! ##"
   ]
  },
  {
   "cell_type": "code",
   "execution_count": null,
   "metadata": {},
   "outputs": [],
   "source": []
  }
 ],
 "metadata": {
  "kernelspec": {
   "display_name": "Python 3",
   "language": "python",
   "name": "python3"
  },
  "language_info": {
   "codemirror_mode": {
    "name": "ipython",
    "version": 3
   },
   "file_extension": ".py",
   "mimetype": "text/x-python",
   "name": "python",
   "nbconvert_exporter": "python",
   "pygments_lexer": "ipython3",
   "version": "3.6.0"
  }
 },
 "nbformat": 4,
 "nbformat_minor": 2
}
