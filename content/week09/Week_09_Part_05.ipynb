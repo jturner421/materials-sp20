{
 "cells": [
  {
   "cell_type": "code",
   "execution_count": 1,
   "metadata": {},
   "outputs": [],
   "source": [
    "import numpy as np\n",
    "from datascience import *\n",
    "from prob140 import *\n",
    "\n",
    "import matplotlib\n",
    "%matplotlib inline\n",
    "import matplotlib.pyplot as plt\n",
    "plt.style.use('fivethirtyeight')\n",
    "\n",
    "# Support embedding YouTube Videos in Notebooks\n",
    "from IPython.display import YouTubeVideo"
   ]
  },
  {
   "cell_type": "markdown",
   "metadata": {},
   "source": [
    "# Week 9 Part 5 #"
   ]
  },
  {
   "cell_type": "markdown",
   "metadata": {},
   "source": [
    "If $X$ is discrete, then finding the distribution of a function $Y = g(X)$ is straightforward: convert each possible value of $X$ by applying $g$, and then collect terms.\n",
    "\n",
    "For example, if $X$ is uniform on the three values $-1, 0, 1$, and $Y = X^2$, then the first step is the following table:\n",
    "\n",
    "|$y$   |$1$          |$0$          |$1$          |\n",
    "|-----:|:-----------:|:-----------:|:-----------:|\n",
    "|$x$   |$-1$         |$0$          |$1$          |\n",
    "|chance|$\\frac{1}{3}$|$\\frac{1}{3}$|$\\frac{1}{3}$|\n",
    "\n",
    "And the second step collects the $y$ terms to get the distribution of $Y$:\n",
    "\n",
    "|$y$   |$0$          |$1$          |\n",
    "|-----:|:-----------:|:-----------:|\n",
    "|chance|$\\frac{1}{3}$|$\\frac{2}{3}$|\n",
    "\n",
    "When $X$ has a density, you can still apply $g$ to the values of $X$. But \"collecting terms\" isn't possible in the way it was in the discrete case, because there can be uncountably many terms to collect. That's where calculus comes in.\n",
    "\n",
    "Chapter 16 is about finding the density of $g(X)$ if $X$ has a density, in the case where $g$ is a smooth function.\n",
    "\n",
    "We will start with the case where $g$ is linear."
   ]
  },
  {
   "cell_type": "code",
   "execution_count": 2,
   "metadata": {},
   "outputs": [
    {
     "data": {
      "text/html": [
       "\n",
       "        <iframe\n",
       "            width=\"400\"\n",
       "            height=\"300\"\n",
       "            src=\"https://www.youtube.com/embed/7jDMWeXfJUE\"\n",
       "            frameborder=\"0\"\n",
       "            allowfullscreen\n",
       "        ></iframe>\n",
       "        "
      ],
      "text/plain": [
       "<IPython.lib.display.YouTubeVideo at 0x10e90a400>"
      ]
     },
     "execution_count": 2,
     "metadata": {},
     "output_type": "execute_result"
    }
   ],
   "source": [
    "YouTubeVideo(\"7jDMWeXfJUE\")"
   ]
  },
  {
   "cell_type": "markdown",
   "metadata": {},
   "source": [
    "## Reading 1: Linear Change of Variable Formula ##\n",
    "Get your pencil ready and go through the derivation of the [general formula](http://prob140.org/textbook/Chapter_16/01_Linear_Transformations.html#Linear-Change-of-Variable-Formula-for-Densities). Notice that the formula simply generalizes the particular case you saw in the video.\n",
    "\n",
    "**Please go through the derivation** as very soon it will help you understand what happens when the function $g$ is non-linear.\n",
    "\n",
    "The rest of the section consists of applications to the greatest hits of the density world."
   ]
  },
  {
   "cell_type": "markdown",
   "metadata": {},
   "source": [
    "## Reading 2: Normal ##\n",
    "First recall the [equation](http://prob140.org/textbook/Chapter_14/03_Central_Limit_Theorem.html#Normal-Curves) of the \"normal curve with mean $\\mu$ and SD $\\sigma$\", from Chapter 14. After Spring Break we will formally discuss why those parameters are called the mean and the SD, now that we've defined the mean and SD of random variables that have densities.\n",
    "\n",
    "The most important normal curve is the [standard normal curve](http://prob140.org/textbook/Chapter_14/03_Central_Limit_Theorem.html#The-Standard-Normal-Curve).\n",
    "\n",
    "Compare the formulas for the standard curve and the general curve. You should see that they are exactly what a linear change of variable formula would produce.\n",
    "\n",
    "Now go through the [detailed calculation](http://prob140.org/textbook/Chapter_16/01_Linear_Transformations.html#The-Normal-Densities) applying the change of variable formula.\n",
    "\n",
    "The result is:\n",
    "- If $Z$ is standard normal then $X = \\sigma Z + \\mu$ is normal with mean $\\mu$ and SD $\\sigma$.\n",
    "\n",
    "You should also be able to show that:\n",
    "- If $X$ is normal with mean $\\mu$ and SD $\\sigma$ then $Z = \\frac{X - \\mu}{\\sigma}$ is standard normal.\n",
    "\n",
    "**In some unmissable place, note the consequence of these two results:**\n",
    "\n",
    "- $X$ is normal with mean $\\mu$ and SD $\\sigma$ $\\iff$ $Z = \\frac{X - \\mu}{\\sigma}$ is standard normal.\n",
    "\n",
    "You have known for some time that the conversion to standard units results in mean 0 and SD 1. What you now know is that if the original distribution was normal, then the distribution of the converted random variable is normal, and vice versa."
   ]
  },
  {
   "cell_type": "markdown",
   "metadata": {},
   "source": [
    "## Reading 3: Uniform ##\n",
    "[Easy](http://prob140.org/textbook/Chapter_16/01_Linear_Transformations.html#The-Uniform-Densities,-Revisited), once you [remember](http://prob140.org/textbook/Chapter_15/03_Expectation.html#Uniform-$(a,-b)$) that the uniform $(a, b)$ density is the constant $\\frac{1}{b-a}$ over the interval $(a, b)$ and $0$ elsewhere.\n",
    "\n",
    "The **main take-away** is that all uniform random variables are linear transformations of a uniform $(0, 1)$ random variable."
   ]
  },
  {
   "cell_type": "markdown",
   "metadata": {},
   "source": [
    "## Reading 4: Exponential ##\n",
    "Since the section starts with this distribution, the calculation is done [from first principles](http://prob140.org/textbook/Chapter_16/01_Linear_Transformations.html#Linear-Transformations) and not by applying the linear change of variable formula. You can do it either way.\n",
    "\n",
    "**Terminology:** Keep in mind that the *scale* parameter is $1/\\lambda$ and the *rate* is $\\lambda$.\n",
    "\n",
    "The **main take-away** is that a constant times an exponential random variable is another exponential random variable; you just have to figure out the rate. A good way is to figure out what the expectation has to be and work backwards from there."
   ]
  },
  {
   "cell_type": "markdown",
   "metadata": {},
   "source": [
    "## Vitamins ##\n",
    "\n",
    "**1.** $V$ has density $f$. Write the density of $W = 5 + 3V$ in terms of $f$.\n",
    "\n",
    "**2.** $V$ has density $f$. Write the density of $W = 5 - 3V$ in terms of $f$.\n",
    "\n",
    "**3.** If $Z$ is standard normal, what is the distribution of $10Z$?\n",
    "\n",
    "**4.** If $T$ is exponential $(\\lambda)$ and $c > 0$, then $S = cT$ is exponential with one of the following rates. Which one?\n",
    "\n",
    "$~~~ c\\lambda$ $~~~ \\frac{c}{\\lambda}$ $~~~ \\frac{\\lambda}{c}$\n"
   ]
  },
  {
   "cell_type": "markdown",
   "metadata": {},
   "source": [
    "## Break before non-linear functions ##"
   ]
  }
 ],
 "metadata": {
  "kernelspec": {
   "display_name": "Python 3",
   "language": "python",
   "name": "python3"
  },
  "language_info": {
   "codemirror_mode": {
    "name": "ipython",
    "version": 3
   },
   "file_extension": ".py",
   "mimetype": "text/x-python",
   "name": "python",
   "nbconvert_exporter": "python",
   "pygments_lexer": "ipython3",
   "version": "3.6.0"
  }
 },
 "nbformat": 4,
 "nbformat_minor": 2
}
