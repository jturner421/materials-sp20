{
 "cells": [
  {
   "cell_type": "code",
   "execution_count": 1,
   "metadata": {},
   "outputs": [],
   "source": [
    "import numpy as np\n",
    "from datascience import *\n",
    "from prob140 import *\n",
    "\n",
    "import matplotlib\n",
    "%matplotlib inline\n",
    "import matplotlib.pyplot as plt\n",
    "plt.style.use('fivethirtyeight')\n",
    "\n",
    "# Support embedding YouTube Videos in Notebooks\n",
    "from IPython.display import YouTubeVideo"
   ]
  },
  {
   "cell_type": "markdown",
   "metadata": {},
   "source": [
    "# Week 9 Part 6 #"
   ]
  },
  {
   "cell_type": "markdown",
   "metadata": {},
   "source": [
    "As before, let $X$ have density $f_X$. We are interested in the density of $Y = g(X)$. We have already covered the case where $g$ is linear. Smooth, monotone functions (not necessarily linear) are another important class.\n",
    "\n",
    "To start off, let $g$ be smooth – that is, differentiable – and increasing. We'll cover the decreasing case too, by a small modification of the result in the increasing case."
   ]
  },
  {
   "cell_type": "code",
   "execution_count": 2,
   "metadata": {},
   "outputs": [
    {
     "data": {
      "text/html": [
       "\n",
       "        <iframe\n",
       "            width=\"400\"\n",
       "            height=\"300\"\n",
       "            src=\"https://www.youtube.com/embed/F115cXcFfiE\"\n",
       "            frameborder=\"0\"\n",
       "            allowfullscreen\n",
       "        ></iframe>\n",
       "        "
      ],
      "text/plain": [
       "<IPython.lib.display.YouTubeVideo at 0x10e925630>"
      ]
     },
     "execution_count": 2,
     "metadata": {},
     "output_type": "execute_result"
    }
   ],
   "source": [
    "YouTubeVideo(\"F115cXcFfiE\")"
   ]
  },
  {
   "cell_type": "markdown",
   "metadata": {},
   "source": [
    "## Reading 1: $g$ Smooth and Increasing ##\n",
    "Ignore the first paragraph but please go through the entirety of the rest of the [subsection](http://prob140.org/textbook/Chapter_16/02_Monotone_Functions.html#Change-of-Variable-Formula-for-Density:-Increasing-Function) very carefully. Notice that the formal derivation ends up with the same formula that we got informally in the video.\n",
    "\n",
    "You might need to [recall](https://en.wikipedia.org/wiki/Inverse_functions_and_differentiation) that the derivative of an inverse is the reciprocal of the derivative. \n",
    "\n",
    "It is important to [understand](http://prob140.org/textbook/Chapter_16/02_Monotone_Functions.html#Understanding-the-Formula) the different pieces of the formula. We went through a similar discussion in the linear case. It was simpler because for a linear function, the stretch factor is constant. It's the slope of the line."
   ]
  },
  {
   "cell_type": "markdown",
   "metadata": {},
   "source": [
    "## Reading 2: $g$ Smooth and Monotone ##\n",
    "As in the case of linear functions, the [formula in the decreasing case](http://prob140.org/textbook/Chapter_16/02_Monotone_Functions.html#Understanding-the-Formula) just involves placing an absolute value on the derivative. "
   ]
  },
  {
   "cell_type": "markdown",
   "metadata": {},
   "source": [
    "## Method ##\n",
    "There aren't many plug-and-chug machines in this class, but change of variable for densities is one of them. Learn how to plug and chug, do the calculus carefully, and you'll get the answer right every time. Here are the steps.\n",
    "\n",
    "Let $X$ have a known density $f_X$ and let $Y = g(X)$ for a smooth, monotone function $g$. The goal is to find the density of $Y$.\n",
    "\n",
    "- **First find the possible values** of $Y$.\n",
    "- Write $y$ in terms of $x$. Formally, set $y = g(x)$.\n",
    "- Write $x$ in terms of $y$. Formally, find the function $g^{-1}$ so that $x = g^{-1}(y)$.\n",
    "- Find the derivative $\\frac{dy}{dx} = g'(x)$. If the derivative is negative, just take its absolute value.\n",
    "- Write the formula for $f_X(x)$.\n",
    "- Write out $\\frac{f_X(x)}{|g'(x)|}$ and simplify it as much as possible. It will still be a function of $x$.\n",
    "- Let $y$ be a possible value of $Y$. In the expression you got above, replace $x$ by $g^{-1}(y)$. That's your answer for $f_Y(y)$.\n"
   ]
  },
  {
   "cell_type": "markdown",
   "metadata": {},
   "source": [
    "## Reading 3: Exponential to Rayleigh ##\n",
    "$X$ is exponential $(1/2)$ and $Y = \\sqrt{X}$. Find the density of $Y$, by either or both of:\n",
    "\n",
    "- applying the method above, without looking at the text, or\n",
    "- [looking at the text](http://prob140.org/textbook/Chapter_16/02_Monotone_Functions.html#Applying-the-Formula)"
   ]
  },
  {
   "cell_type": "markdown",
   "metadata": {},
   "source": [
    "## Reading 4: Uniform to Pareto ##\n",
    "$U$ is uniform $(0, 1)$ and $V = 1/U$. Find the density of $V$, by either or both of:\n",
    "\n",
    "- applying the method above, without looking at the text, or\n",
    "- [looking at the text](http://prob140.org/textbook/Chapter_16/02_Monotone_Functions.html#Reciprocal-of-a-Uniform-Variable)"
   ]
  },
  {
   "cell_type": "markdown",
   "metadata": {},
   "source": [
    "## Vitamins ##\n",
    "\n",
    "**1.** Let $T$ be exponential $(\\lambda)$. Find the density of $S = \\sqrt{T}$.\n",
    "\n",
    "**2.** $V$ has density $f_V(v) = 2v$ for $v \\in (0, 1)$ and 0 elsewhere. Let $W = -\\log(V)$. What are the possible values of $W$? What is the density of $W$?"
   ]
  },
  {
   "cell_type": "markdown",
   "metadata": {},
   "source": [
    "## Break Time. Non-monotone functions next. ##"
   ]
  },
  {
   "cell_type": "code",
   "execution_count": null,
   "metadata": {},
   "outputs": [],
   "source": []
  }
 ],
 "metadata": {
  "kernelspec": {
   "display_name": "Python 3",
   "language": "python",
   "name": "python3"
  },
  "language_info": {
   "codemirror_mode": {
    "name": "ipython",
    "version": 3
   },
   "file_extension": ".py",
   "mimetype": "text/x-python",
   "name": "python",
   "nbconvert_exporter": "python",
   "pygments_lexer": "ipython3",
   "version": "3.6.0"
  }
 },
 "nbformat": 4,
 "nbformat_minor": 2
}
