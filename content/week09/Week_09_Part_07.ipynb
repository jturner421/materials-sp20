{
 "cells": [
  {
   "cell_type": "markdown",
   "metadata": {},
   "source": [
    "# Week 9 Part 7 #"
   ]
  },
  {
   "cell_type": "markdown",
   "metadata": {},
   "source": [
    "## Reading: The Density of the Square ##\n",
    "\n",
    "This is a section that I always cover *exactly* as written, usually very fast in the last five minutes of class. So please just go through it yourself as students always do.\n",
    "\n",
    "Let $X$ be a random variable with a density. The main points:\n",
    "\n",
    "- When $g$ is monotone, we know how to find the density of $Y = g(X)$. But it is useful to know how to find the [density of a many-to-one function](http://prob140.org/textbook/Chapter_16/03_Two_to_One_Functions.html#Two-to-One-Functions) of $X$. \n",
    "\n",
    "- The main example, and by far the most common application, is [$Y = X^2$](http://prob140.org/textbook/Chapter_16/03_Two_to_One_Functions.html#Density-of-$Y-=-X^2$) which is two-to-one.\n",
    "\n",
    "- If the distribution of $X$ is symmetric about 0, then there is a simplification in the density of $Y = X^2$.\n",
    "\n",
    "- Among the most important of the squared random variables is $Z^2$ where $Z$ is standard normal. The [density of $Z^2$](http://prob140.org/textbook/Chapter_16/03_Two_to_One_Functions.html#Square-of-the-Standard-Normal) belongs to an important family of distributions."
   ]
  },
  {
   "cell_type": "markdown",
   "metadata": {},
   "source": [
    "## Vitamins ##\n",
    "\n",
    "**1.** $U$ is uniform on $(0, 1)$. To find the density of $V = U^2$, do you have to take into account the fact that the square is a two-to-one function? Either way, find the density of $V$, and check that your answer integrates to 1.\n",
    "\n",
    "**2.** $R$ is uniform on $(-1, 1)$. To find the density of $S = R^2$, do you have to take into account the fact that the square is a two-to-one function? Either way, find the density of $S$, and check that your answer integrates to 1."
   ]
  },
  {
   "cell_type": "markdown",
   "metadata": {},
   "source": [
    "## Done with another chapter! ##"
   ]
  },
  {
   "cell_type": "code",
   "execution_count": null,
   "metadata": {},
   "outputs": [],
   "source": []
  }
 ],
 "metadata": {
  "kernelspec": {
   "display_name": "Python 3",
   "language": "python",
   "name": "python3"
  },
  "language_info": {
   "codemirror_mode": {
    "name": "ipython",
    "version": 3
   },
   "file_extension": ".py",
   "mimetype": "text/x-python",
   "name": "python",
   "nbconvert_exporter": "python",
   "pygments_lexer": "ipython3",
   "version": "3.6.0"
  }
 },
 "nbformat": 4,
 "nbformat_minor": 2
}
