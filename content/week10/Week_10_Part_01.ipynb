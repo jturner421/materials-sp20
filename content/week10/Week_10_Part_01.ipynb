{
 "cells": [
  {
   "cell_type": "code",
   "execution_count": 1,
   "metadata": {},
   "outputs": [],
   "source": [
    "# Support embedding YouTube Videos in Notebooks\n",
    "from IPython.display import YouTubeVideo"
   ]
  },
  {
   "cell_type": "markdown",
   "metadata": {},
   "source": [
    "# Week 10 Part 1 #"
   ]
  },
  {
   "cell_type": "markdown",
   "metadata": {},
   "source": [
    "Chapter 17 introduces jointly distributed continuous variables $(X, Y)$. Today's content is broken into 7 short parts. Do as many as you reasonably can in one setting, then take a break before the next.\n",
    "\n",
    "- Part 1 gives the main idea and definition.\n",
    "- Parts 2-4 show how to work with joint densities.\n",
    "- Part 5 is about independence.\n",
    "- Parts 6-7 go further into marginals and conditioning.\n",
    "\n",
    "In some notebooks, **vitamins** are sprinkled throughout instead of at the end. They now come with **answers**. Click on the arrow next to Answer."
   ]
  },
  {
   "cell_type": "markdown",
   "metadata": {},
   "source": [
    "In this notebook, the readings are very short summaries of the videos."
   ]
  },
  {
   "cell_type": "markdown",
   "metadata": {},
   "source": [
    "# <span style=\"color: darkblue\">Joint Density</span> #"
   ]
  },
  {
   "cell_type": "code",
   "execution_count": 2,
   "metadata": {},
   "outputs": [
    {
     "data": {
      "text/html": [
       "\n",
       "        <iframe\n",
       "            width=\"400\"\n",
       "            height=\"300\"\n",
       "            src=\"https://www.youtube.com/embed/xjSyTQmxoQE\"\n",
       "            frameborder=\"0\"\n",
       "            allowfullscreen\n",
       "        ></iframe>\n",
       "        "
      ],
      "text/plain": [
       "<IPython.lib.display.YouTubeVideo at 0x10e928550>"
      ]
     },
     "execution_count": 2,
     "metadata": {},
     "output_type": "execute_result"
    }
   ],
   "source": [
    "YouTubeVideo(\"xjSyTQmxoQE\")"
   ]
  },
  {
   "cell_type": "markdown",
   "metadata": {},
   "source": [
    "## Reading 1 ##\n",
    "The [definition](http://prob140.org/textbook/Chapter_17/01_Probabilities_and_Expectations.html#Probabilities-and-Expectations) is the two-dimensional version of the definition of the density of one variable."
   ]
  },
  {
   "cell_type": "markdown",
   "metadata": {},
   "source": [
    "# <span style=\"color: darkblue\">The Meaning of \"Density\"</span> #"
   ]
  },
  {
   "cell_type": "code",
   "execution_count": 3,
   "metadata": {},
   "outputs": [
    {
     "data": {
      "text/html": [
       "\n",
       "        <iframe\n",
       "            width=\"400\"\n",
       "            height=\"300\"\n",
       "            src=\"https://www.youtube.com/embed/c7rwKgT2QuE\"\n",
       "            frameborder=\"0\"\n",
       "            allowfullscreen\n",
       "        ></iframe>\n",
       "        "
      ],
      "text/plain": [
       "<IPython.lib.display.YouTubeVideo at 0x10e9289e8>"
      ]
     },
     "execution_count": 3,
     "metadata": {},
     "output_type": "execute_result"
    }
   ],
   "source": [
    "YouTubeVideo(\"c7rwKgT2QuE\")"
   ]
  },
  {
   "cell_type": "markdown",
   "metadata": {},
   "source": [
    "## Reading 2 ##\n",
    "Density now means probability per unit area. The [most important result](http://prob140.org/textbook/Chapter_17/01_Probabilities_and_Expectations.html#Infinitesimals) is $P(X \\in dx, Y \\in dy) \\sim f(x,y)dxdy$."
   ]
  },
  {
   "cell_type": "markdown",
   "metadata": {},
   "source": [
    "## Vitamins ##\n",
    "\n",
    "**1.** Random variables $X$ and $Y$ have joint density $f$. Pick all the options that are correct about $\\int_1^2 \\int_3^4 f(x,y)dxdy$.\n",
    "\n",
    "**(i)** Could be any non-negative number\n",
    "\n",
    "**(ii)** Has to be in $[0, 1]$ (this interval includes both endpoints)\n",
    "\n",
    "**(iii)** Has to be in $(0, 1)$ (this interval excludes both endpoints)\n",
    "\n",
    "**(iv)** None of the above\n",
    "\n",
    "<details>\n",
    "    <summary>Answer</summary>\n",
    "(ii)\n",
    "</details>\n",
    "\n",
    "\n",
    "**2.** The \"unit disc\" is the disc of radius 1 centered at the origin. That is, it's the set of points $(x,y)$ such that $x^2 + y^2 \\le 1$. Suppose the joint density of $X$ and $Y$ is positive on the unit disc and $0$ elsewhere. Pick the correct option.\n",
    "\n",
    "**(i)** It is not possible to determine whether or not $X$ and $Y$ are independent.\n",
    "\n",
    "**(ii)** $X$ and $Y$ are independent.\n",
    "\n",
    "**(iii)** $X$ and $Y$ are not independent.\n",
    "\n",
    "<details>\n",
    "    <summary>Answer</summary>\n",
    "(iii)\n",
    "</details>"
   ]
  },
  {
   "cell_type": "code",
   "execution_count": null,
   "metadata": {},
   "outputs": [],
   "source": []
  }
 ],
 "metadata": {
  "kernelspec": {
   "display_name": "Python 3",
   "language": "python",
   "name": "python3"
  },
  "language_info": {
   "codemirror_mode": {
    "name": "ipython",
    "version": 3
   },
   "file_extension": ".py",
   "mimetype": "text/x-python",
   "name": "python",
   "nbconvert_exporter": "python",
   "pygments_lexer": "ipython3",
   "version": "3.6.0"
  }
 },
 "nbformat": 4,
 "nbformat_minor": 2
}
