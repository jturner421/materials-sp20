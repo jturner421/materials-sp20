{
 "cells": [
  {
   "cell_type": "code",
   "execution_count": 1,
   "metadata": {},
   "outputs": [],
   "source": [
    "from datascience import *\n",
    "from prob140 import *\n",
    "import numpy as np\n",
    "from scipy import stats\n",
    "\n",
    "import matplotlib.pyplot as plt\n",
    "%matplotlib inline\n",
    "plt.style.use('fivethirtyeight')\n",
    "\n",
    "from sympy import *\n",
    "init_printing()"
   ]
  },
  {
   "cell_type": "code",
   "execution_count": 2,
   "metadata": {},
   "outputs": [],
   "source": [
    "# Support embedding YouTube Videos in Notebooks\n",
    "from IPython.display import YouTubeVideo"
   ]
  },
  {
   "cell_type": "code",
   "execution_count": 3,
   "metadata": {},
   "outputs": [],
   "source": [
    "def possible_values():\n",
    "    plt.axes().set_aspect('equal')\n",
    "    plt.xlim(-.02, 1.02)\n",
    "    plt.ylim(-.02, 1.02)\n",
    "    x = np.arange(0, 1.01, .1)\n",
    "    top = np.ones(len(x))\n",
    "    plt.plot(x, x, lw=2, color='darkblue')\n",
    "    plt.plot(x, top, lw=2, color='darkblue')\n",
    "    plt.fill_between(x, top, x, alpha=0.2)\n",
    "    plt.plot([0, 0], [0, 1], lw=2, color='darkblue')\n",
    "    plt.xticks(np.arange(0, 1.02, 0.2))\n",
    "    plt.yticks(np.arange(0, 1.02, 0.2))\n",
    "    plt.xlabel('$X$')\n",
    "    plt.ylabel('$Y$', rotation=0);"
   ]
  },
  {
   "cell_type": "markdown",
   "metadata": {},
   "source": [
    "# Week 10 Part 2 #"
   ]
  },
  {
   "cell_type": "markdown",
   "metadata": {},
   "source": [
    "**The video covers the same ideas as in the text and in this notebook, but uses a different joint density function** as its running example. \n",
    "\n",
    "Follow the video and then apply the concepts and methods to the joint density defined in the notebook. It's the same joint density function as in the [textbook](http://prob140.org/textbook/Chapter_17/01_Probabilities_and_Expectations.html#Probabilities-and-Expectations). \n",
    "\n",
    "Here we are going to concentrate on setting up the integrals and then let `SymPy` do the work. You should, however, be able to do the calculus. It's linked in the Readings."
   ]
  },
  {
   "cell_type": "markdown",
   "metadata": {},
   "source": [
    "# <span style=\"color: darkblue\">Total Volume Under the Surface</span> #"
   ]
  },
  {
   "cell_type": "code",
   "execution_count": 4,
   "metadata": {},
   "outputs": [
    {
     "data": {
      "text/html": [
       "\n",
       "        <iframe\n",
       "            width=\"400\"\n",
       "            height=\"300\"\n",
       "            src=\"https://www.youtube.com/embed/CLTO2T_iAms\"\n",
       "            frameborder=\"0\"\n",
       "            allowfullscreen\n",
       "        ></iframe>\n",
       "        "
      ],
      "text/plain": [
       "<IPython.lib.display.YouTubeVideo at 0x10e9275f8>"
      ]
     },
     "execution_count": 4,
     "metadata": {},
     "output_type": "execute_result"
    }
   ],
   "source": [
    "YouTubeVideo(\"CLTO2T_iAms\")"
   ]
  },
  {
   "cell_type": "markdown",
   "metadata": {},
   "source": [
    "As another example, here's a function that I'm claiming is a joint density. We'll check that claim shortly.\n",
    "\n",
    "$$\n",
    "f(x, y) ~ = ~ \n",
    "\\begin{cases}\n",
    "120x(y-x)(1-y), ~~~ 0 < x < y < 1 \\\\\n",
    "0 ~~~~~~~~ \\text{otherwise}\n",
    "\\end{cases}\n",
    "$$\n",
    "\n",
    "If $(X, Y)$ has this joint density then $Y  > X$, so you know immediately that $X$ and $Y$ can't be independent.\n",
    "\n",
    "To find other properties of $X$ and $Y$, we have to use the joint density function, not just the possible values.\n",
    "\n",
    "Run the cell below to see a graph of the surface."
   ]
  },
  {
   "cell_type": "code",
   "execution_count": null,
   "metadata": {},
   "outputs": [],
   "source": [
    "def joint_dens(x,y):\n",
    "    if x > y:\n",
    "        return 0\n",
    "    else:\n",
    "        return 120 * x * (y - x) * (1 - y)\n",
    "    \n",
    "Plot_3d(x_limits=(0, 1), y_limits=(0,1), f=joint_dens, cstride=4, rstride=4)"
   ]
  },
  {
   "cell_type": "markdown",
   "metadata": {},
   "source": [
    "To work with this function, let's set it up in `SymPy`."
   ]
  },
  {
   "cell_type": "code",
   "execution_count": null,
   "metadata": {},
   "outputs": [],
   "source": [
    "x = Symbol('x', positive=True)\n",
    "y = Symbol('y', positive=True)\n",
    "\n",
    "f = 120*x*(y-x)*(1-y)"
   ]
  },
  {
   "cell_type": "code",
   "execution_count": null,
   "metadata": {},
   "outputs": [],
   "source": [
    "f"
   ]
  },
  {
   "cell_type": "markdown",
   "metadata": {},
   "source": [
    "In a later part you'll see where this joint density came from. For now, just focus on how to use it."
   ]
  },
  {
   "cell_type": "markdown",
   "metadata": {},
   "source": [
    "To check that $f$ is a joint density, we have to check two conditions:\n",
    "\n",
    "- $f$ has to be non-negative, which is clearly true.\n",
    "- $f$ has to integrate to 1. That needs checking.\n",
    "\n",
    "We have to find the total volume under the surface $f$ and see if it's 1.\n",
    "\n",
    "The non-negotiable starting point is to sketch the possible values of $(X,Y)$. These are all the points in the blue region below. Remember that the equation of the diagonal line is $y = x$."
   ]
  },
  {
   "cell_type": "code",
   "execution_count": null,
   "metadata": {},
   "outputs": [],
   "source": [
    "possible_values()"
   ]
  },
  {
   "cell_type": "markdown",
   "metadata": {},
   "source": [
    "## Reading 2: Doing the Calculus ##\n",
    "\n",
    "The graph of $f$ is a surface over the blue triangular region, as you have seen. \n",
    "\n",
    "To find the total volume under the surface, the first step is to use geometry to specify the limits of integration. \n",
    "\n",
    "- If you fix $y$, then $x$ can go from $0$ to $y$. Just look at $y=0.4$, for example.\n",
    "- You can fix $y$ anywhere between $0$ and $1$.\n",
    "\n",
    "Then the [calculus](http://prob140.org/textbook/Chapter_17/01_Probabilities_and_Expectations.html#The-Total-Volume-Under-the-Surface) is straightforward.\n",
    "\n",
    "The integral is\n",
    "\n",
    "$$\n",
    "\\text{total volume} ~ = ~ \n",
    "\\int_0^1 \\int_0^y f(x,y)dxdy\n",
    "$$"
   ]
  },
  {
   "cell_type": "markdown",
   "metadata": {},
   "source": [
    "Use `SymPy` to do this integral, by running the two cells below. For double integrals, the arguments of `Integral` are:\n",
    "\n",
    "- the function being integrated\n",
    "- a tuple containing: the variable for the inner integral, its lower limit, its upper limit\n",
    "- a tuple containing: the variable for the outer integral, its lower limit, its upper limit"
   ]
  },
  {
   "cell_type": "code",
   "execution_count": null,
   "metadata": {},
   "outputs": [],
   "source": [
    "# Order of integration: first x, then y:\n",
    "\n",
    "total_volume_x_first = Integral(f, (x, 0, y), (y, 0, 1))\n",
    "total_volume_x_first"
   ]
  },
  {
   "cell_type": "code",
   "execution_count": null,
   "metadata": {},
   "outputs": [],
   "source": [
    "total_volume_x_first.doit()"
   ]
  },
  {
   "cell_type": "markdown",
   "metadata": {},
   "source": [
    "### Vitamin 1 ###\n",
    "Now fill in the blanks to integrate in the other order:\n",
    "\n",
    "$$\n",
    "\\text{total volume} ~ = ~ \n",
    "\\int_{\\underline{~~~}}^{\\underline{~~~}} \\int_{\\underline{~~~}}^{\\underline{~~~}}\n",
    "f(x,y)dydx\n",
    "$$\n",
    "\n",
    "Here are the possible values again for reference."
   ]
  },
  {
   "cell_type": "code",
   "execution_count": null,
   "metadata": {},
   "outputs": [],
   "source": [
    "possible_values()"
   ]
  },
  {
   "cell_type": "markdown",
   "metadata": {},
   "source": [
    "<details>\n",
    "    <summary>Answer</summary>\n",
    "$$\n",
    "\\text{total volume} ~ = ~ \n",
    "\\int_{0}^{1} \\int_{x}^{1}\n",
    "f(x,y)dxdy\n",
    "$$\n",
    "</details>"
   ]
  },
  {
   "cell_type": "code",
   "execution_count": null,
   "metadata": {},
   "outputs": [],
   "source": [
    "# Order of integration: first y, then x:\n",
    "\n",
    "total_volume_y_first = Integral(f, (y, ..., ...), (x, ..., ...))\n",
    "total_volume_y_first"
   ]
  },
  {
   "cell_type": "code",
   "execution_count": null,
   "metadata": {},
   "outputs": [],
   "source": [
    "total_volume_y_first.doit()"
   ]
  }
 ],
 "metadata": {
  "anaconda-cloud": {},
  "kernelspec": {
   "display_name": "Python 3",
   "language": "python",
   "name": "python3"
  },
  "language_info": {
   "codemirror_mode": {
    "name": "ipython",
    "version": 3
   },
   "file_extension": ".py",
   "mimetype": "text/x-python",
   "name": "python",
   "nbconvert_exporter": "python",
   "pygments_lexer": "ipython3",
   "version": "3.6.0"
  }
 },
 "nbformat": 4,
 "nbformat_minor": 1
}
