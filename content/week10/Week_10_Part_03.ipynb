{
 "cells": [
  {
   "cell_type": "code",
   "execution_count": 1,
   "metadata": {},
   "outputs": [],
   "source": [
    "from datascience import *\n",
    "from prob140 import *\n",
    "import numpy as np\n",
    "from scipy import stats\n",
    "\n",
    "import matplotlib.pyplot as plt\n",
    "%matplotlib inline\n",
    "plt.style.use('fivethirtyeight')\n",
    "\n",
    "from sympy import *\n",
    "init_printing()"
   ]
  },
  {
   "cell_type": "code",
   "execution_count": 2,
   "metadata": {},
   "outputs": [],
   "source": [
    "# Support embedding YouTube Videos in Notebooks\n",
    "from IPython.display import YouTubeVideo"
   ]
  },
  {
   "cell_type": "code",
   "execution_count": 3,
   "metadata": {},
   "outputs": [],
   "source": [
    "def possible_values():\n",
    "    plt.axes().set_aspect('equal')\n",
    "    plt.xlim(-.02, 1.02)\n",
    "    plt.ylim(-.02, 1.02)\n",
    "    x = np.arange(0, 1.01, .1)\n",
    "    top = np.ones(len(x))\n",
    "    plt.plot(x, x, lw=2, color='darkblue')\n",
    "    plt.plot(x, top, lw=2, color='darkblue')\n",
    "    plt.fill_between(x, top, x, alpha=0.2)\n",
    "    plt.plot([0, 0], [0, 1], lw=2, color='darkblue')\n",
    "    plt.xticks(np.arange(0, 1.02, 0.2))\n",
    "    plt.yticks(np.arange(0, 1.02, 0.2))\n",
    "    plt.xlabel('$X$')\n",
    "    plt.ylabel('$Y$', rotation=0);"
   ]
  },
  {
   "cell_type": "code",
   "execution_count": 4,
   "metadata": {},
   "outputs": [],
   "source": [
    "def event1():\n",
    "    possible_values()\n",
    "    v = np.array([0, 0.8])\n",
    "    w = v+0.2\n",
    "    plt.plot(v, w, lw=2, color='g')\n",
    "    plt.fill_between(v, np.ones(2), w,color='g', alpha = 0.2)\n",
    "    plt.title('$Y > X+0.2$');"
   ]
  },
  {
   "cell_type": "code",
   "execution_count": 5,
   "metadata": {},
   "outputs": [],
   "source": [
    "def event2():\n",
    "    possible_values()\n",
    "    v = np.array([0, 1])\n",
    "    w = v+0.2\n",
    "    plt.plot(v, w, lw=2, color='g')\n",
    "    plt.fill_between(v, w, v,color='g', alpha = 0.2)\n",
    "    plt.title('$Y < X+0.2$');"
   ]
  },
  {
   "cell_type": "code",
   "execution_count": 6,
   "metadata": {},
   "outputs": [],
   "source": [
    "def event2_partitioned():\n",
    "    possible_values()\n",
    "    v = np.array([0, 1])\n",
    "    w = v+0.2\n",
    "    plt.plot(v, w, lw=2, color='g')\n",
    "    plt.fill_between(v, w, v,color='g', alpha = 0.2)\n",
    "    u = np.array([0.8, 1])\n",
    "    plt.fill_between(u, np.ones(2), u, color='g', alpha=0.4)\n",
    "    plt.title('$Y < X+0.2$');"
   ]
  },
  {
   "cell_type": "markdown",
   "metadata": {},
   "source": [
    "# Week 10 Part 3 #"
   ]
  },
  {
   "cell_type": "markdown",
   "metadata": {},
   "source": [
    "# <span style=\"color: darkblue\">Probabilities as Volumes</span> #"
   ]
  },
  {
   "cell_type": "code",
   "execution_count": 7,
   "metadata": {},
   "outputs": [
    {
     "data": {
      "text/html": [
       "\n",
       "        <iframe\n",
       "            width=\"400\"\n",
       "            height=\"300\"\n",
       "            src=\"https://www.youtube.com/embed/1W9bYgBufLw\"\n",
       "            frameborder=\"0\"\n",
       "            allowfullscreen\n",
       "        ></iframe>\n",
       "        "
      ],
      "text/plain": [
       "<IPython.lib.display.YouTubeVideo at 0x10e930518>"
      ]
     },
     "execution_count": 7,
     "metadata": {},
     "output_type": "execute_result"
    }
   ],
   "source": [
    "YouTubeVideo(\"1W9bYgBufLw\")"
   ]
  },
  {
   "cell_type": "markdown",
   "metadata": {},
   "source": [
    "The examples below refer to the same joint density that you worked with in the earlier parts.\n",
    "\n",
    "$X$ and $Y$ have joint density given by\n",
    "\n",
    "$$\n",
    "f(x, y) ~ = ~ \n",
    "\\begin{cases}\n",
    "120x(y-x)(1-y), ~~~ 0 < x < y < 1 \\\\\n",
    "0 ~~~~~~~~ \\text{otherwise}\n",
    "\\end{cases}\n",
    "$$"
   ]
  },
  {
   "cell_type": "code",
   "execution_count": null,
   "metadata": {},
   "outputs": [],
   "source": [
    "x = Symbol('x', positive=True)\n",
    "y = Symbol('y', positive=True)\n",
    "\n",
    "f = 120*x*(y-x)*(1-y)"
   ]
  },
  {
   "cell_type": "code",
   "execution_count": null,
   "metadata": {},
   "outputs": [],
   "source": [
    "f"
   ]
  },
  {
   "cell_type": "code",
   "execution_count": null,
   "metadata": {},
   "outputs": [],
   "source": [
    "# Possible Values\n",
    "\n",
    "possible_values()"
   ]
  },
  {
   "cell_type": "markdown",
   "metadata": {},
   "source": [
    "### <span style=\"color: darkblue\">Example 1</span> ###"
   ]
  },
  {
   "cell_type": "markdown",
   "metadata": {},
   "source": [
    "Let's find $P(Y > X + 0.2)$.\n",
    "\n",
    "**Step 1:** Sketch the region. Draw the boundary line $y = x + 0.2$ and notice that you want all the points above it."
   ]
  },
  {
   "cell_type": "code",
   "execution_count": null,
   "metadata": {},
   "outputs": [],
   "source": [
    "event1()"
   ]
  },
  {
   "cell_type": "markdown",
   "metadata": {},
   "source": [
    "**Step 2:** Select an order of integration and figure out the limits of integration. Remember that on the boundary line, $y = x + 0.2$ so $x = y - 0.2$.\n",
    "\n",
    "- Suppose you fix $y$. Then $x$ goes from $0$ to $y-0.2$. If you're not sure, take $y=0.6$ and see what's the smallest and largest that $x$ could be.\n",
    "- You can fix $y$ anywhere between $0.2$ and $1$.\n",
    "    \n",
    "**Step 3:** Write the integral.\n",
    "\n",
    "$$\n",
    "P(Y > X+0.2) ~ = ~ \\int_{0.2}^1 \\int_0^{y-0.2} f(x,y)dxdy\n",
    "$$"
   ]
  },
  {
   "cell_type": "code",
   "execution_count": null,
   "metadata": {},
   "outputs": [],
   "source": [
    "# prob1 = P(Y > X + 0.2)\n",
    "\n",
    "prob1 = Integral(f, (x, 0, y-0.2), (y, 0.2, 1))\n",
    "prob1"
   ]
  },
  {
   "cell_type": "code",
   "execution_count": null,
   "metadata": {},
   "outputs": [],
   "source": [
    "prob1.doit()"
   ]
  },
  {
   "cell_type": "markdown",
   "metadata": {},
   "source": [
    "### Vitamin ###\n",
    "Fill in the blanks to find the same probability $P(Y > X + 0.2)$ by integrating $y$ first.\n",
    "\n",
    "$$\n",
    "P(Y > X + 0.2) ~ = ~ \n",
    "\\int_{\\underline{~~~}}^{\\underline{~~~}} \\int_{\\underline{~~~}}^{\\underline{~~~}}\n",
    "f(x,y)dydx\n",
    "$$\n",
    "\n",
    "\n",
    "<details>\n",
    "    <summary>Answer</summary>\n",
    "$$\n",
    "P(Y > X + 0.2) ~ = ~ \n",
    "\\int_{0}^{0.8} \\int_{x+0.2}^{1}\n",
    "f(x,y)dxdy\n",
    "$$\n",
    "</details>\n",
    "\n",
    "Now check that it works out:"
   ]
  },
  {
   "cell_type": "code",
   "execution_count": null,
   "metadata": {},
   "outputs": [],
   "source": [
    "prob1_again = Integral(f, (y, ..., ...), (x, ..., ...))\n",
    "prob1_again"
   ]
  },
  {
   "cell_type": "code",
   "execution_count": null,
   "metadata": {},
   "outputs": [],
   "source": [
    "prob1_again.doit()"
   ]
  },
  {
   "cell_type": "markdown",
   "metadata": {},
   "source": [
    "### <span style=\"color: darkblue\">Example 2: Partitioning</span> ###\n",
    "\n",
    "Since we have found $P(Y > X + 0.2)$, we can find $P(Y < X + 0.2)$ by complementation. Remember that equality has probability 0.\n",
    "\n",
    "But we can also try to find $P(Y < X + 0.2)$ directly by integration."
   ]
  },
  {
   "cell_type": "code",
   "execution_count": null,
   "metadata": {},
   "outputs": [],
   "source": [
    "event2()"
   ]
  },
  {
   "cell_type": "markdown",
   "metadata": {},
   "source": [
    "If you fix $x$ and try to find the limits of $y$, you'll notice a change at $x = 0.8$. The figure below partitions $\\{Y < X+0.2\\}$ according to whether $X$ is smaller than or bigger than $0.8$."
   ]
  },
  {
   "cell_type": "code",
   "execution_count": null,
   "metadata": {},
   "outputs": [],
   "source": [
    "event2_partitioned()"
   ]
  },
  {
   "cell_type": "markdown",
   "metadata": {},
   "source": [
    "The volume $P(Y < X+0.2)$ is the sum of two pieces:\n",
    "\n",
    "$$\n",
    "P(Y < X+0.2) ~ = ~ \n",
    "\\int_{0}^{0.8} \\int_x^{x+0.2}\n",
    "f(x,y)dydx ~ + ~ \\int_{0.8}^1 \\int_x^1 f(x,y)dydx\n",
    "$$"
   ]
  },
  {
   "cell_type": "code",
   "execution_count": null,
   "metadata": {},
   "outputs": [],
   "source": [
    "# prob2 = P(Y < X + 0.2)\n",
    "\n",
    "prob2 = Integral(f, (y, x, x+0.2), (x, 0, 0.8)\n",
    "                ) + Integral (f, (y, x, 1), (x, 0.8, 1))\n",
    "prob2"
   ]
  },
  {
   "cell_type": "code",
   "execution_count": null,
   "metadata": {},
   "outputs": [],
   "source": [
    "# P(Y < X + 0.2) and 1-P(Y > X + 0.2)\n",
    "\n",
    "prob2.doit(), 1-prob1.doit()"
   ]
  },
  {
   "cell_type": "markdown",
   "metadata": {},
   "source": [
    "You can try switching the order of integration; there will still be two pieces. Complementation is the fastest way here."
   ]
  },
  {
   "cell_type": "markdown",
   "metadata": {},
   "source": [
    "## Reading: More Examples ##\n",
    "[Here](http://prob140.org/textbook/Chapter_17/01_Probabilities_and_Expectations.html#Probabilities-as-Volumes) is a simple one, and [here](http://prob140.org/textbook/Chapter_17/01_Probabilities_and_Expectations.html#Example-2) is another."
   ]
  }
 ],
 "metadata": {
  "anaconda-cloud": {},
  "kernelspec": {
   "display_name": "Python 3",
   "language": "python",
   "name": "python3"
  },
  "language_info": {
   "codemirror_mode": {
    "name": "ipython",
    "version": 3
   },
   "file_extension": ".py",
   "mimetype": "text/x-python",
   "name": "python",
   "nbconvert_exporter": "python",
   "pygments_lexer": "ipython3",
   "version": "3.6.0"
  }
 },
 "nbformat": 4,
 "nbformat_minor": 1
}
