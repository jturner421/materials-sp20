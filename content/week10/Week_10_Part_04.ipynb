{
 "cells": [
  {
   "cell_type": "code",
   "execution_count": 1,
   "metadata": {},
   "outputs": [],
   "source": [
    "from datascience import *\n",
    "from prob140 import *\n",
    "import numpy as np\n",
    "from scipy import stats\n",
    "\n",
    "import matplotlib.pyplot as plt\n",
    "%matplotlib inline\n",
    "plt.style.use('fivethirtyeight')\n",
    "\n",
    "from sympy import *\n",
    "init_printing()"
   ]
  },
  {
   "cell_type": "code",
   "execution_count": 2,
   "metadata": {},
   "outputs": [],
   "source": [
    "# Support embedding YouTube Videos in Notebooks\n",
    "from IPython.display import YouTubeVideo"
   ]
  },
  {
   "cell_type": "code",
   "execution_count": 3,
   "metadata": {},
   "outputs": [],
   "source": [
    "def possible_values():\n",
    "    plt.axes().set_aspect('equal')\n",
    "    plt.xlim(-.02, 1.02)\n",
    "    plt.ylim(-.02, 1.02)\n",
    "    x = np.arange(0, 1.01, .1)\n",
    "    top = np.ones(len(x))\n",
    "    plt.plot(x, x, lw=2, color='darkblue')\n",
    "    plt.plot(x, top, lw=2, color='darkblue')\n",
    "    plt.fill_between(x, top, x, alpha=0.2)\n",
    "    plt.plot([0, 0], [0, 1], lw=2, color='darkblue')\n",
    "    plt.xticks(np.arange(0, 1.02, 0.2))\n",
    "    plt.yticks(np.arange(0, 1.02, 0.2))\n",
    "    plt.xlabel('$X$')\n",
    "    plt.ylabel('$Y$', rotation=0);"
   ]
  },
  {
   "cell_type": "markdown",
   "metadata": {},
   "source": [
    "# Week 10 Part 4 #"
   ]
  },
  {
   "cell_type": "markdown",
   "metadata": {},
   "source": [
    "# <span style=\"color: darkblue\">Expectation</span> #"
   ]
  },
  {
   "cell_type": "code",
   "execution_count": 4,
   "metadata": {},
   "outputs": [
    {
     "data": {
      "text/html": [
       "\n",
       "        <iframe\n",
       "            width=\"400\"\n",
       "            height=\"300\"\n",
       "            src=\"https://www.youtube.com/embed/Y2QWG3Uje3o\"\n",
       "            frameborder=\"0\"\n",
       "            allowfullscreen\n",
       "        ></iframe>\n",
       "        "
      ],
      "text/plain": [
       "<IPython.lib.display.YouTubeVideo at 0x122a45320>"
      ]
     },
     "execution_count": 4,
     "metadata": {},
     "output_type": "execute_result"
    }
   ],
   "source": [
    "YouTubeVideo(\"Y2QWG3Uje3o\")"
   ]
  },
  {
   "cell_type": "markdown",
   "metadata": {},
   "source": [
    "## Reading ##\n",
    "The general formula is [here](http://prob140.org/textbook/Chapter_17/01_Probabilities_and_Expectations.html#Expectation). Note that the integral can be done in either order. You can ignore existence issues for now."
   ]
  },
  {
   "cell_type": "markdown",
   "metadata": {},
   "source": [
    "The examples below refer to the same joint density that you worked with in the earlier parts.\n",
    "\n",
    "$X$ and $Y$ have joint density given by\n",
    "\n",
    "$$\n",
    "f(x, y) ~ = ~ \n",
    "\\begin{cases}\n",
    "120x(y-x)(1-y), ~~~ 0 < x < y < 1 \\\\\n",
    "0 ~~~~~~~~ \\text{otherwise}\n",
    "\\end{cases}\n",
    "$$"
   ]
  },
  {
   "cell_type": "code",
   "execution_count": null,
   "metadata": {},
   "outputs": [],
   "source": [
    "x = Symbol('x', positive=True)\n",
    "y = Symbol('y', positive=True)\n",
    "\n",
    "f = 120*x*(y-x)*(1-y)"
   ]
  },
  {
   "cell_type": "code",
   "execution_count": null,
   "metadata": {},
   "outputs": [],
   "source": [
    "f"
   ]
  },
  {
   "cell_type": "code",
   "execution_count": null,
   "metadata": {},
   "outputs": [],
   "source": [
    "# possible values\n",
    "\n",
    "possible_values()"
   ]
  },
  {
   "cell_type": "markdown",
   "metadata": {},
   "source": [
    "### Vitamin 1 ###\n",
    "\n",
    "Let $W = \\frac{Y}{X+1}$. Write an integral expression for $E(W)$. Use whichever order of integration you prefer, but please don't include regions where $f$ is $0$.\n",
    "\n",
    "$$\n",
    "E\\big{(}\\frac{Y}{X+1}\\big{)} ~ = ~ \\int_{\\underline{~~~}}^{\\underline{~~~}} \\int_{\\underline{~~~}}^{\\underline{~~~}}\\underline{~~~~~~~~~~~~~~~~~~~~~~~~~~~~~~~~~~~} \n",
    "$$\n",
    "\n",
    "<details>\n",
    "    <summary>Answer</summary>\n",
    "$$\n",
    "E(W) ~ = ~ \n",
    "\\int_{0}^{1} \\int_{0}^{y}\n",
    "\\frac{y}{x+1}f(x,y)dxdy \n",
    "~ = ~ \\int_{0}^{1} \\int_{x}^{1}\n",
    "\\frac{y}{x+1}f(x,y)dydx \n",
    "$$\n",
    "</details>"
   ]
  },
  {
   "cell_type": "markdown",
   "metadata": {},
   "source": [
    "Now find the numerical value of $E(W)$ by carrying out the integral. You should get $\\frac{1}{2}$."
   ]
  },
  {
   "cell_type": "code",
   "execution_count": null,
   "metadata": {},
   "outputs": [],
   "source": [
    "# E(W) where W = Y/(X+1)\n",
    "\n",
    "ev_W = Integral(..., ..., ...)\n",
    "ev_W"
   ]
  },
  {
   "cell_type": "code",
   "execution_count": null,
   "metadata": {},
   "outputs": [],
   "source": [
    "ev_W.doit()"
   ]
  },
  {
   "cell_type": "markdown",
   "metadata": {},
   "source": [
    "### Vitamin  2 ###\n",
    "\n",
    "Write an integral expression for $E(X)$ and then use the code cells to find its numerical value. Remember that $X$ is a function of $(X, Y)$. The function is the \"coordinate map\" $g$ where $g(x, y) = x$.\n",
    "\n",
    "As before, you can integrate in your preferred order.\n",
    "\n",
    "$$\n",
    "E(X) ~ = ~ \\int_{\\underline{~~~}}^{\\underline{~~~}} \\int_{\\underline{~~~}}^{\\underline{~~~}}\\underline{~~~~~~~~~~~~~~~~~~~~~~~~~~~~~~~~~~~} \n",
    "$$\n",
    "\n",
    "<details>\n",
    "    <summary>Answer</summary>\n",
    "$$\n",
    "E(W) ~ = ~ \n",
    "\\int_{0}^{1} \\int_{0}^{y}\n",
    "xf(x,y)dxdy \n",
    "~ = ~ \\int_{0}^{1} \\int_{x}^{1}\n",
    "x f(x,y)dydx \n",
    "$$\n",
    "\n",
    "The numerical value is $\\frac{1}{3}$.\n",
    "</details>"
   ]
  },
  {
   "cell_type": "code",
   "execution_count": null,
   "metadata": {},
   "outputs": [],
   "source": [
    "ev_X = Integral(..., ..., ...)\n",
    "ev_X"
   ]
  },
  {
   "cell_type": "code",
   "execution_count": null,
   "metadata": {},
   "outputs": [],
   "source": [
    "ev_X.doit()"
   ]
  },
  {
   "cell_type": "markdown",
   "metadata": {},
   "source": [
    "### Vitamin 3 ###\n",
    "Use the code cells to find the numerical value of $E(Y)$. You don't have to write out the integral.\n",
    "\n",
    "<details>\n",
    "    <summary>Answer</summary>\n",
    "\n",
    "The numerical value is $\\frac{2}{3}$.\n",
    "</details>"
   ]
  },
  {
   "cell_type": "code",
   "execution_count": null,
   "metadata": {},
   "outputs": [],
   "source": [
    "ev_Y = Integral(..., ..., ...)\n",
    "ev_Y"
   ]
  },
  {
   "cell_type": "code",
   "execution_count": null,
   "metadata": {},
   "outputs": [],
   "source": [
    "ev_Y.doit()"
   ]
  }
 ],
 "metadata": {
  "anaconda-cloud": {},
  "kernelspec": {
   "display_name": "Python 3",
   "language": "python",
   "name": "python3"
  },
  "language_info": {
   "codemirror_mode": {
    "name": "ipython",
    "version": 3
   },
   "file_extension": ".py",
   "mimetype": "text/x-python",
   "name": "python",
   "nbconvert_exporter": "python",
   "pygments_lexer": "ipython3",
   "version": "3.6.0"
  }
 },
 "nbformat": 4,
 "nbformat_minor": 1
}
