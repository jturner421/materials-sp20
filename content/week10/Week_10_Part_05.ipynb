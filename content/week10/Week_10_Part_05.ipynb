{
 "cells": [
  {
   "cell_type": "code",
   "execution_count": 1,
   "metadata": {},
   "outputs": [],
   "source": [
    "# HIDDEN\n",
    "from datascience import *\n",
    "from prob140 import *\n",
    "import numpy as np\n",
    "from scipy import stats\n",
    "\n",
    "import matplotlib.pyplot as plt\n",
    "%matplotlib inline\n",
    "plt.style.use('fivethirtyeight')"
   ]
  },
  {
   "cell_type": "code",
   "execution_count": 2,
   "metadata": {},
   "outputs": [],
   "source": [
    "# Support embedding YouTube Videos in Notebooks\n",
    "from IPython.display import YouTubeVideo"
   ]
  },
  {
   "cell_type": "markdown",
   "metadata": {},
   "source": [
    "# Week 10 Part 5 #"
   ]
  },
  {
   "cell_type": "markdown",
   "metadata": {},
   "source": [
    "# <span style=\"color: darkblue\">Independence</span> #"
   ]
  },
  {
   "cell_type": "code",
   "execution_count": 3,
   "metadata": {},
   "outputs": [
    {
     "data": {
      "text/html": [
       "\n",
       "        <iframe\n",
       "            width=\"400\"\n",
       "            height=\"300\"\n",
       "            src=\"https://www.youtube.com/embed/feUgzHOonow\"\n",
       "            frameborder=\"0\"\n",
       "            allowfullscreen\n",
       "        ></iframe>\n",
       "        "
      ],
      "text/plain": [
       "<IPython.lib.display.YouTubeVideo at 0x10e920748>"
      ]
     },
     "execution_count": 3,
     "metadata": {},
     "output_type": "execute_result"
    }
   ],
   "source": [
    "YouTubeVideo(\"feUgzHOonow\")"
   ]
  },
  {
   "cell_type": "markdown",
   "metadata": {},
   "source": [
    "## Reading 1: Factoring the Joint Density ##\n",
    "The joint density of two independent random variables is [easily found](http://prob140.org/textbook/Chapter_17/02_Independence.html#Independence) using the two individual densities."
   ]
  },
  {
   "cell_type": "markdown",
   "metadata": {},
   "source": [
    "## Reading 2: Two Independent Standard Normals ##\n",
    "The classic [bell shape](http://prob140.org/textbook/Chapter_17/02_Independence.html#Independence)."
   ]
  },
  {
   "cell_type": "markdown",
   "metadata": {},
   "source": [
    "## Reading 3: Competing Exponentials ##\n",
    "Many calculations in stochastic processes involve the event that a particular one of two independent exponential times is longer. That chance has a straightforward but illuminating [calculation](http://prob140.org/textbook/Chapter_17/02_Independence.html#The-Larger-of-Two-Independent-Exponential-Random-Variables) and a simple answer.\n",
    "\n",
    "Note the discussion about whether the chance is bigger than or less than 1/2.\n",
    "\n",
    "Also note that organizing the calculation so that you can use probability facts eliminates the need for more calculus."
   ]
  },
  {
   "cell_type": "markdown",
   "metadata": {},
   "source": [
    "## Vitamins ##\n",
    "\n",
    "**1.** $X$ is normal $(0, 4)$ and $Y$ is normal $(0, 9)$. Suppose $X$ and $Y$ are independent. Find the joint density of $X$ and $Y$.\n",
    "\n",
    "<details>\n",
    "    <summary>Answer</summary>\n",
    "$$\n",
    "f(x,y) = \\frac{1}{\\sqrt{2\\pi}\\cdot2} e^{-\\frac{1}{2}\\cdot\\frac{x^2}{4}} \\cdot \\frac{1}{\\sqrt{2\\pi}\\cdot3} e^{-\\frac{1}{2}\\cdot\\frac{y^2}{9}} ~~~\n",
    "\\text{ for all } x, y\n",
    "$$\n",
    "</details>\n",
    "\n",
    "**2.** For some positive constant $c$, the random variables $X$ and $Y$ have joint density $f(x,y) = ce^{-\\frac{1}{10}(x^2+y^2)}$ for all $x$ and $y$. Are $X$ and $Y$ independent?\n",
    "\n",
    "<details>\n",
    "    <summary>Answer</summary>\n",
    "Yes.\n",
    "</details>\n",
    "\n",
    "**3.** The lifetimes of two electrical components are independent. The lifetime of Component 1 has the exponential $(0.1)$ distribution, and the lifetime of Component 2 has the exponential $(0.2)$ distribution.\n",
    "\n",
    "**Without calculation**, pick the correct option: The chance that Component 1 lives longer than Component 2 is\n",
    "\n",
    "**(i)** less than 1/2\n",
    "\n",
    "**(ii)** equal to 1/2\n",
    "\n",
    "**(iii)** greater than 1/2\n",
    "\n",
    "<details>\n",
    "    <summary>Answer</summary>\n",
    "(iii)\n",
    "</details>\n",
    "\n",
    "**4.** Find the chance in Vitamin 3 above.\n",
    "\n",
    "<details>\n",
    "    <summary>Answer</summary>\n",
    "2/3\n",
    "</details>"
   ]
  }
 ],
 "metadata": {
  "anaconda-cloud": {},
  "kernelspec": {
   "display_name": "Python 3",
   "language": "python",
   "name": "python3"
  },
  "language_info": {
   "codemirror_mode": {
    "name": "ipython",
    "version": 3
   },
   "file_extension": ".py",
   "mimetype": "text/x-python",
   "name": "python",
   "nbconvert_exporter": "python",
   "pygments_lexer": "ipython3",
   "version": "3.6.0"
  }
 },
 "nbformat": 4,
 "nbformat_minor": 1
}
