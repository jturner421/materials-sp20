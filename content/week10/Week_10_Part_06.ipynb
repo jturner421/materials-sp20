{
 "cells": [
  {
   "cell_type": "code",
   "execution_count": 1,
   "metadata": {},
   "outputs": [],
   "source": [
    "from datascience import *\n",
    "from prob140 import *\n",
    "import numpy as np\n",
    "from scipy import stats\n",
    "\n",
    "import matplotlib.pyplot as plt\n",
    "%matplotlib inline\n",
    "plt.style.use('fivethirtyeight')\n",
    "\n",
    "from sympy import *\n",
    "init_printing()"
   ]
  },
  {
   "cell_type": "code",
   "execution_count": 2,
   "metadata": {},
   "outputs": [],
   "source": [
    "# Support embedding YouTube Videos in Notebooks\n",
    "from IPython.display import YouTubeVideo"
   ]
  },
  {
   "cell_type": "code",
   "execution_count": 3,
   "metadata": {},
   "outputs": [],
   "source": [
    "def possible_values():\n",
    "    plt.axes().set_aspect('equal')\n",
    "    plt.xlim(-.02, 1.02)\n",
    "    plt.ylim(-.02, 1.02)\n",
    "    x = np.arange(0, 1.01, .1)\n",
    "    top = np.ones(len(x))\n",
    "    plt.plot(x, x, lw=2, color='darkblue')\n",
    "    plt.plot(x, top, lw=2, color='darkblue')\n",
    "    plt.fill_between(x, top, x, alpha=0.2)\n",
    "    plt.plot([0, 0], [0, 1], lw=2, color='darkblue')\n",
    "    plt.xticks(np.arange(0, 1.02, 0.2))\n",
    "    plt.yticks(np.arange(0, 1.02, 0.2))\n",
    "    plt.xlabel('$X$')\n",
    "    plt.ylabel('$Y$', rotation=0);"
   ]
  },
  {
   "cell_type": "markdown",
   "metadata": {},
   "source": [
    "# Week 10 Part 6 #"
   ]
  },
  {
   "cell_type": "markdown",
   "metadata": {},
   "source": [
    "This notebook and the next one are almost self-contained in that you might be fine just going through the videos and calculations in the notebooks, and referring to the readings if you want a better understanding of the theory. The textbook does have another set of examples as well."
   ]
  },
  {
   "cell_type": "markdown",
   "metadata": {},
   "source": [
    "# <span style=\"color: darkblue\">Marginal Densities</span> #"
   ]
  },
  {
   "cell_type": "code",
   "execution_count": 4,
   "metadata": {},
   "outputs": [
    {
     "data": {
      "text/html": [
       "\n",
       "        <iframe\n",
       "            width=\"400\"\n",
       "            height=\"300\"\n",
       "            src=\"https://www.youtube.com/embed/0rn7RbjG1Z0\"\n",
       "            frameborder=\"0\"\n",
       "            allowfullscreen\n",
       "        ></iframe>\n",
       "        "
      ],
      "text/plain": [
       "<IPython.lib.display.YouTubeVideo at 0x10e926780>"
      ]
     },
     "execution_count": 4,
     "metadata": {},
     "output_type": "execute_result"
    }
   ],
   "source": [
    "YouTubeVideo(\"0rn7RbjG1Z0\")"
   ]
  },
  {
   "cell_type": "markdown",
   "metadata": {},
   "source": [
    "As in the previous parts, let $(X, Y)$ have joint density\n",
    "\n",
    "$$\n",
    "f(x, y) ~ = ~ \n",
    "\\begin{cases}\n",
    "120x(y-x)(1-y), ~~~ 0 < x < y < 1 \\\\\n",
    "0 ~~~~~~~~ \\text{otherwise}\n",
    "\\end{cases}\n",
    "$$"
   ]
  },
  {
   "cell_type": "code",
   "execution_count": 5,
   "metadata": {},
   "outputs": [],
   "source": [
    "x = Symbol('x', positive=True)\n",
    "y = Symbol('y', positive=True)\n",
    "\n",
    "f = 120*x*(y-x)*(1-y)"
   ]
  },
  {
   "cell_type": "code",
   "execution_count": 6,
   "metadata": {},
   "outputs": [
    {
     "data": {
      "image/png": "[encoded data removed]",
      "text/latex": [
       "$$120 x \\left(- x + y\\right) \\left(- y + 1\\right)$$"
      ],
      "text/plain": [
       "120⋅x⋅(-x + y)⋅(-y + 1)"
      ]
     },
     "execution_count": 6,
     "metadata": {},
     "output_type": "execute_result"
    }
   ],
   "source": [
    "f"
   ]
  },
  {
   "cell_type": "markdown",
   "metadata": {},
   "source": [
    "### Marginal of $Y$ ###"
   ]
  },
  {
   "cell_type": "code",
   "execution_count": 7,
   "metadata": {},
   "outputs": [
    {
     "data": {
      "image/png": "[encoded data removed]",
      "text/plain": [
       "<Figure size 432x288 with 1 Axes>"
      ]
     },
     "metadata": {},
     "output_type": "display_data"
    }
   ],
   "source": [
    "possible_values()\n",
    "plt.plot([0, 0.5], [0.5, 0.5], color='k', lw=2, linestyle='--');"
   ]
  },
  {
   "cell_type": "markdown",
   "metadata": {},
   "source": [
    "The possible values of $Y$ are $(0, 1)$. To find the density of $Y$ at any value in this range, you have to fix $y$ to be that value and then integrate out $x$. Be careful about the limits of integration as always.\n",
    "\n",
    "$$\n",
    "f_Y(y) ~ = ~ \\int_0^y f(x,y)dx\n",
    "$$"
   ]
  },
  {
   "cell_type": "code",
   "execution_count": null,
   "metadata": {},
   "outputs": [],
   "source": [
    "# Marginal density of Y\n",
    "# For y in (0, 1), f_Y(y) is:\n",
    "\n",
    "f_Y = Integral(f, (x, 0, y)).doit()\n",
    "f_Y"
   ]
  },
  {
   "cell_type": "markdown",
   "metadata": {},
   "source": [
    "That looks awful. This is better:"
   ]
  },
  {
   "cell_type": "code",
   "execution_count": null,
   "metadata": {},
   "outputs": [],
   "source": [
    "f_Y = simplify(f_Y)\n",
    "f_Y"
   ]
  },
  {
   "cell_type": "markdown",
   "metadata": {},
   "source": [
    "This density is a member of the **beta** family. The family is defined by:\n",
    "\n",
    "- The possible values are the unit interval $(0, 1)$\n",
    "- The form is: *normalizing constant* times *variable to a power* times *1-variable to a power*\n",
    "\n",
    "The powers have to be greater than -1, but you won't need that detail at this stage. We will have much to say about the beta family soon."
   ]
  },
  {
   "cell_type": "markdown",
   "metadata": {},
   "source": [
    "### Marginal of $X$ ###\n",
    "\n",
    "Here are the possible values again. To find the marginal of $X$, you have to integrate out $y$."
   ]
  },
  {
   "cell_type": "code",
   "execution_count": null,
   "metadata": {},
   "outputs": [],
   "source": [
    "possible_values()\n",
    "plt.plot([0.5, 0.5], [0.5, 1], color='k', lw=2, linestyle='--');"
   ]
  },
  {
   "cell_type": "markdown",
   "metadata": {},
   "source": [
    "### Vitamin ###\n",
    "\n",
    "Write the integral for the marginal density of $X$, and then calculate it using `SymPy`. You will have to run a couple of simplification cells to get it down to a recognizable form.\n",
    "\n",
    "For $0 < x < 1$,\n",
    "\n",
    "$$\n",
    "f_X(x)  ~ = ~ \\underline{~~~~~~~~~~~~~~~~~~~~~~~~~~}\n",
    "$$\n",
    "\n",
    "<details>\n",
    "    <summary>Answer</summary>\n",
    "$$\n",
    "f_X(x) ~ = ~ \n",
    "\\int_{x}^{1}\n",
    "f(x,y)dy\n",
    "$$\n",
    "</details>"
   ]
  },
  {
   "cell_type": "code",
   "execution_count": null,
   "metadata": {},
   "outputs": [],
   "source": [
    "# Marginal density of X\n",
    "# For x in (0, 1), f_X(x) is:\n",
    "\n",
    "f_X = Integral(f, ...).doit()\n",
    "f_X"
   ]
  },
  {
   "cell_type": "code",
   "execution_count": null,
   "metadata": {},
   "outputs": [],
   "source": [
    "f_X = simplify(f_X)\n",
    "f_X"
   ]
  },
  {
   "cell_type": "code",
   "execution_count": null,
   "metadata": {},
   "outputs": [],
   "source": [
    "f_X = factor(simplify(f_X))\n",
    "f_X"
   ]
  },
  {
   "cell_type": "markdown",
   "metadata": {},
   "source": [
    "That's another member of the beta family.\n",
    "\n",
    "It's always unnerving when densities start with minus signs. Densities can't be negative. But notice that $x < 1$ so $(x-1)^3$ is negative and therefore $f_X$ positive."
   ]
  },
  {
   "cell_type": "markdown",
   "metadata": {},
   "source": [
    "## Reading: Understanding the Integral ##\n",
    "A more formal approach to the formula for the marginal is [here](http://prob140.org/textbook/Chapter_17/03_Marginal_and_Conditional_Densities.html#Marginal-Density-of-$X$).\n",
    "\n",
    "The text uses a [different joint density](http://prob140.org/textbook/Chapter_17/03_Marginal_and_Conditional_Densities.html#Marginal-and-Conditional-Densities) but it's defined on the same set of possible values and hence the integral has the same limits."
   ]
  }
 ],
 "metadata": {
  "anaconda-cloud": {},
  "kernelspec": {
   "display_name": "Python 3",
   "language": "python",
   "name": "python3"
  },
  "language_info": {
   "codemirror_mode": {
    "name": "ipython",
    "version": 3
   },
   "file_extension": ".py",
   "mimetype": "text/x-python",
   "name": "python",
   "nbconvert_exporter": "python",
   "pygments_lexer": "ipython3",
   "version": "3.6.0"
  }
 },
 "nbformat": 4,
 "nbformat_minor": 1
}
