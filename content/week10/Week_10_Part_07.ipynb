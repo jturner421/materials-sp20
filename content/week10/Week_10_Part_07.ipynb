{
 "cells": [
  {
   "cell_type": "code",
   "execution_count": null,
   "metadata": {},
   "outputs": [],
   "source": [
    "from datascience import *\n",
    "from prob140 import *\n",
    "import numpy as np\n",
    "from scipy import stats\n",
    "\n",
    "import matplotlib.pyplot as plt\n",
    "%matplotlib inline\n",
    "plt.style.use('fivethirtyeight')\n",
    "\n",
    "from sympy import *\n",
    "init_printing()"
   ]
  },
  {
   "cell_type": "code",
   "execution_count": null,
   "metadata": {},
   "outputs": [],
   "source": [
    "# Support embedding YouTube Videos in Notebooks\n",
    "from IPython.display import YouTubeVideo"
   ]
  },
  {
   "cell_type": "code",
   "execution_count": null,
   "metadata": {},
   "outputs": [],
   "source": [
    "def possible_values():\n",
    "    plt.axes().set_aspect('equal')\n",
    "    plt.xlim(-.02, 1.02)\n",
    "    plt.ylim(-.02, 1.02)\n",
    "    x = np.arange(0, 1.01, .1)\n",
    "    top = np.ones(len(x))\n",
    "    plt.plot(x, x, lw=2, color='darkblue')\n",
    "    plt.plot(x, top, lw=2, color='darkblue')\n",
    "    plt.fill_between(x, top, x, alpha=0.2)\n",
    "    plt.plot([0, 0], [0, 1], lw=2, color='darkblue')\n",
    "    plt.xticks(np.arange(0, 1.02, 0.2))\n",
    "    plt.yticks(np.arange(0, 1.02, 0.2))\n",
    "    plt.xlabel('$X$')\n",
    "    plt.ylabel('$Y$', rotation=0);"
   ]
  },
  {
   "cell_type": "markdown",
   "metadata": {},
   "source": [
    "# Week 10 Part 7 #"
   ]
  },
  {
   "cell_type": "markdown",
   "metadata": {},
   "source": [
    "# <span style=\"color: darkblue\">Conditioning</span> #"
   ]
  },
  {
   "cell_type": "code",
   "execution_count": null,
   "metadata": {},
   "outputs": [],
   "source": [
    "YouTubeVideo(\"N_gBECk-MLE\")"
   ]
  },
  {
   "cell_type": "markdown",
   "metadata": {},
   "source": [
    "As in the previous parts, let $(X, Y)$ have joint density\n",
    "\n",
    "$$\n",
    "f(x, y) ~ = ~ \n",
    "\\begin{cases}\n",
    "120x(y-x)(1-y), ~~~ 0 < x < y < 1 \\\\\n",
    "0 ~~~~~~~~ \\text{otherwise}\n",
    "\\end{cases}\n",
    "$$"
   ]
  },
  {
   "cell_type": "code",
   "execution_count": null,
   "metadata": {},
   "outputs": [],
   "source": [
    "x = Symbol('x', positive=True)\n",
    "y = Symbol('y', positive=True)\n",
    "\n",
    "f = 120*x*(y-x)*(1-y)"
   ]
  },
  {
   "cell_type": "code",
   "execution_count": null,
   "metadata": {},
   "outputs": [],
   "source": [
    "f"
   ]
  },
  {
   "cell_type": "code",
   "execution_count": null,
   "metadata": {},
   "outputs": [],
   "source": [
    "# possible values\n",
    "\n",
    "possible_values()"
   ]
  },
  {
   "cell_type": "markdown",
   "metadata": {},
   "source": [
    "Now suppose you know $X=x$ for a fixed $x$.\n",
    "\n",
    "- Conditional on that information, the possible values of $Y$ are the interval $(x, 1)$.\n",
    "- The conditional density of $Y$ given $X=x$ is\n",
    "\n",
    "$$\n",
    "f_{Y\\mid X=x}(y) ~ = ~ \\frac{f(x,y)}{f_X(x)} ~~~ \\text{for } y \\in (x,1)\n",
    "$$"
   ]
  },
  {
   "cell_type": "code",
   "execution_count": null,
   "metadata": {},
   "outputs": [],
   "source": [
    "# Marginal density of X\n",
    "\n",
    "f_X = Integral(f, (y,x,1)).doit()\n",
    "f_X = factor(simplify(f_X))\n",
    "f_X"
   ]
  },
  {
   "cell_type": "code",
   "execution_count": null,
   "metadata": {},
   "outputs": [],
   "source": [
    "# Conditional density of Y given X=x\n",
    "# For y in (x, 1), f_Y_given_X_is_x(y) is:\n",
    "\n",
    "f_Y_given_X_is_x = f / f_X\n",
    "\n",
    "simplify(f_Y_given_X_is_x)"
   ]
  },
  {
   "cell_type": "markdown",
   "metadata": {},
   "source": [
    "It looks ugly, but remember that $x$ is the constant known value of $X$. Only $y$ can vary. We'd write the density as\n",
    "\n",
    "$$\n",
    "f_{Y\\mid X=x} ~ = ~ \\frac{6}{(1-x)^3}(y-x)(1-y), ~~~ y \\in (x, 1)\n",
    "$$\n",
    "\n",
    "This is just an ordinary density on the interval $(x, 1)$, so it should integrate to 1 on that interval."
   ]
  },
  {
   "cell_type": "code",
   "execution_count": null,
   "metadata": {},
   "outputs": [],
   "source": [
    "Integral(f_Y_given_X_is_x, (y, x, 1)).doit()"
   ]
  },
  {
   "cell_type": "markdown",
   "metadata": {},
   "source": [
    "Ouch! Either we've done something wrong, or the above is high on the list of the most ridiculous representations of the number 1."
   ]
  },
  {
   "cell_type": "code",
   "execution_count": null,
   "metadata": {},
   "outputs": [],
   "source": [
    "simplify(Integral(f_Y_given_X_is_x, (y, x, 1)).doit())"
   ]
  },
  {
   "cell_type": "markdown",
   "metadata": {},
   "source": [
    "It's a density after all.\n",
    "\n",
    "So it has an expectation. That is called the *conditional expectation of $Y$ given $X=x$*."
   ]
  },
  {
   "cell_type": "code",
   "execution_count": null,
   "metadata": {},
   "outputs": [],
   "source": [
    "# E(Y | X=x)\n",
    "\n",
    "ev_Y_given_X_is_x = Integral(y*f_Y_given_X_is_x, (y, x, 1)).doit()\n",
    "ev_Y_given_X_is_x"
   ]
  },
  {
   "cell_type": "markdown",
   "metadata": {},
   "source": [
    "Fine, we know what to do."
   ]
  },
  {
   "cell_type": "code",
   "execution_count": null,
   "metadata": {},
   "outputs": [],
   "source": [
    "# E(Y | X=x)\n",
    "\n",
    "ev_Y_given_X_is_x = simplify(ev_Y_given_X_is_x)\n",
    "ev_Y_given_X_is_x"
   ]
  },
  {
   "cell_type": "markdown",
   "metadata": {},
   "source": [
    "The old rules of expectation still apply.\n",
    "\n",
    "Here's $E(Y)$ computed from the density of $Y$."
   ]
  },
  {
   "cell_type": "code",
   "execution_count": null,
   "metadata": {},
   "outputs": [],
   "source": [
    "# Marginal density of Y\n",
    "\n",
    "f_Y = Integral(f, (x, 0, y)).doit()\n",
    "f_Y = simplify(f_Y)\n",
    "f_Y"
   ]
  },
  {
   "cell_type": "code",
   "execution_count": null,
   "metadata": {},
   "outputs": [],
   "source": [
    "# E(Y)\n",
    "\n",
    "Integral(y*f_Y, (y, 0, 1)).doit()"
   ]
  },
  {
   "cell_type": "markdown",
   "metadata": {},
   "source": [
    "And here's $E(Y)$ computed by iteration: $E(Y) = E(E(Y \\mid X))$."
   ]
  },
  {
   "cell_type": "code",
   "execution_count": null,
   "metadata": {},
   "outputs": [],
   "source": [
    "# E(Y) by conditioning on X\n",
    "\n",
    "Integral(ev_Y_given_X_is_x*f_X, (x, 0, 1)).doit()"
   ]
  },
  {
   "cell_type": "markdown",
   "metadata": {},
   "source": [
    "You have now computed $E(Y)$ in three different ways, including the two above. Review Part 4 for how you calculated it earlier."
   ]
  },
  {
   "cell_type": "markdown",
   "metadata": {},
   "source": [
    "## Vitamins ##\n",
    "\n",
    "**1.** For $y \\in (0, 1)$, find the conditional density of $X$ given $Y=y$. Remember to specify the possible values.\n",
    "\n",
    "Fix $y \\in (0, 1)$. Then\n",
    "\n",
    "$$\n",
    "f_{X\\mid Y=y}(x) ~ = ~ \\underline{~~~~~~~~~~~~~~~~~~~~~~~~~~} ~~~ \\text{for } x \\underline{~~~~~~~~~~~~~~~}\n",
    "$$\n",
    "\n",
    "<details>\n",
    "    <summary>Answer</summary>\n",
    "$$\n",
    "f_{X \\mid Y=y} (x) ~ = ~ \\frac{f(x,y)}{f_Y(y)} ~~~ \\text{for } x \\in (0, y) \n",
    "$$\n",
    "</details>\n",
    "\n",
    "**2.** Use `SymPy` to find $f_{X \\mid Y=y}(x)$, and check that it integrates to 1 over the possible values you specified in your answer above."
   ]
  },
  {
   "cell_type": "code",
   "execution_count": null,
   "metadata": {},
   "outputs": [],
   "source": [
    "f_X_given_Y_is_y = ...\n",
    "f_X_given_Y_is_y"
   ]
  },
  {
   "cell_type": "code",
   "execution_count": null,
   "metadata": {},
   "outputs": [],
   "source": [
    "Integral(...).doit()"
   ]
  },
  {
   "cell_type": "markdown",
   "metadata": {},
   "source": [
    "## Reading: The Theory of Conditional Densities ##\n",
    "Since $P(X=x) = 0$ when $X$ has a density, it's important to be clear about what is meant by being \"given $X=x$\". The video discusses this but you should also follow the discussion [here](http://prob140.org/textbook/Chapter_17/03_Marginal_and_Conditional_Densities.html#Conditional-Densities)."
   ]
  },
  {
   "cell_type": "markdown",
   "metadata": {},
   "source": [
    "## Congratulations, you're done! ##"
   ]
  }
 ],
 "metadata": {
  "anaconda-cloud": {},
  "kernelspec": {
   "display_name": "Python 3",
   "language": "python",
   "name": "python3"
  },
  "language_info": {
   "codemirror_mode": {
    "name": "ipython",
    "version": 3
   },
   "file_extension": ".py",
   "mimetype": "text/x-python",
   "name": "python",
   "nbconvert_exporter": "python",
   "pygments_lexer": "ipython3",
   "version": "3.6.0"
  }
 },
 "nbformat": 4,
 "nbformat_minor": 1
}
