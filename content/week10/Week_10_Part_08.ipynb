{
 "cells": [
  {
   "cell_type": "code",
   "execution_count": 1,
   "metadata": {},
   "outputs": [],
   "source": [
    "# Support embedding YouTube Videos in Notebooks\n",
    "from IPython.display import YouTubeVideo"
   ]
  },
  {
   "cell_type": "markdown",
   "metadata": {},
   "source": [
    "# Week 10 Part 8 #"
   ]
  },
  {
   "cell_type": "markdown",
   "metadata": {},
   "source": [
    "The *beta* densities are the most commonly used family for modeling random proportions, that is, variables whose possible values are in the unit interval.\n",
    "\n",
    "You have actually worked with them quite a bit already, without knowing their family name. For example, the uniform distribution on $(0, 1)$ is a member of this family, as are several densities that have arisen in examples or your assignments.\n",
    "\n",
    "[Section 17.4](http://prob140.org/textbook/Chapter_17/04_Beta_Densities_with_Integer_Parameters.html) is about what these densities are and how they arise. \n",
    "\n",
    "It's a short section that I sometimes skip in class and ask students to read by themselves before doing the homework."
   ]
  },
  {
   "cell_type": "markdown",
   "metadata": {},
   "source": [
    "# <span style=\"color: darkblue\">Order Statistics</span> #"
   ]
  },
  {
   "cell_type": "markdown",
   "metadata": {},
   "source": [
    "## Reading 1: Definition ##\n",
    "The main setting is that you have $n$ i.i.d uniform $(0, 1)$ variables whose positions are marked on the unit interval. You can see them in the order smallest to largest, but you can't tell which one was $U_1$, which one was $U_2$, etc. You can only see the minimum, the next one up from that, and so on, in increasing order. These are called *order statistics*. [Pictures](http://prob140.org/textbook/Chapter_17/04_Beta_Densities_with_Integer_Parameters.html#Order-Statistics-of-IID-Uniform-$(0,-1)$-Variables) will make this clear."
   ]
  },
  {
   "cell_type": "markdown",
   "metadata": {},
   "source": [
    "# <span style=\"color: darkblue\">Joint Distribution of Two Order Statistics</span> #"
   ]
  },
  {
   "cell_type": "code",
   "execution_count": 2,
   "metadata": {},
   "outputs": [
    {
     "data": {
      "text/html": [
       "\n",
       "        <iframe\n",
       "            width=\"400\"\n",
       "            height=\"300\"\n",
       "            src=\"https://www.youtube.com/embed/ZM38mgRVSw0\"\n",
       "            frameborder=\"0\"\n",
       "            allowfullscreen\n",
       "        ></iframe>\n",
       "        "
      ],
      "text/plain": [
       "<IPython.lib.display.YouTubeVideo at 0x10de51be0>"
      ]
     },
     "execution_count": 2,
     "metadata": {},
     "output_type": "execute_result"
    }
   ],
   "source": [
    "YouTubeVideo(\"ZM38mgRVSw0\")"
   ]
  },
  {
   "cell_type": "markdown",
   "metadata": {},
   "source": [
    "## Reading 2: Example ##\n",
    "[This](http://prob140.org/textbook/Chapter_17/04_Beta_Densities_with_Integer_Parameters.html#Joint-Density-of-Two-Order-Statistics) is how I came up with the joint density you worked with in Parts 2-7."
   ]
  },
  {
   "cell_type": "markdown",
   "metadata": {},
   "source": [
    "# <span style=\"color: darkblue\">Distribution of One Order Statistic</span> #"
   ]
  },
  {
   "cell_type": "markdown",
   "metadata": {},
   "source": [
    "## Reading 2: Derivation ##\n",
    "Since you already know how to find the joint density of two of them, finding the [density of one order statistic](http://prob140.org/textbook/Chapter_17/04_Beta_Densities_with_Integer_Parameters.html#The-Density-of-$U_{(k)}$) is a breeze."
   ]
  },
  {
   "cell_type": "markdown",
   "metadata": {},
   "source": [
    "# <span style=\"color: darkblue\">Beta Family</span> #"
   ]
  },
  {
   "cell_type": "markdown",
   "metadata": {},
   "source": [
    "## Reading 3: Density Function ##\n",
    "This is just a [reparametrization](http://prob140.org/textbook/Chapter_17/04_Beta_Densities_with_Integer_Parameters.html#Beta-Densities) of the density you found for the order statistic.\n",
    "\n",
    "To remember how the parameters work for $U_{(k)}$:\n",
    "\n",
    "- The first parameter $r$ is just $k$.\n",
    "- To get the second parameter $s$, use $r+s=n+1$.\n",
    "\n",
    "Note how varied the shapes are for different values of the parameters. This makes the beta family a rich class of densities for modeling."
   ]
  },
  {
   "cell_type": "markdown",
   "metadata": {},
   "source": [
    "# <span style=\"color: darkblue\">Beta Integral</span> #"
   ]
  },
  {
   "cell_type": "markdown",
   "metadata": {},
   "source": [
    "## Reading 4: Expectation ##\n",
    "The [calculation](http://prob140.org/textbook/Chapter_17/04_Beta_Densities_with_Integer_Parameters.html#The-Beta-Integral) mimics how you found the expectation of the gamma distribution in homework."
   ]
  },
  {
   "cell_type": "markdown",
   "metadata": {},
   "source": [
    "## Vitamins ##\n",
    "\n",
    "**1.** $U_1, U_2, U_3, U_4, U_5$ are i.i.d. uniform $(0, 1)$ random variables. Fill in the blanks: \n",
    "\n",
    "The density of the order statistic $U_{(4)}$ is beta $(\\underline{~~~~~~~~}, ~\\underline{~~~~~~~~})$.\n",
    "\n",
    "<details>\n",
    "    <summary>Answer</summary>\n",
    "    4, 2\n",
    "</details>\n",
    "\n",
    "**2.** Fill in the blank: In Vitamin 1 above, $E(U_{(4)}) = \\underline{~~~~~~~~~~~~}$.\n",
    "\n",
    "<details>\n",
    "    <summary>Answer</summary>\n",
    "    2/3\n",
    "</details>\n",
    "\n",
    "**3.** $U_1, U_2, \\ldots, U_{10}$ are i.i.d. uniform $(0, 1)$ random variables. Find the joint density of $U_{(3)}$ and $U_{(7)}$. You can leave the constant in terms of factorials.\n",
    "\n",
    "<details>\n",
    "    <summary>Answer</summary>\n",
    "$$\n",
    "f(x,y) = \\frac{10!}{2!1!3!1!3!}x^2(y-x)^3(1-y)^3, ~~ 0 < x < y < 1\n",
    "$$\n",
    "    \n",
    "</details>"
   ]
  },
  {
   "cell_type": "markdown",
   "metadata": {},
   "source": [
    "## Take a break before the next part, which is about the normal distribution. ##"
   ]
  }
 ],
 "metadata": {
  "kernelspec": {
   "display_name": "Python 3",
   "language": "python",
   "name": "python3"
  },
  "language_info": {
   "codemirror_mode": {
    "name": "ipython",
    "version": 3
   },
   "file_extension": ".py",
   "mimetype": "text/x-python",
   "name": "python",
   "nbconvert_exporter": "python",
   "pygments_lexer": "ipython3",
   "version": "3.6.0"
  }
 },
 "nbformat": 4,
 "nbformat_minor": 2
}
