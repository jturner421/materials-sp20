{
 "cells": [
  {
   "cell_type": "code",
   "execution_count": 1,
   "metadata": {},
   "outputs": [],
   "source": [
    "from datascience import *\n",
    "from prob140 import *\n",
    "import numpy as np\n",
    "from scipy import stats\n",
    "\n",
    "import matplotlib.pyplot as plt\n",
    "%matplotlib inline\n",
    "plt.style.use('fivethirtyeight')"
   ]
  },
  {
   "cell_type": "markdown",
   "metadata": {},
   "source": [
    "# Week 10 Part 9 #"
   ]
  },
  {
   "cell_type": "markdown",
   "metadata": {},
   "source": [
    "This covers Sections 18.1 and 18.2. However, for this term I'm making some of the derivations in 18.1 optional. So this notebook just has the basics that everyone should know. There's no video, as the majority is a string of facts that you have already been using without derivation, and then there's a simulation that used to be run in class just as you will run it here."
   ]
  },
  {
   "cell_type": "markdown",
   "metadata": {},
   "source": [
    "Recall that the normal $(\\mu, \\sigma^2)$ density function is given by\n",
    "\n",
    "$$\n",
    "f(x) ~ = ~ \\frac{1}{\\sqrt{2\\pi}\\sigma} e^{-\\frac{1}{2}\\big{(}\\frac{x-\\mu}{\\sigma}\\big{)}^2}, ~~~ -\\infty < x < \\infty\n",
    "$$\n",
    "\n",
    "The most important member of this family is the standard normal, for which $\\mu = 0$ and $\\sigma = 1$. The standard normal density is denoted by $\\phi$:\n",
    "\n",
    "$$\n",
    "\\phi(z) = \\frac{1}{\\sqrt{2\\pi}} e^{-\\frac{1}{2}z^2}, ~~~ -\\infty < z < \\infty\n",
    "$$\n",
    "\n",
    "The standard normal cdf is denoted by $\\Phi$:\n",
    "\n",
    "$$\n",
    "\\Phi(x) ~ = ~ \\int_{-\\infty}^x \\phi(z)dz, ~~~~ -\\infty < x < \\infty\n",
    "$$"
   ]
  },
  {
   "cell_type": "markdown",
   "metadata": {},
   "source": [
    "# <span style=\"color: darkblue\">Normal Distribution Facts</span> #"
   ]
  },
  {
   "cell_type": "markdown",
   "metadata": {},
   "source": [
    "## Total Integral = 1 ##\n",
    "This needs a proof, but accept it. Some of you might have seen it in a calculus class by polar coordinates. A probabilistic derivation is [here](http://prob140.org/textbook/Chapter_18/01_Standard_Normal_Basics.html#The-Constant-of-Integration) but it's optional."
   ]
  },
  {
   "cell_type": "markdown",
   "metadata": {},
   "source": [
    "## Standard Units ##\n",
    "Understanding the standard normal is important. All other normals are linear transformations. We showed this earlier:\n",
    "\n",
    "- If $X$ is normal $(\\mu, \\sigma^2)$ then $X = \\sigma Z + \\mu$ where $Z$ is $X$ measured in standard units and is standard normal."
   ]
  },
  {
   "cell_type": "markdown",
   "metadata": {},
   "source": [
    "## Expectation $= \\mu$ ##\n",
    "\n",
    "This seems obvious by symmetry but the existence of the expectation needs a proof, as you saw in the Cauchy distribution exercise in homework.\n",
    "\n",
    "In another homework exercise, you found $E(\\vert Z \\vert)$. Since it's finite, $E(Z)$ exists, and then by symmetry is must be 0.\n",
    "\n",
    "It follows (see Standard Units above) that if $X$ is normal $(\\mu, \\sigma^2)$ then $E(X) = \\mu$."
   ]
  },
  {
   "cell_type": "markdown",
   "metadata": {},
   "source": [
    "## Variance $= \\sigma^2$ ##\n",
    "\n",
    "The only thing that remains to be proved is $E(Z^2) = 1$. It will follow that $Var(Z) = 1$ and then $Var(X) = \\sigma^2$ by linear transformation.\n",
    "\n",
    "The textbook has a [probabilistic argument](http://prob140.org/textbook/Chapter_18/01_Standard_Normal_Basics.html#The-Constant-of-Integration) that is helpful for understanding squares of normals, but it's optional.\n",
    "\n",
    "Instead, write the integral below, substitute $u = z^2$, and use gamma facts.\n",
    "\n",
    "$$\n",
    "\\begin{align*}\n",
    "E(Z^2) ~ &= ~ 2 \\int_0^\\infty z^2 \\frac{1}{\\sqrt{2\\pi}}e^{-\\frac{1}{2}z^2}dz \\\\\n",
    "&= ~ \\frac{2}{\\sqrt{2\\pi}} \\int_0^\\infty z^2 e^{-\\frac{1}{2}z^2}dz \\\\\n",
    "&= ~ \\frac{2}{\\sqrt{2\\pi}} \\cdot \\frac{1}{2} \\int_0^\\infty u e^{-\\frac{1}{2}u} \\frac{1}{\\sqrt{u}} du \\\\\n",
    "&= ~ \\frac{2}{\\sqrt{2\\pi}} \\cdot \\frac{1}{2} \\cdot \\frac{\\Gamma(3/2)}{(1/2)^{3/2}}\\\\\n",
    "&= ~ 1\n",
    "\\end{align*}\n",
    "$$\n",
    "\n",
    "because $\\Gamma(3/2) = \\Gamma(1/2 + 1) = (1/2)\\Gamma(1/2) = (1/2)\\sqrt{\\pi}$."
   ]
  },
  {
   "cell_type": "markdown",
   "metadata": {},
   "source": [
    "## Sums of Independent Normals are Normal ##\n",
    "\n",
    "This is hugely important both in probability and data science. It needs a proof, which we will do next week by moment generating functions. For now, run the code below to notice the following:\n",
    "\n",
    "- If $X$ and $Y$ are independent normal variables, then $X+Y$ is also normal.\n",
    "\n",
    "You already know the mean and variance of $X+Y$. The point of this result is that it's telling you the shape of the distribution."
   ]
  },
  {
   "cell_type": "markdown",
   "metadata": {},
   "source": [
    "### Simulation Study ###\n",
    "The code below generates $(X,Y)$ pairs 10,000 times and draws the empirical histogram of $X+Y$. Assumptions:\n",
    "\n",
    "- $X$ is normal $(\\mu_X, \\sigma_X^2)$\n",
    "- $Y$ is normal $(\\mu_Y, \\sigma_Y^2)$\n",
    "- $X$ and $Y$ are independent.\n",
    "\n",
    "Note that the parameters you are setting at the top are means and standard deviations, not means and variances. Standard deviations are what you can see on the graphs. As you know, variance is on the wrong scale."
   ]
  },
  {
   "cell_type": "code",
   "execution_count": null,
   "metadata": {},
   "outputs": [],
   "source": [
    "# Change these parameters as you wish, a few times\n",
    "\n",
    "mu_X = 10\n",
    "sigma_X = 2\n",
    "mu_Y = 15\n",
    "sigma_Y = 3\n",
    "\n",
    "# Don't edit beyond this point\n",
    "x = stats.norm.rvs(mu_X, sigma_X, size=10000)\n",
    "y = stats.norm.rvs(mu_Y, sigma_Y, size=10000)\n",
    "s = x+y\n",
    "Table().with_column('S = X+Y', s).hist(bins=20)"
   ]
  },
  {
   "cell_type": "markdown",
   "metadata": {},
   "source": [
    "Each time you run the cell, you should check that the center and points of inflection look right. For this, use properties of mean and variance to find $E(X+Y)$ and $SD(X+Y)$. Here's a code cell for you to do this, using `mu_X`, `sigma_X`, `mu_Y`, and `sigma_Y` you defined above."
   ]
  },
  {
   "cell_type": "code",
   "execution_count": null,
   "metadata": {},
   "outputs": [],
   "source": [
    "ev_sum = ...\n",
    "sd_sum = ...\n",
    "\n",
    "points_of_inflection = ev_sum + make_array(-sd_sum, sd_sum)\n",
    "\n",
    "ev_sum, sd_sum, points_of_inflection"
   ]
  },
  {
   "cell_type": "markdown",
   "metadata": {},
   "source": [
    "## Reading: Applications ##\n",
    "\n",
    "**Do not** skip this.\n",
    "\n",
    "Two examples containing crucial moves: [here](http://prob140.org/textbook/Chapter_18/02_Sums_of_Independent_Normal_Variables.html#The-Difference-of-Two-Independent-Normal-Variables) and [here](http://prob140.org/textbook/Chapter_18/02_Sums_of_Independent_Normal_Variables.html#Comparing-Two-Sample-Proportions)."
   ]
  },
  {
   "cell_type": "markdown",
   "metadata": {},
   "source": [
    "## Vitamins ##\n",
    "\n",
    "**1.** $X$ is normal $(0, 10^2)$. Let $W = 8X^2$. Find $E(W)$.\n",
    "\n",
    "\n",
    "<details>\n",
    "    <summary>Answer</summary>\n",
    "800\n",
    "\n",
    "</details>\n",
    "\n",
    "**2.** $X$ is normal $(20, 5^2)$ and $Y$ is normal $(75, 10^2)$. Assume $X$ and $Y$ are independent. \n",
    "\n",
    "Sketch the density of $Y - 2X$. Mark the numerical values of the expectation and SD appropriately on your sketch. You can use the code cell below to calculate them.\n",
    "\n",
    "<details>\n",
    "    <summary>Answer</summary>\n",
    "normal curve, centered at 35, points of inflection at 35 $\\pm$ 14.14\n",
    "\n",
    "</details>"
   ]
  },
  {
   "cell_type": "code",
   "execution_count": null,
   "metadata": {},
   "outputs": [],
   "source": [
    "#scratch work for Vitamin 2\n",
    "\n",
    "\n"
   ]
  },
  {
   "cell_type": "markdown",
   "metadata": {},
   "source": [
    "## Break time. Take a long break. This section is really important; give it a chance to sink in. ##"
   ]
  },
  {
   "cell_type": "code",
   "execution_count": null,
   "metadata": {},
   "outputs": [],
   "source": []
  }
 ],
 "metadata": {
  "kernelspec": {
   "display_name": "Python 3",
   "language": "python",
   "name": "python3"
  },
  "language_info": {
   "codemirror_mode": {
    "name": "ipython",
    "version": 3
   },
   "file_extension": ".py",
   "mimetype": "text/x-python",
   "name": "python",
   "nbconvert_exporter": "python",
   "pygments_lexer": "ipython3",
   "version": "3.6.0"
  }
 },
 "nbformat": 4,
 "nbformat_minor": 2
}
