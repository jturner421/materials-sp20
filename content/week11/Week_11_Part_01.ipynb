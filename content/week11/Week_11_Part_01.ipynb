{
 "cells": [
  {
   "cell_type": "markdown",
   "metadata": {},
   "source": [
    "# Week 11 Part 1 #"
   ]
  },
  {
   "cell_type": "markdown",
   "metadata": {},
   "source": [
    "You know the expectation and variance of a sum. Finding the shape of the distribution, however, takes more work.\n",
    "\n",
    "This is a short and straightforward section on finding the distribution of a sum of random variables. \n",
    "\n",
    "The lesson is that in principle, you can find the distribution of any sum if you know the joint distribution of the random variables. In practice, however, the direct method of this section gets cumbersome. We need more technique, which we will develop in the next section."
   ]
  },
  {
   "cell_type": "markdown",
   "metadata": {},
   "source": [
    "# <span style=\"color: darkblue\">Sum of Two Independent Random Variables</span> #"
   ]
  },
  {
   "cell_type": "markdown",
   "metadata": {},
   "source": [
    "### Reading: The Distribution by Partitioning ###\n",
    "\n",
    "This is exactly what we did when we found the distribution of the sum of two independent Poisson random variables way back in [Chapter 7](http://prob140.org/textbook/Chapter_07/01_Poissonizing_the_Binomial.html#Sums-of-Independent-Poisson-Variables).\n",
    "\n",
    "The method is impressively called the [convolution formula](http://prob140.org/textbook/Chapter_19/01_Convolution_Formula.html).\n",
    "\n",
    "Compare the discrete version and the density version."
   ]
  },
  {
   "cell_type": "markdown",
   "metadata": {},
   "source": [
    "# <span style=\"color: darkblue\">Examples</span> #"
   ]
  },
  {
   "cell_type": "markdown",
   "metadata": {},
   "source": [
    "### Reading: Sum of Two IID Exponentials ###\n",
    "This simple [calculation](http://prob140.org/textbook/Chapter_19/01_Convolution_Formula.html#Sum-of-Two-IID-Exponential-Random-Variables) shows that the sum of two iid exponential $(\\lambda)$ variables has the gamma $(2, \\lambda)$ distribution.\n",
    "\n",
    "Pay attention to the limits of integration of $x$ when the value of the sum is $s$:\n",
    "- $X$ is a non-negative random variable so the integral starts at 0\n",
    "- $Y$ is a non-negative random variable, so the integral ends at $s$. If $X$ gets bigger than $s$ then the sum will be bigger than $s$."
   ]
  },
  {
   "cell_type": "markdown",
   "metadata": {},
   "source": [
    "### Reading: Sum of Two IID Uniform $(0, 1)$ Random Variables ###\n",
    "[This](http://prob140.org/textbook/Chapter_19/01_Convolution_Formula.html#Sum-of-Two-IID-Uniform-$(0,-1)$-Random-Variables) doesn't use any calculus."
   ]
  },
  {
   "cell_type": "markdown",
   "metadata": {},
   "source": [
    "## The next section uses a different and more abstract approach. Take a break and prepare for something quite new. ##"
   ]
  }
 ],
 "metadata": {
  "kernelspec": {
   "display_name": "Python 3",
   "language": "python",
   "name": "python3"
  },
  "language_info": {
   "codemirror_mode": {
    "name": "ipython",
    "version": 3
   },
   "file_extension": ".py",
   "mimetype": "text/x-python",
   "name": "python",
   "nbconvert_exporter": "python",
   "pygments_lexer": "ipython3",
   "version": "3.6.0"
  }
 },
 "nbformat": 4,
 "nbformat_minor": 2
}
