{
 "cells": [
  {
   "cell_type": "code",
   "execution_count": 1,
   "metadata": {},
   "outputs": [],
   "source": [
    "# Support embedding YouTube Videos in Notebooks\n",
    "from IPython.display import YouTubeVideo"
   ]
  },
  {
   "cell_type": "markdown",
   "metadata": {},
   "source": [
    "# Week 11 Part 3 #"
   ]
  },
  {
   "cell_type": "markdown",
   "metadata": {},
   "source": [
    "Moment generating functions encapsulate information about all the moments. So we can use them to get bounds on the tails of distributions."
   ]
  },
  {
   "cell_type": "code",
   "execution_count": 2,
   "metadata": {},
   "outputs": [
    {
     "data": {
      "text/html": [
       "\n",
       "        <iframe\n",
       "            width=\"400\"\n",
       "            height=\"300\"\n",
       "            src=\"https://www.youtube.com/embed/8vpqoy6giEk\"\n",
       "            frameborder=\"0\"\n",
       "            allowfullscreen\n",
       "        ></iframe>\n",
       "        "
      ],
      "text/plain": [
       "<IPython.lib.display.YouTubeVideo at 0x10e922518>"
      ]
     },
     "execution_count": 2,
     "metadata": {},
     "output_type": "execute_result"
    }
   ],
   "source": [
    "YouTubeVideo(\"8vpqoy6giEk\")"
   ]
  },
  {
   "cell_type": "markdown",
   "metadata": {},
   "source": [
    "## Reading: Chernoff Bound ##\n",
    "\n",
    "- The general form of the [bound on the right tail](http://prob140.org/textbook/Chapter_19/04_Chernoff_Bound.html#Chernoff-Bound-on-the-Right-Tail) of a distribution\n",
    "\n",
    "The method consists of cranking the handle by calculus. The process is the same every time. Here is a typical example.\n",
    "\n",
    "## Reading: Example ##\n",
    "\n",
    "- A bound on the [right tail of a normal](http://prob140.org/textbook/Chapter_19/04_Chernoff_Bound.html#Application-to-the-Normal-Distribution) distribution\n",
    "\n",
    "Of course we know how to find the area under a normal curve numerically, given numerical values for the parameters. But that doesn't help when we are dealing with unknown parameters. It helps to have bounds that we can calculate easily for all values of the parameters."
   ]
  },
  {
   "cell_type": "markdown",
   "metadata": {},
   "source": [
    "## Done! ##"
   ]
  }
 ],
 "metadata": {
  "kernelspec": {
   "display_name": "Python 3",
   "language": "python",
   "name": "python3"
  },
  "language_info": {
   "codemirror_mode": {
    "name": "ipython",
    "version": 3
   },
   "file_extension": ".py",
   "mimetype": "text/x-python",
   "name": "python",
   "nbconvert_exporter": "python",
   "pygments_lexer": "ipython3",
   "version": "3.6.0"
  }
 },
 "nbformat": 4,
 "nbformat_minor": 2
}
