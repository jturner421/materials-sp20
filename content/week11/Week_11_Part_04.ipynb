{
 "cells": [
  {
   "cell_type": "code",
   "execution_count": 1,
   "metadata": {},
   "outputs": [],
   "source": [
    "# Support embedding YouTube Videos in Notebooks\n",
    "from IPython.display import YouTubeVideo"
   ]
  },
  {
   "cell_type": "markdown",
   "metadata": {},
   "source": [
    "# Week 11 Part 4 #"
   ]
  },
  {
   "cell_type": "markdown",
   "metadata": {},
   "source": [
    "From now on, the course will be about estimation and prediction. This section is about a commonly used frequentist approach to estimating parameters.\n",
    "\n",
    "- The parameter is assumed to be a *fixed* though unknown number.\n",
    "- We have to estimate this fixed number based on our random sample."
   ]
  },
  {
   "cell_type": "markdown",
   "metadata": {},
   "source": [
    "# <span style=\"color: darkblue\">Maximizing Likelihood: Discrete Case</span> #"
   ]
  },
  {
   "cell_type": "code",
   "execution_count": 2,
   "metadata": {},
   "outputs": [
    {
     "data": {
      "text/html": [
       "\n",
       "        <iframe\n",
       "            width=\"400\"\n",
       "            height=\"300\"\n",
       "            src=\"https://www.youtube.com/embed/Lt7fQfpggMY\"\n",
       "            frameborder=\"0\"\n",
       "            allowfullscreen\n",
       "        ></iframe>\n",
       "        "
      ],
      "text/plain": [
       "<IPython.lib.display.YouTubeVideo at 0x10e827588>"
      ]
     },
     "execution_count": 2,
     "metadata": {},
     "output_type": "execute_result"
    }
   ],
   "source": [
    "YouTubeVideo(\"Lt7fQfpggMY\")"
   ]
  },
  {
   "cell_type": "markdown",
   "metadata": {},
   "source": [
    "## Reading: IID Bernoulli $(p)$ ##\n",
    "\n",
    "- How to find the [maximum likelihood estimate of $p$](http://prob140.org/textbook/Chapter_20/01_Maximum_Likelihood.html#MLE-of-$p$-Based-on-a-Bernoulli-$(p)$-Sample) based on $n$ i.i.d. tosses of a $p$-coin"
   ]
  },
  {
   "cell_type": "markdown",
   "metadata": {},
   "source": [
    "## Reading: MLE Properties ##\n",
    "We won't prove [these](http://prob140.org/textbook/Chapter_20/01_Maximum_Likelihood.html#Properties-of-the-MLE), but you can see that they are true in our examples. In homework you will see that they are also true in other settings, sometimes surprisingly."
   ]
  },
  {
   "cell_type": "markdown",
   "metadata": {},
   "source": [
    "# <span style=\"color: darkblue\">Maximizing Likelihood: Continuous Case</span> #"
   ]
  },
  {
   "cell_type": "code",
   "execution_count": 3,
   "metadata": {},
   "outputs": [
    {
     "data": {
      "text/html": [
       "\n",
       "        <iframe\n",
       "            width=\"400\"\n",
       "            height=\"300\"\n",
       "            src=\"https://www.youtube.com/embed/UHM2JibMj8Y\"\n",
       "            frameborder=\"0\"\n",
       "            allowfullscreen\n",
       "        ></iframe>\n",
       "        "
      ],
      "text/plain": [
       "<IPython.lib.display.YouTubeVideo at 0x10e85d198>"
      ]
     },
     "execution_count": 3,
     "metadata": {},
     "output_type": "execute_result"
    }
   ],
   "source": [
    "YouTubeVideo(\"UHM2JibMj8Y\")"
   ]
  },
  {
   "cell_type": "markdown",
   "metadata": {},
   "source": [
    "## Reading: IID Normal $(\\mu, \\sigma^2)$ ##\n",
    "\n",
    "- The MLE of the [mean](http://prob140.org/textbook/Chapter_20/01_Maximum_Likelihood.html#MLE-of-$\\mu$-Based-on-a-Normal-$(\\mu,-\\sigma^2)$-Sample)\n",
    "- The MLE of the [SD](http://prob140.org/textbook/Chapter_20/01_Maximum_Likelihood.html#MLEs-of-$\\mu$-and-$\\sigma$-Based-on-a-Normal-$(\\mu,-\\sigma^2)$-Sample)"
   ]
  },
  {
   "cell_type": "markdown",
   "metadata": {},
   "source": [
    "Not all MLEs can be found by calculus. If the likelihood function is complicated you might have to use numerical optimization."
   ]
  },
  {
   "cell_type": "markdown",
   "metadata": {},
   "source": [
    "## A break is a good idea. Bayesian estimation coming up. ##"
   ]
  }
 ],
 "metadata": {
  "kernelspec": {
   "display_name": "Python 3",
   "language": "python",
   "name": "python3"
  },
  "language_info": {
   "codemirror_mode": {
    "name": "ipython",
    "version": 3
   },
   "file_extension": ".py",
   "mimetype": "text/x-python",
   "name": "python",
   "nbconvert_exporter": "python",
   "pygments_lexer": "ipython3",
   "version": "3.6.0"
  }
 },
 "nbformat": 4,
 "nbformat_minor": 2
}
