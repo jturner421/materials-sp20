{
 "cells": [
  {
   "cell_type": "code",
   "execution_count": 1,
   "metadata": {},
   "outputs": [],
   "source": [
    "# Support embedding YouTube Videos in Notebooks\n",
    "from IPython.display import YouTubeVideo"
   ]
  },
  {
   "cell_type": "markdown",
   "metadata": {},
   "source": [
    "# Week 11 Part 5 #"
   ]
  },
  {
   "cell_type": "markdown",
   "metadata": {},
   "source": [
    "This is an introduction to new way of looking at parameters: the Bayesian way.\n",
    "\n",
    "To a Bayesian, any unknown number can be described by specifying the Bayesian's degree of uncertainty about that number. This usually comes down to specifying a distribution of that unknown quantity.\n",
    "\n",
    "We are going to estimate the unknown $p$ of a coin, taking a Bayesian approach."
   ]
  },
  {
   "cell_type": "code",
   "execution_count": 2,
   "metadata": {},
   "outputs": [
    {
     "data": {
      "text/html": [
       "\n",
       "        <iframe\n",
       "            width=\"400\"\n",
       "            height=\"300\"\n",
       "            src=\"https://www.youtube.com/embed/siyBcMpeN9M\"\n",
       "            frameborder=\"0\"\n",
       "            allowfullscreen\n",
       "        ></iframe>\n",
       "        "
      ],
      "text/plain": [
       "<IPython.lib.display.YouTubeVideo at 0x10e924550>"
      ]
     },
     "execution_count": 2,
     "metadata": {},
     "output_type": "execute_result"
    }
   ],
   "source": [
    "YouTubeVideo(\"siyBcMpeN9M\")"
   ]
  },
  {
   "cell_type": "markdown",
   "metadata": {},
   "source": [
    "## Reading: Uniform Prior, Beta Posterior ##\n",
    "\n",
    "Unusually, I'm asking you to go over the [example](http://prob140.org/textbook/Chapter_20/02_Prior_and_Posterior.html#Posterior-Distribution-Based-on-Uniform-$(0,-1)$-Prior) first.\n",
    "\n",
    "## Reading: MAP Estimate ##\n",
    "The posterior distribution can be summarized by its [mode](http://prob140.org/textbook/Chapter_20/02_Prior_and_Posterior.html#MAP-Estimation:-The-Posterior-Mode). You don't have to use the mean.\n",
    "\n",
    "## Reading: MAP and MLE ##\n",
    "Because the prior is uniform, the MAP estimate turns out to be the [same](http://prob140.org/textbook/Chapter_20/02_Prior_and_Posterior.html#MLE-and-MAP) as the MLE of $p$."
   ]
  },
  {
   "cell_type": "markdown",
   "metadata": {},
   "source": [
    "We will have a lot more to say about this method of estimation next week."
   ]
  }
 ],
 "metadata": {
  "kernelspec": {
   "display_name": "Python 3",
   "language": "python",
   "name": "python3"
  },
  "language_info": {
   "codemirror_mode": {
    "name": "ipython",
    "version": 3
   },
   "file_extension": ".py",
   "mimetype": "text/x-python",
   "name": "python",
   "nbconvert_exporter": "python",
   "pygments_lexer": "ipython3",
   "version": "3.6.0"
  }
 },
 "nbformat": 4,
 "nbformat_minor": 2
}
