{
 "cells": [
  {
   "cell_type": "code",
   "execution_count": 2,
   "metadata": {},
   "outputs": [],
   "source": [
    "# Support embedding YouTube Videos in Notebooks\n",
    "from IPython.display import YouTubeVideo"
   ]
  },
  {
   "cell_type": "markdown",
   "metadata": {},
   "source": [
    "# Week 12 Part 5 #"
   ]
  },
  {
   "cell_type": "markdown",
   "metadata": {},
   "source": [
    "Here is a fundamental example of creating a random variable by conditioning.\n",
    "\n",
    "- There are two random variables $Y_1$ and $Y_2$\n",
    "- Define a new random variable $Y$ as follows:\n",
    "    - Toss a coin\n",
    "    - If the coin lands heads, define $Y = Y_1$\n",
    "    - If the coin lands tails, define $Y = Y_2$\n",
    "    \n",
    "So $Y$ is a random choice from $Y_1$ and $Y_2$. \n",
    "\n",
    "This situation occurs frequently when populations are divided into groups. For example, let $Y_1$ be the height of a randomly picked woman in a population, and let $Y_2$ be the height of a randomly picked man. Suppose 55% of the population are women and 45% men. If $Y$ is the height of a randomly picked person from this population, then $Y$ can be modeled as $Y_1$ with chance 55% and $Y_2$ with chance 45%.\n",
    "\n",
    "This process is called *mixing* the two random variables $Y_1$ and $Y_2$. The distribution of $Y$ is called the *mixture* of the distributions of $Y_1$ and $Y_2$."
   ]
  },
  {
   "cell_type": "markdown",
   "metadata": {},
   "source": [
    "# <span style=\"color: darkblue\">Expectation and Variance of a Mixture</span> #"
   ]
  },
  {
   "cell_type": "code",
   "execution_count": 3,
   "metadata": {},
   "outputs": [
    {
     "data": {
      "image/jpeg": "[encoded data removed]",
      "text/html": [
       "\n",
       "        <iframe\n",
       "            width=\"400\"\n",
       "            height=\"300\"\n",
       "            src=\"https://www.youtube.com/embed/OLGjMYSXRHA\"\n",
       "            frameborder=\"0\"\n",
       "            allowfullscreen\n",
       "        ></iframe>\n",
       "        "
      ],
      "text/plain": [
       "<IPython.lib.display.YouTubeVideo at 0x10d6c0cc0>"
      ]
     },
     "execution_count": 3,
     "metadata": {},
     "output_type": "execute_result"
    }
   ],
   "source": [
    "YouTubeVideo(\"OLGjMYSXRHA\")"
   ]
  },
  {
   "cell_type": "markdown",
   "metadata": {},
   "source": [
    "# <span style=\"color: darkblue\">Further Examples</span> #"
   ]
  },
  {
   "cell_type": "markdown",
   "metadata": {},
   "source": [
    "## Reading: Mixing Two Random Variables ##\n",
    "[This](http://prob140.org/textbook/Chapter_22/03_Examples.html#Mixture-of-Two-Distributions) is the same as in the video above."
   ]
  },
  {
   "cell_type": "markdown",
   "metadata": {},
   "source": [
    "## Reading: Variance of the Geometric ##\n",
    "You found the variance of the geometric by using the moment generating function. Here is a calculation by [conditioning on the first toss](http://prob140.org/textbook/Chapter_22/03_Examples.html#Variance-of-the-Geometric-Distribution). It involves setting up an equation, just as we did for finding the expectation by conditioning in an earlier chapter."
   ]
  },
  {
   "cell_type": "markdown",
   "metadata": {},
   "source": [
    "## Reading: A Random Sum ##\n",
    "A *random sum* is a sum of a random number of random variables. For example, if a population has a random number of people who are infected with a disease, then the number of people they infect will be a random sum. Each originally infected person infects a random number of people, and you have to add up all these counts. But you don't know ahead of time how many terms there are in the count, as the number of originally infected people is random.\n",
    "\n",
    "[Here](http://prob140.org/textbook/Chapter_22/03_Examples.html#Random-Sum) is the expectation and variance of a random sum."
   ]
  },
  {
   "cell_type": "markdown",
   "metadata": {},
   "source": [
    "## Congratulations! You're done with an important chapter. ##"
   ]
  }
 ],
 "metadata": {
  "kernelspec": {
   "display_name": "Python 3",
   "language": "python",
   "name": "python3"
  },
  "language_info": {
   "codemirror_mode": {
    "name": "ipython",
    "version": 3
   },
   "file_extension": ".py",
   "mimetype": "text/x-python",
   "name": "python",
   "nbconvert_exporter": "python",
   "pygments_lexer": "ipython3",
   "version": "3.6.0"
  }
 },
 "nbformat": 4,
 "nbformat_minor": 2
}
