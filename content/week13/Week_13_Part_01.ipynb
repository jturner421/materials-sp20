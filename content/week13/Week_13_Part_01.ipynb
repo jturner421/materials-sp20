{
 "cells": [
  {
   "cell_type": "code",
   "execution_count": 2,
   "metadata": {},
   "outputs": [],
   "source": [
    "# Support embedding YouTube Videos in Notebooks\n",
    "from IPython.display import YouTubeVideo"
   ]
  },
  {
   "cell_type": "markdown",
   "metadata": {},
   "source": [
    "# Week 13 Part 1 ##"
   ]
  },
  {
   "cell_type": "markdown",
   "metadata": {},
   "source": [
    "Sums, averages, and differences of random variables are all linear combinations. Soon we will see that estimates in multiple regression are also linear combinations of random variables. \n",
    "\n",
    "Representing finite collections of random variables as vectors allows us to apply linear algebra to study linear combinations."
   ]
  },
  {
   "cell_type": "markdown",
   "metadata": {},
   "source": [
    "## Reading: Definitions ##\n",
    "The chapter [starts](http://prob140.org/textbook/Chapter_23/01_Random_Vectors.html) with definitions of:\n",
    "\n",
    "- a random vector\n",
    "- its mean vector\n",
    "- its covariance matrix"
   ]
  },
  {
   "cell_type": "markdown",
   "metadata": {},
   "source": [
    "# <span style=\"color: darkblue\">Linear Transformations</span> #"
   ]
  },
  {
   "cell_type": "code",
   "execution_count": 3,
   "metadata": {},
   "outputs": [
    {
     "data": {
      "text/html": [
       "\n",
       "        <iframe\n",
       "            width=\"400\"\n",
       "            height=\"300\"\n",
       "            src=\"https://www.youtube.com/embed/BhGxs3d_wFY\"\n",
       "            frameborder=\"0\"\n",
       "            allowfullscreen\n",
       "        ></iframe>\n",
       "        "
      ],
      "text/plain": [
       "<IPython.lib.display.YouTubeVideo at 0x10eb2c080>"
      ]
     },
     "execution_count": 3,
     "metadata": {},
     "output_type": "execute_result"
    }
   ],
   "source": [
    "YouTubeVideo(\"BhGxs3d_wFY\")"
   ]
  },
  {
   "cell_type": "markdown",
   "metadata": {},
   "source": [
    "## Reading: Mean Vector ##\n",
    "Under a linear transformation, the [mean vector](http://prob140.org/textbook/Chapter_23/01_Random_Vectors.html#Linear-Transformation:-Mean-Vector) behaves just as you'd want it to: the expectation of a linear transformation is the same linear transformation of the expectation."
   ]
  },
  {
   "cell_type": "code",
   "execution_count": 4,
   "metadata": {},
   "outputs": [
    {
     "data": {
      "text/html": [
       "\n",
       "        <iframe\n",
       "            width=\"400\"\n",
       "            height=\"300\"\n",
       "            src=\"https://www.youtube.com/embed/u4c5Bj4Rr-E\"\n",
       "            frameborder=\"0\"\n",
       "            allowfullscreen\n",
       "        ></iframe>\n",
       "        "
      ],
      "text/plain": [
       "<IPython.lib.display.YouTubeVideo at 0x10eb2ca20>"
      ]
     },
     "execution_count": 4,
     "metadata": {},
     "output_type": "execute_result"
    }
   ],
   "source": [
    "YouTubeVideo(\"u4c5Bj4Rr-E\")"
   ]
  },
  {
   "cell_type": "markdown",
   "metadata": {},
   "source": [
    "## Reading: Covariance Matrix ##\n",
    "By applying bilinearity, the [covariance matrix of a linear transformation](http://prob140.org/textbook/Chapter_23/01_Random_Vectors.html#Linear-Transformation:-Covariance-Matrix) has a straightforward formula."
   ]
  },
  {
   "cell_type": "markdown",
   "metadata": {},
   "source": [
    "# <span style=\"color: darkblue\">Constraints on Covariance Matrices</span> #"
   ]
  },
  {
   "cell_type": "markdown",
   "metadata": {},
   "source": [
    "We know that covariance matrices are symmetric and that their diagonal elements are variances and hence positive. By eliminating \"constant\" random variables, we don't need to consider the case where a variance is 0.\n",
    "\n",
    "But not all symmetric matrices with positive diagonal elements are covariance matrices."
   ]
  },
  {
   "cell_type": "code",
   "execution_count": 5,
   "metadata": {},
   "outputs": [
    {
     "data": {
      "text/html": [
       "\n",
       "        <iframe\n",
       "            width=\"400\"\n",
       "            height=\"300\"\n",
       "            src=\"https://www.youtube.com/embed/iohRuMT7r10\"\n",
       "            frameborder=\"0\"\n",
       "            allowfullscreen\n",
       "        ></iframe>\n",
       "        "
      ],
      "text/plain": [
       "<IPython.lib.display.YouTubeVideo at 0x10eb2ca90>"
      ]
     },
     "execution_count": 5,
     "metadata": {},
     "output_type": "execute_result"
    }
   ],
   "source": [
    "YouTubeVideo(\"iohRuMT7r10\")"
   ]
  },
  {
   "cell_type": "markdown",
   "metadata": {},
   "source": [
    "## Reading: Positive Semi-Definite ##\n",
    "\n",
    "A covariance matrix has to be [positive semi-definite](http://prob140.org/textbook/Chapter_23/01_Random_Vectors.html#Constraints-on-$\\boldsymbol{\\Sigma}$).\n",
    "\n",
    "In fact under we are going to assume that none of the elements of $\\mathbf{X}$ is a linear combination of the others. In that case the covariance matrix must be [positive definite](https://en.wikipedia.org/wiki/Definiteness_of_a_matrix).\n",
    "\n",
    "Keep in mind the following properties of a positive definite matrix.\n",
    "\n",
    "- It is invertible.\n",
    "- It has a unique decomposition as $\\mathbf{AA}^T$ where $\\mathbf{A}$ is a lower triangular matrix whose diagonal elements are all positive, making $\\mathbf{A}$ invertible. This is called the *Cholesky decomposition*."
   ]
  },
  {
   "cell_type": "markdown",
   "metadata": {},
   "source": [
    "## Vitamins ##\n",
    "\n",
    "**1.** A random vector $\\begin{bmatrix} X \\\\ Y \\end{bmatrix}$ has mean vector $\\begin{bmatrix} 0 \\\\ 0 \\end{bmatrix}$ and covariance matrix $\\begin{bmatrix} 1 & 2.4 \\\\ ? & 9\\end{bmatrix}$.\n",
    "\n",
    "Which (if any) of $X$ and $Y$ are in standard units? Pick one option.\n",
    "\n",
    "(i) Only $X$\n",
    "\n",
    "(ii) Only $Y$\n",
    "\n",
    "(iii) Both $X$ and $Y$\n",
    "\n",
    "(iv) Neither $X$ nor $Y$\n",
    "\n",
    "(v) There is not enough information to answer.\n",
    "\n",
    "<details>\n",
    "    <summary>Answer 1</summary>\n",
    "    (i)\n",
    "</details>\n",
    "\n",
    "**2.** Continuting Question 1, fill in the ? in the covariance matrix.\n",
    "\n",
    "<details>\n",
    "    <summary>Answer 2</summary>\n",
    "$2.4$\n",
    "</details>\n",
    "\n",
    "**3.** Continuing Question 1, find the correlation between $X$ and $Y$.\n",
    "\n",
    "<details>\n",
    "    <summary>Answer 3</summary>\n",
    "$0.8$\n",
    "</details>\n",
    "\n",
    "**4.** The random vector $[X_1 ~ X_2 ~ X_3]^T$ has mean vector $\\boldsymbol{\\mu}$ and covariance matrix $\\boldsymbol{\\Sigma}$. Let $\\mathbf{W} = [X_1 ~~ X_1-X_2 ~~ X_1-X_3]^T$. Express $\\boldsymbol{\\mu}_\\mathbf{W}$ and $\\boldsymbol{\\Sigma}_\\mathbf{W}$ as products of $\\boldsymbol{\\mu}$, $\\boldsymbol{\\Sigma}$, and numerical matrices.\n",
    "\n",
    "<details>\n",
    "    <summary>Answer 4</summary>\n",
    "$\\boldsymbol{\\mu}_\\mathbf{W} = \\mathbf{A}\\boldsymbol{\\mu}$ and $\\boldsymbol{\\Sigma}_\\mathbf{W} = \\mathbf{A}\\boldsymbol{\\Sigma}\\mathbf{A}^T$ where $\\mathbf{A} = \\begin{bmatrix} 1 & 0 & 0 \\\\ 1 & -1 & 0 \\\\ 1 & 0 & -1\\end{bmatrix}$\n",
    "</details>"
   ]
  },
  {
   "cell_type": "markdown",
   "metadata": {},
   "source": [
    "## Take a break. Application to the multivariate normal coming up. ##"
   ]
  }
 ],
 "metadata": {
  "kernelspec": {
   "display_name": "Python 3",
   "language": "python",
   "name": "python3"
  },
  "language_info": {
   "codemirror_mode": {
    "name": "ipython",
    "version": 3
   },
   "file_extension": ".py",
   "mimetype": "text/x-python",
   "name": "python",
   "nbconvert_exporter": "python",
   "pygments_lexer": "ipython3",
   "version": "3.6.0"
  }
 },
 "nbformat": 4,
 "nbformat_minor": 2
}
