{
 "cells": [
  {
   "cell_type": "code",
   "execution_count": 3,
   "metadata": {},
   "outputs": [],
   "source": [
    "# Support embedding YouTube Videos in Notebooks\n",
    "from IPython.display import YouTubeVideo"
   ]
  },
  {
   "cell_type": "markdown",
   "metadata": {},
   "source": [
    "## Week 13 Part 2 ##"
   ]
  },
  {
   "cell_type": "code",
   "execution_count": 4,
   "metadata": {},
   "outputs": [
    {
     "data": {
      "text/html": [
       "\n",
       "        <iframe\n",
       "            width=\"400\"\n",
       "            height=\"300\"\n",
       "            src=\"https://www.youtube.com/embed/s32WxbInWeE\"\n",
       "            frameborder=\"0\"\n",
       "            allowfullscreen\n",
       "        ></iframe>\n",
       "        "
      ],
      "text/plain": [
       "<IPython.lib.display.YouTubeVideo at 0x10ea3f080>"
      ]
     },
     "execution_count": 4,
     "metadata": {},
     "output_type": "execute_result"
    }
   ],
   "source": [
    "YouTubeVideo(\"s32WxbInWeE\")"
   ]
  },
  {
   "cell_type": "markdown",
   "metadata": {},
   "source": [
    "# <span style=\"color: darkblue\">Multivariate Normal</span> #"
   ]
  },
  {
   "cell_type": "markdown",
   "metadata": {},
   "source": [
    "## Reading: Three Equivalent Definitions ##\n",
    "There are [three equivalent ways](http://prob140.org/textbook/Chapter_23/02_Multivariate_Normal_Distribution.html#Multivariate-Normal-Distribution) of characterizing a multivariate normal random vector.\n",
    "\n",
    "- By the joint density, which we will study once you've made progress on your lab. For now, just check that in the case $n=1$, the formula reduces to the formula for the familiar normal $(\\mu, \\sigma^2)$ density.\n",
    "- As a **linear combination of i.i.d. standard normals**. This is the key definition to remember. \n",
    "- By the fact that all linear combinations are normal; but in this course you will never have to use this characterization to establish that a random vector is multivariate normal.\n",
    "\n",
    "### Terminology ###\n",
    "If a multivariate normal vector has length 2, it is often called *bivariate* normal."
   ]
  },
  {
   "cell_type": "code",
   "execution_count": 5,
   "metadata": {},
   "outputs": [
    {
     "data": {
      "text/html": [
       "\n",
       "        <iframe\n",
       "            width=\"400\"\n",
       "            height=\"300\"\n",
       "            src=\"https://www.youtube.com/embed/a3EElIas-U8\"\n",
       "            frameborder=\"0\"\n",
       "            allowfullscreen\n",
       "        ></iframe>\n",
       "        "
      ],
      "text/plain": [
       "<IPython.lib.display.YouTubeVideo at 0x10ea3fb38>"
      ]
     },
     "execution_count": 5,
     "metadata": {},
     "output_type": "execute_result"
    }
   ],
   "source": [
    "YouTubeVideo(\"a3EElIas-U8\")"
   ]
  },
  {
   "cell_type": "markdown",
   "metadata": {},
   "source": [
    "## Reading: A Word of Caution ##\n",
    "\n",
    "Suppose the random vector $\\mathbf{X}$ is multivariate normal. Then it follows from Definition 2 (or 3) that\n",
    "\n",
    "- Each element of $\\mathbf{X}$ has a normal distribution whose parameters you can read off the mean vector and covariance matrix of $\\mathbf{X}$.\n",
    "\n",
    "### However###\n",
    "\n",
    "- It is not true that if each element of a random vector $\\mathbf{X}$ has a normal distribution then that vector has to have a multivariate normal distribution. \n",
    "\n",
    "[Here](http://prob140.org/textbook/Chapter_23/03_Linear_Combinations.html#A-Cautionary-Tale) is an example."
   ]
  },
  {
   "cell_type": "markdown",
   "metadata": {},
   "source": [
    "# <span style=\"color: darkblue\">Linear Combinations</span> #"
   ]
  },
  {
   "cell_type": "code",
   "execution_count": 6,
   "metadata": {},
   "outputs": [
    {
     "data": {
      "text/html": [
       "\n",
       "        <iframe\n",
       "            width=\"400\"\n",
       "            height=\"300\"\n",
       "            src=\"https://www.youtube.com/embed/AD0QinBSQJU\"\n",
       "            frameborder=\"0\"\n",
       "            allowfullscreen\n",
       "        ></iframe>\n",
       "        "
      ],
      "text/plain": [
       "<IPython.lib.display.YouTubeVideo at 0x10e828f98>"
      ]
     },
     "execution_count": 6,
     "metadata": {},
     "output_type": "execute_result"
    }
   ],
   "source": [
    "YouTubeVideo(\"AD0QinBSQJU\")"
   ]
  },
  {
   "cell_type": "markdown",
   "metadata": {},
   "source": [
    "## Reading: They're Multivariate Normal ##\n",
    "That's the simple fact about any finite set of linear combinations of a multivariate normal vector: The distribution of the resulting vector is multivariate normal. \n",
    "\n",
    "You don't have to do anything to check this. You just have to recognize when it applies, and then **find the means and covariances using linearity of expectation and bilinearity of covariance**.\n",
    "\n",
    "See [here](http://prob140.org/textbook/Chapter_23/03_Linear_Combinations.html#Sum-and-Difference) and [here](http://prob140.org/textbook/Chapter_23/03_Linear_Combinations.html#Joint-Distribution-of-Linear-Combinations) for examples."
   ]
  },
  {
   "cell_type": "markdown",
   "metadata": {},
   "source": [
    "# <span style=\"color: darkblue\">Independence</span> #"
   ]
  },
  {
   "cell_type": "markdown",
   "metadata": {},
   "source": [
    "We'll postpone the proof until after you've done some work on the multivariate normal lab. For now, just accept the result:\n",
    "\n",
    "- For multivariate normal random variables to be mutually independent, all you have to check is that each pair is uncorrelated.\n",
    "    - That is, all you have to check is that the covariances are 0.\n",
    "    \n",
    "## Reading: An Example ##\n",
    "[This](http://prob140.org/textbook/Chapter_23/04_Independence.html#Sum-and-Difference,-Revisited) continues the example of the sum and difference above."
   ]
  },
  {
   "cell_type": "markdown",
   "metadata": {},
   "source": [
    "## Vitamins ##\n",
    "Let $[U ~ V ~ W]^T$ be multivariate normal with mean vector $[0 ~ 0 ~ 0]^T$ and covariance matrix \n",
    "$\\begin{bmatrix}\n",
    "1 & \\rho_1 & \\rho_2 \\\\\n",
    "\\rho_1 & 1 & \\rho_3 \\\\\n",
    "\\rho_2 & \\rho_3 & 1\n",
    "\\end{bmatrix}$\n",
    "\n",
    "**1.** What is the distribution of $U$?\n",
    "\n",
    "<details>\n",
    "    <summary>Answer 1</summary>\n",
    "Standard normal\n",
    "</details>\n",
    "\n",
    "**2.** What is the distribution of $U+2V$?\n",
    "\n",
    "<details>\n",
    "    <summary>Answer 2</summary>\n",
    "Normal $(0, 5+4\\rho_1)$\n",
    "</details>\n",
    "\n",
    "**3.** What is the joint distribution of $U$ and $U+2V$?\n",
    "\n",
    "<details>\n",
    "    <summary>Answer 3</summary>\n",
    "Bivariate normal with mean vector $[0 ~ 0]^T$ and covariance matrix \n",
    "$\\begin{bmatrix}\n",
    "1 & 1+ 2\\rho_1  \\\\\n",
    "1+ 2\\rho_1 & 5+4\\rho_1  \n",
    "\\end{bmatrix}$\n",
    "</details>\n",
    "\n",
    "**4.** Under what condition on the parameters is $U$ independent of $U+2V$?\n",
    "\n",
    "<details>\n",
    "    <summary>Answer 4</summary>\n",
    "$\\rho_1 = -0.5$\n",
    "</details>"
   ]
  },
  {
   "cell_type": "markdown",
   "metadata": {},
   "source": [
    "## We'll come back and fill in some blanks in derivations, but for now you're done. ##"
   ]
  }
 ],
 "metadata": {
  "kernelspec": {
   "display_name": "Python 3",
   "language": "python",
   "name": "python3"
  },
  "language_info": {
   "codemirror_mode": {
    "name": "ipython",
    "version": 3
   },
   "file_extension": ".py",
   "mimetype": "text/x-python",
   "name": "python",
   "nbconvert_exporter": "python",
   "pygments_lexer": "ipython3",
   "version": "3.6.0"
  }
 },
 "nbformat": 4,
 "nbformat_minor": 2
}
