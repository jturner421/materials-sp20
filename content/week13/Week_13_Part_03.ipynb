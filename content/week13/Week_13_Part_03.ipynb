{
 "cells": [
  {
   "cell_type": "code",
   "execution_count": 1,
   "metadata": {},
   "outputs": [],
   "source": [
    "# Support embedding YouTube Videos in Notebooks\n",
    "from IPython.display import YouTubeVideo"
   ]
  },
  {
   "cell_type": "markdown",
   "metadata": {},
   "source": [
    "# Week 13 Part 3 #"
   ]
  },
  {
   "cell_type": "markdown",
   "metadata": {},
   "source": [
    "Let's step away from the multivariate normal for a moment, and study simple regression without any assumption on the joint distribution of the response and the variable being used for prediction."
   ]
  },
  {
   "cell_type": "code",
   "execution_count": 2,
   "metadata": {},
   "outputs": [
    {
     "data": {
      "text/html": [
       "\n",
       "        <iframe\n",
       "            width=\"400\"\n",
       "            height=\"300\"\n",
       "            src=\"https://www.youtube.com/embed/HSwql5WUOiA\"\n",
       "            frameborder=\"0\"\n",
       "            allowfullscreen\n",
       "        ></iframe>\n",
       "        "
      ],
      "text/plain": [
       "<IPython.lib.display.YouTubeVideo at 0x10e9225f8>"
      ]
     },
     "execution_count": 2,
     "metadata": {},
     "output_type": "execute_result"
    }
   ],
   "source": [
    "YouTubeVideo(\"HSwql5WUOiA\")"
   ]
  },
  {
   "cell_type": "markdown",
   "metadata": {},
   "source": [
    "## Reading: The Calculus ##\n",
    "Work through the [minimization](http://prob140.org/textbook/Chapter_24/02_Linear_Least_Squares.html#Minimizing-Mean-Squared-Error) of the mean squared error, to derive the formulas for the slope and the intercept of the regression line.\n",
    "\n",
    "You need to be able to do this so that you can adjust the method to find least squares estimates for other models."
   ]
  },
  {
   "cell_type": "markdown",
   "metadata": {},
   "source": [
    "## Reading: Understanding the Regression Estimate ##\n",
    "We stated all this in Data 8, but now you should be able to understand it more fully:\n",
    "\n",
    "- [Regression Effect](http://prob140.org/textbook/Chapter_24/02_Linear_Least_Squares.html#Regression-in-Standard-Units)\n",
    "- Relation between [the line and the joint distribution](http://prob140.org/textbook/Chapter_24/02_Linear_Least_Squares.html#The-Line-and-the-Shape-of-the-Scatter-Diagram)"
   ]
  },
  {
   "cell_type": "markdown",
   "metadata": {},
   "source": [
    "## This is a good time to pause. The next section connects regression and the bivariate normal. ##"
   ]
  }
 ],
 "metadata": {
  "kernelspec": {
   "display_name": "Python 3",
   "language": "python",
   "name": "python3"
  },
  "language_info": {
   "codemirror_mode": {
    "name": "ipython",
    "version": 3
   },
   "file_extension": ".py",
   "mimetype": "text/x-python",
   "name": "python",
   "nbconvert_exporter": "python",
   "pygments_lexer": "ipython3",
   "version": "3.6.0"
  }
 },
 "nbformat": 4,
 "nbformat_minor": 2
}
