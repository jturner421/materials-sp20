{
 "cells": [
  {
   "cell_type": "code",
   "execution_count": 1,
   "metadata": {},
   "outputs": [],
   "source": [
    "from datascience import *\n",
    "from prob140 import *\n",
    "import numpy as np\n",
    "import matplotlib.pyplot as plt\n",
    "plt.style.use('fivethirtyeight')\n",
    "%matplotlib inline\n",
    "from scipy import stats"
   ]
  },
  {
   "cell_type": "code",
   "execution_count": 2,
   "metadata": {},
   "outputs": [],
   "source": [
    "# Support embedding YouTube Videos in Notebooks\n",
    "from IPython.display import YouTubeVideo"
   ]
  },
  {
   "cell_type": "markdown",
   "metadata": {},
   "source": [
    "# Week 13 Part 4 #"
   ]
  },
  {
   "cell_type": "markdown",
   "metadata": {},
   "source": [
    "If you simulate bivariate normal $(X, Y)$, you get the classic oval or \"football shaped\" scatter plot familiar from Data 8. In this section we study prediction when $X$ and $Y$ are bivariate normal.\n",
    "\n",
    "The bivariate normal is just a multivariate normal with just two variables in the random vector. So we can specify the parameters without the need for vectors and matrices:\n",
    "\n",
    "- the two means\n",
    "- the two variances\n",
    "- the correlation\n",
    "\n",
    "Just as a normal $(\\mu, \\sigma^2)$ random variable is a linear transformation of a standard normal variable, so also a bivariate normal pair is a linear transformation of a standard bivariate normal pair."
   ]
  },
  {
   "cell_type": "code",
   "execution_count": 3,
   "metadata": {},
   "outputs": [
    {
     "data": {
      "text/html": [
       "\n",
       "        <iframe\n",
       "            width=\"400\"\n",
       "            height=\"300\"\n",
       "            src=\"https://www.youtube.com/embed/ywj7tyMz480\"\n",
       "            frameborder=\"0\"\n",
       "            allowfullscreen\n",
       "        ></iframe>\n",
       "        "
      ],
      "text/plain": [
       "<IPython.lib.display.YouTubeVideo at 0x10e923860>"
      ]
     },
     "execution_count": 3,
     "metadata": {},
     "output_type": "execute_result"
    }
   ],
   "source": [
    "YouTubeVideo(\"ywj7tyMz480\")"
   ]
  },
  {
   "cell_type": "code",
   "execution_count": 4,
   "metadata": {},
   "outputs": [
    {
     "data": {
      "text/html": [
       "\n",
       "        <iframe\n",
       "            width=\"400\"\n",
       "            height=\"300\"\n",
       "            src=\"https://www.youtube.com/embed/nfiQvnO9yFg\"\n",
       "            frameborder=\"0\"\n",
       "            allowfullscreen\n",
       "        ></iframe>\n",
       "        "
      ],
      "text/plain": [
       "<IPython.lib.display.YouTubeVideo at 0x10e923780>"
      ]
     },
     "execution_count": 4,
     "metadata": {},
     "output_type": "execute_result"
    }
   ],
   "source": [
    "YouTubeVideo(\"nfiQvnO9yFg\")"
   ]
  },
  {
   "cell_type": "markdown",
   "metadata": {},
   "source": [
    "## Reading: Standard Bivariate Normal ##\n",
    "- The [definition and construction](http://prob140.org/textbook/Chapter_24/01_Bivariate_Normal_Distribution.html#Standard-Bivariate-Normal-Distribution)\n",
    "\n",
    "Go through the code that produces the scatter plot, and check that you understand how the construction is being used."
   ]
  },
  {
   "cell_type": "markdown",
   "metadata": {},
   "source": [
    "The construction clearly indicates that if you think of $\\rho$ as the cosine of an angle then the coefficient of the noise is the sine of the same angle. In fact, correlation can be interpreted as a cosine, but this term that is optional.\n",
    "\n",
    "You should however be clear about how to calculate the [variance of a sum](http://prob140.org/textbook/Chapter_24/01_Bivariate_Normal_Distribution.html#Bivariate-Normal-Distribution) of two random variables given the two variances and the correlation. Scroll through the properties of correlation (which you derived in homework) and then take a careful look at the calculation labeled Variance of a Sum."
   ]
  },
  {
   "cell_type": "markdown",
   "metadata": {},
   "source": [
    "# <span style=\"color: darkblue\">Prediction</span> #"
   ]
  },
  {
   "cell_type": "markdown",
   "metadata": {},
   "source": [
    "Now suppose $X$ and $Y$ are standard bivariate normal, and that you want to predict $Y$ based on $X$. This is the usual prediction problem, in the case where both variables are measured in standard units."
   ]
  },
  {
   "cell_type": "code",
   "execution_count": 5,
   "metadata": {},
   "outputs": [
    {
     "data": {
      "text/html": [
       "\n",
       "        <iframe\n",
       "            width=\"400\"\n",
       "            height=\"300\"\n",
       "            src=\"https://www.youtube.com/embed/CxksBbK4eSQ\"\n",
       "            frameborder=\"0\"\n",
       "            allowfullscreen\n",
       "        ></iframe>\n",
       "        "
      ],
      "text/plain": [
       "<IPython.lib.display.YouTubeVideo at 0x1221a8b38>"
      ]
     },
     "execution_count": 5,
     "metadata": {},
     "output_type": "execute_result"
    }
   ],
   "source": [
    "YouTubeVideo(\"CxksBbK4eSQ\")"
   ]
  },
  {
   "cell_type": "markdown",
   "metadata": {},
   "source": [
    "## Reading: Prediction and Error ##\n",
    "- The [best predictor](http://prob140.org/textbook/Chapter_24/03_Regression_and_Bivariate_Normal.html) happens to be linear. So if the data are bivariate normal, then simple regression gives you the best among all predictors, not just the best among all straight lines.\n",
    "- The [error variance](http://prob140.org/textbook/Chapter_24/03_Regression_and_Bivariate_Normal.html#Prediction-Error)"
   ]
  },
  {
   "cell_type": "markdown",
   "metadata": {},
   "source": [
    "## Reading: Conditional Distribution ##\n",
    "No surprise: the [conditional distribution](http://prob140.org/textbook/Chapter_24/03_Regression_and_Bivariate_Normal.html#Distribution-in-a-Vertical-Strip) of $Y$ given $X$ is normal. This follows easily from $Y = \\rho X + \\sqrt{1-\\rho^2}Z$. If you know $X$, then $Y$ just becomes a linear transformation of $Z$ which is normal."
   ]
  },
  {
   "cell_type": "markdown",
   "metadata": {},
   "source": [
    "## Reading: Example ##\n",
    "- An [application](http://prob140.org/textbook/Chapter_24/03_Regression_and_Bivariate_Normal.html#Predicting-Ranks) to predicting one SAT score based on another. Notice the regression effect."
   ]
  },
  {
   "cell_type": "markdown",
   "metadata": {},
   "source": [
    "## Vitamins ##\n",
    "\n",
    "In all the questions below, $X$ and $Y$ are standard bivariate normal with correlation $\\rho$.\n",
    "\n",
    "**1.** Suppose I ask you for the least squares estimate of $Y$ based on $X$, but I don't tell you $X$. What is your estimate, and what is its mean squared error?\n",
    "\n",
    "<details>\n",
    "    <summary>Answer 1</summary>\n",
    "Estimate is 0; mean squared error is 1\n",
    "</details>\n",
    "\n",
    "**2.** Suppose I now show you $X$. Now what is your least squares estimate of $Y$, and what is its mean squared error?\n",
    "\n",
    "<details>\n",
    "    <summary>Answer 2</summary>\n",
    "Estimate is $\\rho X$; mean squared error is $1-\\rho^2$\n",
    "</details>\n",
    "\n",
    "**3.** What is your least squares estimate of $Y$ based on linear functions of $X$, and what is its mean squared error?\n",
    "\n",
    "<details>\n",
    "    <summary>Answer 3</summary>\n",
    "Same as in Answer 2\n",
    "</details>\n",
    "\n",
    "**4.** Suppose $\\rho \\in (0, 1)$. If $X$ is on the 30th percentile, pick the right option for the least squares estimate of $Y$.\n",
    "\n",
    "(i) Below the 30th percentile\n",
    "\n",
    "(ii) On the 30th percentile\n",
    "\n",
    "(iii) Above the 30th percentile\n",
    "\n",
    "<details>\n",
    "    <summary>Answer 4</summary>\n",
    "(iii)\n",
    "</details>\n",
    "\n",
    "**5.** Suppose $\\rho = 0.6$. If $X$ is on the 30th percentile, what is the percentile rank of the least squares estimate of $Y$? Write **a single Python expression** that evaluates to the answer. Libraries have been imported in the first cell of this notebook. Check that the answer is consistent with your answer to Question 4."
   ]
  },
  {
   "cell_type": "code",
   "execution_count": null,
   "metadata": {},
   "outputs": [],
   "source": [
    "# Vitamin 5\n",
    "\n",
    "..."
   ]
  },
  {
   "cell_type": "markdown",
   "metadata": {},
   "source": [
    "<details>\n",
    "    <summary>Answer 5</summary>\n",
    "Approx 38th percentile\n",
    "</details>"
   ]
  }
 ],
 "metadata": {
  "kernelspec": {
   "display_name": "Python 3",
   "language": "python",
   "name": "python3"
  },
  "language_info": {
   "codemirror_mode": {
    "name": "ipython",
    "version": 3
   },
   "file_extension": ".py",
   "mimetype": "text/x-python",
   "name": "python",
   "nbconvert_exporter": "python",
   "pygments_lexer": "ipython3",
   "version": "3.6.0"
  }
 },
 "nbformat": 4,
 "nbformat_minor": 2
}
