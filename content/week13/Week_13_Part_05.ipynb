{
 "cells": [
  {
   "cell_type": "code",
   "execution_count": 1,
   "metadata": {},
   "outputs": [],
   "source": [
    "# Support embedding YouTube Videos in Notebooks\n",
    "from IPython.display import YouTubeVideo"
   ]
  },
  {
   "cell_type": "markdown",
   "metadata": {},
   "source": [
    "# Week 13 Part 5 #"
   ]
  },
  {
   "cell_type": "markdown",
   "metadata": {},
   "source": [
    "If $X$ and $Y$ are bivariate normal, then they are linear transformations of the standard bivariate normal $X_{su}$ and $Y_{su}$ which are respectively $X$ and $Y$ in standard units.\n",
    "\n",
    "So we can use what we know about prediction involving standard bivariate normals to make predictions in the general case.\n",
    "\n",
    "Suppose $X$ and $Y$ are bivariate normal with parameters $\\mu_X$, $\\mu_Y$, $\\sigma_X^2$, $\\sigma_Y^2$, and $\\rho$."
   ]
  },
  {
   "cell_type": "code",
   "execution_count": 2,
   "metadata": {},
   "outputs": [
    {
     "data": {
      "text/html": [
       "\n",
       "        <iframe\n",
       "            width=\"400\"\n",
       "            height=\"300\"\n",
       "            src=\"https://www.youtube.com/embed/7cx3B1VxNRg\"\n",
       "            frameborder=\"0\"\n",
       "            allowfullscreen\n",
       "        ></iframe>\n",
       "        "
      ],
      "text/plain": [
       "<IPython.lib.display.YouTubeVideo at 0x10e750cf8>"
      ]
     },
     "execution_count": 2,
     "metadata": {},
     "output_type": "execute_result"
    }
   ],
   "source": [
    "YouTubeVideo(\"7cx3B1VxNRg\")"
   ]
  },
  {
   "cell_type": "markdown",
   "metadata": {},
   "source": [
    "## Reading: Least Squares Prediction and Error##\n",
    "- The [best predictor](http://prob140.org/textbook/Chapter_24/04_Regression_Equation.html#In-the-Original-Units) of $Y$ based on $X$ has a familiar equation, and its SD is the familiar $\\sqrt{1-\\rho^2}\\sigma_Y$. "
   ]
  },
  {
   "cell_type": "markdown",
   "metadata": {},
   "source": [
    "# <span style=\"color: darkblue\">Alternative Forms</span> #"
   ]
  },
  {
   "cell_type": "markdown",
   "metadata": {},
   "source": [
    "The regression equation can be written in many forms. For example, writing the equation in terms of deviations helps with generalization and with deriving properties."
   ]
  },
  {
   "cell_type": "code",
   "execution_count": 3,
   "metadata": {},
   "outputs": [
    {
     "data": {
      "text/html": [
       "\n",
       "        <iframe\n",
       "            width=\"400\"\n",
       "            height=\"300\"\n",
       "            src=\"https://www.youtube.com/embed/1V9Bne6m93o\"\n",
       "            frameborder=\"0\"\n",
       "            allowfullscreen\n",
       "        ></iframe>\n",
       "        "
      ],
      "text/plain": [
       "<IPython.lib.display.YouTubeVideo at 0x10e95f208>"
      ]
     },
     "execution_count": 3,
     "metadata": {},
     "output_type": "execute_result"
    }
   ],
   "source": [
    "YouTubeVideo(\"1V9Bne6m93o\")"
   ]
  },
  {
   "cell_type": "markdown",
   "metadata": {},
   "source": [
    "Further manipulation of the equation might feel like a pointless algebra exercise at the moment. But you know that most calculations in this class have a point. In this case, the point is that this is the form that generalizes most directly to the case of multiple regression, when means and variances are replaced by mean vectors and covariance matrices."
   ]
  },
  {
   "cell_type": "code",
   "execution_count": 4,
   "metadata": {},
   "outputs": [
    {
     "data": {
      "text/html": [
       "\n",
       "        <iframe\n",
       "            width=\"400\"\n",
       "            height=\"300\"\n",
       "            src=\"https://www.youtube.com/embed/HX9zxXIHHbQ\"\n",
       "            frameborder=\"0\"\n",
       "            allowfullscreen\n",
       "        ></iframe>\n",
       "        "
      ],
      "text/plain": [
       "<IPython.lib.display.YouTubeVideo at 0x10e95f390>"
      ]
     },
     "execution_count": 4,
     "metadata": {},
     "output_type": "execute_result"
    }
   ],
   "source": [
    "YouTubeVideo(\"HX9zxXIHHbQ\")"
   ]
  },
  {
   "cell_type": "markdown",
   "metadata": {},
   "source": [
    "## Reading: Towards Multiple Regression ##\n",
    "- The [form](http://prob140.org/textbook/Chapter_24/04_Regression_Equation.html#An-Alternative-Form) that will be helpful when we move to multiple regression"
   ]
  },
  {
   "cell_type": "markdown",
   "metadata": {},
   "source": [
    "## Vitamins ##\n",
    "\n",
    "**1.** Let $(X, Y)$ be the weight and height of a person picked at random from a population, and suppose the distribution of $(X, Y)$ is bivariate normal with correlation 0.6. Suppose also that\n",
    "\n",
    "- $X$ has mean 150 pounds and SD 25 pounds\n",
    "- $Y$ has mean 68 inches and SD 3 inches\n",
    "\n",
    "Sketch the conditional density of $Y$ given $X = 170$ pounds. Mark the numerical values of the conditional mean and SD appropriately on your sketch.\n",
    "\n",
    "<details>\n",
    "    <summary>Answer 1</summary>\n",
    "Normal, mean 69.44 inches, SD 2.4 inches\n",
    "</details>\n",
    "\n",
    "**2.** Let $X$ and $Y$ be bivariate normal with parameters and notation as described at the start of this notebook. Which of the following are correct expressions for $E(Y \\mid X)$?\n",
    "\n",
    "(i) $\\rho X$\n",
    "\n",
    "(ii) $\\rho\\sigma_Y X_{su} + \\mu_Y$\n",
    "\n",
    "(iii) $Cov(X,Y)(\\sigma_X^2)^{-1} (X - \\mu_X) + \\mu_Y$\n",
    "\n",
    "<details>\n",
    "    <summary>Answer 2</summary>\n",
    "(ii), (iii)\n",
    "</details>"
   ]
  },
  {
   "cell_type": "markdown",
   "metadata": {},
   "source": [
    "## Congratulations! Only one more chapter to go! ##"
   ]
  }
 ],
 "metadata": {
  "kernelspec": {
   "display_name": "Python 3",
   "language": "python",
   "name": "python3"
  },
  "language_info": {
   "codemirror_mode": {
    "name": "ipython",
    "version": 3
   },
   "file_extension": ".py",
   "mimetype": "text/x-python",
   "name": "python",
   "nbconvert_exporter": "python",
   "pygments_lexer": "ipython3",
   "version": "3.6.0"
  }
 },
 "nbformat": 4,
 "nbformat_minor": 2
}
