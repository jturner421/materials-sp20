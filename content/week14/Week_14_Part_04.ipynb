{
 "cells": [
  {
   "cell_type": "markdown",
   "metadata": {},
   "source": [
    "# Week 14 Part 4 #"
   ]
  },
  {
   "cell_type": "markdown",
   "metadata": {},
   "source": [
    "In the last Part you saw that if you have a single random point $[Y ~~ X_1 ~~ X_2 ~~ \\cdots ~~ X_p]^T$, and you know its mean vector and covariance matrix, then you can find the best linear predictor of $Y$ in terms of the predictor variables $X_1, X_2, \\ldots, X_p$. If the joint distribution of variables is multivariate normal then this is the best among all predictors.\n",
    "\n",
    "But data scientists rarely know all the parameters in the mean vector and covariance matrix. They have to estimate these quantities. For this they need observations on not just one point but many.\n",
    "\n",
    "In this section we set up the multiple regression model so frequently used in data science."
   ]
  },
  {
   "cell_type": "markdown",
   "metadata": {},
   "source": [
    "## Reading: What Exactly is \"Linear\"? ##\n",
    "It seems a little contradictory, but you can fit a quadratic function using a linear model. Read [this](http://prob140.org/textbook/Chapter_25/04_Multiple_Regression.html) to see how.\n",
    "\n",
    "The point is that a linear model is *linear in its parameters*. "
   ]
  },
  {
   "cell_type": "markdown",
   "metadata": {},
   "source": [
    "# <span style=\"color: darkblue\">The Model</span> #"
   ]
  },
  {
   "cell_type": "markdown",
   "metadata": {},
   "source": [
    "Before we state the model formally, recall the `Table` data structure in Data 8. This is exactly the structure we will use to organize our data for regression.\n",
    "\n",
    "- Each row corresponds to one individual\n",
    "- Each column corresponds to an attribute of the individuals (such as height, or age), which we are now calling the predictor variables\n",
    "\n",
    "## Reading: Statement of the Model ##\n",
    "Slowly and carefully, read the [statement](http://prob140.org/textbook/Chapter_25/04_Multiple_Regression.html#The-Model) of the regression model. \n",
    "\n",
    "- The data on the response is contained in the vector $\\mathbf{Y}$ which has $n$ elements, one for each individual. You should imagine this vector to be very long, as we will be working in the setting where we have a lot of data.\n",
    "- $\\mathbf{X}$ is an $n\\times p$ matrix of constants, with one row for each individual.\n",
    "    - All entries in its first column are 1. This column is used for including an intercept term in the linear function.\n",
    "    - Each of the other columns represents the values of one of the $p-1$ predictor variables.\n",
    "    - You can consider the constant column to be the 0th predictor variable.\n",
    "- $\\boldsymbol{\\beta}$ is a $p\\times1$ vector of fixed but unknown parameters: the intercept and slopes of the true linear relation between the response and the predictors. These are the parameters we will try and estimate.\n",
    "- $\\boldsymbol{\\epsilon}$ is an $n\\times1$ vector of i.i.d. normal $(0, \\sigma^2)$ errors.\n",
    "\n",
    "The response $\\mathbf{Y}$ is the sum of the fixed *signal* $\\mathbf{X}\\boldsymbol{\\beta}$ and the random *noise* $\\boldsymbol{\\epsilon}$. Our job is to try to extract the signal."
   ]
  },
  {
   "cell_type": "markdown",
   "metadata": {},
   "source": [
    "It is important to remember that this is just a model, that is, a set of assumptions. All models are simplifications of reality. Some models are sufficient to help us understand the data better and make good decisions. But if a model is very far from reality then its conclusions might lead to bad decisions, no matter how sophisticated the theory or computation involved."
   ]
  },
  {
   "cell_type": "markdown",
   "metadata": {},
   "source": [
    "## A model is no good until you do something with it. So move on to the next section. ##"
   ]
  }
 ],
 "metadata": {
  "kernelspec": {
   "display_name": "Python 3",
   "language": "python",
   "name": "python3"
  },
  "language_info": {
   "codemirror_mode": {
    "name": "ipython",
    "version": 3
   },
   "file_extension": ".py",
   "mimetype": "text/x-python",
   "name": "python",
   "nbconvert_exporter": "python",
   "pygments_lexer": "ipython3",
   "version": "3.6.0"
  }
 },
 "nbformat": 4,
 "nbformat_minor": 2
}
