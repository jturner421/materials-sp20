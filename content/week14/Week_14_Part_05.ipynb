{
 "cells": [
  {
   "cell_type": "code",
   "execution_count": 1,
   "metadata": {},
   "outputs": [],
   "source": [
    "# Support embedding YouTube Videos in Notebooks\n",
    "from IPython.display import YouTubeVideo"
   ]
  },
  {
   "cell_type": "markdown",
   "metadata": {},
   "source": [
    "# Week 14 Part 5 #"
   ]
  },
  {
   "cell_type": "markdown",
   "metadata": {},
   "source": [
    "Our multiple regression model is\n",
    "\n",
    "$$\n",
    "\\mathbf{Y} ~ = ~ \\mathbf{X}\\boldsymbol{\\beta} + \\boldsymbol{\\epsilon}\n",
    "$$ \n",
    "\n",
    "where\n",
    "\n",
    "- $\\mathbf{X}$ is an $n\\times p$ matrix of known constants, with columns corresponding to the predictor variables; its first column is all 1\n",
    "- $\\boldsymbol{\\beta}$ is a $p\\times1$ vector of fixed but unknown parameters we have to estimate\n",
    "- $\\boldsymbol{\\epsilon}$ is an $n\\times1$ random vector that has the multivariate normal distribution with mean vector $\\mathbf{0}$ and covariance matrix $\\sigma^2\\mathbf{I}$ where $\\mathbf{I}$ is the $n$-dimensional identity matrix."
   ]
  },
  {
   "cell_type": "markdown",
   "metadata": {},
   "source": [
    "# <span style=\"color: darkblue\">The Best Estimate $\\hat{\\boldsymbol{\\beta}}$</span> #"
   ]
  },
  {
   "cell_type": "markdown",
   "metadata": {},
   "source": [
    "To motivate a guess for the best estimate of the parameter vector $\\boldsymbol{\\beta}$, let's define some notation. Remember that the mean of $\\boldsymbol{\\epsilon}$ is $\\mathbb{0}$, so if you had to estimate $\\boldsymbol{\\epsilon}$ by a vector you would just use $\\mathbb{0}$.\n",
    "\n",
    "- Let $\\hat{\\boldsymbol{\\beta}}$ be the best estimate of $\\boldsymbol{\\beta}$.\n",
    "- Let $\\hat{\\mathbf{Y}} = \\mathbf{X}\\hat{\\boldsymbol{\\beta}}$ be the best estimate of $\\mathbf{Y}$. \n",
    "- Let $\\mathbf{e} = \\mathbf{Y} - \\hat{\\mathbf{Y}}$ be the error in the estimate; this is also known as the vector of *residuals*.\n",
    "\n",
    "### Geometric Image ###\n",
    "Now use a visual image we used before, when we discovered conditional expectation to be a least squares predictor. Imagine the space of all linear functions of $\\mathbf{X}$ to be the surface of a table, and $\\mathbf{Y}$ to be a point above the surface. Which point on the surface is closest to $\\mathbf{Y}$?\n",
    "\n",
    "To find this, you should drop the perpendicular from $\\mathbf{Y}$ to the surface. The point you hit will be the estimate $\\hat{\\mathbf{Y}}$."
   ]
  },
  {
   "cell_type": "code",
   "execution_count": 2,
   "metadata": {},
   "outputs": [
    {
     "data": {
      "image/jpeg": "[encoded data removed]",
      "text/html": [
       "\n",
       "        <iframe\n",
       "            width=\"400\"\n",
       "            height=\"300\"\n",
       "            src=\"https://www.youtube.com/embed/Z3TQ69Dg5rs\"\n",
       "            frameborder=\"0\"\n",
       "            allowfullscreen\n",
       "        ></iframe>\n",
       "        "
      ],
      "text/plain": [
       "<IPython.lib.display.YouTubeVideo at 0x104368c50>"
      ]
     },
     "execution_count": 2,
     "metadata": {},
     "output_type": "execute_result"
    }
   ],
   "source": [
    "YouTubeVideo(\"Z3TQ69Dg5rs\")"
   ]
  },
  {
   "cell_type": "markdown",
   "metadata": {},
   "source": [
    "## Reading: Formal Derivation ##\n",
    "As always in this class, \"best\" means [\"least squares\"](http://prob140.org/textbook/Chapter_25/04_Multiple_Regression.html#Ordinary-Least-Squares). \n",
    "\n",
    "Work through the dot product and squared norm notation for the sum of squared errors.\n",
    "\n",
    "Then confirm that the residual vector is indeed [orthogonal](http://prob140.org/textbook/Chapter_25/04_Multiple_Regression.html#Projection) to $\\mathbf{X}$. It should be, as we constructed $\\hat{\\mathbf{Y}}$ specifically to make this happen.\n",
    "\n",
    "And now establish the [least squares property](http://prob140.org/textbook/Chapter_25/04_Multiple_Regression.html#Least-Squares)."
   ]
  },
  {
   "cell_type": "code",
   "execution_count": 3,
   "metadata": {},
   "outputs": [
    {
     "data": {
      "image/jpeg": "[encoded data removed]",
      "text/html": [
       "\n",
       "        <iframe\n",
       "            width=\"400\"\n",
       "            height=\"300\"\n",
       "            src=\"https://www.youtube.com/embed/aX9aLv-YtnA\"\n",
       "            frameborder=\"0\"\n",
       "            allowfullscreen\n",
       "        ></iframe>\n",
       "        "
      ],
      "text/plain": [
       "<IPython.lib.display.YouTubeVideo at 0x1043a6d68>"
      ]
     },
     "execution_count": 3,
     "metadata": {},
     "output_type": "execute_result"
    }
   ],
   "source": [
    "YouTubeVideo(\"aX9aLv-YtnA\")"
   ]
  },
  {
   "cell_type": "markdown",
   "metadata": {},
   "source": [
    "## Take a break. We'll finish the course with properties of the best estimate, and those aren't in the textbook. ##"
   ]
  }
 ],
 "metadata": {
  "kernelspec": {
   "display_name": "Python 3",
   "language": "python",
   "name": "python3"
  },
  "language_info": {
   "codemirror_mode": {
    "name": "ipython",
    "version": 3
   },
   "file_extension": ".py",
   "mimetype": "text/x-python",
   "name": "python",
   "nbconvert_exporter": "python",
   "pygments_lexer": "ipython3",
   "version": "3.6.0"
  }
 },
 "nbformat": 4,
 "nbformat_minor": 2
}
