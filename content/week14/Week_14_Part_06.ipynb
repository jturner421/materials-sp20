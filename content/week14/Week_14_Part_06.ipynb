{
 "cells": [
  {
   "cell_type": "markdown",
   "metadata": {},
   "source": [
    "# Week 14 Part 6 #"
   ]
  },
  {
   "cell_type": "markdown",
   "metadata": {},
   "source": [
    "Suppose your data follow the multiple regression model \n",
    "\n",
    "$$\n",
    "\\mathbf{Y} ~ = ~ \\mathbf{X}\\boldsymbol{\\beta} + \\boldsymbol{\\epsilon}\n",
    "$$ \n",
    "\n",
    "where\n",
    "\n",
    "- $\\mathbf{X}$ is an $n\\times p$ matrix of known constants, with columns corresponding to the predictor variables; its first column is all 1\n",
    "- $\\boldsymbol{\\beta}$ is a $p\\times1$ vector of fixed but unknown parameters we have to estimate\n",
    "- $\\boldsymbol{\\epsilon}$ is an $n\\times1$ random vector that has the multivariate normal distribution with mean vector $\\mathbf{0}$ and covariance matrix $\\sigma^2\\mathbf{I}$ where $\\mathbf{I}$ is the $n$-dimensional identity matrix.\n",
    "\n",
    "Then we know that the least squares estimate of $\\boldsymbol{\\beta}$ is\n",
    "\n",
    "$$\n",
    "\\hat{\\boldsymbol{\\beta}} ~ = ~ (\\mathbf{X}^T\\mathbf{X})^{-1}\\mathbf{X}^T\\mathbf{Y}\n",
    "$$\n",
    "\n",
    "This assumes that $\\mathbf{X}^T\\mathbf{X}$ is invertible, which requires $\\mathbf{X}$ to be of full column rank. That is, no column of $\\mathbf{X}$ is a linear combination of the others.\n",
    "\n",
    "$\\hat{\\boldsymbol{\\beta}}$ is a random vector: its values depend on the sample. Formally, it is a function of the random vector $\\mathbb{Y}$.\n",
    "\n",
    "To use $\\hat{\\boldsymbol{\\beta}}$ for inference about the true parameter vector ${\\boldsymbol{\\beta}}$, we will need the distribution of $\\hat{\\boldsymbol{\\beta}}$. For this, we have to first find the distribution of $\\mathbb{Y}$."
   ]
  },
  {
   "cell_type": "markdown",
   "metadata": {},
   "source": [
    "# <span style=\"color: darkblue\">Distribution of $\\mathbf{Y}$</span> #"
   ]
  },
  {
   "cell_type": "markdown",
   "metadata": {},
   "source": [
    "This follows from the model. $\\mathbf{Y}$ is a linear transformation of the multivariate normal noise vector $\\boldsymbol{\\epsilon}$. In fact, it is just a shift of $\\boldsymbol{\\epsilon}$ by the constant vector $\\mathbf{X}\\boldsymbol{\\beta}$. So:\n",
    "\n",
    "- $\\mathbf{Y}$ is multivariate normal\n",
    "- Its mean vector is $\\mathbf{X}\\boldsymbol{\\beta}$ because the mean vector of $\\boldsymbol{\\epsilon}$ is $\\mathbb{0}$.\n",
    "- Its covariance matrix is $\\sigma^2\\mathbf{I}_n$ because it is equal to the covariance matrix of $\\boldsymbol{\\epsilon}$."
   ]
  },
  {
   "cell_type": "markdown",
   "metadata": {},
   "source": [
    "# <span style=\"color: darkblue\">Distribution of $\\hat{\\boldsymbol{\\beta}}$</span> #"
   ]
  },
  {
   "cell_type": "markdown",
   "metadata": {},
   "source": [
    "The vector of estimates $\\hat{\\boldsymbol{\\beta}}$ is a linear transformation of $\\mathbf{Y}$, because $\\hat{\\boldsymbol{\\beta}}  =  (\\mathbf{X}^T\\mathbf{X})^{-1}\\mathbf{X}^T\\mathbf{Y} = \\mathbf{AY}$. So:\n",
    "\n",
    "- $\\hat{\\boldsymbol{\\beta}}$ is multivariate normal\n",
    "- Its mean vector is \n",
    "\n",
    "$$\n",
    "(\\mathbf{X}^T\\mathbf{X})^{-1}\\mathbf{X}^T\\boldsymbol{\\mu}_\\mathbf{Y} ~ = ~ \n",
    "(\\mathbf{X}^T\\mathbf{X})^{-1}\\mathbf{X}^T\\mathbf{X}\\boldsymbol{\\beta} ~ = ~ \\boldsymbol{\\beta}\n",
    "$$\n",
    "\n",
    "Thus $\\hat{\\boldsymbol{\\beta}}$ is an unbiased estimator of $\\boldsymbol{\\beta}$.\n",
    "\n",
    "- Its covariance matrix is\n",
    "\n",
    "$$\n",
    "\\begin{align*}\n",
    "\\boldsymbol{\\Sigma}_{\\hat{\\boldsymbol{\\beta}}} ~ &= ~ \\mathbf{A}\\boldsymbol{\\Sigma}_\\mathbf{Y}\\mathbf{A}^T\\\\\n",
    "&= ~ (\\mathbf{X}^T\\mathbf{X})^{-1}\\mathbf{X}^T \\cdot \\sigma^2\\mathbf{I} \\cdot \\mathbf{X}(\\mathbf{X}^T\\mathbf{X})^{-1} \\\\\n",
    "&= ~ \\sigma^2 (\\mathbf{X}^T\\mathbf{X})^{-1}\n",
    "\\end{align*}\n",
    "$$\n",
    "\n",
    "Therefore the distribution of the single parameter estimate $\\hat{\\boldsymbol{\\beta}}_i$ is normal with mean $\\beta_i$ and variance equal to the $i$th diagonal element of the matrix above.\n",
    "\n",
    "We know $\\mathbf{X}$, and if we also know $\\sigma$ then we have complete information about the normal distribution of $\\hat{\\boldsymbol{\\beta}}_i$. We can use that to make confidence intervals for the parameter $\\boldsymbol{\\beta}_i$ in exactly the same way as we made confidence intervals based on the sample mean:\n",
    "\n",
    "A 95% confidence interval for $\\boldsymbol{\\beta}_i$ is\n",
    "\n",
    "$$\n",
    "\\hat{\\boldsymbol{\\beta}}_i \\pm 2SD(\\hat{\\boldsymbol{\\beta}}_i)\n",
    "$$\n",
    "\n",
    "But typically, we don't know $\\sigma^2$. It is one of the ingredients in the SD above, so we have to estimate it before we can make the confidence interval."
   ]
  },
  {
   "cell_type": "markdown",
   "metadata": {},
   "source": [
    "# <span style=\"color: darkblue\">Estimate of $\\sigma^2$</span> #"
   ]
  },
  {
   "cell_type": "markdown",
   "metadata": {},
   "source": [
    "The closest we get to the noise vector $\\boldsymbol{\\epsilon}$ is the residual vector $\\mathbf{e}$. \n",
    "\n",
    "Since $\\sigma^2$ is the variance of each $\\boldsymbol{\\epsilon}_i$, we will estimate it by the variance of the residuals $e_1, e_2, \\ldots, e_n$:\n",
    "\n",
    "$$\n",
    "\\hat{\\sigma}^2 ~ = ~ \\frac{1}{n} \\sum_{i=1}^n (e_i - \\bar{e})^2\n",
    "$$\n",
    "\n",
    "Since $\\mathbf{e}$ is orthogonal to $\\mathbf{X}$, the dot product of $\\mathbf{e}$ and the first column of $\\mathbf{X}$ is 0. That is, $\\sum_{i=1}^n e_i = 0$. Hence $\\bar{e} = 0$, and so\n",
    "\n",
    "$$\n",
    "\\hat{\\sigma}^2 ~ = ~ \\frac{1}{n} \\sum_{i=1}^n e_i^2\n",
    "$$\n",
    "\n",
    "That is, the estimate of the error variance $\\sigma^2$ is the mean squared residual.\n",
    "\n",
    "This works well when $n$ is large. For small $n$, or in the case where $p$ is large compared to $n$, you have to be more careful. We'll leave that to another course."
   ]
  },
  {
   "cell_type": "markdown",
   "metadata": {},
   "source": [
    "## Congratulations! You are really and truly DONE with the course! ##"
   ]
  }
 ],
 "metadata": {
  "kernelspec": {
   "display_name": "Python 3",
   "language": "python",
   "name": "python3"
  },
  "language_info": {
   "codemirror_mode": {
    "name": "ipython",
    "version": 3
   },
   "file_extension": ".py",
   "mimetype": "text/x-python",
   "name": "python",
   "nbconvert_exporter": "python",
   "pygments_lexer": "ipython3",
   "version": "3.6.0"
  }
 },
 "nbformat": 4,
 "nbformat_minor": 2
}
