{
 "cells": [
  {
   "cell_type": "markdown",
   "metadata": {},
   "source": [
    "<table align=\"left\" style=\"border-style: hidden\" class=\"table\"> <tr><td class=\"col-md-2\"><img style=\"float\" src=\"http://prob140.org/assets/icon256.png\" alt=\"Prob140 Logo\" style=\"width: 120px;\"/></td><td><div align=\"left\"><h3 style=\"margin-top: 0;\">Probability for Data Science</h3><h4 style=\"margin-top: 20px;\">UC Berkeley, Spring 2020</h4><p>Ani Adhikari and Jim Pitman</p>CC BY-NC 4.0</div></td></tr></table><!-- not in pdf -->"
   ]
  },
  {
   "cell_type": "code",
   "execution_count": null,
   "metadata": {
    "#solution": false,
    "#staff": false,
    "#student": false
   },
   "outputs": [],
   "source": [
    "import numpy as np\n",
    "from datascience import *\n",
    "from prob140 import *\n",
    "from scipy import stats\n",
    "from scipy import special\n",
    "import matplotlib\n",
    "%matplotlib inline\n",
    "import matplotlib.pyplot as plt\n",
    "plt.style.use('fivethirtyeight')"
   ]
  },
  {
   "cell_type": "markdown",
   "metadata": {
    "#solution": false,
    "#staff": false,
    "#student": false
   },
   "source": [
    "# Final Assessment Part I #"
   ]
  },
  {
   "cell_type": "markdown",
   "metadata": {
    "#solution": false,
    "#staff": false,
    "#student": false
   },
   "source": [
    "## Instructions ##\n",
    "Please follow all of these instructions. No exceptions.\n",
    "\n",
    "- Show **all** your work in every part of every question. Provide explanations if you don't show a calculation.\n",
    "- **Do not leave integrals or infinite sums** in your answers.\n",
    "- \"Famous\" distributions are those that are on the [Final Reference Sheet](http://prob140.org/assets/final_reference_fa18.pdf).\n",
    "- The standard Prob 140 libraries are imported above. Do not import any other libraries or use any other software. \n",
    "- Use `np.e` for $e$ and `np.pi` for $\\pi$.\n",
    "\n",
    "### Submitting\n",
    "When submitting your assignment on Gradescope,  **select the pages corresponding to your question.** We will not grade your submission if you do not have work assigned for each question. No exceptions.\n",
    "\n",
    "### Reference Materials and Support ###\n",
    "**Please follow this carefully, as the consequences of not doing so will be severe.** Thank you!\n",
    "\n",
    "- All of the work on the assessment must be yours alone. No collaboration is permitted, nor is consultation except as described below.\n",
    "\n",
    "- You may consult any and all course materials provided in this class over the past 14 weeks.\n",
    "\n",
    "- You may use, without proof, any result from lecture or the textbook, unless the question specifically asks for a proof.\n",
    "\n",
    "- If you use a result from HW/lab/discussion/midterm, please provide a brief reference, e.g. \"HW 1 4b\" or \"Rev Set 4 9b from Discussion\", etc.\n",
    "\n",
    "- When in doubt, include a proof.\n",
    "\n",
    "- You may consult current course staff in office hours and via private Piazza posts. Details about office hours will be posted on Piazza. In addition, staff are holding some review sessions on topics in which students have needed help in the past. Keep an eye on [Piazza post @574](https://piazza.com/class/k5cqg51q5qb11v?cid=574) for the schedule.\n",
    "\n",
    "- You may not make any other post about the assessment. If you would like to discuss something please make a private post or email Prof. A.\n",
    "\n",
    "- **You may not consult or use any other source, human or otherwise, nor post about or discuss the assessment in any other way, until after 12 noon PDT on Thursday 5/7, even if you have submitted the assessment before that.**\n",
    "\n",
    "### Academic Integrity ###\n",
    "The rules above are not optional. Even in the current situation there is no excuse for academic dishonesty – if you feel anxious or under pressure, please talk with staff instead of resorting to means that you know are wrong. We have gone out of our way to make it straightforward for you to complete this class successfully, and we will support and advise you if you are having difficulties. But we will have no patience with lack of integrity.\n",
    "\n",
    "### Grading ###\n",
    "- There are 7 questions, each worth 15 points.\n",
    "- We will give partial credit, but not as generously as on timed closed-book exams, and only for significant progress towards a solution."
   ]
  },
  {
   "cell_type": "markdown",
   "metadata": {
    "#solution": false,
    "#staff": false,
    "#student": false
   },
   "source": [
    "## 1. Poisson Tails ##\n",
    "\n",
    "Let $X$ have the Poisson $\\mu$ distribution and let $k > \\mu$ be a positive integer.\n",
    "\n",
    "**a)** Find Markov's upper bound on $P(X \\ge k)$.\n",
    "\n",
    "**b)** Find Chebyshev's upper bound on $P(X \\ge k)$.\n",
    "\n",
    "**c)** Use the function $g(x) = e^x$ and Markov's inequality to find an exponential upper bound on $P(X \\ge k)$.\n",
    "\n",
    "**d)** Find Chernoff's upper bound on $P(X \\ge k)$. Simplify the answer as much as you can, as you will write a single `NumPy` expression for it below.\n",
    "\n",
    "**e)** Set $\\mu = 5$. Define a function `poisson_5_tails` that takes a positive integer array $k$ as its argument and returns $P(X \\ge k)$. Your function doesn't have to check that the input is an integer array. If necessary, refer to `stats.poisson` documentation for details about inputs."
   ]
  },
  {
   "cell_type": "code",
   "execution_count": null,
   "metadata": {
    "#solution": false,
    "#staff": false,
    "#student": true
   },
   "outputs": [],
   "source": [
    "mu = 5\n",
    "def poisson_5_tails(k):\n",
    "    return ..."
   ]
  },
  {
   "cell_type": "markdown",
   "metadata": {
    "#solution": false,
    "#staff": false,
    "#student": false
   },
   "source": [
    "Run the cell below to see a graph of the tail probabilities as $k$ ranges between two times the mean and six times the mean."
   ]
  },
  {
   "cell_type": "code",
   "execution_count": null,
   "metadata": {
    "#solution": false,
    "#staff": false,
    "#student": false
   },
   "outputs": [],
   "source": [
    "left_edges = np.arange(2*mu, 6*mu+1, 1)\n",
    "exact = poisson_5_tails(left_edges)\n",
    "\n",
    "plt.plot(left_edges, exact, color='green', lw=2)\n",
    "plt.xlabel('$k$')\n",
    "plt.title('$P(X \\geq k)$ where $X$ is Poisson (%s)' % mu);"
   ]
  },
  {
   "cell_type": "markdown",
   "metadata": {
    "#solution": false,
    "#staff": false,
    "#student": false
   },
   "source": [
    "**f)** Fill in the blanks in the cell below to calculate the bounds you found in Parts **a-d**, for `mu` and `left_edges` defined above. Each blank should be filled with a single arithmetic or `NumPy` expression."
   ]
  },
  {
   "cell_type": "code",
   "execution_count": null,
   "metadata": {
    "#solution": false,
    "#staff": false,
    "#student": true
   },
   "outputs": [],
   "source": [
    "markov = ...\n",
    "chebyshev = ...\n",
    "exponential = ...\n",
    "chernoff = ..."
   ]
  },
  {
   "cell_type": "markdown",
   "metadata": {
    "#solution": false,
    "#staff": false,
    "#student": false
   },
   "source": [
    "Now run the cell below to compare the bounds."
   ]
  },
  {
   "cell_type": "code",
   "execution_count": null,
   "metadata": {
    "#solution": false,
    "#staff": false,
    "#student": false
   },
   "outputs": [],
   "source": [
    "plt.plot(left_edges, exact, color='green', lw=2, label='Exact')\n",
    "plt.plot(left_edges, markov, color='red', lw=2, label='Markov')\n",
    "plt.plot(left_edges, chebyshev, color='orange', lw=2, label='Chebyshev')\n",
    "plt.plot(left_edges, exponential, color='blue', lw=2, label='Exponential')\n",
    "plt.plot(left_edges, chernoff, color='purple', lw=2, label='Chernoff')\n",
    "plt.legend()\n",
    "plt.xlabel('$k$')\n",
    "plt.title('Upper Bounds on $P(X \\geq k)$ where $X$ is Poisson (%s)'% mu);"
   ]
  },
  {
   "cell_type": "markdown",
   "metadata": {
    "#solution": false,
    "#staff": false,
    "#student": false
   },
   "source": [
    "On this scale, it will be hard to see separations between some of the curves if you have done your calculations correctly. Run the cell below to see what happens over the range three to four times the mean."
   ]
  },
  {
   "cell_type": "code",
   "execution_count": null,
   "metadata": {
    "#solution": false,
    "#staff": false,
    "#student": false
   },
   "outputs": [],
   "source": [
    "plt.xlim(15, 20)\n",
    "plt.ylim(0, 0.0021)\n",
    "plt.plot(left_edges, exact, color='green', lw=2, label='Exact')\n",
    "plt.plot(left_edges, exponential, color='blue', lw=2, label='Exponential')\n",
    "plt.plot(left_edges, chernoff, color='purple', lw=2, label='Chernoff')\n",
    "plt.legend()\n",
    "plt.xlabel('$k$')\n",
    "plt.title('Exponential and Chernoff Bounds on $P(X \\geq k)$ where $X$ is Poisson (%s)' % mu);"
   ]
  },
  {
   "cell_type": "markdown",
   "metadata": {
    "#solution": false,
    "#staff": false,
    "#student": false
   },
   "source": [
    "## 2. Predicting Scores ##\n",
    "\n",
    "[Your answers to this question should be decimal values or equations with numerical coefficients. For the arithmetic, please use the code cell at the end of the question. It's just there for your convenience – we won't read it.]\n",
    "\n",
    "Grades in a class are based on a linear combination of a final exam (worth 50% of the grade), a midterm (worth 30%), and homework (worth 20%). Let the random vector $[F ~~ M ~~ H]^T$ consist of the final, midterm, and homework scores of a randomly picked student.\n",
    "\n",
    "Suppose the mean vector of $[F ~~ M ~~ H]^T$ is $[60 ~~ 55 ~~ 80]^T$ and the covariance matrix is\n",
    "\n",
    "$$\n",
    "\\begin{bmatrix}\n",
    "121 & 80 & 10 \\\\\n",
    "80 & 144 & 15 \\\\\n",
    "10 & 15 & 9\n",
    "\\end{bmatrix}\n",
    "$$\n",
    "\n",
    "Assume that the distribution of $[F ~~ M ~~ H]^T$ is multivariate normal. \n",
    "\n",
    "**a)** Find the distribution of the student's overall score $S = 0.5F + 0.3M + 0.2H$.\n",
    "\n",
    "**b)** Before calculating the overall score, the instructor wonders whether $F$ can just be predicted by a linear function of the random variable $X = 0.3M + 0.2H$. Find the least squares linear predictor of $F$ based on $X$.\n",
    "\n",
    "**c)** Find the least squares predictor of $F$ based on $X$.\n",
    "\n",
    "**d)** Find the root mean squared error of the predictor in Part **c**.\n",
    "\n",
    "**e)** Let $F_{su}$ be $F$ in standard units and let $M_{su}$ be $M$ in standard units. Find the joint distribution of $F_{su}$ and $M_{su}$.\n",
    "\n",
    "**f)** Find $P(F_{su} > M_{su} + 0.5)$."
   ]
  },
  {
   "cell_type": "code",
   "execution_count": null,
   "metadata": {
    "#solution": false,
    "#staff": false,
    "#student": true
   },
   "outputs": [],
   "source": [
    "weight = np.matrix([0.5, 0.3, 0.2])\n",
    "mu = np.matrix([60, 55, 80])\n",
    "cov = np.matrix([[121, 80, 10], \n",
    "      [80, 144, 15],\n",
    "      [10, 15, 9]])\n",
    "\n",
    "..."
   ]
  },
  {
   "cell_type": "markdown",
   "metadata": {
    "#solution": false,
    "#staff": false,
    "#student": false
   },
   "source": [
    "## 3. Predicting Heads ##\n",
    "A coin lands heads with chance $X$ where $X$ has a beta $(7, 3)$ density. The coin is tossed repeatedly. Recall that given $X=p$ the tosses are i.i.d. Bernoulli $(p)$ random variables.\n",
    "\n",
    "**a)** Find the chance that the first two tosses are heads. Then compute your answer numerically below by writing **one arithmetic expression** that uses only `*` and `/` and evaluates to the chance."
   ]
  },
  {
   "cell_type": "code",
   "execution_count": null,
   "metadata": {
    "#solution": false,
    "#staff": false,
    "#student": true
   },
   "outputs": [],
   "source": [
    "ans_a = ...\n",
    "ans_a"
   ]
  },
  {
   "cell_type": "markdown",
   "metadata": {
    "#solution": false,
    "#staff": false,
    "#student": false
   },
   "source": [
    "**b)** Find the three conditional probabilities below. If two or all of them are the same, you don't have to calculate them separately; just explain why they are the same.\n",
    "\n",
    "(i) Given that the first four tosses are HHHT, the conditional chance that the next five tosses are HHTTH\n",
    "\n",
    "(ii) Given that three of the first four tosses are heads, the conditional chance that the next five tosses are HHTTH\n",
    "\n",
    "(iii) Given that three of the first four tosses are heads, the conditional chance that three of the next five tosses are heads\n",
    "\n",
    "Once you have found the three probabilities, find their numerical values in the cell below. As in Part **a**, you should only use arithmetic expressions involving `*` and `/`. But you can use one answer to calculate another, e.g. `ans_b_i / 2` is fine as a subsequent answer if you think it's half the answer to (i)."
   ]
  },
  {
   "cell_type": "code",
   "execution_count": null,
   "metadata": {
    "#solution": false,
    "#staff": false,
    "#student": true
   },
   "outputs": [],
   "source": [
    "ans_b_i = ...\n",
    "ans_b_ii = ...\n",
    "ans_b_iii = ...\n",
    "\n",
    "ans_b_i, ans_b_ii, ans_b_iii"
   ]
  },
  {
   "cell_type": "markdown",
   "metadata": {
    "#solution": false,
    "#staff": false,
    "#student": false
   },
   "source": [
    "**c)** By conditioning on $X$, find the **expectation** and **variance** of the number of heads in 10 tosses of this coin.\n",
    "\n",
    "Then use the cell below to calculate the numerical value of the **SD** of the number of heads in 10 tosses. Make sure the last line of your code cell evaluates to the SD. You can use multiple lines of arithmetic, the four basic arithmetic operations, the square, and the square root."
   ]
  },
  {
   "cell_type": "code",
   "execution_count": null,
   "metadata": {
    "#solution": false,
    "#staff": false,
    "#student": true
   },
   "outputs": [],
   "source": [
    "# SD of number of heads in 10 tosses\n",
    "\n",
    "..."
   ]
  },
  {
   "cell_type": "markdown",
   "metadata": {
    "#solution": false,
    "#staff": false,
    "#student": false
   },
   "source": [
    "## 4. Spam and Ham ##\n",
    "Emails arrive at an Inbox according to a Poisson process at a rate of 20 per hour. Each email is spam with chance 1/100 independently of all others. Emails that are not spam are called \"ham\".\n",
    "\n",
    "Suppose I start watching the process at time $0$. Define the following random variables:\n",
    "\n",
    "- $M_{30}$ is the number of emails that arrive in the first half-hour that I watch. \n",
    "- For a positive integer $k$ let $T_{M,k}$ be the arrival time of the $k$th email.\n",
    "\n",
    "**a)** What is the distribution of $M_{30}$?\n",
    "\n",
    "**b)** Fill in the blanks. The first blank should be filled in with one of the comparison operators $>$, $<$, $\\ge$, $\\le$ and $=$. The second blank should be filled in with an integer. There is more than one correct way to do this; pick any one.\n",
    "\n",
    "$$\n",
    "M_{30} ~\\underline{~~~~} ~~\\underline{~~~~~~~~} ~~ \\iff ~~ T_{M, 8}  > \\text{ 30 minutes}\n",
    "$$\n",
    "\n",
    "Use this and Part **a** to write $P(T_{M,8} > \\text{ 30 minutes})$ as a finite sum, and then use the code cell below to write an expression that evaluates to the numerical value of the probability. **Use only discrete distributions** in the calculation."
   ]
  },
  {
   "cell_type": "code",
   "execution_count": null,
   "metadata": {
    "#solution": false,
    "#staff": false,
    "#student": true
   },
   "outputs": [],
   "source": [
    "# 4b\n",
    "\n",
    "..."
   ]
  },
  {
   "cell_type": "markdown",
   "metadata": {
    "#solution": false,
    "#staff": false,
    "#student": false
   },
   "source": [
    "**c)** Find the chance that in a fixed five-hour interval, there are at least 80 ham emails and at most one spam email. Then use the code cell below to write an expression that evaluates to the numerical value of this probability."
   ]
  },
  {
   "cell_type": "code",
   "execution_count": null,
   "metadata": {
    "#solution": false,
    "#staff": false,
    "#student": true
   },
   "outputs": [],
   "source": [
    "# 4c\n",
    "\n",
    "..."
   ]
  },
  {
   "cell_type": "markdown",
   "metadata": {
    "#solution": false,
    "#staff": false,
    "#student": false
   },
   "source": [
    "**d)** Suppose I watch the process for two hours. Given that there were 35 ham emails in that entire period, what is the conditional distribution of the number of ham emails in the first of the two hours?\n",
    "\n",
    "**e)** Suppose I watch the process for two hours. Given that there were 35 ham emails in that entire period, what is the conditional distribution of the number of spam emails in the first of the two hours?"
   ]
  },
  {
   "cell_type": "markdown",
   "metadata": {
    "#solution": false,
    "#staff": false,
    "#student": false
   },
   "source": [
    "## 5. Probabilistic Approach to Integration ##\n",
    "\n",
    "Let $X$ and $Y$ have joint density given by\n",
    "\n",
    "$$\n",
    "f(x, y) ~ = ~ \n",
    "\\begin{cases} \n",
    "xe^{-x-xy}, ~~~ x > 0, y > 0 \\\\\n",
    "0 ~~~~~~~~~~~~~~~~ \\text{otherwise}\n",
    "\\end{cases}\n",
    "$$\n",
    "\n",
    "In Parts **a** and **b**, **do not use calculus** to integrate. Instead, you should recognize integrals of the well-known density functions, or expectations, or moment generating functions, possibly with some normalizing constants missing, and use only those facts to evaluate the integrals.\n",
    "\n",
    "Highly recommended: In each integral, identify what is constant, what is the variable, and whether you need any normalizing constants.\n",
    "\n",
    "**a)** Find the density of $X$, and explain which probability integral facts you used in your calculation. Recognize it as one of the famous ones and state its name and parameters.\n",
    "\n",
    "**b)** Find the density of $Y$, and explain which probability integral facts you used in your calculation. \n",
    "\n",
    "**c)** For $x > 0$, find the conditional density of $Y$ given $X=x$. If it is one of the famous ones, identify the family and parameters.\n",
    "\n",
    "**d)** Find $P(Y > \\frac{1}{2}X)$ by integrating $f$ appropriately, in the order $y$ first, then $x$. Use probability integral facts wherever possible; also, the derivation of the moment generating function of the standard normal might be helpful. Then use the code cell below to find the numerical value of the chance."
   ]
  },
  {
   "cell_type": "code",
   "execution_count": null,
   "metadata": {
    "#solution": false,
    "#staff": false,
    "#student": true
   },
   "outputs": [],
   "source": [
    "# 5d\n",
    "\n",
    "..."
   ]
  },
  {
   "cell_type": "markdown",
   "metadata": {
    "#solution": false,
    "#staff": false,
    "#student": false
   },
   "source": [
    "## 6. Peter Meets Paul (on Zoom) ##\n",
    "\n",
    "Peter and Paul are supposed to join a Zoom call. Suppose that Peter joins at a random time $T_1$ and Paul joins at a random time $T_2$. For $i = 1, 2$, assume that $T_i = \\text{4:00 pm } + X_i$ where $X_1$ and $X_2$ are i.i.d. normal with mean $0$ and SD $20$ seconds.\n",
    "\n",
    "Define the following variables.\n",
    "\n",
    "- $T = \\vert X_1 - X_2 \\vert$, the amount of time between the two men's arrivals on the call\n",
    "- $U= \\min(X_1, X_2)$, so that $\\text{4:00 pm } + U$ is the first time when one of the men is on the call\n",
    "\n",
    "In some of what follows, it will help to note that the following identities hold for any two numbers $a$ and $b$.\n",
    "\n",
    "$$\n",
    "\\max(a, b) + \\min(a, b) ~ = ~ a+b ~~~~~~~~~~~~ \\max(a, b) - \\min(a, b) ~ = ~ \\vert a-b \\vert\n",
    "$$\n",
    "\n",
    "**a)** Find $E(T)$.\n",
    "\n",
    "**b)** Find $SD(T)$.\n",
    "\n",
    "**c)** Find $E(U)$.\n",
    "\n",
    "**d)** Find the density of $U$ in terms of the standard normal density function $\\phi$ and the standard normal cdf $\\Phi$."
   ]
  },
  {
   "cell_type": "markdown",
   "metadata": {
    "#solution": false,
    "#staff": false,
    "#student": false
   },
   "source": [
    "## 7. A Maximum Likelihood Estimate ##\n",
    "\n",
    "For a fixed $\\theta > 0$, let $X_1, X_2, \\ldots, X_n$ be i.i.d., each with the beta $(1, \\theta)$ density.\n",
    "\n",
    "**a)** Let $\\hat{\\theta}$ be the maximum likelihood estimate of $\\theta$. Find $\\hat{\\theta}$.\n",
    "\n",
    "**b)** Let $X$ have the beta $(1, \\theta)$ density. Find the density of $-\\log(1-X)$. Recognize this as one of the famous ones and provide its name and parameters.\n",
    "\n",
    "**c)** Let $f$ be the density of the MLE $\\hat{\\theta}$ in Part **a**. Find $f$. It is helpful to start by putting together the results of Parts **a** and **b**.\n",
    "\n",
    "**d)** Fill in the cell below to draw a graph of $f$ in the case $n=100$ and $\\theta = 4$. In typical data science settings you will not know the value of $\\theta$, so it is important to first try to understand the properties of $\\hat{\\theta}$ for a known $\\theta$ and then see if those properties can be used for inference."
   ]
  },
  {
   "cell_type": "code",
   "execution_count": null,
   "metadata": {
    "#solution": false,
    "#staff": false,
    "#student": true
   },
   "outputs": [],
   "source": [
    "theta = 4\n",
    "n = 100\n",
    "\n",
    "y = np.arange(0.01, 10.01, 0.01)\n",
    "\n",
    "# values of f(y)\n",
    "f = ...\n",
    "\n",
    "plt.plot(y, f, color='darkblue', lw=2)\n",
    "plt.xlabel('$y$')\n",
    "plt.ylabel('$f(y)$')\n",
    "plt.title('Density of MLE');                         "
   ]
  },
  {
   "cell_type": "markdown",
   "metadata": {
    "#solution": false,
    "#staff": false,
    "#student": false
   },
   "source": [
    "**e)** Now let $\\theta$ be unknown. For large $n$, what can you say about the approximate distribution of its MLE $\\hat{\\theta}$? Explain, and then explain how you can use that approximation to construct confidence intervals for $\\theta$."
   ]
  }
 ],
 "metadata": {
  "checksums": [
   "aa2e7c3af3f1e128978a7970cb014c83",
   "bc8f9153d6a56cc65091e5273eebb392",
   "77f088cf27761075e4cbc7cd48d44bbd",
   "396ffdbad42fc950b012677e6c3e8931",
   "bf11e39ac051f29330d7e1197d9408fa",
   "919ebefcb836294183c0b9c5c4ac5016",
   "596e4d35b3134b492bef743adcdeb492",
   "50d3fd993615ac6fc360f8cfadb26b58",
   "8dd9809482c590f16998f9282108ba52",
   "0b30a636194aa9c5ee34ce06dda0f5ac",
   "a23b3d0103225bbe6aa98969a6a768f0",
   "186c9d256354a5be35f46f388866aebd",
   "a0fb35274a6cae75399f82502cf69e22",
   "944fc4f97aa9d64620ffdde64bd01f79",
   "fb5da0528eae358c2ef70633c5fc110b",
   "08fd9af0fbb917d6dcb1f32ebcc01c1a",
   "c005b4c5d1d7f6e80b93eff896ec5d02",
   "890082ba9874225c126ef91bd6a32d34",
   "3d2773d2775a988a0dda4c58fbbbfcb8",
   "90508c2189273d11eb231710f8d64c7e",
   "1ef25ecb8d679a61e4f6edada96fcca4",
   "0da0b0034b8706df8d9bf31104c01709",
   "abed7ecbc4b9b02c2cb3e83b07faae38",
   "1a1e904bc1c3f8efdccc60f762409293",
   "25f6b1d5a460ecf027dc48487549e8e0",
   "52962f5515a6280524c2faa5c41616ef",
   "9dd425dca47531f5c1760bfc8afc3b9a",
   "0d6c4eeceaaf65e3df36b268c7cb3dcd",
   "028ab1bf8a6515811d3b64299ed37532",
   "bd40aabceff81dc941a7b206d71e93d8",
   "afc1f13885d0356e3d7b8ce3a4576936",
   "d4859c4a456151ce85783a63c8e91f47",
   "404b4ee4930ffc377ff73e0814b9dfdf"
  ],
  "kernelspec": {
   "display_name": "Python 3",
   "language": "python",
   "name": "python3"
  },
  "language_info": {
   "codemirror_mode": {
    "name": "ipython",
    "version": 3
   },
   "file_extension": ".py",
   "mimetype": "text/x-python",
   "name": "python",
   "nbconvert_exporter": "python",
   "pygments_lexer": "ipython3",
   "version": "3.8.1"
  },
  "number_of_pagebreaks": 0
 },
 "nbformat": 4,
 "nbformat_minor": 2
}
