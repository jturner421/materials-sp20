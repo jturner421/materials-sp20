{
 "cells": [
  {
   "cell_type": "markdown",
   "metadata": {},
   "source": [
    "<table align=\"left\" style=\"border-style: hidden\" class=\"table\"> <tr><td class=\"col-md-2\"><img style=\"float\" src=\"http://prob140.org/assets/icon256.png\" alt=\"Prob140 Logo\" style=\"width: 120px;\"/></td><td><div align=\"left\"><h3 style=\"margin-top: 0;\">Probability for Data Science</h3><h4 style=\"margin-top: 20px;\">UC Berkeley, Fall 2019</h4><p>Ani Adhikari and Jim Pitman</p>CC BY-NC 4.0</div></td></tr></table><!-- not in pdf -->"
   ]
  },
  {
   "cell_type": "code",
   "execution_count": null,
   "metadata": {
    "#solution": false,
    "#staff": false,
    "#student": false
   },
   "outputs": [],
   "source": [
    "from prob140 import *\n",
    "from datascience import *\n",
    "import numpy as np\n",
    "\n",
    "import matplotlib.pyplot as plt\n",
    "%matplotlib inline\n",
    "import matplotlib\n",
    "matplotlib.style.use('fivethirtyeight')"
   ]
  },
  {
   "cell_type": "markdown",
   "metadata": {
    "#solution": false,
    "#staff": false,
    "#student": false
   },
   "source": [
    "# Homework 1 #"
   ]
  },
  {
   "cell_type": "markdown",
   "metadata": {
    "#solution": false,
    "#staff": false,
    "#student": false
   },
   "source": [
    "### Instructions\n",
    "\n",
    "Your homeworks have two components: a written portion and a portion that also involves code.  Written work should be completed on paper, and coding questions should be done in the notebook.  You are welcome to LaTeX your answers to the written portions, but staff will not be able to assist you with LaTeX related issues. It is your responsibility to ensure that both components of the homework are submitted completely and properly to Gradescope. Refer to the bottom of the notebook for submission instructions."
   ]
  },
  {
   "cell_type": "markdown",
   "metadata": {
    "#solution": false,
    "#staff": false,
    "#student": false
   },
   "source": [
    "### How to Do Your Homework ###\n",
    "The point of homework is for you to try your hand at using what you've learned in class. The steps to follow:\n",
    "\n",
    "- Go to lecture and sections, and also go over the relevant text sections before starting on the homework. This will remind you what was covered in class, and the text will typically contain examples not covered in lecture. The weekly Preparation Guide will list what you should read.\n",
    "- Work on some of the practice problems before starting on the homework.\n",
    "- Attempt the homework problems by yourself with the text, section work, and practice materials all at hand. Sometimes the week's lab will help as well. The two steps above will help this step go faster and be more fruitful.\n",
    "- At this point, seek help if you need it. Don't ask how to do the problem — ask how to get started, or for a nudge to get you past where you are stuck.\n",
    "- For a good measure of your understanding, keep track of the fraction of the homework you can do by yourself or with minimal help. It's a better measure than your homework score, and only you can measure it."
   ]
  },
  {
   "cell_type": "markdown",
   "metadata": {
    "#solution": false,
    "#staff": false,
    "#student": false
   },
   "source": [
    "### Rules for Homework ###\n",
    "- Every answer should contain a calculation or reasoning. For example, a calculation such as $(1/3)(0.8) + (2/3)(0.7)$ or `sum([(1/3)*0.8, (2/3)*0.7])`is fine without further explanation or simplification. If we want you to simplify, we'll ask you to. But just ${5 \\choose 2}$ by itself is not fine; write \"we want any 2 out of the 5 frogs and they can appear in any order\" or whatever reasoning you used. Reasoning can be brief and abbreviated, e.g. \"product rule\" or \"not mutually excl.\"\n",
    "- You may consult others (see \"How to Do Your Homework\" above) but you must write up your own answers using your own words, notation, and sequence of steps.\n",
    "- We'll be using Gradescope. You must submit the homework according to the instructions at the end of homework set."
   ]
  },
  {
   "cell_type": "markdown",
   "metadata": {
    "#solution": false,
    "#staff": false,
    "#student": false
   },
   "source": [
    "## 1. SSN Randomization ###\n",
    "In the United States, an individual's Social Security Number (SSN) is intended to be a unique indentifier for tax purposes and so on. Each SSN is a 9-digit number consisting of a set of three digits followed by a pair of digits followed by four digits, for example 123-45-6789. The digits don't have to be distinct.\n",
    "\n",
    "Until fairly recently, the first three digits were based on where the application for the SSN was filed (for example, the zip code where the individual was born). The next two were connected with when the application was filed. Thus it is sometimes possible to make a pretty good guess at portions of an individual's SSN if you know their date and place of birth.\n",
    "\n",
    "But for security, it's important that it not be easy to guess parts of the number. So the Social Security Administration has introduced what it calls [SSN Randomization](https://www.ssa.gov/employer/randomization.html). All SSNs issued on or after June 25, 2011 are generated as follows. \n",
    "\n",
    "- The first three digits can be any three other than 000, 666, and 900-999.\n",
    "- The next two digits can be any two other than 00.\n",
    "- The final four digits, often called \"the last four of the Social\" can be any four other than 0000.\n",
    "- The three choices (first three digits, next two, final four) don't affect each other.\n",
    "\n",
    "**a)** What is the total number of different SSNs that can be generated in this way? Complete the code cell below to find it."
   ]
  },
  {
   "cell_type": "code",
   "execution_count": null,
   "metadata": {
    "#solution": false,
    "#staff": false,
    "#student": true
   },
   "outputs": [],
   "source": [
    "\n",
    "total = ...    # total number of possible SSNs\n",
    "total"
   ]
  },
  {
   "cell_type": "markdown",
   "metadata": {
    "#solution": false,
    "#staff": false,
    "#student": false
   },
   "source": [
    "**b)** The Social Security Administration [says](https://en.wikipedia.org/wiki/Social_Security_number) says the total number is \"enough to last several generations without reuse or changing the number of digits\", and [an article in Gizmodo](https://gizmodo.com/what-happens-to-your-social-security-number-when-you-di-1652151816) says there are \"just under 1 billion possible number combinations.\" Is your answer to Part **a** consistent with these statements? Give a very brief explanation."
   ]
  },
  {
   "cell_type": "markdown",
   "metadata": {
    "#solution": false,
    "#staff": false,
    "#student": false
   },
   "source": [
    "**c)** About 450 million of these possible SSNs have already been given out. If the Social Security Administration now assigns $n$ SSNs picked at random with replacement from among those that are left, about how large would $n$ be so that there is 50% chance that all $n$ assigned SSNs are distinct? Justify your calculation on paper and then use the code cell below to find the approximate numerical value of $n$. Use `np.log(x)` for $\\log(x)$."
   ]
  },
  {
   "cell_type": "code",
   "execution_count": null,
   "metadata": {
    "#solution": false,
    "#staff": false,
    "#student": true
   },
   "outputs": [],
   "source": [
    "\n",
    "approx_n = ...\n",
    "approx_n"
   ]
  },
  {
   "cell_type": "markdown",
   "metadata": {
    "#solution": false,
    "#staff": false,
    "#student": false
   },
   "source": [
    "**Note:** For comparison, about [5.5 million](https://en.wikipedia.org/wiki/Social_Security_number) new SSNs have been assigned each year on average. Your answer to Part **c** should help you see why it's not a good idea to make the assignments at random *with* replacement. Rather, new numbers will be picked \"randomly\" from those all those that haven't yet been used. The quotes around the word are because the numbers aren't drawn uniformly at random. They are just less predictable than before June 2011. "
   ]
  },
  {
   "cell_type": "markdown",
   "metadata": {
    "#solution": false,
    "#staff": false,
    "#student": false
   },
   "source": [
    "#newpage"
   ]
  },
  {
   "cell_type": "markdown",
   "metadata": {
    "#solution": false,
    "#staff": false,
    "#student": false
   },
   "source": [
    "## 2. Approximation and Rates ##\n",
    "Part of the point of approximation is to see how fast a function grows or to identify the rate at which a sequence converges. In this exercise you will see how approximations can be more useful that exact formulas for understanding how quantities change.\n",
    "\n",
    "**a)** There is a bet for which your chance of winning is $1/M$. The chance is small because $M$ is very large, but you are stubborn and decide to bet anyway. In fact you bet over and over again, hoping for a win. Assume that the bets are independent of each other. Find the smallest number of times you have to bet so that your chance of winning at least once is at least 1/2, and then use an appropriate approximation to explain why the answer is roughly a linear function of $M$ when $M$ is large.\n",
    "\n",
    "**b)** Suppose you toss a coin $n$ times and note down the sequence of heads (H) and tails (T). Note that unless otherwise specified, coins in this course are assumed to be fair, and thus all sequences of $n$ heads and tails are equally likely. Fix an integer $k$ such that $0 \\le k \\le n$, and fill in the blanks with expressions that evaluate to integers:\n",
    "\n",
    "The chance of $k$ heads in $n$ tosses is $\\frac{a}{b}$ where $a = \\underline{~~~~~~~~~~~~~~~~~~~~~~~}$ and $b = \\underline{~~~~~~~~~~~~~~~~~~~~~~~}$.\n",
    "\n",
    "[That means exactly $k$ heads, now and throughout the course. To find $a$ it might help to imagine that there are $n$ empty spaces and you have to write the letter H in $k$ of them.]\n",
    "\n",
    "**c)** The chance in Part **b** involves some factorials, and factorials get large very quickly. *Stirling's approximation* says that for large $n$\n",
    "\n",
    "$$\n",
    "n! ~ \\sim ~ \\sqrt{2 \\pi n} \\cdot (n/e)^n\n",
    "$$\n",
    "\n",
    "where the symbol $\\sim$ is read as \"is asymptotically equivalent to\" and means that the ratio of the two sides goes to 1 as $n$ tends to $\\infty$.\n",
    "\n",
    "Let $m$ be a positive integer. Use Stirling's formula to approximate the chance of getting $m$ heads in $2m$ tosses of a fair coin, and say what the limit is as $m \\to \\infty$. Later in the course we will see why this doesn't contradict the law of averages."
   ]
  },
  {
   "cell_type": "markdown",
   "metadata": {
    "#solution": false,
    "#staff": false,
    "#student": false
   },
   "source": [
    "#newpage"
   ]
  },
  {
   "cell_type": "markdown",
   "metadata": {
    "#solution": false,
    "#staff": false,
    "#student": false
   },
   "source": [
    "## 3. Random Coin ##\n",
    "\n",
    "This exercise is an introduction to experiments in which randomizing a parameter can affect dependence and independence. The setting is simple but powerful: it demonstrates some fundamental ideas of Bayesian prediction. We will use the same ideas in more complex settings later in the course.\n",
    "\n",
    "In a bag of coins, a proportion $f$ of the coins are fair; assume $0 < f < 1$. Of the remaining coins, half are biased towards tails and land heads with chance 0.1; the other half land heads with chance 0.9.\n",
    "\n",
    "A coin is picked at random from the bag and tossed twice. Define the following events.\n",
    "\n",
    "- $C_F$ is the event that the selected coin is fair, $C_T$ is the event that the selected coin is biased towards tails, and $C_H$ is the event that the selected coin is biased towards heads.\n",
    "- $H_1$ is the event that the first toss lands heads and $H_2$ is the event that the second toss lands heads.\n",
    "\n",
    "**a)** Find $P(C_H)$.\n",
    "\n",
    "**b)** Calculate $P(H_1)$. Simplify the answer as much as possible and then explain it by symmetry.\n",
    "\n",
    "**c)** Without calculation, fill in the blank with one of the symbols $>$, $<$, or $=$. Explain your reasoning. \n",
    "\n",
    "$P(C_H \\mid H_1) ~ \\underline{~~~~~~~~~~~~~~~} ~ P(C_H)$\n",
    "\n",
    "**d)** Now calculate $P(C_H \\mid H_1)$ and show that it is consistent with your answers to Parts **a** and **c**.\n",
    "\n",
    "**e)** Find $P(H_2)$ and (carefully!) $P(H_1H_2)$. Is $P(H_1H_2) = P(H_1)P(H_2)$?\n",
    "\n",
    "**f)** Fill in the blank with one of the symbols $>$, $<$, or $=$. Justify your choice by calculation and also explain it intuitively.\n",
    "\n",
    "$P(H_2 \\mid H_1) ~ \\underline{~~~~~~~~~~~~~~~} ~ P(H_2)$"
   ]
  },
  {
   "cell_type": "markdown",
   "metadata": {
    "#solution": false,
    "#staff": false,
    "#student": false
   },
   "source": [
    "#newpage"
   ]
  },
  {
   "cell_type": "markdown",
   "metadata": {
    "#solution": false,
    "#staff": false,
    "#student": false
   },
   "source": [
    "## 4. Extrema and Tails ##\n",
    "\n",
    "**NOTE: The method used in this exercise is fundamentally important for studying sample maxima and minima. Make sure you understand the logic and especially the suggested visualization; that's what's going to be applied later.**\n",
    "\n",
    "The maximum and minimum of a random sample of numbers are called the \"extrema\" of the sample. Distributions of extrema are best described using the left or right hand tail probabilities. In this exercise you will see how.\n",
    "\n",
    "Fix positive integers $n$ and $N$. Suppose $n$ draws are made at random with replacement from the numbers $\\{1, 2, 3, \\ldots, N\\}$. Let $X_i$ be the number that appears on the $i$th draw.\n",
    "\n",
    "Let $V_n = \\min\\{X_1, X_2, \\ldots, X_n\\}$ be the sample minimum and let $W_n = \\max\\{X_1, X_2, \\ldots, X_n\\}$ be the sample maximum.\n",
    "\n",
    "**a)** The event that a sample maximum is \"small\" is straightforward to describe in terms of the individual elements of the sample. To see this, fill in the blank with an appropriate mathematical symbol or English phrase. Justify your answer.\n",
    "\n",
    "Fix an integer $k$ such that $1 \\le k \\le N$. The event \"$W_n \\le k$\" is the same as the event \"each of $X_1, X_2, \\ldots, X_n$ is $\\underline{~~~~~~~~~~~~~~~~~~~~~~~~~~~~~~~~~~~~~~~~~~~~~~~~~~~~~~~} k$\".\n",
    "\n",
    "It might help to draw the number line, mark the integers 1 through $N$, and put a special mark on the integer $k$. For the maximum to be at or to the left of $k$, where do all the $X$'s have to be?\n",
    "\n",
    "**b)** For $1 \\le k \\le N$, use Part **a** to find $P(W_n \\le k)$. \n",
    "\n",
    "**c)** Use your sketch in Part **a** to express the event $\\{W_n = k\\}$ in terms of any subset of the events $\\{W_n \\le 1\\}, \\{W_n \\le 2\\}, \\ldots, \\{W_n \\le N\\}$. Use this and Part __b__ to find $P(W_n = k)$ for $1 \\le k \\le N$ and to show algebraically that $\\sum_{k=1}^N P(W_n = k) = 1$.\n",
    "\n",
    "**d)** Modify Parts **a** through __c__ to find the distribution of the sample minimum, as follows. For the event that the sample minimum is \"large\", fill in the blank with an appropriate mathematical symbol or English phrase. \n",
    "\n",
    "The event \"$V_n \\ge k$\" is the same as the event \"each of $X_1, X_2, \\ldots, X_n$ is $\\underline{~~~~~~~~~~~~~~~~~~~~~~~~~~~~~~~~~~~~~~~~~~~~~~~~~~~~~~~} k$\".\n",
    "\n",
    "Use this observation and the ideas of the previous parts to find $P(V_n = k)$ for $1 \\le k \\le N$.\n",
    "\n",
    "**e)** Let $k$ and $m$ be integers such that $1 \\le k \\le m \\le N$. Find $P(V_n \\ge k \\mid W_n \\le m)$. Compare with the unconditional probability $P(V_n \\ge k)$ that you used in Part **d** and show how the comparison indicates an intuitive reasoning for the conditional probability."
   ]
  },
  {
   "cell_type": "markdown",
   "metadata": {
    "#solution": false,
    "#staff": false,
    "#student": false
   },
   "source": [
    "#newpage"
   ]
  },
  {
   "cell_type": "markdown",
   "metadata": {
    "#solution": false,
    "#staff": false,
    "#student": false
   },
   "source": [
    "## 5. Mirror Images ##\n",
    "Let $D_1, D_2, D_3, D_4$ represent the numbers on four rolls of a die. Let $V = \\min\\{D_1, D_2, D_3, D_4\\}$, $W = \\max\\{D_1, D_2, D_3, D_4\\}$, $S = \\sum_{i=1}^4 D_i$.\n",
    "\n",
    "**a)** If possible, use one of the symbols $\\stackrel{d}{=}$ or $=$ to fill in the blank in $D_1 \\underline{~~~~~~~~~~~~~} D_2$. Explain; and if both can be used, say why.\n",
    "\n",
    "**b)** If possible, use one of the symbols $\\stackrel{d}{=}$ or $=$ to fill in the blank in $S \\underline{~~~~~~~~~~~~~} 4D_1$. Explain; and if both can be used, say why.\n",
    "\n",
    "**c)** Use the previous exercise and the code cell below to draw the probability histogram of $W$. You will need some `prob140` methods which are used in [Section 3.2](http://prob140.org/textbook/Chapter_03/02_Distributions) of the textbook."
   ]
  },
  {
   "cell_type": "code",
   "execution_count": null,
   "metadata": {
    "#solution": false,
    "#staff": false,
    "#student": true
   },
   "outputs": [],
   "source": [
    "\n",
    "n = 4\n",
    "N = 6\n",
    "k = np.arange(1, N+1)\n",
    "\n",
    "# array consisting of P(W=k)\n",
    "probs_W = ...\n",
    "\n",
    "dist_W = ...\n",
    "Plot(...)\n",
    "plt.title('Distribution of W');"
   ]
  },
  {
   "cell_type": "markdown",
   "metadata": {
    "#solution": false,
    "#staff": false,
    "#student": false
   },
   "source": [
    "**d)** Use the code cell below to draw the probability histogram of $V$."
   ]
  },
  {
   "cell_type": "code",
   "execution_count": null,
   "metadata": {
    "#solution": false,
    "#staff": false,
    "#student": true
   },
   "outputs": [],
   "source": [
    "\n",
    "...\n",
    "plt.title('Distribution of V');"
   ]
  },
  {
   "cell_type": "markdown",
   "metadata": {
    "#solution": false,
    "#staff": false,
    "#student": false
   },
   "source": [
    "**e)** Look at the two probability histograms above, and select all of the true statements below. More than one might be true, or just one, or none. Provide your reasoning.\n",
    "\n",
    "(i) $V \\stackrel{d}{=} 6 - W$\n",
    "\n",
    "(ii) $V = 6 - W$\n",
    "\n",
    "(iii) $V \\stackrel{d}{=} 7 - W$\n",
    "\n",
    "(iv) $V = 7 - W$"
   ]
  },
  {
   "cell_type": "markdown",
   "metadata": {
    "#solution": false,
    "#staff": false,
    "#student": false
   },
   "source": [
    "#newpage"
   ]
  },
  {
   "cell_type": "markdown",
   "metadata": {
    "#solution": false,
    "#staff": false,
    "#student": false
   },
   "source": [
    "## 6. Two IID Random Variables ##\n",
    "\n",
    "Let $N \\ge 3$ be a fixed integer. Let $X_1$ and $X_2$ be independent and identically distributed (i.i.d.) random variables, and let $P(X_1 = i) = p_i$ where $0 \\le i \\le N$ and $\\sum_{i=0}^N p_i = 1$.\n",
    "\n",
    "Provide (with justification) expressions for the following probabilities, in terms of $p_0, p_1, \\ldots, p_N$.\n",
    "\n",
    "**a)** $P(X_1 = X_2)$\n",
    "\n",
    "**b)** $P(X_1 = X_2 \\mid X_1 \\le 2)$\n",
    "\n",
    "**c)** $P(X_1 = X_2 \\mid X_1 > 2)$\n",
    "\n",
    "**d)** $P(X_1 \\ne X_2 \\mid X_1 > 2)$\n",
    "\n",
    "**e)** $P(X_1 + X_2 \\le N \\mid X_1 = 2)$\n",
    "\n",
    "**f)** $P(X_1 + X_2 \\le N \\mid X_1 > 2)$"
   ]
  },
  {
   "cell_type": "markdown",
   "metadata": {
    "#solution": false,
    "#staff": false,
    "#student": false
   },
   "source": [
    "## Submission Instructions ##\n",
    "\n",
    "Many assignments throughout the course will have a written portion and a code portion. Please follow the directions below to properly submit both portions.\n",
    "\n",
    "### Written Portion ###\n",
    "*  Scan all the pages into a PDF. You can use any scanner or a phone using applications such as CamScanner. Please **DO NOT** simply take pictures using your phone. \n",
    "* Please start a new page for each question. If you have already written multiple questions on the same page, you can crop the image in CamScanner or fold your page over (the old-fashioned way). This helps expedite grading.\n",
    "* It is your responsibility to check that all the work on all the scanned pages is legible.\n",
    "\n",
    "### Code Portion ###\n",
    "* Save your notebook using File > Save and Checkpoint.\n",
    "* Generate a PDF file using File > Download as > PDF via LaTeX. This might take a few seconds and will automatically download a PDF version of this notebook.\n",
    "    * If you have issues, please make a follow-up post on the general HW 1 Piazza thread.\n",
    "    \n",
    "### Submitting ###\n",
    "* Combine the PDFs from the written and code portions into one PDF.  [Here](https://smallpdf.com/merge-pdf) is a useful tool for doing so. \n",
    "* Submit the assignment to Homework 1 on Gradescope. \n",
    "* **Make sure to assign each page of your pdf to the correct question.**\n",
    "* **It is your responsibility to verify that all of your work shows up in your final PDF submission.**\n",
    "\n",
    "If you have questions about scanning or uploading your work, please refer to this [guide](https://piazza.com/class/k5cqg51q5qb11v?cid=15) on Piazza or post a follow-up to the thread. "
   ]
  }
 ],
 "metadata": {
  "checksums": [
   "1ccfeeb045915fb7127619e3ebb3482e",
   "0f3d777e1ed8e4c15c87df696bc496a0",
   "5277bdbc94775fa2252e6beb176d3807",
   "617e9d925b5fe2cd6a35fdd67bbdf752",
   "00959fffcf2cb6dc1e1fa2b9802c6ef2",
   "a3c43721cd89fe41396f4f1a176e6531",
   "f39ee5b0c4855685dde53847478542ea",
   "7e859db5ca214f14ca19cf9dfa91df3e",
   "c039dfd9b2080991e025a241bb60f742",
   "7c065abc21d73fd1fddca85c973626a9",
   "bead44bfa36226200ad263321ff17647",
   "71dda15e5bfbb4bbff97df670f987773",
   "640061103a186fd26f59746dd4d6de57",
   "8dfc73e0cb07dca817a6e690d30e90d3",
   "640061103a186fd26f59746dd4d6de57",
   "971d438a172467d8b5a6ce81b7f524fe",
   "640061103a186fd26f59746dd4d6de57",
   "afd8b5626470682db0e16c9bc2939569",
   "640061103a186fd26f59746dd4d6de57",
   "c811335e77effc0c5ed85e0c83bb5867",
   "672d8939521d341d61a94753d479b7e2",
   "964a7b1068f77db68d1c612f670a667a",
   "d9a8868d4643aae236f9cacd2ad1efdf",
   "4bd636e9304f3874642d327d41cd2613",
   "640061103a186fd26f59746dd4d6de57",
   "60acf4eedd6f39ada0039962875380e1",
   "d29fef441daed1fbe20d8f8ebca0b23b"
  ],
  "kernelspec": {
   "display_name": "Python 3",
   "language": "python",
   "name": "python3"
  },
  "language_info": {
   "codemirror_mode": {
    "name": "ipython",
    "version": 3
   },
   "file_extension": ".py",
   "mimetype": "text/x-python",
   "name": "python",
   "nbconvert_exporter": "python",
   "pygments_lexer": "ipython3",
   "version": "3.7.4"
  },
  "number_of_pagebreaks": 5
 },
 "nbformat": 4,
 "nbformat_minor": 2
}
