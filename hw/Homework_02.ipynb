{
 "cells": [
  {
   "cell_type": "markdown",
   "metadata": {},
   "source": [
    "<table align=\"left\" style=\"border-style: hidden\" class=\"table\"> <tr><td class=\"col-md-2\"><img style=\"float\" src=\"http://prob140.org/assets/icon256.png\" alt=\"Prob140 Logo\" style=\"width: 120px;\"/></td><td><div align=\"left\"><h3 style=\"margin-top: 0;\">Probability for Data Science</h3><h4 style=\"margin-top: 20px;\">UC Berkeley, Spring 2020</h4><p>Ani Adhikari and Jim Pitman</p>CC BY-NC 4.0</div></td></tr></table><!-- not in pdf -->"
   ]
  },
  {
   "cell_type": "markdown",
   "metadata": {
    "#solution": false,
    "#staff": false,
    "#student": false
   },
   "source": [
    "# Homework 2 #"
   ]
  },
  {
   "cell_type": "markdown",
   "metadata": {
    "#solution": false,
    "#staff": false,
    "#student": false
   },
   "source": [
    "### Instructions\n",
    "\n",
    "Your homeworks have two components: a written portion and a portion that also involves code.  Written work should be completed on paper, and coding questions should be done in the notebook.  You are welcome to LaTeX your answers to the written portions, but staff will not be able to assist you with LaTeX related issues. It is your responsibility to ensure that both components of the homework are submitted completely and properly to Gradescope. Refer to the bottom of the notebook for submission instructions."
   ]
  },
  {
   "cell_type": "code",
   "execution_count": null,
   "metadata": {
    "#solution": false,
    "#staff": false,
    "#student": false
   },
   "outputs": [],
   "source": [
    "# Run this cell to set up your notebook\n",
    "\n",
    "import numpy as np\n",
    "from scipy import stats\n",
    "from datascience import *\n",
    "from prob140 import *\n",
    "\n",
    "# These lines do some fancy plotting magic\n",
    "import matplotlib\n",
    "%matplotlib inline\n",
    "import matplotlib.pyplot as plt\n",
    "plt.style.use('fivethirtyeight')\n",
    "\n",
    "# These lines make warnings look nicer\n",
    "import warnings\n",
    "warnings.simplefilter('ignore', FutureWarning)"
   ]
  },
  {
   "cell_type": "markdown",
   "metadata": {
    "#solution": false,
    "#staff": false,
    "#student": false
   },
   "source": [
    "## 1. A Bound ##\n",
    "Find a numerical value of $k$ that makes the following statement true:\n",
    "\n",
    "In $k$ rolls of a fair die, there is at least 99% chance that all six faces will appear.\n",
    "\n",
    "A good starting point: The complement is a union of which events? Can you bound the chance of a union and thus get an inequality to solve for $k$?\n",
    "\n"
   ]
  },
  {
   "cell_type": "markdown",
   "metadata": {
    "#solution": false,
    "#staff": false,
    "#student": false
   },
   "source": [
    "#newpage"
   ]
  },
  {
   "cell_type": "markdown",
   "metadata": {
    "#solution": false,
    "#staff": false,
    "#student": false
   },
   "source": [
    "## 2. No Empty Boxes ##\n",
    "For two positive integers $m \\le n$, there are $m$ boxes labeled 1 through $m$, and $n$ balls. The balls are thrown into the boxes uniformly at random, independently of each other.\n",
    "\n",
    "Let $p(m, n)$ be the chance that there are no empty boxes after all of the balls have been thrown.\n",
    "\n",
    "In Parts **(e)** and **(f)** of this exercise you will find a formula for $p(m, n)$ in terms of $m$ and $n$. But before that, see how the formula can be applied. In Parts **(a)** through **(d)**, fill in the blanks. No explanations are necessary for **(a)** through **(d)** but you must show your work or give reasoning for Parts **(e)** and **(f)**.\n",
    "\n",
    "**a)** The chance of getting at least one head and at least one tail in $n$ tosses of a coin is equal to $p(\\underline{~~~~~~~~~}, \\underline{~~~~~~~~~})$.\n",
    "\n",
    "Note: In the [textbook](http://prob140.org/textbook/Chapter_02/02_Examples.html) there is a formula for this chance.\n",
    "\n",
    "**b)** The chance that all six faces appear in $r$ rolls of a die is equal to $p(\\underline{~~~~~~~~~}, \\underline{~~~~~~~~~})$.\n",
    "\n",
    "**c)** Suppose each person's birthday is equally likely to be any of the 365 days of the year, independently of everyone else's birthday. The chance that you see all 365 days of the year among the birthdays of $n \\ge 365$ people is $p(\\underline{~~~~~~~~~}, \\underline{~~~~~~~~~})$. \n",
    "\n",
    "**d)** Each box of a breakfast cereal contains one of $c$ different coupons. Once you collect all $c$ coupons, you get a prize. Assume that each box is equally likely to contain any of the $c$ coupons, independently of all the other boxes. If you buy $b$ cereal boxes, the chance that you get a complete set of coupons is $p(\\underline{~~~~~~~~~}, \\underline{~~~~~~~~~})$.\n",
    "\n",
    "**e)** Find the chance that you see all six faces in $r$ rolls of a die. In an earlier exercise you made the key observation that the complement of the event in question is a union, so use inclusion-exclusion and symmetry. It will help to think about the number of different pairs of faces, the number of different triples of faces, and so on.\n",
    "\n",
    "**f)** For positive integers $m \\le n$, find a formula for $p(m, n)$."
   ]
  },
  {
   "cell_type": "markdown",
   "metadata": {
    "#solution": false,
    "#staff": false,
    "#student": false
   },
   "source": [
    "#newpage"
   ]
  },
  {
   "cell_type": "markdown",
   "metadata": {
    "#solution": false,
    "#staff": false,
    "#student": false
   },
   "source": [
    "## 3. Poisson Approximation at Both Ends ##\n",
    "Consider $n$ independent Bernoulli $(p)$ trials.\n",
    "\n",
    "**a)** Fill in the blanks with names of distributions along with parameters in parentheses: If $n = 1000$ and $p=0.003$, the distribution of the number of successes is exactly $\\underline{~~~~~~~~~~~~~~~~~~~~~~~~~~~}$ $(\\underline{~~~~~~~~~~~~ })$ and approximately $\\underline{~~~~~~~~~~~~~~~~~~~~~~ }$ $(\\underline{~~~~~~~~~~~~ })$.\n",
    "\n",
    "**b)** Let $n$ be large and let $p$ be close to 1. Find a Poisson approximation to $p_k$ (the chance of $k$ successes) by an appropriate use of the Poisson approximation to the binomial derived in class. \n",
    "\n",
    "**Note:** You don't have to derive a limit. Just use the limit already derived in class and in the text, but appropriately.\n",
    "\n",
    "**c)** Plot the probability histogram of the binomial (1000, 0.997) distribution, and overlay your Poisson approximation from part (b). Please don't plot the entire range. Choose an informative range of values on the horizontal axis."
   ]
  },
  {
   "cell_type": "code",
   "execution_count": null,
   "metadata": {
    "#solution": false,
    "#staff": false,
    "#student": true
   },
   "outputs": [],
   "source": [
    "# Answer to 3c\n",
    "\n",
    "n = 1000\n",
    "p = 0.997\n",
    "\n",
    "k = ...                # array of possible values\n",
    "binomial_probs = ...   # array of exact binomial probabilities\n",
    "\n",
    "def poisson_approximation_pmf(j):\n",
    "    \"\"\"Returns the Poisson approximation to the\n",
    "    exact binomial probability of j successes\"\"\"\n",
    "    return ...\n",
    "\n",
    "exact_binomial = Table().values(k).probabilities(...)\n",
    "poisson_approximation = Table().values(k).probability_function(...)\n",
    "\n",
    "Plots(...)\n",
    "plt.xlim(..., ...)"
   ]
  },
  {
   "cell_type": "markdown",
   "metadata": {
    "#solution": false,
    "#staff": false,
    "#student": false
   },
   "source": [
    "#newpage"
   ]
  },
  {
   "cell_type": "markdown",
   "metadata": {
    "#solution": false,
    "#staff": false,
    "#student": false
   },
   "source": [
    "## 4. Binomial and Conditioning ##\n",
    "\n",
    "Let $1 \\le m < n$ be integers. Consider $n$ i.i.d. Bernoulli trials with probability of $p$ of success on each trial. Let $V$ be the number of successes in the first $m$ trials and let $W$ be the number of successes in all $n$ trials. \n",
    "\n",
    "**a)** Fix an integer $w$ in the range 0 through $n$. For $0 \\le v \\le \\min(w, m)$, find $P(V = v \\mid W = w)$ and show that it doesn't depend on $p$.\n",
    "\n",
    "**b)** With no further calculation, fill in the blanks below. The first blank should be filled with the name of a distribution and the second with the parameters in terms of $n$, $m$, $v$, and $w$.\n",
    "\n",
    "The conditional distribution of $V$ given $W=w$ is $\\underline{~~~~~~~~~~~~~~~~~~~~~~~~~~~~~~~~~~~~~}$ with parameters $\\underline{~~~~~~~~~~~~~~~~~~~~~~~~~~~~~~~~~~~~~~~~~}$."
   ]
  },
  {
   "cell_type": "markdown",
   "metadata": {
    "#solution": false,
    "#staff": false,
    "#student": false
   },
   "source": [
    "#newpage"
   ]
  },
  {
   "cell_type": "markdown",
   "metadata": {
    "#solution": false,
    "#staff": false,
    "#student": false
   },
   "source": [
    "## 5. Understanding Total Variation Distance, Part 1 ##\n",
    "In this exercise and the next, you are going to show that the formula for TVD used in Data 8 and in Lab 2 has an interpretation as a maximum difference of probabilities.\n",
    "\n",
    "We are going to compare two probability distributions $P_{blue}$ and $P_{gold}$ on a finite set of values $S$. Suppose the values are labeled $1, 2, \\ldots, n$. \n",
    "\n",
    "The *total variation distance between $P_{blue}$ and $P_{gold}$* is defined as\n",
    "\n",
    "$$\n",
    "\\| P_{blue} - P_{gold}\\|_{TVD} ~ = ~\n",
    "\\max\\{ \\lvert P_{blue}(A) - P_{gold}(A) \\rvert : A \\subseteq S\\}\n",
    "$$\n",
    "\n",
    "The definition says: For every event $A$, compute how far off $P_{blue}(A)$ is from $P_{gold}(A)$. The TVD is the biggest value among all these differences.\n",
    "\n",
    "That doesn't look at all like what we have been calculating as the TVD starting way back in Data 8. But in fact it's the same thing. It's your job to show how. \n",
    "\n",
    "Before you get started, confirm your understanding of the definition. Suppose you calculate the TVD between two distributions and get 0.003. That says that if you list all possible events and compare their probabilities under the two distributions, the biggest difference you will get is 3/1000. The two distributions are pretty close. \n",
    "\n",
    "The goal of these exercises is to show that this new definition of TVD is equivalent to the calculation we have been doing all along. Let's start by setting up some notation. For each $i$ in $S$, let $P_{blue}(i) = b_i$ and let $P_{gold}(i) = g_i$. If you imagine a bar graph or histogram of each distribution, then $b_i$ is the area of the blue bar at the value $i$, and $g_i$ is the area of the gold bar at $i$.\n",
    "\n",
    "In this notation, our familiar calculation of the TVD is\n",
    "\n",
    "$$\n",
    "\\frac{1}{2} \\sum_{i \\in S} \\lvert b_i - g_i \\rvert\n",
    "$$\n",
    "\n",
    "In this question and the next you will show that \n",
    "\n",
    "$$\n",
    "\\max\\{ \\lvert P_{blue}(A) - P_{gold}(A) \\rvert : A \\subseteq S\\} ~ = ~ \n",
    "\\frac{1}{2} \\sum_{i \\in S} \\lvert b_i - g_i \\rvert\n",
    "$$\n",
    "\n",
    "Three events will be important in the calculations.\n",
    "\n",
    "The set of values for which the blue bars exceed the gold:\n",
    "$$\n",
    "B = \\{i: b_i > g_i\\}\n",
    "$$\n",
    "\n",
    "The set of values for which the gold bars exceed the blue:\n",
    "$$\n",
    "G = \\{i: g_i > b_i\\}\n",
    "$$\n",
    "\n",
    "The set of values for which the blue bars and gold bars are equal:\n",
    "$$\n",
    "E = \\{i: b_i = g_i\\}\n",
    "$$\n",
    "\n",
    "Keep in mind that for any event $A$,\n",
    "$$\n",
    "P_{blue}(A) = \\sum_{i \\in A} b_i ~~~~~~~ \\text{and} ~~~~~~~\n",
    "P_{gold}(A) = \\sum_{i \\in A} g_i\n",
    "$$\n",
    "\n",
    "#### a) ####\n",
    "Find the value of\n",
    "$$\n",
    "\\sum_{i \\in B} b_i ~ + ~ \n",
    "\\sum_{i \\in G} b_i ~ + ~ \n",
    "\\sum_{i \\in E} b_i \n",
    "$$\n",
    "\n",
    "Repeat the calculation after replacing $b_i$ by $g_i$ in all three sums above.\n",
    "\n",
    "Hence show that\n",
    "$$\n",
    "\\sum_{i \\in B} (b_i - g_i) ~ = ~ \\sum_{i \\in G} (g_i - b_i)\n",
    "$$\n",
    "\n",
    "This proves a statement we have made in Data 8 and Lab 3: \"The amount by which the blue bars exceed the gold is the same as the amount by which the gold bars exceed the blue.\" \n",
    "\n",
    "#### b) ####\n",
    "Our usual calculation of TVD is\n",
    "$$\n",
    "\\frac{1}{2} \\sum_{i \\in S} \\lvert b_i - g_i \\rvert\n",
    "$$\n",
    "\n",
    "Partition the sum into two pieces to show that\n",
    "\n",
    "$$\n",
    "\\frac{1}{2} \\sum_{i \\in S} \\lvert b_i - g_i \\rvert ~ = ~\n",
    "\\sum_{i \\in B} (b_i - g_i) ~ = ~ \\sum_{i \\in G} (g_i - b_i)\n",
    "$$\n",
    "\n",
    "This proves another statement we made in Data 8 and Lab 3: \"The TVD is the amount by which the blue bars exceed the gold.\""
   ]
  },
  {
   "cell_type": "markdown",
   "metadata": {
    "#solution": false,
    "#staff": false,
    "#student": false
   },
   "source": [
    "#newpage"
   ]
  },
  {
   "cell_type": "markdown",
   "metadata": {
    "#solution": false,
    "#staff": false,
    "#student": false
   },
   "source": [
    "## 6. Understanding Total Variation Distance, Part 2 ###\n",
    "\n",
    "#### a) ####\n",
    "Now let $A$ be any event. Show that \n",
    "$$\n",
    "P_{blue}(A) - P_{gold}(A) ~ = ~ \n",
    "\\sum_{i \\in AB} (b_i - g_i) ~ - ~ \\sum_{i \\in AG} (g_i - b_i)\n",
    "$$\n",
    "\n",
    "Hence show that\n",
    "$$\n",
    "P_{blue}(A) - P_{gold}(A) ~ \\le ~ \n",
    "\\sum_{i \\in AB} (b_i - g_i) ~~~~~~ \\text{and} ~~~~~~\n",
    "P_{gold}(A) - P_{blue}(A) ~ \\le ~ \n",
    "\\sum_{i \\in AG} (g_i - b_i)\n",
    "$$\n",
    "\n",
    "#### b) ####\n",
    "Use the first of the two inequalities in (a) to show that if $P_{blue}(A) - P_{gold}(A) > 0$ then\n",
    "\n",
    "$$\n",
    "\\lvert P_{blue}(A) - P_{gold}(A) \\rvert ~ \\le ~ \\sum_{i \\in B} (b_i - g_i)\n",
    "$$\n",
    "\n",
    "Use the second of the two inequalities in (a) to show that if $P_{blue}(A) - P_{gold}(A) < 0$ then\n",
    "\n",
    "$$\n",
    "\\lvert P_{blue}(A) - P_{gold}(A) \\rvert ~ \\le ~ \\sum_{i \\in G} (g_i - b_i)\n",
    "$$\n",
    "\n",
    "#### c) ####\n",
    "Identify an event for which one of the inequalities in (b) is an equality.\n",
    "\n",
    "Explain why you now have a complete proof of\n",
    "\n",
    "$$\n",
    "\\max\\{ \\lvert P_{blue}(A) - P_{gold}(A) \\rvert : A \\subseteq S\\} ~ = ~ \n",
    "\\frac{1}{2} \\sum_{i \\in S} \\lvert b_i - g_i \\rvert\n",
    "$$\n",
    "\n",
    "That is, our usual calculation of the TVD is equivalent to finding the biggest difference between probabilities assigned by the two distributions to any event."
   ]
  },
  {
   "cell_type": "markdown",
   "metadata": {
    "#solution": false,
    "#staff": false,
    "#student": false
   },
   "source": [
    "## Submission Instructions ##\n",
    "\n",
    "Many assignments throughout the course will have a written portion and a code portion. Please follow the directions below to properly submit both portions. \n",
    "\n",
    "### Written Portion ###\n",
    "*  Scan all the pages into a PDF. You can use any scanner or mobile application. There are many free apps available that allow you to convert your work into PDFs from your phone. Please **DO NOT** simply take pictures using your phone. \n",
    "* Please start a new page for each question. If you have already written multiple questions on the same page, you can crop the image or fold your page over (the old-fashioned way). This helps expedite grading.\n",
    "* It is your responsibility to check that all the work on all the scanned pages is legible.\n",
    "\n",
    "### Code Portion ###\n",
    "* Save your notebook using File > Save and Checkpoint.\n",
    "* Generate a PDF file using File > Download as > PDF via LaTeX. This might take a few seconds and will automatically download a PDF version of this notebook.\n",
    "    * If you have issues, please make a follow-up post on the general HW 2 Piazza thread.\n",
    "    \n",
    "### Submitting ###\n",
    "* Combine the PDFs from the written and code portions into one PDF.  [Here](https://smallpdf.com/merge-pdf) is a useful tool for doing so. \n",
    "* Submit the assignment to Lab 1 on Gradescope. \n",
    "* **Make sure to assign each page of your pdf to the correct question.**\n",
    "* **It is your responsibility to verify that all of your work shows up in your final PDF submission.**\n",
    "\n",
    "If you have questions about scanning or uploading your work, please refer to this [guide](https://piazza.com/class/k5cqg51q5qb11v?cid=15) on Piazza or post a follow-up to the thread. "
   ]
  }
 ],
 "metadata": {
  "anaconda-cloud": {},
  "checksums": [
   "aa2e7c3af3f1e128978a7970cb014c83",
   "b33297e1eff1902e80bcc722d659baa9",
   "617e9d925b5fe2cd6a35fdd67bbdf752",
   "3da88da364b1e30d4f83fb0c28a12c1f",
   "fac55b190cb430076c5a856462be12b1",
   "640061103a186fd26f59746dd4d6de57",
   "b65d02f7839ad07bec165d0e536b791c",
   "640061103a186fd26f59746dd4d6de57",
   "d139e4964d9b0b8e9b4caa92e7ee3fc0",
   "8c700a480c1a79da2c123f90e28ea676",
   "640061103a186fd26f59746dd4d6de57",
   "907f57c214e3b3851f72d01376690452",
   "640061103a186fd26f59746dd4d6de57",
   "cecfb3aab992e9d5a83655ad7d6c2bd0",
   "640061103a186fd26f59746dd4d6de57",
   "ab9638ee65a10a2ad9080fe6f816379b",
   "06e40d82013d71586f0fddde0470b936"
  ],
  "kernelspec": {
   "display_name": "Python 3",
   "language": "python",
   "name": "python3"
  },
  "language_info": {
   "codemirror_mode": {
    "name": "ipython",
    "version": 3
   },
   "file_extension": ".py",
   "mimetype": "text/x-python",
   "name": "python",
   "nbconvert_exporter": "python",
   "pygments_lexer": "ipython3",
   "version": "3.6.8"
  },
  "number_of_pagebreaks": 5,
  "widgets": {
   "state": {},
   "version": "1.1.2"
  }
 },
 "nbformat": 4,
 "nbformat_minor": 1
}
