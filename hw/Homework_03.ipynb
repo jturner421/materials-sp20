{
 "cells": [
  {
   "cell_type": "markdown",
   "metadata": {},
   "source": [
    "<table align=\"left\" style=\"border-style: hidden\" class=\"table\"> <tr><td class=\"col-md-2\"><img style=\"float\" src=\"http://prob140.org/assets/icon256.png\" alt=\"Prob140 Logo\" style=\"width: 120px;\"/></td><td><div align=\"left\"><h3 style=\"margin-top: 0;\">Probability for Data Science</h3><h4 style=\"margin-top: 20px;\">UC Berkeley, Spring 2020</h4><p>Ani Adhikari and Jim Pitman</p>CC BY-NC 4.0</div></td></tr></table><!-- not in pdf -->"
   ]
  },
  {
   "cell_type": "markdown",
   "metadata": {
    "#solution": false,
    "#staff": false,
    "#student": false
   },
   "source": [
    "# Homework 3 #"
   ]
  },
  {
   "cell_type": "markdown",
   "metadata": {
    "#solution": false,
    "#staff": false,
    "#student": false
   },
   "source": [
    "### Instructions\n",
    "\n",
    "Your homeworks have two components: a written portion and a portion that also involves code.  Written work should be completed on paper, and coding questions should be done in the notebook.  You are welcome to LaTeX your answers to the written portions, but staff will not be able to assist you with LaTeX related issues. It is your responsibility to ensure that both components of the homework are submitted completely and properly to Gradescope. Refer to the bottom of the notebook for submission instructions."
   ]
  },
  {
   "cell_type": "code",
   "execution_count": null,
   "metadata": {
    "#solution": false,
    "#staff": false,
    "#student": false
   },
   "outputs": [],
   "source": [
    "# Run this cell to set up your notebook\n",
    "\n",
    "import numpy as np\n",
    "from scipy import stats\n",
    "from scipy import special\n",
    "from datascience import *\n",
    "from prob140 import *\n",
    "\n",
    "# These lines do some fancy plotting magic\n",
    "import matplotlib\n",
    "%matplotlib inline\n",
    "import matplotlib.pyplot as plt\n",
    "plt.style.use('fivethirtyeight')\n",
    "\n",
    "# These lines make warnings look nicer\n",
    "import warnings\n",
    "warnings.simplefilter('ignore', FutureWarning)"
   ]
  },
  {
   "cell_type": "markdown",
   "metadata": {
    "#solution": false,
    "#staff": false,
    "#student": false
   },
   "source": [
    "## 1. Related Distribution Families ##\n",
    "\n",
    "Let $X$ and $Y$ be independent random variables such that $X$ has the Poisson $(\\lambda)$ distribution and $Y$ has the Poisson $(\\mu)$ distribution. \n",
    "\n",
    "For a fixed integer $n$, find the conditional distribution of $X$ given  $X+Y = n$. Show that it is one of the famous ones and provide the parameters in terms of $n$, $\\lambda$, and $\\mu$."
   ]
  },
  {
   "cell_type": "markdown",
   "metadata": {
    "#solution": false,
    "#staff": false,
    "#student": false
   },
   "source": [
    "## 2. Phone Calls ##\n",
    "A student's phone receives $X$ phone calls from people he knows and $Y$ phone calls from people he doesn't know. You can assume that the student can always correctly identify whether or not calls are from people he knows.\n",
    "\n",
    "If a call is from someone he knows, the student answers it with chance 0.9 independently of all other calls. If a call is from someone he doesn't know, the student answers it with chance 0.05 independently of all others.\n",
    "\n",
    "Suppose $X$ has the Poisson $(\\lambda)$ distribution and $Y$ has the Poisson $(\\mu)$ distribution independent of $X$.\n",
    "\n",
    "**a)** Fill in the blank with the name of a distribution and its parameter or parameters, and explain your choice.\n",
    "\n",
    "The total number of calls that the student's phone receives has the $\\underline{~~~~~~~~~~~~}$ distribution.\n",
    "\n",
    "**b)** Fill in the blank with the name of a distribution and its parameter or parameters and explain your choice.\n",
    "\n",
    "The total number of calls the student doesn't answer has the $\\underline{~~~~~~~~~~~~}$ distribution.\n",
    "\n",
    "**c)** Let $n$ and $m$ be non-negative integers. Find the chance that the student answers at most $n$ calls from people he knows and also answers at least $m$ calls from people he doesn't know. Don't leave infinite sums in your answer."
   ]
  },
  {
   "cell_type": "markdown",
   "metadata": {
    "#solution": false,
    "#staff": false,
    "#student": false
   },
   "source": [
    "## 3. Tails and Waiting Times ##\n",
    "In an experiment involving repeated trials, a *waiting time* is the number of trials till a specified event occurs. An example is the waiting time till the first success in i.i.d. Bernoulli $(p)$ trials, [studied in class](http://prob140.org/textbook/Chapter_08/01_Definition.html#Geometric). Remember that \"the number of trials till $A$ occurs\" includes the final trial at which $A$ occurred.\n",
    "\n",
    "**a)** In a sequence of i.i.d. Bernoulli $(p)$ trials, let $X$ be the number of trials till the first success and let $Y$ be the number of failures before the first success. Explain why $E(Y) = \\frac{q}{p}$ where $q = 1-p$.\n",
    "\n",
    "**b)** Let $X$ be a non-negative integer-valued random variable. Use the [tail sum formula](http://prob140.org/textbook/Chapter_08/01_Definition.html#Tail-Sum-Formula) from class to explain why $E(X) = \\sum_{k=1}^\\infty P(X \\ge k)$. The tail sum formula is often written in this way too.\n",
    "\n",
    "**c)** Suppose you draw repeatedly at random with replacement from a population in which a proportion $p$ of the individuals are in Class $A$ and the remaining proportion $q = 1-p$ in Class $B$. Let $D$ be the number of draws till both classes have appeared. Find $E(D)$ **by using the tail sum formula** written as in class/text or as in Part **b**, whichever you prefer. Though this expectation can be found in other ways, please use this exercise as a workout in the tail sum, and please be careful about the first couple of terms in the sum."
   ]
  },
  {
   "cell_type": "markdown",
   "metadata": {
    "#solution": false,
    "#staff": false,
    "#student": false
   },
   "source": [
    "## 4. Classification ##\n",
    "In a population of four classes of individuals, the proportion of individuals of Class $i$ is $p_i$ for $i = 1, 2, 3, 4$. Suppose you sample independently from this population, and suppose the sample size is a Poisson random variable with parameter $n$ for a fixed positive integer $n$. \n",
    "\n",
    "**a)** What is the probability that the sample contains at least one individual from each class?\n",
    "\n",
    "**b)** Let $p_i = \\frac{i}{10}$ for $i = 1, 2, 3, 4$. Plot a graph of your answer as a function of $n$ for $n$ in the range 1 through 60. For an example of a calculation of probabilities accompanied by a plot, see Section 1.4 of the text.\n",
    "\n",
    "**c)** Still assuming $p_i = \\frac{i}{10}$ for $i = 1, 2, 3, 4$, find a decimal value for the chance that you get at least two of each kind of individual if the parameter is $n = 50$."
   ]
  },
  {
   "cell_type": "code",
   "execution_count": null,
   "metadata": {
    "#solution": false,
    "#staff": false,
    "#student": true
   },
   "outputs": [],
   "source": [
    "#Answer to 4b\n",
    "\n",
    "def p_at_least_one(n):\n",
    "    ..."
   ]
  },
  {
   "cell_type": "code",
   "execution_count": null,
   "metadata": {
    "#solution": false,
    "#staff": false,
    "#student": true
   },
   "outputs": [],
   "source": [
    "#Answer for 4c\n",
    "..."
   ]
  },
  {
   "cell_type": "markdown",
   "metadata": {
    "#solution": false,
    "#staff": false,
    "#student": false
   },
   "source": [
    "## 5. Poisson Moments ##\n",
    "\n",
    "**Work out** Example 3 of [Section 8.3](http://prob140.org/textbook/Chapter_08/03_Expectations_of_Functions.html) of the textbook before you start this problem. Notice that we didn't say, \"Read Example 3.\" We said, \"Work out Example 3.\" Please do the calculation yourself, don't just read it.\n",
    "\n",
    "For $k = 1, 2, 3, \\ldots$, the *$k$th moment* of a random variable $X$ is defined as $E(X^k)$. The term comes from physics where the principle of moments is used in finding the center of gravity of a system. Remember that the expectation or first moment $E(X)$ is the center of gravity of the distribution of $X$.\n",
    "\n",
    "Let $X$ have the Poisson $(\\mu)$ distribution. Find the expectations below and prove your answers.\n",
    "\n",
    "**a)** $E(X+1)$\n",
    "\n",
    "**b)** $E(1/(X+1))$\n",
    "\n",
    "**c)** $E(X^3)$"
   ]
  },
  {
   "cell_type": "markdown",
   "metadata": {
    "#solution": false,
    "#staff": false,
    "#student": false
   },
   "source": [
    "## Submission Instructions ##\n",
    "\n",
    "Many assignments throughout the course will have a written portion and a code portion. Please follow the directions below to properly submit both portions. \n",
    "\n",
    "### Written Portion ###\n",
    "*  Scan all the pages into a PDF. You can use any scanner or mobile application. There are many free apps available that allow you to convert your work into PDFs from your phone. Please **DO NOT** simply take pictures using your phone. \n",
    "* Please start a new page for each question. If you have already written multiple questions on the same page, you can crop the image or fold your page over (the old-fashioned way). This helps expedite grading.\n",
    "* It is your responsibility to check that all the work on all the scanned pages is legible.\n",
    "\n",
    "### Code Portion ###\n",
    "* Save your notebook using File > Save and Checkpoint.\n",
    "* Generate a PDF file using File > Download as > PDF via LaTeX. This might take a few seconds and will automatically download a PDF version of this notebook.\n",
    "    * If you have issues, please make a follow-up post on the general Piazza thread.\n",
    "    \n",
    "### Submitting ###\n",
    "* Combine the PDFs from the written and code portions into one PDF.  [Here](https://smallpdf.com/merge-pdf) is a useful tool for doing so. \n",
    "* Submit the assignment on Gradescope. \n",
    "* **Make sure to assign each page of your pdf to the correct question.**\n",
    "* **It is your responsibility to verify that all of your work shows up in your final PDF submission.**\n",
    "\n",
    "If you have questions about scanning or uploading your work, please refer to this [guide](https://piazza.com/class/k5cqg51q5qb11v?cid=15) on Piazza or post a follow-up to the thread. "
   ]
  }
 ],
 "metadata": {
  "anaconda-cloud": {},
  "checksums": [
   "aa2e7c3af3f1e128978a7970cb014c83",
   "ca466c40003089a428b668a82180c6c6",
   "617e9d925b5fe2cd6a35fdd67bbdf752",
   "ca9e3073bae9799a9829c57a3502ca7a",
   "8c9a3e6f7af926cfac34395e281d4b36",
   "e38bdf204bf17eab02635a270f159d9e",
   "df9a87935d7c3279bd21396ba4905fbd",
   "6e31413d47e6073653358170d9b0cd7a",
   "cf877c508224a767dbb8412a56904492",
   "4f458a8c75adbb9fc547349a20f18117",
   "e52f64a2e7ff99976b6317f93f02a763",
   "7c7d88136876158b27a10560ace39ba2"
  ],
  "kernelspec": {
   "display_name": "Python 3",
   "language": "python",
   "name": "python3"
  },
  "language_info": {
   "codemirror_mode": {
    "name": "ipython",
    "version": 3
   },
   "file_extension": ".py",
   "mimetype": "text/x-python",
   "name": "python",
   "nbconvert_exporter": "python",
   "pygments_lexer": "ipython3",
   "version": "3.6.0"
  },
  "number_of_pagebreaks": 0
 },
 "nbformat": 4,
 "nbformat_minor": 1
}
