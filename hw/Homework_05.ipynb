{
 "cells": [
  {
   "cell_type": "markdown",
   "metadata": {},
   "source": [
    "<table align=\"left\" style=\"border-style: hidden\" class=\"table\"> <tr><td class=\"col-md-2\"><img style=\"float\" src=\"http://prob140.org/assets/icon256.png\" alt=\"Prob140 Logo\" style=\"width: 120px;\"/></td><td><div align=\"left\"><h3 style=\"margin-top: 0;\">Probability for Data Science</h3><h4 style=\"margin-top: 20px;\">UC Berkeley, Spring 2020</h4><p>Ani Adhikari and Jim Pitman</p>CC BY-NC 4.0</div></td></tr></table><!-- not in pdf -->"
   ]
  },
  {
   "cell_type": "markdown",
   "metadata": {
    "#solution": false,
    "#staff": false,
    "#student": false
   },
   "source": [
    "# Homework 5 #"
   ]
  },
  {
   "cell_type": "markdown",
   "metadata": {
    "#solution": false,
    "#staff": false,
    "#student": false
   },
   "source": [
    "### Instructions\n",
    "\n",
    "Your homeworks have two components: a written portion and a portion that also involves code.  Written work should be completed on paper, and coding questions should be done in the notebook.  You are welcome to LaTeX your answers to the written portions, but staff will not be able to assist you with LaTeX related issues. It is your responsibility to ensure that both components of the homework are submitted completely and properly to Gradescope. Refer to the bottom of the notebook for submission instructions."
   ]
  },
  {
   "cell_type": "code",
   "execution_count": null,
   "metadata": {
    "#solution": false,
    "#staff": false,
    "#student": false
   },
   "outputs": [],
   "source": [
    "# Run this cell to set up your notebook\n",
    "\n",
    "import numpy as np\n",
    "from scipy import stats\n",
    "from datascience import *\n",
    "from prob140 import *\n",
    "\n",
    "# These lines do some fancy plotting magic\n",
    "import matplotlib\n",
    "%matplotlib inline\n",
    "import matplotlib.pyplot as plt\n",
    "plt.style.use('fivethirtyeight')\n",
    "\n",
    "# These lines make warnings look nicer\n",
    "import warnings\n",
    "warnings.simplefilter('ignore', FutureWarning)"
   ]
  },
  {
   "cell_type": "markdown",
   "metadata": {
    "#solution": false,
    "#staff": false,
    "#student": false
   },
   "source": [
    "### 1. Panda's Problem ###\n",
    "Every day, Panda the black-and-white cat comes to our house for food.\n",
    "Assume that every day:\n",
    "\n",
    "- We put the food out at the front door or at the back door, according to whether a $p$-coin lands heads or tails.\n",
    "\n",
    "- Panda arrives at the door at which it found the food the previous day; if the food is not there, Panda is disappointed and trudges to the other door to eat.\n",
    "\n",
    "**a)** Set up a four-state Markov Chain and find the long run expected proportion of days when Panda is disappointed.\n",
    "\n",
    "**b)** Suppose that yesterday Panda arrived at the front door and was not disappointed. What is the chance of the same thing happening today? What is your best guess for the chance of the same thing happening (Panda arriving at the front door and not being disappointed) one year from now, assuming that the process continues as described?\n",
    "\n",
    "**c)** Panda's strategy is to remember where the food was the previous day, and go to that door. Here are three other strategies that Panda might use:\n",
    "\n",
    "- Always go to the front door.\n",
    "\n",
    "- Always go to the back door.\n",
    "\n",
    "- Remember where the food was the previous day, and go to the other door.\n",
    "\n",
    "Compare each of these strategies to the strategy Panda uses: for what values of $p$ do these result in a lower expected proportion of days of disappointment?"
   ]
  },
  {
   "cell_type": "markdown",
   "metadata": {
    "#solution": false,
    "#staff": false,
    "#student": false
   },
   "source": [
    "#newpage\n",
    "### 2. Jump Up, Fall Down ###\n",
    "Consider a Markov Chain with state space $0, 1, 2, \\ldots, 12$ and transition behavior given by:\n",
    "- For $0 \\le i \\le 11$, the distribution of $X_{n+1}$ given $X_n = i$ is uniform on $i+1, i+2, \\ldots , 12$.\n",
    "- $P(12, 0) = 1$.\n",
    "\n",
    "**a)** Complete the cell below to construct the transition matrix of this chain and assign it to the name `jump_fall`."
   ]
  },
  {
   "cell_type": "code",
   "execution_count": null,
   "metadata": {
    "#solution": false,
    "#staff": false,
    "#student": true
   },
   "outputs": [],
   "source": [
    "#Answer to 4a\n",
    "\n",
    "s = np.arange(...)\n",
    "def transition_probs(i, j):\n",
    "    ...\n",
    "jump_fall_tbl = Table()....\n",
    "jump_fall = jump_fall_tbl...\n",
    "jump_fall"
   ]
  },
  {
   "cell_type": "markdown",
   "metadata": {
    "#solution": false,
    "#staff": false,
    "#student": false
   },
   "source": [
    "**b)** Explain why this chain is irreducible and aperiodic.\n"
   ]
  },
  {
   "cell_type": "markdown",
   "metadata": {
    "#solution": false,
    "#staff": false,
    "#student": false
   },
   "source": [
    "**c)** Write code that uses `jump_fall` and `prob140` methods so that the final line evaluates to the expected long run proportion of time the chain spends at 0."
   ]
  },
  {
   "cell_type": "code",
   "execution_count": null,
   "metadata": {
    "#solution": false,
    "#staff": false,
    "#student": true
   },
   "outputs": [],
   "source": [
    "#Answer to 4c\n",
    "..."
   ]
  },
  {
   "cell_type": "markdown",
   "metadata": {
    "#solution": false,
    "#staff": false,
    "#student": false
   },
   "source": [
    "#newpage \n",
    "\n",
    "### 3. Switching Chain ###\n",
    "Consider a Markov Chain $X_0, X_1, \\ldots $ with the transition matrix given below, for some $0 < p < 1$ and $q = 1-p$.\n",
    "\n",
    "|    -| $~~0~~$ | $~~1~~$ |\n",
    "|-----|-----|-----|\n",
    "| $~~0~~$ | $~~p~~$ | $~~q~~$ |\n",
    "| $~~1~~$ | $~~q~~$ | $~~p~~$ |\n",
    "\n",
    "**a)** For $n \\ge 1$, let $C_n$ be the number of *switches* up to time $n$. That is, $C_n$ is the number of times the chain changes state up to and including time $n$. For example, if the path is 0 0 0 1 0 0 0 1 1, then $C_8 = 3$ (remember that the path starts at $X_0$). What is the distribution of $C_n$, and why?\n",
    "\n",
    "**b)** Fill in the blank with a word: For $n \\ge 1$, \n",
    "$$\n",
    "P_n(0, 0) ~ = ~ P(C_n \\text{ is } \\underline{ ~~~~~~~~~~~~~~~ })\n",
    "$$\n",
    "\n",
    "**c)** Now find $P_n(0, 0)$ using Part **b**. [Hint: Compare the expansions of $(p+q)^n$ and $(p-q)^n$. How can you use both of them to get just the terms that you need?] \n",
    "\n",
    "**d)** Use Part **c** (not the balance equations) to find the stationary distribution of the chain."
   ]
  },
  {
   "cell_type": "markdown",
   "metadata": {
    "#solution": false,
    "#staff": false,
    "#student": false
   },
   "source": [
    "## 4. Wet Professor ##\n",
    "\n",
    "A professor has two umbrellas, each of which could either be in her office or in her car. The professor walks from her car to her office; she also walks from her office to her car. Assume that on each of these walks:\n",
    "\n",
    "- It rains with probability 0.7, independently of all other walks.\n",
    "- If it is not raining, the professor ignores the umbrellas.\n",
    "- If it is raining, she uses an umbrella if there is one, and gets wet if there isn’t.\n",
    "\n",
    "In the long run, what is the expected proportion of walks on which the professor gets wet?"
   ]
  },
  {
   "cell_type": "markdown",
   "metadata": {
    "#solution": false,
    "#staff": false,
    "#student": false
   },
   "source": [
    "## 5. \"Move to Front\" Permutations ##\n",
    "\n",
    "Consider an alphabet of length $N$. A move-to-front permutation of the $N$ letters consists of picking one of the letters (randomly or otherwise) and moving it to the front of the list. \n",
    "\n",
    "For example, if the alphabet consists of the three letters A, B, and C, and you start with the permutation ABC, then CAB is the result of one move-to-front (the chosen letter is C), as is ABC (the chosen letter is A), but not CBA.\n",
    "\n",
    "**a)** As a preliminary, recall that all transition matrices are stochastic; that is, each row sums to 1. Suppose the transition matrix of a finite-state, irreducible, aperiodic chain is doubly stochastic; that is, each of its columns also sums to 1. Explain why the stationary distribution must be uniform.\n",
    "\n",
    "**b)** A standard deck consists of 52 cards. A “random to front” shuffle is defined as follows: Pick one of the 52 cards uniformly at random and move it to the front of the deck (which you are welcome to think of as the top of the deck, if you prefer). Explain why if you perform this move over and over again, in the long run the deck will become well shuffled; that is, all permutations will be equally likely. [Hint: Set up an appropriate chain and use Part **a**. You might want to try it out first with an alphabet of just the letters A, B, and C.]"
   ]
  },
  {
   "cell_type": "markdown",
   "metadata": {
    "#solution": false,
    "#staff": false,
    "#student": false
   },
   "source": [
    "## 6.  \"Move to Front\" Again: the Tsetlin Library ##\n",
    "\n",
    "In the Tsetlin Library, a finite number of books are being permuted according to a move-to-front scheme in which the book to be moved is chosen not uniformly but based on its “importance” or “popularity”. More popular books are therefore more likely to be selected and moved to the front of the row, that is, in the leftmost position. Applications of this model to computer science include dynamic file management and cache management.\n",
    "\n",
    "Consider a library of just three books: A, B, and C. Let the “weight” or “importance” of each book be reflected in the probability with which it is selected to be moved to the left. Call these probabilities $p_A$, $p_B$, and $p_C$, and note that $p_A + p_B + p_C = 1$. \n",
    "\n",
    "**a)** Set up the Tsetlin Library as a Markov chain on the space of permutations of the books. Explain why the chain is aperiodic.\n",
    "\n",
    "**b)** Set up all the balance equations. Use the equations to find the expected long run proportion of time when A is the leftmost book. Your answer should be in terms of the weights. Explain why the answer makes sense.\n",
    "\n",
    "**c)** Find the expected long run proportion of time that B is the leftmost book. Also find the expected long run proportion of time that C is the leftmost book.\n",
    "\n",
    "**d)** Now find the ratio of the following quantities, in terms of the weights:\n",
    "\n",
    "- Numerator: expected long run proportion of time when A is leftmost and B is second from left \n",
    "- Denominator: expected long run proportion of time when A is leftmost and C is second from left \n",
    "\n",
    "Simplify your answer as much as possible. What do you notice?"
   ]
  },
  {
   "cell_type": "markdown",
   "metadata": {
    "#solution": false,
    "#staff": false,
    "#student": false
   },
   "source": [
    "## Submission Instructions ##\n",
    "\n",
    "Many assignments throughout the course will have a written portion and a code portion. Please follow the directions below to properly submit both portions.\n",
    "\n",
    "### Written Portion ###\n",
    "*  Scan all the pages into a PDF. You can use any scanner or a phone using an application. Please **DO NOT** simply take pictures using your phone. \n",
    "* Please start a new page for each question. If you have already written multiple questions on the same page, you can crop the image or fold your page over (the old-fashioned way). This helps expedite grading.\n",
    "* It is your responsibility to check that all the work on all the scanned pages is legible.\n",
    "\n",
    "### Code Portion ###\n",
    "* Save your notebook using File > Save and Checkpoint.\n",
    "* Generate a PDF file using File > Download as > PDF via LaTeX. This might take a few seconds and will automatically download a PDF version of this notebook.\n",
    "    * If you have issues, please make a follow-up post on the general HW 5 Piazza thread.\n",
    "    \n",
    "### Submitting ###\n",
    "* Combine the PDFs from the written and code portions into one PDF.  [Here](https://smallpdf.com/merge-pdf) is a useful tool for doing so. \n",
    "* Submit the assignment to Homework 4 on Gradescope. \n",
    "* **Make sure to assign each page of your pdf to the correct question.**\n",
    "* **It is your responsibility to verify that all of your work shows up in your final PDF submission.**\n",
    "\n",
    "\n",
    "### **We will not grade assignments which do not have pages selected for each question.** "
   ]
  }
 ],
 "metadata": {
  "checksums": [
   "aa2e7c3af3f1e128978a7970cb014c83",
   "54d2b808529b8f055694b8ea1e601f78",
   "617e9d925b5fe2cd6a35fdd67bbdf752",
   "3da88da364b1e30d4f83fb0c28a12c1f",
   "1dd32ae43aabf72ad620790431c8da59",
   "c7681cab20d1ade0e82cbc6b99138926",
   "226288f9e40fa3be50bb8546695dbf15",
   "2e8f43a7507820f822363bae6db2411e",
   "882649e60b618802431dd44940b3d07d",
   "18e86b243b56f8d475235678b32fda4a",
   "276b2862040666fbfd3db7c066cb4d8a",
   "4dcd118033fe247dd7e6748e0074dd5a",
   "20dc05f9beff0d23fd81ce61e151426f",
   "7716dba789cea05f645d758ab00abf81",
   "f93a983d95479e40811046bf2c06e170"
  ],
  "kernelspec": {
   "display_name": "Python 3",
   "language": "python",
   "name": "python3"
  },
  "language_info": {
   "codemirror_mode": {
    "name": "ipython",
    "version": 3
   },
   "file_extension": ".py",
   "mimetype": "text/x-python",
   "name": "python",
   "nbconvert_exporter": "python",
   "pygments_lexer": "ipython3",
   "version": "3.7.3"
  },
  "number_of_pagebreaks": 2
 },
 "nbformat": 4,
 "nbformat_minor": 2
}
