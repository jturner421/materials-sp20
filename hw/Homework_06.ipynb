{
 "cells": [
  {
   "cell_type": "markdown",
   "metadata": {},
   "source": [
    "<table align=\"left\" style=\"border-style: hidden\" class=\"table\"> <tr><td class=\"col-md-2\"><img style=\"float\" src=\"http://prob140.org/assets/icon256.png\" alt=\"Prob140 Logo\" style=\"width: 120px;\"/></td><td><div align=\"left\"><h3 style=\"margin-top: 0;\">Probability for Data Science</h3><h4 style=\"margin-top: 20px;\">UC Berkeley, Spring 2020</h4><p>Ani Adhikari and Jim Pitman</p>CC BY-NC 4.0</div></td></tr></table><!-- not in pdf -->"
   ]
  },
  {
   "cell_type": "markdown",
   "metadata": {
    "#solution": false,
    "#staff": false,
    "#student": false
   },
   "source": [
    "# Homework 6 #"
   ]
  },
  {
   "cell_type": "markdown",
   "metadata": {
    "#solution": false,
    "#staff": false,
    "#student": false
   },
   "source": [
    "### Instructions\n",
    "\n",
    "Your homeworks have two components: a written portion and a portion that also involves code.  Written work should be completed on paper, and coding questions should be done in the notebook.  You are welcome to LaTeX your answers to the written portions, but staff will not be able to assist you with LaTeX related issues. It is your responsibility to ensure that both components of the homework are submitted completely and properly to Gradescope. Refer to the bottom of the notebook for submission instructions."
   ]
  },
  {
   "cell_type": "markdown",
   "metadata": {
    "#solution": false,
    "#staff": false,
    "#student": false
   },
   "source": [
    "### 1. Bounds ###\n",
    "A random variable $X$, not necessarily non-negative, has $E(X) = 20$ and $SD(X) = 4$. In each part below **find the best bounds you can** based on the information given.\n",
    "\n",
    "**(a)** Find upper and lower bounds for $P(0 < X < 40)$.\n",
    "\n",
    "**(b)** Find upper and lower bounds for $P(10 < X < 40)$.\n",
    "\n",
    "**(c)** Find an upper bound for $P(X \\ge 40)$.\n",
    "\n",
    "**(d)** Find an upper bound for $P(X^2 \\ge 900)$."
   ]
  },
  {
   "cell_type": "markdown",
   "metadata": {
    "#solution": false,
    "#staff": false,
    "#student": false
   },
   "source": [
    "### 2. Standard Units and Correlation ###\n",
    "\n",
    "A random variable $X$ *in standard units* is defined as the linear tranformation\n",
    "\n",
    "$$\n",
    "X^* ~ = ~ \\frac{X - E(X)}{SD(X)}\n",
    "$$\n",
    "\n",
    "The *correlation coefficient* between random variables $X$ and $Y$, often simply called correlation, is defined as\n",
    "\n",
    "$$\n",
    "r(X, Y) ~ = E(X^*Y^*)\n",
    "$$\n",
    "\n",
    "where $X^*$ is $X$ in standard units and $Y^*$ is $Y$ in standard units.\n",
    "\n",
    "This is the random variable version of the Data 8 definition of the correlation between data variables: convert each variable to standard units; multiply each pair; take the mean of the products.\n",
    "\n",
    "**a)** Find the numerical values of $E(X^*)$, $SD(X^*)$, and $E({X^*}^2)$.\n",
    "\n",
    "**b)** Use the fact that $(X^* + Y^*)^2$ and $(X^* - Y^*)^2$ are non-negative random variables to show that $-1 \\le r(X, Y) \\le 1$.\n",
    "\n",
    "*Hint:* Use Part **a** to find $E[(X^* + Y^*)^2]$.\n",
    "\n",
    "**c)** Show that if $Y = aX+b$ where $a \\ne 0$, then $r(X, Y)$ is 1 or $-1$ depending on whether the sign of $a$ is positive or negative."
   ]
  },
  {
   "cell_type": "markdown",
   "metadata": {
    "#solution": false,
    "#staff": false,
    "#student": false
   },
   "source": [
    "## 3. Bias and Variance ##\n",
    "Consider a probabilistic model that has a numerical parameter $\\theta$. A \"probabilistic model\" is just a set of assumptions about randomness. Let the random variable $T$ be an estimator of $\\theta$. Frequently, $T$ is a statistic based on a random sample.\n",
    "\n",
    "The *bias* of $T$ is defined as\n",
    "\n",
    "$$\n",
    "B_\\theta (T) ~ = ~ E_\\theta (T) - \\theta\n",
    "$$\n",
    "\n",
    "where the subscript $\\theta$ reminds us that $\\theta$ is the true value of the parameter. Note that $B_\\theta(T)$ is a real-valued function of $\\theta$, not a random variable.\n",
    "\n",
    "Recall that $T$ is an unbiased estimator of $\\theta$ if $E_\\theta(T) = \\theta$, that is, if $B_\\theta(T) = 0$. But in general, estimators are biased.\n",
    "\n",
    "The *mean squared error* of the estimator $T$ is\n",
    "\n",
    "$$\n",
    "MSE_\\theta (T) ~ = ~ E_\\theta \\big{(} (T - \\theta)^2 \\big{)}\n",
    "$$\n",
    "\n",
    "Follow the calculation in [Section 12.2](http://prob140.org/textbook/Chapter_12/02_Prediction_and_Estimation.html#Prediction-and-Estimation) of the textbook to show the *bias-variance decomposition* given by\n",
    "\n",
    "$$\n",
    "MSE_\\theta (T) ~ = ~ Var_\\theta(T) + B_\\theta^2(T)\n",
    "$$\n",
    "\n",
    "Note that the square in the bias term makes sense. Bias has the same units as $T$, whereas the MSE and variance are in the square of those units."
   ]
  },
  {
   "cell_type": "markdown",
   "metadata": {
    "#solution": false,
    "#staff": false,
    "#student": false
   },
   "source": [
    "## Submission Instructions ##\n",
    "\n",
    "Many assignments throughout the course will have a written portion and a code portion. Please follow the directions below to properly submit both portions.\n",
    "\n",
    "### Written Portion ###\n",
    "*  Scan all the pages into a PDF. You can use any scanner or a phone using an application. Please **DO NOT** simply take pictures using your phone. \n",
    "* Please start a new page for each question. If you have already written multiple questions on the same page, you can crop the image or fold your page over (the old-fashioned way). This helps expedite grading.\n",
    "* It is your responsibility to check that all the work on all the scanned pages is legible.\n",
    "\n",
    "### Code Portion ###\n",
    "* Save your notebook using File > Save and Checkpoint.\n",
    "* Generate a PDF file using File > Download as > PDF via LaTeX. This might take a few seconds and will automatically download a PDF version of this notebook.\n",
    "    * If you have issues, please make a follow-up post on the general HW 6 Piazza thread.\n",
    "    \n",
    "### Submitting ###\n",
    "* Combine the PDFs from the written and code portions into one PDF.  [Here](https://smallpdf.com/merge-pdf) is a useful tool for doing so. \n",
    "* Submit the assignment to Homework 6 on Gradescope. \n",
    "* **Make sure to assign each page of your pdf to the correct question.**\n",
    "* **It is your responsibility to verify that all of your work shows up in your final PDF submission.**\n",
    "\n",
    "\n",
    "### **We will not grade assignments which do not have pages selected for each question.** "
   ]
  },
  {
   "cell_type": "code",
   "execution_count": null,
   "metadata": {
    "#solution": false,
    "#staff": false,
    "#student": false
   },
   "outputs": [],
   "source": []
  }
 ],
 "metadata": {
  "checksums": [
   "aa2e7c3af3f1e128978a7970cb014c83",
   "d49f1a865cc9a516c3b9f11e3251c42d",
   "617e9d925b5fe2cd6a35fdd67bbdf752",
   "5c230f42207f0b7535b29bc03eefc3bd",
   "dae6899b7238eb7f165b8d37320c6656",
   "fc82765e2caf1d332d270bedf363e6e8",
   "0a2df6d8a62a5535b9ae3a78f9a773fa",
   "d41d8cd98f00b204e9800998ecf8427e"
  ],
  "kernelspec": {
   "display_name": "Python 3",
   "language": "python",
   "name": "python3"
  },
  "language_info": {
   "codemirror_mode": {
    "name": "ipython",
    "version": 3
   },
   "file_extension": ".py",
   "mimetype": "text/x-python",
   "name": "python",
   "nbconvert_exporter": "python",
   "pygments_lexer": "ipython3",
   "version": "3.7.3"
  },
  "number_of_pagebreaks": 0
 },
 "nbformat": 4,
 "nbformat_minor": 2
}
