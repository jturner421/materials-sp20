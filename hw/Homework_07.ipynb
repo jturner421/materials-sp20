{
 "cells": [
  {
   "cell_type": "markdown",
   "metadata": {},
   "source": [
    "<table align=\"left\" style=\"border-style: hidden\" class=\"table\"> <tr><td class=\"col-md-2\"><img style=\"float\" src=\"http://prob140.org/assets/icon256.png\" alt=\"Prob140 Logo\" style=\"width: 120px;\"/></td><td><div align=\"left\"><h3 style=\"margin-top: 0;\">Probability for Data Science</h3><h4 style=\"margin-top: 20px;\">UC Berkeley, Spring 2020</h4><p>Ani Adhikari and Jim Pitman</p>CC BY-NC 4.0</div></td></tr></table><!-- not in pdf -->"
   ]
  },
  {
   "cell_type": "code",
   "execution_count": null,
   "metadata": {
    "#solution": false,
    "#staff": false,
    "#student": false
   },
   "outputs": [],
   "source": [
    "# Run this cell to set up your notebook\n",
    "\n",
    "import numpy as np\n",
    "from scipy import stats\n",
    "from datascience import *\n",
    "from prob140 import *\n",
    "\n",
    "# These lines do some fancy plotting magic\n",
    "import matplotlib\n",
    "%matplotlib inline\n",
    "import matplotlib.pyplot as plt\n",
    "plt.style.use('fivethirtyeight')\n",
    "\n",
    "# These lines make warnings look nicer\n",
    "import warnings\n",
    "warnings.simplefilter('ignore', FutureWarning)"
   ]
  },
  {
   "cell_type": "markdown",
   "metadata": {
    "#solution": false,
    "#staff": false,
    "#student": false
   },
   "source": [
    "# Homework 7 #"
   ]
  },
  {
   "cell_type": "markdown",
   "metadata": {
    "#solution": false,
    "#staff": false,
    "#student": false
   },
   "source": [
    "#newpage"
   ]
  },
  {
   "cell_type": "markdown",
   "metadata": {
    "#solution": false,
    "#staff": false,
    "#student": false
   },
   "source": [
    "### 1. The Matching Problem ###\n",
    "\n",
    "In the familiar setting of the matching problem, there are $n$ letters labeled 1 through $n$ and $n$ envelopes labeled 1 through $n$. The letters are distributed at random into the envelopes, one letter per envelope, such that all $n!$ permutations are equally likely.\n",
    "\n",
    "Let $M$ be the number of letters that fall into envelopes with the corresponding label. That is, $M$ is the number of \"matches\" or fixed points of the permutation.\n",
    "\n",
    "**(a)** Fill in the blank:\n",
    "\n",
    "$$M = I_1 + I_2 + \\ldots + I_n$$ \n",
    "\n",
    "where for each $j$ in the range 1 through $n$, $I_j = 1$ if $\\underline{~~~~~~~~~~~~~~~~~~~~~~~~~~~~~~~~~~~~~~~~~~~~~~~~~~~~~~~~~~~~~~~~~~}$, and $I_j = 0$ otherwise.\n",
    "\n",
    "**(b)** Use Part **(a)** to show that $E(M)$ has the same numerical value for all $n$.\n",
    "\n",
    "**(c)** Use Part **(a)** to show that $Var(M)$ has the same numerical value for all $n$.\n",
    "\n",
    "**(d)** In Lab 2 you found the approximate distribtion of $M$ when $n$ is large. Are your answers to Parts **(c)** and **(d)** consistent with that approximation?"
   ]
  },
  {
   "cell_type": "markdown",
   "metadata": {
    "#solution": false,
    "#staff": false,
    "#student": false
   },
   "source": [
    "#newpage"
   ]
  },
  {
   "cell_type": "markdown",
   "metadata": {
    "#solution": false,
    "#staff": false,
    "#student": false
   },
   "source": [
    "### 2. Collecting Distinct Values ###\n",
    "\n",
    "In Homework 4 you found the expectation of each of the random variables below. **Go back and see how you did that, and then use the same ideas** to find the variance of each one. \n",
    "\n",
    "For one part you will need the fact that the SD of a geometric $(p)$ random variable is $\\frac{\\sqrt{q}}{p}$ where $q = 1-p$. We haven't proved that as the algebra takes a bit of work. We will prove it later in the course by conditioning.\n",
    "\n",
    "**(a)** A die is rolled $n$ times. Find the variance of number of faces that *do not* appear.\n",
    "\n",
    "**(b)** Use your answer to (a) to find the variance of the number of distinct faces that *do* appear in $n$ rolls of a die.\n",
    "\n",
    "**(c)** Find the variance of the number of times you have to roll a die till you have seen all of the faces."
   ]
  },
  {
   "cell_type": "markdown",
   "metadata": {
    "#solution": false,
    "#staff": false,
    "#student": false
   },
   "source": [
    "#newpage"
   ]
  },
  {
   "cell_type": "markdown",
   "metadata": {
    "#solution": false,
    "#staff": false,
    "#student": false
   },
   "source": [
    "### 3. The \"Sample Variance\" ###\n",
    "Let $X_1, X_2, \\ldots, X_n$ be i.i.d., each with mean $\\mu$ and SD $\\sigma$. Let $\\bar{X} = \\frac{1}{n}\\sum_{i=1} X_i$ be the sample mean.\n",
    "\n",
    "**(a)** Find $E(\\bar{X})$ and $SD(\\bar{X})$.\n",
    "\n",
    "**(b)** For each $i$, find $Cov(X_i, \\bar{X})$. [Plug in the definition of $\\bar{X}$ and use bilinearity.]\n",
    "\n",
    "**(c)** For each $i$ in the range 1 through $n$, define the *$i$th deviation in the sample* as $D_i = X_i - \\bar{X}$. Find $E(D_i)$ and $Var(D_i)$. [Write the variance as $Cov(D_i, D_i)$, plug in the definition of $D_i$, and use bilinearity.]\n",
    "\n",
    "**(d)** Define the random variable $\\hat{\\sigma}^2$ as\n",
    "$$\n",
    "\\hat{\\sigma}^2 ~ = ~ \\frac{1}{n} \\sum_{i=1}^n D_i^2\n",
    "$$\n",
    "Find $E(\\hat{\\sigma}^2)$.\n",
    "\n",
    "For this random variable, the notation $\\hat{\\sigma}^2$ is pretty standard in statistics. Just think of $\\hat{\\sigma}^2$ as a symbol; it doesn't help to start thinking about the random variable that is its square root.\n",
    "\n",
    "**(e)** Use Part **d** to construct a random variable denoted $S^2$ that is an unbiased estimator of $\\sigma^2$. This random variable $S^2$ is called the *sample variance* and is frequently used in inference."
   ]
  },
  {
   "cell_type": "markdown",
   "metadata": {
    "#solution": false,
    "#staff": false,
    "#student": false
   },
   "source": [
    "#newpage"
   ]
  },
  {
   "cell_type": "markdown",
   "metadata": {
    "#solution": false,
    "#staff": false,
    "#student": false
   },
   "source": [
    "### 5. What's Normal? ###\n",
    "\n",
    "Before you answer this question, please read **all** of [Section 14.5](http://prob140.org/textbook/Chapter_14/05_Confidence_Intervals.html) of the textbook. It contains ideas as well as code that will be useful.\n",
    "\n",
    "In any part of this question that involves a sample size, you can assume the sample size is big enough for the Central Limit Theorem approximation to be good. But pay attention to what is being approximated by the CLT.\n",
    "\n",
    "**a)** A simple random sample of 1000 faculty members was taken among all universities in a country. For each sampled faculty member, the surveyors noted the number of papers published in the past year. These 1000 counts had a mean of 1.1 and an SD of 1.8. Does the Central Limit Theorem say that the distribution of the counts is roughly normal? If not, what do you think is the shape of that distribution? Explain based on the information given in the problem.\n",
    "\n",
    "**b)** Continuing Part **a**, construct an approximate 90% confidence interval for the mean number of papers published by faculty at all universities in the country in the past year. Justify your answer. If it is not possible to construct the interval, explain why not."
   ]
  },
  {
   "cell_type": "markdown",
   "metadata": {
    "#solution": false,
    "#staff": false,
    "#student": false
   },
   "source": [
    "### [Solution] What's Normal? ###\n",
    "\n",
    "**a)** The Central Limit Theorem only states that large random sample sums and means are normally distributed - not the sample itself. In addition, it does not make sense for the shape of the distribution to be normal because this implies that some faculty members have published a negative number of papers. The shape of this distribution has a hard lower bound of 0 and is likely to be skewed right.\n",
    "\n",
    "**b)** $1.1 \\pm 1.645\\times\\frac{1.8}{\\sqrt{1000}}$. Even though the underlying distribution of the number of papers is not normal, the CLT implies that the probability distribution of the average number of papers in a large random sample will be roughly normal. The large sample size also allows us to estimate $\\sigma/\\sqrt{n}$ based on the corresponding quantity in the sample."
   ]
  },
  {
   "cell_type": "markdown",
   "metadata": {
    "#solution": false,
    "#staff": false,
    "#student": false
   },
   "source": [
    "#newpage"
   ]
  },
  {
   "cell_type": "markdown",
   "metadata": {
    "#solution": false,
    "#staff": false,
    "#student": false
   },
   "source": [
    "### 6. Widths of Confidence Intervals ###\n",
    "In any part of this question that involves a sample size, you can assume the sample size is big enough for the Central Limit Theorem approximation to be good.\n",
    "\n",
    "**a)** A survey organization has used the methods of our class to construct an approximate 95% confidence interval for the mean annual income of households in a county. The interval runs from $\\$66,000$ to $\\$70,000$. If possible, find an approximate 99% confidence interval for the mean annual income of households in the county. If this is not possible, explain why not.\n",
    "\n",
    "**b)** A survey organization is going to take a simple random sample of $n$ voters from among all the voters in a state, to construct a 99% confidence interval for the proportion of voters who favor a proposition. Find an $n$ such that the total width of the confidence interval (left end to right end) will be no more than 0.06. Remember that you can bound the variance of an indicator."
   ]
  },
  {
   "cell_type": "markdown",
   "metadata": {
    "#solution": false,
    "#staff": false,
    "#student": false
   },
   "source": [
    "## Submission Instructions ##\n",
    "\n",
    "Many assignments throughout the course will have a written portion and a code portion. Please follow the directions below to properly submit both portions.\n",
    "\n",
    "### Written Portion ###\n",
    "*  Scan all the pages into a PDF. You can use any scanner or a phone using an application. Please **DO NOT** simply take pictures using your phone. \n",
    "* Please start a new page for each question. If you have already written multiple questions on the same page, you can crop the image or fold your page over (the old-fashioned way). This helps expedite grading.\n",
    "* It is your responsibility to check that all the work on all the scanned pages is legible.\n",
    "\n",
    "### Code Portion ###\n",
    "* Save your notebook using File > Save and Checkpoint.\n",
    "* Generate a PDF file using File > Download as > PDF via LaTeX. This might take a few seconds and will automatically download a PDF version of this notebook.\n",
    "    * If you have issues, please make a follow-up post on the general HW 7 Piazza thread.\n",
    "    \n",
    "### Submitting ###\n",
    "* Combine the PDFs from the written and code portions into one PDF.  [Here](https://smallpdf.com/merge-pdf) is a useful tool for doing so. \n",
    "* Submit the assignment to Homework 7 on Gradescope. \n",
    "* **Make sure to assign each page of your pdf to the correct question.**\n",
    "* **It is your responsibility to verify that all of your work shows up in your final PDF submission.**\n",
    "\n",
    "\n",
    "### **We will not grade assignments which do not have pages selected for each question.** "
   ]
  }
 ],
 "metadata": {
  "anaconda-cloud": {},
  "checksums": [
   "aa2e7c3af3f1e128978a7970cb014c83",
   "3da88da364b1e30d4f83fb0c28a12c1f",
   "90cd0ce50c5c3667f81adb0d6dac6797",
   "640061103a186fd26f59746dd4d6de57",
   "0f7a26878eb983d3f54aa46d9801ddfd",
   "640061103a186fd26f59746dd4d6de57",
   "462c808ff59f1fbaf87dc1091bb8d1a6",
   "640061103a186fd26f59746dd4d6de57",
   "b12e00ca23a25ad15fea1713b15ac9e6",
   "640061103a186fd26f59746dd4d6de57",
   "ae5e777aec5fea60b94ef6b0237b00a1",
   "ddace980d904caf552ca691c1a71c84c",
   "640061103a186fd26f59746dd4d6de57",
   "28f45f1da7000c5656b7b1e2f7d448ce",
   "5ada5d77e537d793283ae3d6172785f5"
  ],
  "kernelspec": {
   "display_name": "Python 3",
   "language": "python",
   "name": "python3"
  },
  "language_info": {
   "codemirror_mode": {
    "name": "ipython",
    "version": 3
   },
   "file_extension": ".py",
   "mimetype": "text/x-python",
   "name": "python",
   "nbconvert_exporter": "python",
   "pygments_lexer": "ipython3",
   "version": "3.6.8"
  },
  "number_of_pagebreaks": 5
 },
 "nbformat": 4,
 "nbformat_minor": 1
}
