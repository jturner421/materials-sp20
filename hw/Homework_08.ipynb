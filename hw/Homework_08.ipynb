{
 "cells": [
  {
   "cell_type": "markdown",
   "metadata": {},
   "source": [
    "<table align=\"left\" style=\"border-style: hidden\" class=\"table\"> <tr><td class=\"col-md-2\"><img style=\"float\" src=\"http://prob140.org/assets/icon256.png\" alt=\"Prob140 Logo\" style=\"width: 120px;\"/></td><td><div align=\"left\"><h3 style=\"margin-top: 0;\">Probability for Data Science</h3><h4 style=\"margin-top: 20px;\">UC Berkeley, Spring 2020</h4><p>Ani Adhikari and Jim Pitman</p>CC BY-NC 4.0</div></td></tr></table><!-- not in pdf -->"
   ]
  },
  {
   "cell_type": "code",
   "execution_count": null,
   "metadata": {
    "#solution": false,
    "#staff": false,
    "#student": false
   },
   "outputs": [],
   "source": [
    "# HIDDEN\n",
    "from datascience import *\n",
    "from prob140 import *\n",
    "import numpy as np\n",
    "import matplotlib.pyplot as plt\n",
    "plt.style.use('fivethirtyeight')\n",
    "%matplotlib inline\n",
    "from scipy import stats\n",
    "from sympy import *\n",
    "init_printing()"
   ]
  },
  {
   "cell_type": "markdown",
   "metadata": {
    "#solution": false,
    "#staff": false,
    "#student": false
   },
   "source": [
    "# Homework 8 #\n",
    "\n",
    "### Instructions\n",
    "\n",
    "Your homeworks have two components: a written portion and a portion that also involves code.  Written work should be completed on paper, and coding questions should be done in the notebook.  You are welcome to LaTeX your answers to the written portions, but staff will not be able to assist you with LaTeX related issues. It is your responsibility to ensure that both components of the homework are submitted completely and properly to Gradescope. Refer to the bottom of the notebook for submission instructions."
   ]
  },
  {
   "cell_type": "markdown",
   "metadata": {
    "#solution": false,
    "#staff": false,
    "#student": false
   },
   "source": [
    "### `Plot_continuous` ###\n",
    "In this homework you will plot a number of densities using the `prob140` function `Plot_continuous` which takes as its arguments:\n",
    "\n",
    "- a list consisting of two elements: the left endpoint and right endpoint of the plotting interval on the horizontal axis\n",
    "- the name of a function that takes a numerical argument and returns the value of the density at that argument; this could be a function you have defined, or a `SciPy` function `stats.distribution_name.pdf`.\n",
    "\n",
    "`Plot_continuous` takes other arguments as well, as you can see in the brief [documentation](http://prob140.org/prob140/_autosummary/prob140.plots.Plot_continuous.html#prob140.plots.Plot_continuous), but you will not need those in the homework. "
   ]
  },
  {
   "cell_type": "markdown",
   "metadata": {
    "#solution": false,
    "#staff": false,
    "#student": false
   },
   "source": [
    "### 1. Warm-Up ###\n",
    "\n",
    "Let the density of $X$ be given by \n",
    "\n",
    "$$\n",
    "f(x) ~ = ~ \n",
    "\\begin{cases}\n",
    "\\frac{3}{2}(1 - x^2) ~~~~~ \\text{ for } 0 \\le x \\le 1\\\\\n",
    "0 ~~~~~~ \\text{ otherwise}\n",
    "\\end{cases}\n",
    "$$\n",
    "\n",
    "Find numerical values for each of the following. Show all your work on paper, using the code cell below to complete numerical calculations only after you've worked out the calculus. \n",
    "\n",
    "**a)** $P(\\vert X - 0.5 \\vert > 0.2)$\n",
    "\n",
    "**b)** $P(\\vert X - 0.5 \\vert > 0.2 \\mid X > 0.4)$\n",
    "\n",
    "**c)** $E(X)$\n",
    "\n",
    "**d)** $SD(X)$"
   ]
  },
  {
   "cell_type": "code",
   "execution_count": null,
   "metadata": {
    "#solution": false,
    "#staff": false,
    "#student": true
   },
   "outputs": [],
   "source": [
    "# scratch work for Question 1, write solutions on paper\n"
   ]
  },
  {
   "cell_type": "markdown",
   "metadata": {
    "#solution": false,
    "#staff": false,
    "#student": false
   },
   "source": [
    "### 2. Transformations of the Normal ###\n",
    "Let $Z$ have the standard normal density.\n",
    "\n",
    "**a)** Find the density of $\\vert Z \\vert$. Don't try to use a formula. Just think about $P(\\vert Z \\vert \\in dy)$ for positive $y$.\n",
    "\n",
    "**b)** Find $E(\\vert Z \\vert)$. Calculating the integral is straightforward; you should just be able to recognize the indefinite integral.\n",
    "\n",
    "**c) [CODE]** Complete the cell below to use `Plot_continuous` to plot the density of $\\vert Z \\vert$ and mark the expectation on the horizontal axis. In Data 8 you saw distributions of this shape when you simulated statistics such as \"the absolute difference between the proportion of heads and 1/2\".\n",
    "\n",
    "Start by defining a function `abs_norm_density` that takes a number $y$ (positive or otherwise) as its argument and returns the density of $\\vert Z \\vert$ at $y$. Then plot the density over the interval $(-0.5, 4)$.\n",
    "\n",
    "Assign $E(\\vert Z \\vert)$ to the name `ev`. Use `np.pi` for $\\pi$."
   ]
  },
  {
   "cell_type": "code",
   "execution_count": null,
   "metadata": {
    "#solution": false,
    "#staff": false,
    "#student": true
   },
   "outputs": [],
   "source": [
    "# answer to 2c\n",
    "\n",
    "def abs_norm_density(y):\n",
    "    if y > 0:\n",
    "        return ...\n",
    "    else:\n",
    "        return ...\n",
    "\n",
    "Plot_continuous(...)\n",
    "\n",
    "ev = ...\n",
    "plt.scatter(ev, -0.01, marker = '^', color='red', s=50)\n",
    "\n",
    "# Labels and axes; do not edit below this line\n",
    "plt.xlabel('$y$')\n",
    "plt.ylabel('Density at $y$')\n",
    "plt.title('Density of $|Z|$')\n",
    "plt.xlim(-0.1, 4)\n",
    "plt.ylim(-0.02, 0.81);"
   ]
  },
  {
   "cell_type": "markdown",
   "metadata": {
    "#solution": false,
    "#staff": false,
    "#student": false
   },
   "source": [
    "#newpage"
   ]
  },
  {
   "cell_type": "markdown",
   "metadata": {
    "#solution": false,
    "#staff": false,
    "#student": false
   },
   "source": [
    "### 3. Cauchy Density ###\n",
    "This exercise is about a density that looks bell shaped but behaves quite differently from the normal. The diagram below will be helpful for Part **a**.\n",
    "\n",
    "<div>\n",
    "<img src=\"HW08_3a_diagram.png\" width=\"500\"/>\n",
    "</div>\n",
    "\n",
    "\n",
    "**a)** Suppose that a particle is fired from the origin in the $(x, y)$-plane in a straight line in a direction at a random angle $\\Theta$ to the $x$-axis. Let $Y$ be the $y$-coordinate of the point where the particle hits the line $x = 1$. Show that if $\\Theta$ has the uniform distribution on $(-\\pi/2, \\pi/2)$, then the density of $Y$ is\n",
    "\n",
    "$$\n",
    "f_Y(y) ~ = ~ \\frac{1}{\\pi(1 + y^2)}, ~~~ - \\infty < y < \\infty\n",
    "$$\n",
    "\n",
    "This is called the *Cauchy* density.\n",
    "\n",
    "**b) [CODE]** Use `Plot_continuous` twice, to plot the Cauchy density over the interval $(-5, 5)$ and overlay the standard normal curve. Use `stats.cauchy.pdf` for the Cauchy density, make sure to use  `'gold'` for the color of the normal curve. Refer to the description of `Plot_continuous` at the top of this homework."
   ]
  },
  {
   "cell_type": "code",
   "execution_count": null,
   "metadata": {
    "#solution": false,
    "#staff": false,
    "#student": true
   },
   "outputs": [],
   "source": [
    "# answer to 3b\n",
    "\n",
    "# Plotting interval on the horizontal axis: -5 to 5\n",
    "# The first plot should be the Cauchy.\n",
    "# The gold plot should be the standard normal curve.\n",
    "\n",
    "Plot_continuous(...)\n",
    "Plot_continuous(..., color='gold')"
   ]
  },
  {
   "cell_type": "markdown",
   "metadata": {
    "#solution": false,
    "#staff": false,
    "#student": false
   },
   "source": [
    "**c)** For $Y$ with the Cauchy density, use calculus to show that $E(\\lvert Y \\rvert ) = \\infty$. Thus $E(Y)$ is undefined even though the density of $Y$ is symmetric about 0.\n",
    "\n",
    "The Cauchy curve is called the [Witch of Agnesi](https://en.wikipedia.org/wiki/Witch_of_Agnesi). Skim the History and Applications sections of the Wikipedia article."
   ]
  },
  {
   "cell_type": "markdown",
   "metadata": {
    "#solution": false,
    "#staff": false,
    "#student": false
   },
   "source": [
    "**d)** Explain what is being plotted by the code below, and discuss what you see in the graph in relation to the Weak Law of Large Numbers. Run the cell several times before you answer. You should also vary $N$.\n",
    "\n",
    "[`stats.cauchy.rvs(size = N)` returns an array of $N$ i.i.d. Cauchy random numbers.]"
   ]
  },
  {
   "cell_type": "code",
   "execution_count": null,
   "metadata": {
    "#solution": false,
    "#staff": false,
    "#student": false
   },
   "outputs": [],
   "source": [
    "#3d: run this\n",
    "N = 10000\n",
    "n = np.arange(1, N+1)\n",
    "x = stats.cauchy.rvs(size = N)\n",
    "y = np.cumsum(x)/n\n",
    "plt.plot(n, y, color='darkblue', lw=2)\n",
    "plt.plot([0, N], [0, 0], color='k', lw=2);"
   ]
  },
  {
   "cell_type": "markdown",
   "metadata": {
    "#solution": false,
    "#staff": false,
    "#student": false
   },
   "source": [
    "#newpage"
   ]
  },
  {
   "cell_type": "markdown",
   "metadata": {
    "#solution": false,
    "#staff": false,
    "#student": false
   },
   "source": [
    "### 4. The Gamma Family ###\n",
    "In this problem you will start with some calculus exercises and then develop one of the fundamental families of densities. An already-familiar distribution belongs to this family, as you will show in the next exercise (Problem 5). In the next exercise, you will also see that this family is currently being used to model individual infectiousness due to the novel coronavirus (COVID-19).\n",
    "\n",
    "Assume that $r > 0$ and $\\lambda > 0$ are constants.\n",
    "\n",
    "**a)** The *Gamma function* of mathematics is defined by\n",
    "$$\n",
    "\\Gamma (r) ~ = ~ \\int_0^\\infty t^{r-1} e^{-t} dt\n",
    "$$\n",
    "\n",
    "That letter is the upper case Greek letter Gamma. You can assume that the integral converges and that therefore $\\Gamma(r)$ is a positive number.\n",
    "\n",
    "Use integration by parts to show that \n",
    "$$\n",
    "\\Gamma(r+1) ~ = ~ r\\Gamma(r), ~~~ r > 0\n",
    "$$\n",
    "\n",
    "**b)** Use part (a) and induction to show that if $r$ is a positive integer then $\\Gamma(r) = (r-1)!$. Thus the Gamma function is a continuous extension of the factorial function.\n",
    "\n",
    "**c)** Let $X$ have density given by\n",
    "$$\n",
    "f_X(t) =\n",
    "\\begin{cases}\n",
    "\\frac{1}{\\Gamma(r)} t^{r-1}e^{-t}, ~~~ t > 0 \\\\\n",
    "0 ~~~~~~~~~~~~~~~~~~~~ \\text{otherwise}\n",
    "\\end{cases}\n",
    "$$\n",
    "\n",
    "Let $Y = \\frac{1}{\\lambda} X$. Show that the density of $Y$ is\n",
    "\n",
    "$$\n",
    "f_Y(t) =\n",
    "\\begin{cases}\n",
    "\\frac{\\lambda^r}{\\Gamma(r)} t^{r-1}e^{-\\lambda t}, ~~~ t > 0 \\\\\n",
    "0 ~~~~~~~~~~~~~~~~~~~~ \\text{otherwise}\n",
    "\\end{cases}\n",
    "$$\n",
    "\n",
    "This is called the gamma $(r, \\lambda)$ density.\n",
    "\n",
    "**d)** Use (c) and the formula in Section 16.3 of the Prob 140 textbook to confirm that if $Z$ has the standard normal density then $Z^2$ has the gamma $(1/2, 1/2)$ density. Hence find $\\Gamma (1/2)$, and then use (a) to find $\\Gamma (3/2)$ and $\\Gamma (5/2)$. Please don't leave any integrals in your answers.\n",
    "\n",
    "**Shapes of Gamma Densities:** Part (c) shows that the gamma $(r, \\lambda)$ density is obtained as a change of scale (units of measurement) starting with a gamma $(r, 1)$ random variable and multiplying it by $1/\\lambda$. That is why `stats` calls $1/\\lambda$ the *scale parameter* of the gamma density. The parameter $\\lambda$ is called the *rate*.\n",
    "\n",
    "The parameter $r$ determines the shape of the curve and is called the *shape parameter*. To see why, it helps to look at some plots.\n",
    "\n",
    "The method `stats.gamma.pdf` can be used with the following arguments to return the value of the density:\n",
    "- the value of $t$ (possibly an array) at which to evaluate the density\n",
    "- $r$\n",
    "- $\\lambda$ specified as `scale=1/`$\\lambda$\n",
    "\n",
    "Run the cell below to see overlaid graphs of the several gamma densities with different values of $r$ but the same rate $\\lambda$. You will see why $r$ is called the shape parameter."
   ]
  },
  {
   "cell_type": "code",
   "execution_count": null,
   "metadata": {
    "#solution": false,
    "#staff": false,
    "#student": false
   },
   "outputs": [],
   "source": [
    "t = np.arange(0, 25, 0.01)\n",
    "r_1 = stats.gamma.pdf(t, 1, scale=1/0.25)\n",
    "r_1_5 = stats.gamma.pdf(t, 1.5, scale=1/0.25)\n",
    "r_2 = stats.gamma.pdf(t, 2, scale=1/0.25)\n",
    "r_2_5 = stats.gamma.pdf(t, 2.5, scale=1/0.25)\n",
    "r_3 = stats.gamma.pdf(t, 3, scale=1/0.25)\n",
    "plt.plot(t, r_1, lw=2, label='gamma (1, 0.25)')\n",
    "plt.plot(t, r_1_5, lw=2, label='gamma (1.5, 0.25)')\n",
    "plt.plot(t, r_2, lw=2, label='gamma (2, 0.25)')\n",
    "plt.plot(t, r_2_5, lw=2, label='gamma (2.5, 0.25)')\n",
    "plt.plot(t, r_3, lw=2, label='gamma (3, 0.25)')\n",
    "plt.xlabel('$t$')\n",
    "plt.legend()\n",
    "plt.title('Gamma Densities: Same Rate and Different Shape Parameters');"
   ]
  },
  {
   "cell_type": "markdown",
   "metadata": {
    "#solution": false,
    "#staff": false,
    "#student": false
   },
   "source": [
    "#newpage"
   ]
  },
  {
   "cell_type": "markdown",
   "metadata": {
    "#solution": false,
    "#staff": false,
    "#student": false
   },
   "source": [
    "### 5. Mean and Variance of the Gamma ###\n",
    "As in Question 4, let $r$ and $\\lambda$ be positive constants.\n",
    "\n",
    "**a)** Use Question 4(c) and properties of densities to evaluate\n",
    "$$\n",
    "\\int_0^\\infty t^{r-1}e^{-\\lambda t} dt\n",
    "$$\n",
    "in terms of $r$, $\\lambda$, and the Gamma function. For what follows, keep in mind that your formula is correct for all positive $r$.\n",
    "\n",
    "**b)** Let $T$ have gamma $(r, \\lambda)$ density. Use (a) and 4(a) to find a simple formula for $E(T)$ in terms of $r$ and $\\lambda$. Please don't leave any integrals in your answer.\n",
    "\n",
    "**c)** For $T$ as in (b), find $E(T^2)$ and hence $Var(T)$. Again, there should be no integrals left in your answer.\n",
    "\n",
    "**d)** Identify the gamma $(1, \\lambda)$ density as one that has another famous name, and confirm that your answers to (b) and (c) are consistent with what you already know about that density.\n",
    "\n",
    "**e) [CODE]** A recent [report](https://www.imperial.ac.uk/media/imperial-college/medicine/sph/ide/gida-fellowships/Imperial-College-COVID19-NPI-modelling-16-03-2020.pdf) from Imperial College, UK, is believed to have spurred the US government to take significant steps to slow down the spread of COVID19. The assumptions of one of the main models is in the penultimate paragraph on Page 4. Note the sentence, \"Individual infectiousness is assumed to be variable, described by a gamma distribution with mean 1 and shape parameter $\\alpha = 0.25$.\" \n",
    "\n",
    "Broadly speaking, infectiousness is quantified by the number of cases directly generated by one infected person. The model produced by researchers at Imperial College captures the current distribution of additional cases generated by each infectious individual, after accounting for factors that reduce disease transmission. We denote this quantity as the random variable $R$. \n",
    "\n",
    "Plot the gamma distribution used in the model. The horizontal axis should start at 0 and extend to 2 standard deviations above the mean of 1. Make sure to label your x-axis.\n",
    "\n",
    "We are not giving you any skeleton code for this. Use what you've learned from the code cells above, and please give your plot an appropriate title."
   ]
  },
  {
   "cell_type": "code",
   "execution_count": null,
   "metadata": {
    "#solution": false,
    "#staff": false,
    "#student": true
   },
   "outputs": [],
   "source": [
    "# Answer to 5e\n",
    "..."
   ]
  },
  {
   "cell_type": "markdown",
   "metadata": {
    "#solution": false,
    "#staff": false,
    "#student": false
   },
   "source": [
    "#newpage"
   ]
  },
  {
   "cell_type": "markdown",
   "metadata": {
    "#solution": false,
    "#staff": false,
    "#student": false
   },
   "source": [
    "## Submission Instructions ##\n",
    "\n",
    "Many assignments throughout the course will have a written portion and a code portion. Please follow the directions below to properly submit both portions. \n",
    "\n",
    "### Written Portion ###\n",
    "*  Scan all the pages into a PDF. You can use any scanner or mobile application. There are many free apps available that allow you to convert your work into PDFs from your phone. Please **DO NOT** simply take pictures using your phone. \n",
    "* Please start a new page for each question. If you have already written multiple questions on the same page, you can crop the image or fold your page over (the old-fashioned way). This helps expedite grading.\n",
    "* It is your responsibility to check that all the work on all the scanned pages is legible.\n",
    "\n",
    "### Code Portion ###\n",
    "* Save your notebook using File > Save and Checkpoint.\n",
    "* Generate a PDF file using File > Download as > PDF via LaTeX. This might take a few seconds and will automatically download a PDF version of this notebook.\n",
    "    * If you have issues, please make a follow-up post on the general Homework 8 Piazza thread.\n",
    "    \n",
    "### Submitting ###\n",
    "* Combine the PDFs from the written and code portions into one PDF.  [Here](https://smallpdf.com/merge-pdf) is a useful tool for doing so. \n",
    "* Submit the assignment to Homework 8 on Gradescope. \n",
    "* **Make sure to assign each page of your pdf to the correct question.**\n",
    "* **It is your responsibility to verify that all of your work shows up in your final PDF submission.**\n",
    "\n",
    "\n",
    "### **We will not grade assignments which do not have pages selected for each question.** "
   ]
  }
 ],
 "metadata": {
  "anaconda-cloud": {},
  "checksums": [
   "aa2e7c3af3f1e128978a7970cb014c83",
   "f40433e381bd660b397280a74bb5cf8d",
   "c4f70ed904b8a362ff47ce44fe0d8f21",
   "965857974851e2b3325a2c9341a0b64a",
   "58697a9806d4a670b32b409048c62c30",
   "988bca6bf6857480be996416ef3112f2",
   "b1a45aa5f257b399b9fe7a1309c7e728",
   "e09eddda024c21264b5a95580ced47d7",
   "640061103a186fd26f59746dd4d6de57",
   "75c4004b9acffc5ce6ce85ce4b0c86aa",
   "d144ec812c0788702871fd9148a55c55",
   "26c5dfa61e7e02bc2eb0fcc9a5efbdea",
   "4bd7c8ffbe175ce69955d8c46548179b",
   "2bbec2b151162a3900486c158194b14a",
   "640061103a186fd26f59746dd4d6de57",
   "d8dc7a9438ea98e3738eab5b33a3149a",
   "f0f2de5b86271b4100a664a6364f7b81",
   "640061103a186fd26f59746dd4d6de57",
   "5fa03e3f65b2f99c3d726fab120e2e5c",
   "393279a142e0a0c3110c418a3a03b1fa",
   "640061103a186fd26f59746dd4d6de57",
   "c684a4f408637f993f5c1fcf66d18960"
  ],
  "kernelspec": {
   "display_name": "Python 3",
   "language": "python",
   "name": "python3"
  },
  "language_info": {
   "codemirror_mode": {
    "name": "ipython",
    "version": 3
   },
   "file_extension": ".py",
   "mimetype": "text/x-python",
   "name": "python",
   "nbconvert_exporter": "python",
   "pygments_lexer": "ipython3",
   "version": "3.7.3"
  },
  "number_of_pagebreaks": 4,
  "widgets": {
   "state": {},
   "version": "1.1.2"
  }
 },
 "nbformat": 4,
 "nbformat_minor": 2
}
