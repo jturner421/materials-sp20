{
 "cells": [
  {
   "cell_type": "markdown",
   "metadata": {},
   "source": [
    "<table align=\"left\" style=\"border-style: hidden\" class=\"table\"> <tr><td class=\"col-md-2\"><img style=\"float\" src=\"http://prob140.org/assets/icon256.png\" alt=\"Prob140 Logo\" style=\"width: 120px;\"/></td><td><div align=\"left\"><h3 style=\"margin-top: 0;\">Probability for Data Science</h3><h4 style=\"margin-top: 20px;\">UC Berkeley, Spring 2020</h4><p>Ani Adhikari and Jim Pitman</p>CC BY-NC 4.0</div></td></tr></table><!-- not in pdf -->"
   ]
  },
  {
   "cell_type": "markdown",
   "metadata": {
    "#solution": false,
    "#staff": false,
    "#student": false
   },
   "source": [
    "# Homework 9"
   ]
  },
  {
   "cell_type": "markdown",
   "metadata": {
    "#solution": false,
    "#staff": false,
    "#student": false
   },
   "source": [
    "### Instructions\n",
    "\n",
    "Your homeworks have two components: a written portion and a portion that also involves code.  Written work should be completed on paper, and coding questions should be done in the notebook.  You are welcome to LaTeX your answers to the written portions, but staff will not be able to assist you with LaTeX related issues. It is your responsibility to ensure that both components of the homework are submitted completely and properly to Gradescope. Refer to the bottom of the notebook for submission instructions."
   ]
  },
  {
   "cell_type": "code",
   "execution_count": null,
   "metadata": {
    "#solution": false,
    "#staff": false,
    "#student": false
   },
   "outputs": [],
   "source": [
    "from datascience import *\n",
    "from prob140 import *\n",
    "import numpy as np\n",
    "from scipy import stats\n",
    "import matplotlib.pyplot as plt\n",
    "plt.style.use('fivethirtyeight')\n",
    "%matplotlib inline"
   ]
  },
  {
   "cell_type": "markdown",
   "metadata": {
    "#solution": false,
    "#staff": false,
    "#student": false
   },
   "source": [
    "## 1. Functions of Uniform Random Variables ##\n",
    "Let $X$ and $Y$ have joint density\n",
    "\n",
    "$$f(x, y) = \n",
    "\\begin{cases}\n",
    "90(y-x)^8, ~~~~ 0 < x < y < 1 \\\\\n",
    "0 ~~~~~~~~~~~~~~~~~~~~~ \\text{otherwise}\n",
    "\\end{cases}$$ \n",
    "\n",
    "In what follows, please do the calculus yourself and **show all your work**. No `SymPy`.\n",
    "\n",
    "**a)** Find $P(Y > 2X)$.\n",
    "\n",
    "**b)** Find the marginal density of $X$ and remember to provide the possible values. Recognize the density as a member of a famous family and state its name and parameters.\n",
    "\n",
    "**c)** Fill in the blanks (**prove your answer**):\n",
    "The joint density $f$ above is the joint density of the $\\underline{~~~~~~~~~~~~~~~~}$ and $\\underline{~~~~~~~~~~~~~~~~}$ of ten independent uniform $(0, 1)$ random variables.\n",
    "\n",
    "[Follow the steps in [this calculation](http://prob140.org/textbook/Chapter_17/04_Beta_Densities_with_Integer_Parameters.html#Joint-Density-of-Two-Order-Statistics) in Section 17.4.]"
   ]
  },
  {
   "cell_type": "markdown",
   "metadata": {
    "#solution": false,
    "#staff": false,
    "#student": false
   },
   "source": [
    "## 2. Rayleigh Facts ##\n",
    "\n",
    "Let $R$ have the Rayleigh density given by $f(r) ~ = ~ re^{-\\frac{1}{2}r^2}$ for $r > 0$.\n",
    "\n",
    "Refer to [Section 18.1](http://prob140.org/textbook/Chapter_18/01_Standard_Normal_Basics.html#Variance) and [Section 18.4](http://prob140.org/textbook/Chapter_18/04_Chi_Squared_Distributions.html#From-Chi-Squared-$(1)$-to-Chi-Squared-$(n)$) for ways in which this density arises.\n",
    "\n",
    "In what follows, $Z$ is standard normal.\n",
    "\n",
    "**a)** Let $F$ be the cdf of $R$. Find $F(r)$ for $r > 0$ by writing the integral for it and then referring back to Homework 8 where you found $E(\\vert Z \\vert)$ by integrating the same function.\n",
    "\n",
    "**b)** Use the mean and variance of $Z$ to find $E(R)$ without any further integration.\n",
    "\n",
    "**c)** Use properties of $R^2$ to find $E(R^2)$ without any further integration, and hence find $Var(R)$."
   ]
  },
  {
   "cell_type": "markdown",
   "metadata": {
    "#solution": false,
    "#staff": false,
    "#student": false
   },
   "source": [
    "## 3. Peter Meets Paul ##\n",
    "Peter and Paul agree to meet at a restaurant at noon. Peter arrives at time normally distributed with mean 12:00 noon and SD 5 minutes. Paul arrives at a time normally distributed with mean 12:02 P.M. and SD 3 minutes. \n",
    "\n",
    "Find the chances below assuming that the two arrival times are independent. First, write a formula for the chance in terms of the standard normal cdf $\\Phi$. Then use a code cell to find the numerical value. You do not have to turn in any coding work for this question.\n",
    "\n",
    "**a)** $P(\\text{Peter arrives before Paul})$\n",
    "\n",
    "**b)** $P(\\text{both men arrive within 3 minutes of noon})$\n",
    "\n",
    "**c)** $P(\\text{the two men arrive within 3 minutes of each other})$\n"
   ]
  },
  {
   "cell_type": "code",
   "execution_count": null,
   "metadata": {
    "#solution": false,
    "#staff": false,
    "#student": true
   },
   "outputs": [],
   "source": [
    "# Calculation for 3a\n",
    "..."
   ]
  },
  {
   "cell_type": "code",
   "execution_count": null,
   "metadata": {
    "#solution": false,
    "#staff": false,
    "#student": true
   },
   "outputs": [],
   "source": [
    "# Calculation for 3b\n",
    "..."
   ]
  },
  {
   "cell_type": "code",
   "execution_count": null,
   "metadata": {
    "#solution": false,
    "#staff": false,
    "#student": true
   },
   "outputs": [],
   "source": [
    "# Calculation for 3c\n",
    "..."
   ]
  },
  {
   "cell_type": "markdown",
   "metadata": {
    "#solution": false,
    "#staff": false,
    "#student": false
   },
   "source": [
    "## 4. Slices of a Normal Cake ##\n",
    "Let $X$ and $Y$ be independent standard normal random variables.\n",
    "\n",
    "**a)** Find $P(X > 0, Y > 0)$. \n",
    "\n",
    "Yes, it's easy. But get a piece of paper and draw the event on the plane anyway. Imagine the joint density surface over the plane, and try to imagine the relevant volume under the joint density surface as a quadrant-shaped slice of a bell-shaped cake. This will help you in the next two parts.\n",
    "\n",
    "**b)** Find $P(X > 0, Y > X)$.\n",
    "\n",
    "**c)** Find $P(X > 0, Y > \\sqrt{3}X)$."
   ]
  },
  {
   "cell_type": "markdown",
   "metadata": {
    "#solution": false,
    "#staff": false,
    "#student": false
   },
   "source": [
    "## 5.  Distance Between Normal Points ##\n",
    "Suppose two shots are fired at a target. Assume each shot hits with independent normally distributed coordinates, with the same means and equal unit variances. Let $D$ be the distance between the point where the two shots strike.\n",
    "\n",
    "Your calculations will go faster if you remember that a normal $(0, \\sigma^2)$ variable can be written as $\\sigma Z$ where $Z$ is standard normal, and if you refer to Exercise 2 of this homework.\n",
    "\n",
    "**a)** Find $E(D)$. \n",
    "\n",
    "**b)** Find $Var(D)$."
   ]
  },
  {
   "cell_type": "markdown",
   "metadata": {
    "#solution": false,
    "#staff": false,
    "#student": false
   },
   "source": [
    "## Submission Instructions ##\n",
    "\n",
    "Many assignments throughout the course will have a written portion and a code portion. Please follow the directions below to properly submit both portions. \n",
    "\n",
    "### Written Portion ###\n",
    "*  Scan all the pages into a PDF. You can use any scanner or mobile application. There are many free apps available that allow you to convert your work into PDFs from your phone. Please **DO NOT** simply take pictures using your phone. \n",
    "* Please start a new page for each question. If you have already written multiple questions on the same page, you can crop the image or fold your page over (the old-fashioned way). This helps expedite grading.\n",
    "* It is your responsibility to check that all the work on all the scanned pages is legible.\n",
    "\n",
    "### Code Portion ###\n",
    "* Save your notebook using File > Save and Checkpoint.\n",
    "* Generate a PDF file using File > Download as > PDF via LaTeX. This might take a few seconds and will automatically download a PDF version of this notebook.\n",
    "    * If you have issues, please make a follow-up post on the general Homework 9 Piazza thread.\n",
    "    \n",
    "### Submitting ###\n",
    "* Combine the PDFs from the written and code portions into one PDF.  [Here](https://smallpdf.com/merge-pdf) is a useful tool for doing so. \n",
    "* Submit the assignment to Homework 9 on Gradescope. \n",
    "* **Make sure to assign each page of your pdf to the correct question.**\n",
    "* **It is your responsibility to verify that all of your work shows up in your final PDF submission.**\n",
    "\n",
    "\n",
    "### **We will not grade assignments which do not have pages selected for each question.** "
   ]
  }
 ],
 "metadata": {
  "anaconda-cloud": {},
  "checksums": [
   "aa2e7c3af3f1e128978a7970cb014c83",
   "7a0b0bd15911c0d2f5c2ec7bc5d5dc2f",
   "617e9d925b5fe2cd6a35fdd67bbdf752",
   "77cc7b382abfbea3c4b2addca53f2117",
   "f79930050d347eb59afc2562eb739fc8",
   "0f865d0e9243e045d74ea190c66a0116",
   "6f5c622daf81db0b692b1e27f4a22028",
   "9cae59af96e6306d8c1ecb266bf2bf9e",
   "16d1a0c77f0d4fe823476df341102bfd",
   "5b6ec63dd9da6857af0263a700cf9428",
   "41c63e8ab18ca78f02aad985f4c9a8f3",
   "f339642f7fcf618116f217840f024bf1",
   "9a30cc685a7231f16ae6cd011a975e2e"
  ],
  "kernelspec": {
   "display_name": "Python 3",
   "language": "python",
   "name": "python3"
  },
  "language_info": {
   "codemirror_mode": {
    "name": "ipython",
    "version": 3
   },
   "file_extension": ".py",
   "mimetype": "text/x-python",
   "name": "python",
   "nbconvert_exporter": "python",
   "pygments_lexer": "ipython3",
   "version": "3.7.3"
  },
  "number_of_pagebreaks": 0
 },
 "nbformat": 4,
 "nbformat_minor": 2
}
