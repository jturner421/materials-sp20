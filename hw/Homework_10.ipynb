{
 "cells": [
  {
   "cell_type": "markdown",
   "metadata": {},
   "source": [
    "<table align=\"left\" style=\"border-style: hidden\" class=\"table\"> <tr><td class=\"col-md-2\"><img style=\"float\" src=\"http://prob140.org/assets/icon256.png\" alt=\"Prob140 Logo\" style=\"width: 120px;\"/></td><td><div align=\"left\"><h3 style=\"margin-top: 0;\">Probability for Data Science</h3><h4 style=\"margin-top: 20px;\">UC Berkeley, Spring 2020</h4><p>Ani Adhikari and Jim Pitman</p>CC BY-NC 4.0</div></td></tr></table><!-- not in pdf -->"
   ]
  },
  {
   "cell_type": "markdown",
   "metadata": {
    "#solution": false,
    "#staff": false,
    "#student": false
   },
   "source": [
    "# Homework 10"
   ]
  },
  {
   "cell_type": "markdown",
   "metadata": {
    "#solution": false,
    "#staff": false,
    "#student": false
   },
   "source": [
    "### Instructions\n",
    "\n",
    "Your homeworks have two components: a written portion and a portion that also involves code.  Written work should be completed on paper, and coding questions should be done in the notebook.  You are welcome to LaTeX your answers to the written portions, but staff will not be able to assist you with LaTeX related issues. It is your responsibility to ensure that both components of the homework are submitted completely and properly to Gradescope. Refer to the bottom of the notebook for submission instructions."
   ]
  },
  {
   "cell_type": "code",
   "execution_count": null,
   "metadata": {
    "#solution": false,
    "#staff": false,
    "#student": false
   },
   "outputs": [],
   "source": [
    "from datascience import *\n",
    "from prob140 import *\n",
    "import numpy as np\n",
    "from scipy import stats\n",
    "import matplotlib.pyplot as plt\n",
    "plt.style.use('fivethirtyeight')\n",
    "%matplotlib inline"
   ]
  },
  {
   "cell_type": "markdown",
   "metadata": {
    "#solution": false,
    "#staff": false,
    "#student": false
   },
   "source": [
    "## 1. Variance of the Geometric\n",
    "\n",
    "Let $X$ have the geometric $(p)$ distribution on $0, 1, 2, \\ldots $. That is, let $X$ be the number of failures before the first success in a sequence of i.i.d. Bernoulli $(p)$ trials.\n",
    "\n",
    "**a)** Find the moment generating function of $X$.\n",
    "\n",
    "**b)** Use the moment generating function to find $SD(X)$."
   ]
  },
  {
   "cell_type": "markdown",
   "metadata": {
    "#solution": false,
    "#staff": false,
    "#student": false
   },
   "source": [
    "#newpage"
   ]
  },
  {
   "cell_type": "markdown",
   "metadata": {
    "#solution": false,
    "#staff": false,
    "#student": false
   },
   "source": [
    "## 2. Gamma Tail Bound ##\n",
    "Let $X$ have the gamma $(r, \\lambda)$ distribution. \n",
    "\n",
    "**a)** Show that $P(X \\ge 2E(X)) \\le (2/e)^r$.\n",
    "\n",
    "[Remember that if $h$ is a positive function of $x$, then the value of $x$ that minimizes $h$ is the same as the value of $x$ that minimizes $\\log(h)$.]\n",
    "\n",
    "**b) [CODE]** Fix $\\lambda = 1$. Display overlaid plots of the following three graphs as functions of $r$, for $r$ in the interval (0.5, 15)$ :\n",
    "\n",
    "- $P(X \\ge 2E(X))$\n",
    "- $(2/e)^r$\n",
    "- Markov's bound on $P(X \\ge 2E(X))$\n",
    "\n",
    "The code uses `plt.plot` which is also used in Lab 9. The expression `stats.gamma.cdf(x, r, scale=1)` evaluates to the cdf of the gamma $(r, 1)$ distribution at the point $x$."
   ]
  },
  {
   "cell_type": "code",
   "execution_count": null,
   "metadata": {
    "#solution": false,
    "#staff": false,
    "#student": true
   },
   "outputs": [],
   "source": [
    "# Answer to 6b\n",
    "r = np.arange(0.05, 15, 0.1) \n",
    "\n",
    "markov_bound = ...\n",
    "\n",
    "part_a_bound = ...\n",
    "\n",
    "exact = ...\n",
    "...\n",
    "\n",
    "plt.plot(r, exact, lw=2, label='Exact Chance')\n",
    "plt.plot(r, part_a_bound, lw=2, label='Part (a) Bound')\n",
    "plt.plot(r, markov_bound, lw=2, label='Markov Bound')\n",
    "plt.legend()\n",
    "plt.xlim(0, 15);"
   ]
  },
  {
   "cell_type": "markdown",
   "metadata": {
    "#solution": false,
    "#staff": false,
    "#student": false
   },
   "source": [
    "#newpage"
   ]
  },
  {
   "cell_type": "markdown",
   "metadata": {
    "#solution": false,
    "#staff": false,
    "#student": false
   },
   "source": [
    "## 3. Discrete and Continuous Random Selections ##\n",
    "Fix a positive integer $n$, and let $p$ be strictly between 0 and 1.\n",
    "\n",
    "Suppose Person A picks a number uniformly in the interval $(0, n)$. Let $X$ be the number Person A picks.\n",
    "\n",
    "Suppose that independently of Person A, Person B picks an integer $Y$ according to the binomial $(n, p)$ distribution, for example by using `stats.binom.rvs(n, p, size=1)` or by tossing a $p$-coin $n$ times and recording the number of heads.\n",
    "\n",
    "Find $P(X < Y)$."
   ]
  },
  {
   "cell_type": "markdown",
   "metadata": {
    "#solution": false,
    "#staff": false,
    "#student": false
   },
   "source": [
    "#newpage"
   ]
  },
  {
   "cell_type": "markdown",
   "metadata": {
    "#solution": false,
    "#staff": false,
    "#student": false
   },
   "source": [
    "## 4. Maximum Likelihood Estimate of the Exponential Rate ##\n",
    "For $n > 1$, let $X_1, X_2, \\ldots , X_n$ be i.i.d. exponential $(\\lambda )$ variables. \n",
    "\n",
    "**a)** Let $\\hat{\\lambda}_n$ be the maximum likelihood estimate (MLE) of the parameter $\\lambda$. Find $\\hat{\\lambda}_n$ in terms of the sample mean $\\bar{X}_n = \\frac{1}{n} \\sum_{i=1}^n X_i$. The subscript $n$ in $\\bar{X}_n$ is there to remind us that we have the average of $n$ values. It doesn't refer to the $n$th sampled value $X_n$."
   ]
  },
  {
   "cell_type": "markdown",
   "metadata": {
    "#solution": false,
    "#staff": false,
    "#student": false
   },
   "source": [
    "**b)** This part is a simulation study in which you already know $\\lambda$ and are examining how close your estimate comes to this known value. Take $\\lambda = 0.25$. We have assigned it the name `lam` because `lambda` means something else in Python.\n",
    "\n",
    "Repeat the following simulation 10,000 times.\n",
    "- Generate a sample of 400 i.i.d. exponential (`lam`) variables. Use `stats.expon.rvs(scale = 1/lam, size=400)`.\n",
    "- Calculate your MLE $\\hat{\\lambda}_{400}$ based on this sample.\n",
    "\n",
    "Then draw the histogram and find the mean of your 10,000 MLEs. "
   ]
  },
  {
   "cell_type": "code",
   "execution_count": null,
   "metadata": {
    "#solution": false,
    "#staff": false,
    "#student": true
   },
   "outputs": [],
   "source": [
    "# Your answer to 4b\n",
    "lam = 0.25\n",
    "\n",
    "# Define a function that returns the MLE based on \n",
    "# one i.i.d. sample of size 400 \n",
    "# from the exponential distribution with lambda = 0.25\n",
    "def mle_from_one_sample():\n",
    "    sample = ...\n",
    "    return ...\n",
    "\n",
    "# Construct an array of 10,000 MLEs\n",
    "mle_400 = make_array()\n",
    "for i in range(10000):\n",
    "    mle_400 = ...\n",
    "    \n",
    "# Plot a histogram of the 10,000 MLEs\n",
    "Table().with_column('MLE', mle_400).hist(bins=20)"
   ]
  },
  {
   "cell_type": "code",
   "execution_count": null,
   "metadata": {
    "#solution": false,
    "#staff": false,
    "#student": true
   },
   "outputs": [],
   "source": [
    "# The mean of your 10000 mle's\n",
    "..."
   ]
  },
  {
   "cell_type": "markdown",
   "metadata": {
    "#solution": false,
    "#staff": false,
    "#student": false
   },
   "source": [
    "**c)** Use facts about sums and linear transformations to find the distribution of $\\bar{X}_n$ with little or no calculation. Recognize it as one of the famous ones and provide its name and parameters. Use it to find $E(\\hat{\\lambda}_n)$.\n",
    "\n",
    "**d)** Is $\\hat{\\lambda}_n$ an unbiased estimate of $\\lambda$? If it is biased, does it overestimate on average, or does it underestimate? Is it asymptotically unbiased? That is, does $E(\\hat{\\lambda}_n)$ converge to $\\lambda$ as $n \\to \\infty$?\n",
    "\n",
    "**e)** Your simulation in **b)** should show an approximately normal distribution for $\\hat{\\lambda}_n$. The Central Limit Theorem says the distribution of $\\bar{X}_n$ should be approximately normal, but is $\\hat{\\lambda}_n$ a linear function of $\\bar{X}_n$? If not, why is its distribution approximately normal?\n",
    "\n",
    "[This one needs a little thought but no calculation. Think about what a smooth function looks like over a small interval in its domain, and then think about why small intervals are relevant here.]"
   ]
  },
  {
   "cell_type": "markdown",
   "metadata": {
    "#solution": false,
    "#staff": false,
    "#student": false
   },
   "source": [
    "#newpage"
   ]
  },
  {
   "cell_type": "markdown",
   "metadata": {
    "#solution": false,
    "#staff": false,
    "#student": false
   },
   "source": [
    "## 5. MAP Estimate\n",
    "\n",
    "**a)** Show that if  𝑟>1  and  𝑠>1  then the mode of the beta  (𝑟,𝑠)  distribution is  (𝑟−1)/(𝑟+𝑠−2) . Remember to ignore multiplicative constants and take the log before maximizing.\n",
    "\n",
    "**b)** A coin lands heads with a random probability $X$. Let the prior density of $X$ be $f(x) = 4x^3$ if $0 < x < 1$ and $0$ otherwise. The coin is tossed 10 times and the resulting sequence is HTTHHHTHTH. Find the MAP estimate of the probability of heads."
   ]
  }
 ],
 "metadata": {
  "checksums": [
   "aa2e7c3af3f1e128978a7970cb014c83",
   "e1370906320eef18b35fbf3a8b435743",
   "617e9d925b5fe2cd6a35fdd67bbdf752",
   "77cc7b382abfbea3c4b2addca53f2117",
   "f2ac0186b96f59e06de795680b69c400",
   "640061103a186fd26f59746dd4d6de57",
   "465f73083726a81ee91806fe9994b487",
   "ba26e2a8819730f1681713a33139aeaf",
   "640061103a186fd26f59746dd4d6de57",
   "61454774a635129de12d0ac55852d1ec",
   "640061103a186fd26f59746dd4d6de57",
   "67cfb837f6c312a9e53db4268135e510",
   "66a1395254b4e7fb6ae8f0972a3a1def",
   "aba0cb95b86dee6e0d43cf17706b1202",
   "0c006803fb361cab83f02d31b25aee05",
   "1a9f6fa342c4d5c85ec010d746bd2d14",
   "640061103a186fd26f59746dd4d6de57",
   "eb4007596c08501c880de81a2d32781d"
  ],
  "kernelspec": {
   "display_name": "Python 3",
   "language": "python",
   "name": "python3"
  },
  "language_info": {
   "codemirror_mode": {
    "name": "ipython",
    "version": 3
   },
   "file_extension": ".py",
   "mimetype": "text/x-python",
   "name": "python",
   "nbconvert_exporter": "python",
   "pygments_lexer": "ipython3",
   "version": "3.7.3"
  },
  "number_of_pagebreaks": 4
 },
 "nbformat": 4,
 "nbformat_minor": 2
}
