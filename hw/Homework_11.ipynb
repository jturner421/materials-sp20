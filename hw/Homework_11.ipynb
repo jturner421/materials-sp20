{
 "cells": [
  {
   "cell_type": "markdown",
   "metadata": {
    "#solution": false,
    "#staff": false,
    "#student": false
   },
   "source": [
    "<table align=\"left\" style=\"border-style: hidden\" class=\"table\"> <tr><td class=\"col-md-2\"><img style=\"float\" src=\"http://prob140.org/assets/icon256.png\" alt=\"Prob140 Logo\" style=\"width: 120px;\"/></td><td><div align=\"left\"><h3 style=\"margin-top: 0;\">Probability for Data Science</h3><h4 style=\"margin-top: 20px;\">UC Berkeley, Spring 2020</h4><p>Ani Adhikari and Jim Pitman</p>CC BY-NC 4.0</div></td></tr></table><!-- not in pdf -->"
   ]
  },
  {
   "cell_type": "markdown",
   "metadata": {
    "#solution": false,
    "#staff": false,
    "#student": false
   },
   "source": [
    "# Homework 11"
   ]
  },
  {
   "cell_type": "markdown",
   "metadata": {
    "#solution": false,
    "#staff": false,
    "#student": false
   },
   "source": [
    "### Instructions\n",
    "\n",
    "Your homeworks have two components: a written portion and a portion that also involves code.  Written work should be completed on paper, and coding questions should be done in the notebook.  You are welcome to LaTeX your answers to the written portions, but staff will not be able to assist you with LaTeX related issues. It is your responsibility to ensure that both components of the homework are submitted completely and properly to Gradescope. Refer to the bottom of the notebook for submission instructions."
   ]
  },
  {
   "cell_type": "code",
   "execution_count": null,
   "metadata": {
    "#solution": false,
    "#staff": false,
    "#student": false
   },
   "outputs": [],
   "source": [
    "from datascience import *\n",
    "from prob140 import *\n",
    "import numpy as np\n",
    "from scipy import stats\n",
    "import matplotlib.pyplot as plt\n",
    "plt.style.use('fivethirtyeight')\n",
    "%matplotlib inline"
   ]
  },
  {
   "cell_type": "markdown",
   "metadata": {
    "#solution": false,
    "#staff": false,
    "#student": false
   },
   "source": [
    "### Preliminary: Distributions ###\n",
    "The code below will help you in some of the exercises. Please refer to it as needed.\n",
    "\n",
    "**Discrete Distribution Table Defined by a Probability Function**\n",
    "\n",
    "`Table().values(values_array).probability_function(name_of_function)` evaluates to the distribution table of a discrete random variable $X$ such that:\n",
    "\n",
    "- `values_array` is an array consisting of the possible values of $X$\n",
    "- `name_of_function` is the name of a function that takes $x$ as its argument and returns $P(X =x)$\n",
    "\n",
    "**Beta Density**\n",
    "\n",
    "For an array `x` of values in the unit interval, `stats.beta.pdf(x, r, s)` evaluates to the array f(`x`) where $f$ is the beta (`r`, `s`) density.\n",
    "\n",
    "**Simulated Exponential Random Variables**\n",
    "\n",
    "`stats.expon.rvs(scale = 1/lam, size=n)` evaluates to an array consisting of observed values of i.i.d. exponential (`lam`) random variables $X_1, X_2, \\ldots, X_n$.\n",
    "\n",
    "**Simulated Gamma Random Variables**\n",
    "\n",
    "`stats.gamma.rvs(r, scale = 1/lam, size=n)` evaluates to an array consisting of observed values of i.i.d. gamma (`r`, `lam`) random variables $X_1, X_2, \\ldots, X_n$."
   ]
  },
  {
   "cell_type": "markdown",
   "metadata": {
    "#solution": false,
    "#staff": false,
    "#student": false
   },
   "source": [
    "### Preliminary: Line Plots ###\n",
    "In Data 8 you used `Table.plot` to draw line plots, but in this class the line plots have typically been drawn using the `plot` function of `matplotlib`. Here is the syntax; you are going to need it in the exercises. It's easier than setting up tables first, especially when you want to overlay multiple plots.\n",
    "\n",
    "The `pyplot` module of `matplotlib` has been imported for you as `plt`. This is its standard abbreviation.\n",
    "\n",
    "Let `x` and `y` be two numerical arrays of the same length. Then `plt.plot(x, y)` produces a line plot with values of `x` on the horizontal axis and the corresponding values of `y` on the vertical. The plot \"joins the dots\" (`x.item(0)`, `y.item(0)`), (`x.item(1)`, `y.item(1)`), (`x.item(2)`, `y.item(2)`), and so on.\n",
    "\n",
    "The optional argument `lw=n` can be used to set a line width of `n` units. Just use `lw=2` in this homework.\n",
    "\n",
    "The semicolon at the end of the last line of code in each cell stops `matplotlib` from blurting out text that we don't need here.\n",
    "\n",
    "Run these cells to see some examples. Note the overlaid plots: they are straightforward to draw, and Python chooses a different color for each plot. "
   ]
  },
  {
   "cell_type": "code",
   "execution_count": null,
   "metadata": {
    "#solution": false,
    "#staff": false,
    "#student": false
   },
   "outputs": [],
   "source": [
    "x = np.arange(0, 1.01, 0.01)\n",
    "x_squared = x ** 2\n",
    "plt.plot(x, x_squared);"
   ]
  },
  {
   "cell_type": "code",
   "execution_count": null,
   "metadata": {
    "#solution": false,
    "#staff": false,
    "#student": false
   },
   "outputs": [],
   "source": [
    "plt.plot(x, x_squared, lw=2);"
   ]
  },
  {
   "cell_type": "code",
   "execution_count": null,
   "metadata": {
    "#solution": false,
    "#staff": false,
    "#student": false
   },
   "outputs": [],
   "source": [
    "x_cubed = x ** 3\n",
    "plt.plot(x, x_squared, lw=2)\n",
    "plt.plot(x, x_cubed, lw=2);"
   ]
  },
  {
   "cell_type": "code",
   "execution_count": null,
   "metadata": {
    "#solution": false,
    "#staff": false,
    "#student": false
   },
   "outputs": [],
   "source": [
    "x_cubed = x ** 3\n",
    "plt.plot(x, x_squared, lw=2, label = 'Square')\n",
    "plt.plot(x, x_cubed, lw=2, label = 'Cube')\n",
    "plt.legend()\n",
    "plt.xlabel('x');"
   ]
  },
  {
   "cell_type": "markdown",
   "metadata": {
    "#solution": false,
    "#staff": false,
    "#student": false
   },
   "source": [
    "This is only a tiny fraction of what you can do with `matplotlib`. For more, here is a great [tutorial](https://www.labri.fr/perso/nrougier/teaching/matplotlib/matplotlib.html) by [Nicolas Rougier](https://www.labri.fr/perso/nrougier/)."
   ]
  },
  {
   "cell_type": "markdown",
   "metadata": {
    "#solution": false,
    "#staff": false,
    "#student": false
   },
   "source": [
    "## 1. Heads in Tosses of a Random Coin ##\n",
    "\n",
    "Let $X$ be a random proportion with a prior distribution that is beta $(2, 3)$. Given $X = p$, let $N$ be the number of heads in 5 tosses of a $p$-coin.\n",
    "\n",
    "**a)** Plot the prior density of $X$."
   ]
  },
  {
   "cell_type": "code",
   "execution_count": null,
   "metadata": {
    "#solution": false,
    "#staff": false,
    "#student": true
   },
   "outputs": [],
   "source": [
    "# Your answer to 1a\n",
    "\n",
    "x = np.arange(0, 1.01, 0.01)\n",
    "\n",
    "...\n",
    "\n",
    "plt.title('Beta $(2, 3)$ density');"
   ]
  },
  {
   "cell_type": "markdown",
   "metadata": {
    "#solution": false,
    "#staff": false,
    "#student": false
   },
   "source": [
    "**b)** For each $n = 0, 1, 2, 3, 4, 5$, plot the posterior density of $X$ given $N=n$. All six plots should be on the same graph. "
   ]
  },
  {
   "cell_type": "code",
   "execution_count": null,
   "metadata": {
    "#solution": false,
    "#staff": false,
    "#student": true
   },
   "outputs": [],
   "source": [
    "# Your answer to 1b\n"
   ]
  },
  {
   "cell_type": "markdown",
   "metadata": {
    "#solution": false,
    "#staff": false,
    "#student": false
   },
   "source": [
    "**c)** For each $n = 0, 1, 2, 3, 4, 5$, find the MAP estimate of the probability of heads given $N=n$, by completing the cell below with an appropriate expression. Here `map_estimates` is an array that contains all the MAP estimates. \n",
    "\n",
    "By eye, check that your answers are consistent with the graphs in (b)."
   ]
  },
  {
   "cell_type": "code",
   "execution_count": null,
   "metadata": {
    "#solution": false,
    "#staff": false,
    "#student": true
   },
   "outputs": [],
   "source": [
    "# Your answer to 1c\n",
    "\n",
    "r = 2\n",
    "s = 3\n",
    "n = 5\n",
    "k = np.arange(0, n+1)\n",
    "\n",
    "map_estimates = ...\n",
    "    \n",
    "map_estimates"
   ]
  },
  {
   "cell_type": "markdown",
   "metadata": {
    "#solution": false,
    "#staff": false,
    "#student": false
   },
   "source": [
    "**d)** Find the numerical value of $E(N)$ without using a code cell."
   ]
  },
  {
   "cell_type": "markdown",
   "metadata": {
    "#solution": false,
    "#staff": false,
    "#student": false
   },
   "source": [
    "\\newpage"
   ]
  },
  {
   "cell_type": "markdown",
   "metadata": {
    "#solution": false,
    "#staff": false,
    "#student": false
   },
   "source": [
    "## 2. Waiting for a Random Coin to Land Heads ##\n",
    "Let $X$ be a random proportion. Given $X=p$, let $T$ be the number of tosses till a $p$-coin lands heads.\n",
    "\n",
    "**a)** Let $P(X = 1/10) = 1/4$, $P(X = 1/7) = 1/4$, and $P(X = 1/3) = 1/2$. Find $E(T)$.\n",
    "\n",
    "**b)** Find $E(T)$ if $X$ has the beta $(r, s)$ density for some $r > 1$. Simplify all integrals and Gamma functions in your answer.\n",
    "\n",
    "**c)** Let $X$ have the beta $(r, s)$ density. For fixed $k > 0$, find the posterior density of $X$ given $T = k$. Identify it as one of the famous ones and state its name and parameters."
   ]
  },
  {
   "cell_type": "markdown",
   "metadata": {
    "#solution": false,
    "#staff": false,
    "#student": false
   },
   "source": [
    "\\newpage"
   ]
  },
  {
   "cell_type": "markdown",
   "metadata": {
    "#solution": false,
    "#staff": false,
    "#student": false
   },
   "source": [
    "## 3. Sections ##\n",
    "A class of 60 students has three sections. Summary statistics for scores on Quiz 7:\n",
    "- Section 1: 25 students, mean 23, SD 3\n",
    "- Section 2: 20 students, mean 25, SD 2 \n",
    "- Section 3: 15 students, mean 27, SD 4\n",
    "\n",
    "Let $S$ be the Quiz 7 score of a student picked at random from the class. Use the code cell below to calculate numerical answers for parts a and b.\n",
    "\n",
    "**a)** Find $E(S)$.\n",
    "\n",
    "**b)** Find $SD(S)$."
   ]
  },
  {
   "cell_type": "code",
   "execution_count": null,
   "metadata": {
    "#solution": false,
    "#staff": false,
    "#student": true
   },
   "outputs": [],
   "source": [
    "#calculation for 3a\n",
    "..."
   ]
  },
  {
   "cell_type": "code",
   "execution_count": null,
   "metadata": {
    "#solution": false,
    "#staff": false,
    "#student": true
   },
   "outputs": [],
   "source": [
    "#calculation for 3b\n",
    "..."
   ]
  },
  {
   "cell_type": "markdown",
   "metadata": {
    "#solution": false,
    "#staff": false,
    "#student": false
   },
   "source": [
    "\\newpage"
   ]
  },
  {
   "cell_type": "markdown",
   "metadata": {
    "#solution": false,
    "#staff": false,
    "#student": false
   },
   "source": [
    "## 4. Uniform Stick-Breaking ##\n",
    "A point $X$ is chosen uniformly from the interval $(0, 10)$ and then a point $Y$ is chosen uniformly from the interval $(0, X)$. This can be imagined as snapping a stick of length 10 and then snapping one of the broken bits. Such processes are called [stick-breaking](https://en.wikipedia.org/wiki/Dirichlet_process#The_stick-breaking_process) processes.  \n",
    "\n",
    "**a)** Find $E(X)$ and $Var(X)$. See [Section 15.3](http://prob140.org/textbook/chapters/Chapter_15/03_Expectation) of the textbook for the variance of the uniform.\n",
    "\n",
    "**b)** Find $E(Y)$ and $Var(Y)$ by conditioning on $X$."
   ]
  },
  {
   "cell_type": "markdown",
   "metadata": {
    "#solution": false,
    "#staff": false,
    "#student": false
   },
   "source": [
    "\\newpage"
   ]
  },
  {
   "cell_type": "markdown",
   "metadata": {
    "#solution": false,
    "#staff": false,
    "#student": false
   },
   "source": [
    "## 5. Overlapping Counts ##\n",
    "Consider a sequence of i.i.d. Bernoulli $(p)$ trials. Consider the three variables $X$, $Y$, and $V$ defined by:\n",
    "\n",
    "- $X$ is the number of successes in trials 1 through 100\n",
    "- $Y$ is the number of successes in trials 51 through 100\n",
    "- $V$ is the number of successes in trials 51 through 150\n",
    "\n",
    "**a)** For each of $X$, $Y$, and $V$, say what the distribution is and provide the parameters.\n",
    "\n",
    "**b)** Fix $k$ in the range $0, 1, \\ldots, 100$ and find the conditional distribution of $Y$ given $X = k$. Recognize this as a famous one and provide the parameters.\n",
    "\n",
    "**c)** Find the least squares predictor of $Y$ based on $X$ and say whether it is a linear function of $X$. (If it is, then the best linear predictor is in fact the best among all predictors.) Find $Var(Y \\mid X)$.\n",
    "\n",
    "**d)** Find $E(V \\mid X)$, $Var(V \\mid X)$, and the correlation $r(X, V)$.\n",
    "\n",
    "**e)** Simulate 20,000 $(X, V)$ pairs and draw the scatter plot of the observed points. Plot $E(V \\mid X)$ as a function of $X$ on the same plot. Use the cell below. The arrays `x` and `v` should contain the observed values of $X$ and $V$. The array `exp_V_given_x` should contain $E(V \\mid X = x)$ for each $x$ in `x`, using the formula you derived in **d**."
   ]
  },
  {
   "cell_type": "code",
   "execution_count": null,
   "metadata": {
    "#solution": false,
    "#staff": false,
    "#student": true
   },
   "outputs": [],
   "source": [
    "#simulation for 5e\n",
    "\n",
    "...\n",
    "\n",
    "x = ...\n",
    "v = ...\n",
    "exp_V_given_x = ...\n",
    "\n",
    "# Don't change the lines below\n",
    "plt.figure(figsize=(6, 6))\n",
    "plt.axes().set_aspect('equal')\n",
    "plt.xticks(np.arange(30, 71, 10))\n",
    "plt.yticks(np.arange(30, 71, 10))\n",
    "plt.scatter(x, v, color='darkblue', s=10)\n",
    "plt.scatter(x, exp_V_given_x, color='gold', s=10);"
   ]
  },
  {
   "cell_type": "markdown",
   "metadata": {
    "#solution": false,
    "#staff": false,
    "#student": false
   },
   "source": [
    "Complete the cell below so that the `x_su` is `x` in standard units, `v_su` is `v` in standard units, and the last line evaluates to the observed correlation between `x` and `v`. Check that the output is consistent with your calculation in **d**."
   ]
  },
  {
   "cell_type": "code",
   "execution_count": null,
   "metadata": {
    "#solution": false,
    "#staff": false,
    "#student": true
   },
   "outputs": [],
   "source": [
    "#5e continued\n",
    "\n",
    "x_su = ...\n",
    "v_su = ...\n",
    "..."
   ]
  },
  {
   "cell_type": "markdown",
   "metadata": {
    "#solution": false,
    "#staff": false,
    "#student": false
   },
   "source": [
    "## Submission Instructions ##\n",
    "\n",
    "Many assignments throughout the course will have a written portion and a code portion. Please follow the directions below to properly submit both portions.\n",
    "\n",
    "### Written Portion ###\n",
    "*  Scan all the pages into a PDF. You can use any scanner or a phone using an application. Please **DO NOT** simply take pictures using your phone. \n",
    "* Please start a new page for each question. If you have already written multiple questions on the same page, you can crop the image or fold your page over (the old-fashioned way). This helps expedite grading.\n",
    "* It is your responsibility to check that all the work on all the scanned pages is legible.\n",
    "\n",
    "### Code Portion ###\n",
    "* Save your notebook using File > Save and Checkpoint.\n",
    "* Generate a PDF file using File > Download as > PDF via LaTeX. This might take a few seconds and will automatically download a PDF version of this notebook.\n",
    "    * If you have issues, please make a follow-up post on the general HW 11 Piazza thread.\n",
    "    \n",
    "### Submitting ###\n",
    "* Combine the PDFs from the written and code portions into one PDF.  [Here](https://smallpdf.com/merge-pdf) is a useful tool for doing so. \n",
    "* Submit the assignment to Homework 11 on Gradescope. \n",
    "* **Make sure to assign each page of your pdf to the correct question.**\n",
    "* **It is your responsibility to verify that all of your work shows up in your final PDF submission.**\n",
    "\n",
    "\n",
    "### **We will not grade assignments which do not have pages selected for each question.** "
   ]
  }
 ],
 "metadata": {
  "checksums": [
   "aa2e7c3af3f1e128978a7970cb014c83",
   "e40bfa06d3c75ac911f4d78deb52e131",
   "617e9d925b5fe2cd6a35fdd67bbdf752",
   "77cc7b382abfbea3c4b2addca53f2117",
   "537f76ea138d1c27908fff9d0ee666a7",
   "0fde4362e79350f2b43dc53e456c4b28",
   "90bf4cc29236d1db23546a6f89de2ab6",
   "16b87b20192049957884a89493f0647d",
   "44cf9b400d6534efa2ab19ef1ec816e4",
   "6da888c26fc5b44a95a8d234c28cc5ca",
   "32678855304dc7424eca94d77d3cd8d0",
   "fa08a4d14b2636124569647e26438dda",
   "48ca1df12852f4a440f20cda155786cf",
   "bc9a9c95e6061c62e149750c9e23189d",
   "1afdf8f95e1f48c189adeaab799ff54c",
   "7d2aa1e870f90ce8f63838cf095420a9",
   "c9e80d0bb1caea5e8d55d1de0e2cfa94",
   "b88af75ed630393dfa711d29f124eb79",
   "562505d567faf02dfc9388e81e89d07b",
   "a27ef3a0127a3faaa5a0643ac7b7e80b",
   "562505d567faf02dfc9388e81e89d07b",
   "df8d7fa87229e7a0d5674e58f5b307d9",
   "a327249a6794ffc63ef55f4dc2829e0a",
   "4fc7196a38baa2e49857477d9fcb65e9",
   "562505d567faf02dfc9388e81e89d07b",
   "b4755daa99d18b6c71ad9bd2e6f22904",
   "562505d567faf02dfc9388e81e89d07b",
   "6a7c3872fabc35cc450f7f5d08aacb2a",
   "ce18e38a9715c3955fc29f2608b5e338",
   "5159b8a527e9201b9e5d31a96708903d",
   "c3914205d7d7fd826ad0b77d73075a40",
   "462ae37cd97100556e4b7988afcdd4b4"
  ],
  "kernelspec": {
   "display_name": "Python 3",
   "language": "python",
   "name": "python3"
  },
  "language_info": {
   "codemirror_mode": {
    "name": "ipython",
    "version": 3
   },
   "file_extension": ".py",
   "mimetype": "text/x-python",
   "name": "python",
   "nbconvert_exporter": "python",
   "pygments_lexer": "ipython3",
   "version": "3.6.0"
  },
  "number_of_pagebreaks": 0
 },
 "nbformat": 4,
 "nbformat_minor": 2
}
